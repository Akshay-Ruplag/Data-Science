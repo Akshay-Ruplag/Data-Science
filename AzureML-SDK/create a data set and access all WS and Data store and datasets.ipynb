{
 "cells": [
  {
   "cell_type": "code",
   "execution_count": 1,
   "metadata": {},
   "outputs": [],
   "source": [
    "from azureml.core import Workspace, Datastore, Dataset"
   ]
  },
  {
   "cell_type": "code",
   "execution_count": 2,
   "metadata": {},
   "outputs": [],
   "source": [
    "#Initialize workspace from config file\n",
    "ws=Workspace.from_config(path='./ConfigFile/')"
   ]
  },
  {
   "cell_type": "code",
   "execution_count": 3,
   "metadata": {},
   "outputs": [],
   "source": [
    "#Initialize datastore \n",
    "az_store=Datastore.get(ws,'azure_sdk_bob01')"
   ]
  },
  {
   "cell_type": "code",
   "execution_count": 4,
   "metadata": {},
   "outputs": [],
   "source": [
    "#Save your storage account and data file name as tuple\n",
    "csv_path= [(az_store, 'NID_revised_cleanData.csv')]"
   ]
  },
  {
   "cell_type": "code",
   "execution_count": 5,
   "metadata": {},
   "outputs": [],
   "source": [
    "#Create a data set\n",
    "CT_dataset=Dataset.Tabular.from_delimited_files(path=csv_path)"
   ]
  },
  {
   "cell_type": "code",
   "execution_count": 7,
   "metadata": {},
   "outputs": [],
   "source": [
    "#Register a dataset\n",
    "CT_dataset=CT_dataset.register(workspace=ws,name='CT_SDK',create_new_version=True)"
   ]
  },
  {
   "cell_type": "code",
   "execution_count": 6,
   "metadata": {},
   "outputs": [
    {
     "data": {
      "text/plain": [
       "{'AzureML-SDK-ws01': [Workspace.create(name='AzureML-SDK-ws01', subscription_id='61c74121-8c33-45a0-8c9d-0335cc850e80', resource_group='AzureML-SDK-RG1')]}"
      ]
     },
     "execution_count": 6,
     "metadata": {},
     "output_type": "execute_result"
    }
   ],
   "source": [
    "#List all the WS from subscription: We get a dictionary object\n",
    "ws_list=ws.list(subscription_id='61c74121-8c33-45a0-8c9d-0335cc850e80')\n",
    "ws_list"
   ]
  },
  {
   "cell_type": "code",
   "execution_count": 7,
   "metadata": {},
   "outputs": [
    {
     "data": {
      "text/plain": [
       "['AzureML-SDK-ws01']"
      ]
     },
     "execution_count": 7,
     "metadata": {},
     "output_type": "execute_result"
    }
   ],
   "source": [
    "#to convert into list\n",
    "ws_list=list(ws_list)\n",
    "ws_list"
   ]
  },
  {
   "cell_type": "code",
   "execution_count": 8,
   "metadata": {},
   "outputs": [
    {
     "data": {
      "text/plain": [
       "{\n",
       "  \"name\": \"workspaceblobstore\",\n",
       "  \"container_name\": \"azureml-blobstore-39c7b142-8c36-4b5a-9c0f-8ae94d831640\",\n",
       "  \"account_name\": \"azuremlsstorage720b02ad9\",\n",
       "  \"protocol\": \"https\",\n",
       "  \"endpoint\": \"core.windows.net\"\n",
       "}"
      ]
     },
     "execution_count": 8,
     "metadata": {},
     "output_type": "execute_result"
    }
   ],
   "source": [
    "#Access all the default datastores in the workspace\n",
    "az_default_store=ws.get_default_datastore()\n",
    "az_default_store"
   ]
  },
  {
   "cell_type": "code",
   "execution_count": 9,
   "metadata": {},
   "outputs": [
    {
     "data": {
      "text/plain": [
       "['azure_sdk_bob01', 'workspacefilestore', 'workspaceblobstore']"
      ]
     },
     "execution_count": 9,
     "metadata": {},
     "output_type": "execute_result"
    }
   ],
   "source": [
    "#List All the datastores\n",
    "store_list=list(ws.datastores)\n",
    "store_list"
   ]
  },
  {
   "cell_type": "code",
   "execution_count": 10,
   "metadata": {},
   "outputs": [
    {
     "data": {
      "text/plain": [
       "['CT_SDK']"
      ]
     },
     "execution_count": 10,
     "metadata": {},
     "output_type": "execute_result"
    }
   ],
   "source": [
    "#list all the datasets\n",
    "dataset_list=list(ws.datasets)\n",
    "dataset_list"
   ]
  },
  {
   "cell_type": "code",
   "execution_count": 11,
   "metadata": {},
   "outputs": [
    {
     "data": {
      "text/plain": [
       "['CT_SDK']"
      ]
     },
     "execution_count": 11,
     "metadata": {},
     "output_type": "execute_result"
    }
   ],
   "source": [
    "#list all the datasets\n",
    "dataset_list=list(ws.datasets.keys())\n",
    "dataset_list"
   ]
  },
  {
   "cell_type": "code",
   "execution_count": 12,
   "metadata": {
    "scrolled": true
   },
   "outputs": [
    {
     "data": {
      "text/plain": [
       "{\n",
       "  \"source\": [\n",
       "    \"('azure_sdk_bob01', 'NID_revised_cleanData.csv')\"\n",
       "  ],\n",
       "  \"definition\": [\n",
       "    \"GetDatastoreFiles\",\n",
       "    \"ParseDelimited\",\n",
       "    \"DropColumns\",\n",
       "    \"SetColumnTypes\"\n",
       "  ],\n",
       "  \"registration\": {\n",
       "    \"id\": \"bf344a0b-388b-4cc0-ad63-987cf16ba908\",\n",
       "    \"name\": \"CT_SDK\",\n",
       "    \"version\": 1,\n",
       "    \"workspace\": \"Workspace.create(name='AzureML-SDK-ws01', subscription_id='61c74121-8c33-45a0-8c9d-0335cc850e80', resource_group='AzureML-SDK-RG1')\"\n",
       "  }\n",
       "}"
      ]
     },
     "execution_count": 12,
     "metadata": {},
     "output_type": "execute_result"
    }
   ],
   "source": [
    "#Get a single dataset by name in a workspace\n",
    "az_dataset= Dataset.get_by_name(ws,'CT_SDK' )\n",
    "az_dataset"
   ]
  },
  {
   "cell_type": "code",
   "execution_count": 14,
   "metadata": {
    "scrolled": true
   },
   "outputs": [
    {
     "data": {
      "text/html": [
       "<div>\n",
       "<style scoped>\n",
       "    .dataframe tbody tr th:only-of-type {\n",
       "        vertical-align: middle;\n",
       "    }\n",
       "\n",
       "    .dataframe tbody tr th {\n",
       "        vertical-align: top;\n",
       "    }\n",
       "\n",
       "    .dataframe thead th {\n",
       "        text-align: right;\n",
       "    }\n",
       "</style>\n",
       "<table border=\"1\" class=\"dataframe\">\n",
       "  <thead>\n",
       "    <tr style=\"text-align: right;\">\n",
       "      <th></th>\n",
       "      <th>Region</th>\n",
       "      <th>Metro</th>\n",
       "      <th>SiteType</th>\n",
       "      <th>DeploymentType</th>\n",
       "      <th>NIDPM</th>\n",
       "      <th>DPM</th>\n",
       "      <th>IsMainstream</th>\n",
       "      <th>FacilityCode</th>\n",
       "      <th>ClassType</th>\n",
       "      <th>CT</th>\n",
       "      <th>CT_Status</th>\n",
       "      <th>CT_Indicator</th>\n",
       "    </tr>\n",
       "  </thead>\n",
       "  <tbody>\n",
       "    <tr>\n",
       "      <th>0</th>\n",
       "      <td>AMEREAST</td>\n",
       "      <td>Des Moines</td>\n",
       "      <td>DC</td>\n",
       "      <td>Expansion</td>\n",
       "      <td>John Simmons</td>\n",
       "      <td>Dhiraj Take (Tata Consultancy Services Ltd)</td>\n",
       "      <td>False</td>\n",
       "      <td>DM4</td>\n",
       "      <td>Class A</td>\n",
       "      <td>226.0</td>\n",
       "      <td>Out-of SLA</td>\n",
       "      <td>Yellow</td>\n",
       "    </tr>\n",
       "    <tr>\n",
       "      <th>1</th>\n",
       "      <td>AMEREAST</td>\n",
       "      <td>Des Moines</td>\n",
       "      <td>DC</td>\n",
       "      <td>Expansion</td>\n",
       "      <td>John Simmons</td>\n",
       "      <td>Dhiraj Take (Tata Consultancy Services Ltd)</td>\n",
       "      <td>False</td>\n",
       "      <td>DM4</td>\n",
       "      <td>Class A</td>\n",
       "      <td>226.0</td>\n",
       "      <td>Out-of SLA</td>\n",
       "      <td>Yellow</td>\n",
       "    </tr>\n",
       "    <tr>\n",
       "      <th>2</th>\n",
       "      <td>AMEREAST</td>\n",
       "      <td>Des Moines</td>\n",
       "      <td>DC</td>\n",
       "      <td>Expansion</td>\n",
       "      <td>John Simmons</td>\n",
       "      <td>Dhiraj Take (Tata Consultancy Services Ltd)</td>\n",
       "      <td>False</td>\n",
       "      <td>DM4</td>\n",
       "      <td>Class A</td>\n",
       "      <td>226.0</td>\n",
       "      <td>Out-of SLA</td>\n",
       "      <td>Yellow</td>\n",
       "    </tr>\n",
       "    <tr>\n",
       "      <th>3</th>\n",
       "      <td>AMEREAST</td>\n",
       "      <td>Campinas</td>\n",
       "      <td>RNG</td>\n",
       "      <td>Aug</td>\n",
       "      <td>Kathy Brown</td>\n",
       "      <td>Madhvi Chand (Tata Consultancy Services)</td>\n",
       "      <td>False</td>\n",
       "      <td>CPQ02</td>\n",
       "      <td>Class C</td>\n",
       "      <td>91.0</td>\n",
       "      <td>With-in SLA</td>\n",
       "      <td>Green</td>\n",
       "    </tr>\n",
       "    <tr>\n",
       "      <th>4</th>\n",
       "      <td>AMERWEST</td>\n",
       "      <td>Los Angeles</td>\n",
       "      <td>GW</td>\n",
       "      <td>Upgrade</td>\n",
       "      <td>Darren (Norm) Norman</td>\n",
       "      <td>Rajesh Adimoolam (Tata Consultancy Services Ltd)</td>\n",
       "      <td>False</td>\n",
       "      <td>LAX30</td>\n",
       "      <td>Class E</td>\n",
       "      <td>117.0</td>\n",
       "      <td>With-in SLA</td>\n",
       "      <td>Green</td>\n",
       "    </tr>\n",
       "  </tbody>\n",
       "</table>\n",
       "</div>"
      ],
      "text/plain": [
       "     Region        Metro SiteType DeploymentType                 NIDPM  \\\n",
       "0  AMEREAST   Des Moines       DC      Expansion          John Simmons   \n",
       "1  AMEREAST   Des Moines       DC      Expansion          John Simmons   \n",
       "2  AMEREAST   Des Moines       DC      Expansion          John Simmons   \n",
       "3  AMEREAST     Campinas      RNG            Aug           Kathy Brown   \n",
       "4  AMERWEST  Los Angeles       GW        Upgrade  Darren (Norm) Norman   \n",
       "\n",
       "                                                DPM  IsMainstream  \\\n",
       "0       Dhiraj Take (Tata Consultancy Services Ltd)         False   \n",
       "1       Dhiraj Take (Tata Consultancy Services Ltd)         False   \n",
       "2       Dhiraj Take (Tata Consultancy Services Ltd)         False   \n",
       "3          Madhvi Chand (Tata Consultancy Services)         False   \n",
       "4  Rajesh Adimoolam (Tata Consultancy Services Ltd)         False   \n",
       "\n",
       "  FacilityCode ClassType     CT    CT_Status CT_Indicator  \n",
       "0          DM4   Class A  226.0   Out-of SLA       Yellow  \n",
       "1          DM4   Class A  226.0   Out-of SLA       Yellow  \n",
       "2          DM4   Class A  226.0   Out-of SLA       Yellow  \n",
       "3        CPQ02   Class C   91.0  With-in SLA        Green  \n",
       "4        LAX30   Class E  117.0  With-in SLA        Green  "
      ]
     },
     "execution_count": 14,
     "metadata": {},
     "output_type": "execute_result"
    }
   ],
   "source": [
    "#Load AzureML dataset in pandas Datafream\n",
    "df=az_dataset.to_pandas_dataframe()\n",
    "df.head()"
   ]
  },
  {
   "cell_type": "code",
   "execution_count": 15,
   "metadata": {},
   "outputs": [
    {
     "data": {
      "text/plain": [
       "Index(['Region', 'Metro', 'SiteType', 'DeploymentType', 'NIDPM', 'DPM',\n",
       "       'IsMainstream', 'FacilityCode', 'ClassType', 'CT', 'CT_Status',\n",
       "       'CT_Indicator'],\n",
       "      dtype='object')"
      ]
     },
     "execution_count": 15,
     "metadata": {},
     "output_type": "execute_result"
    }
   ],
   "source": [
    "df.columns"
   ]
  },
  {
   "cell_type": "code",
   "execution_count": 17,
   "metadata": {},
   "outputs": [],
   "source": [
    "#upload the datafream to azureml dataset\n",
    "df_sub=df[['Region', 'Metro', 'SiteType', 'DeploymentType', 'NIDPM', 'DPM',\n",
    "       'IsMainstream', 'FacilityCode', 'ClassType', 'CT_Indicator']]"
   ]
  },
  {
   "cell_type": "code",
   "execution_count": 18,
   "metadata": {
    "scrolled": true
   },
   "outputs": [
    {
     "data": {
      "text/html": [
       "<div>\n",
       "<style scoped>\n",
       "    .dataframe tbody tr th:only-of-type {\n",
       "        vertical-align: middle;\n",
       "    }\n",
       "\n",
       "    .dataframe tbody tr th {\n",
       "        vertical-align: top;\n",
       "    }\n",
       "\n",
       "    .dataframe thead th {\n",
       "        text-align: right;\n",
       "    }\n",
       "</style>\n",
       "<table border=\"1\" class=\"dataframe\">\n",
       "  <thead>\n",
       "    <tr style=\"text-align: right;\">\n",
       "      <th></th>\n",
       "      <th>Region</th>\n",
       "      <th>Metro</th>\n",
       "      <th>SiteType</th>\n",
       "      <th>DeploymentType</th>\n",
       "      <th>NIDPM</th>\n",
       "      <th>DPM</th>\n",
       "      <th>IsMainstream</th>\n",
       "      <th>FacilityCode</th>\n",
       "      <th>ClassType</th>\n",
       "      <th>CT_Indicator</th>\n",
       "    </tr>\n",
       "  </thead>\n",
       "  <tbody>\n",
       "    <tr>\n",
       "      <th>0</th>\n",
       "      <td>AMEREAST</td>\n",
       "      <td>Des Moines</td>\n",
       "      <td>DC</td>\n",
       "      <td>Expansion</td>\n",
       "      <td>John Simmons</td>\n",
       "      <td>Dhiraj Take (Tata Consultancy Services Ltd)</td>\n",
       "      <td>False</td>\n",
       "      <td>DM4</td>\n",
       "      <td>Class A</td>\n",
       "      <td>Yellow</td>\n",
       "    </tr>\n",
       "    <tr>\n",
       "      <th>1</th>\n",
       "      <td>AMEREAST</td>\n",
       "      <td>Des Moines</td>\n",
       "      <td>DC</td>\n",
       "      <td>Expansion</td>\n",
       "      <td>John Simmons</td>\n",
       "      <td>Dhiraj Take (Tata Consultancy Services Ltd)</td>\n",
       "      <td>False</td>\n",
       "      <td>DM4</td>\n",
       "      <td>Class A</td>\n",
       "      <td>Yellow</td>\n",
       "    </tr>\n",
       "    <tr>\n",
       "      <th>2</th>\n",
       "      <td>AMEREAST</td>\n",
       "      <td>Des Moines</td>\n",
       "      <td>DC</td>\n",
       "      <td>Expansion</td>\n",
       "      <td>John Simmons</td>\n",
       "      <td>Dhiraj Take (Tata Consultancy Services Ltd)</td>\n",
       "      <td>False</td>\n",
       "      <td>DM4</td>\n",
       "      <td>Class A</td>\n",
       "      <td>Yellow</td>\n",
       "    </tr>\n",
       "    <tr>\n",
       "      <th>3</th>\n",
       "      <td>AMEREAST</td>\n",
       "      <td>Campinas</td>\n",
       "      <td>RNG</td>\n",
       "      <td>Aug</td>\n",
       "      <td>Kathy Brown</td>\n",
       "      <td>Madhvi Chand (Tata Consultancy Services)</td>\n",
       "      <td>False</td>\n",
       "      <td>CPQ02</td>\n",
       "      <td>Class C</td>\n",
       "      <td>Green</td>\n",
       "    </tr>\n",
       "    <tr>\n",
       "      <th>4</th>\n",
       "      <td>AMERWEST</td>\n",
       "      <td>Los Angeles</td>\n",
       "      <td>GW</td>\n",
       "      <td>Upgrade</td>\n",
       "      <td>Darren (Norm) Norman</td>\n",
       "      <td>Rajesh Adimoolam (Tata Consultancy Services Ltd)</td>\n",
       "      <td>False</td>\n",
       "      <td>LAX30</td>\n",
       "      <td>Class E</td>\n",
       "      <td>Green</td>\n",
       "    </tr>\n",
       "  </tbody>\n",
       "</table>\n",
       "</div>"
      ],
      "text/plain": [
       "     Region        Metro SiteType DeploymentType                 NIDPM  \\\n",
       "0  AMEREAST   Des Moines       DC      Expansion          John Simmons   \n",
       "1  AMEREAST   Des Moines       DC      Expansion          John Simmons   \n",
       "2  AMEREAST   Des Moines       DC      Expansion          John Simmons   \n",
       "3  AMEREAST     Campinas      RNG            Aug           Kathy Brown   \n",
       "4  AMERWEST  Los Angeles       GW        Upgrade  Darren (Norm) Norman   \n",
       "\n",
       "                                                DPM  IsMainstream  \\\n",
       "0       Dhiraj Take (Tata Consultancy Services Ltd)         False   \n",
       "1       Dhiraj Take (Tata Consultancy Services Ltd)         False   \n",
       "2       Dhiraj Take (Tata Consultancy Services Ltd)         False   \n",
       "3          Madhvi Chand (Tata Consultancy Services)         False   \n",
       "4  Rajesh Adimoolam (Tata Consultancy Services Ltd)         False   \n",
       "\n",
       "  FacilityCode ClassType CT_Indicator  \n",
       "0          DM4   Class A       Yellow  \n",
       "1          DM4   Class A       Yellow  \n",
       "2          DM4   Class A       Yellow  \n",
       "3        CPQ02   Class C        Green  \n",
       "4        LAX30   Class E        Green  "
      ]
     },
     "execution_count": 18,
     "metadata": {},
     "output_type": "execute_result"
    }
   ],
   "source": [
    "df_sub.head()"
   ]
  },
  {
   "cell_type": "code",
   "execution_count": 19,
   "metadata": {},
   "outputs": [
    {
     "name": "stderr",
     "output_type": "stream",
     "text": [
      "Method register_pandas_dataframe: This is an experimental method, and may change at any time.<br/>For more information, see https://aka.ms/azuremlexperimental.\n"
     ]
    },
    {
     "name": "stdout",
     "output_type": "stream",
     "text": [
      "Validating arguments.\n",
      "Arguments validated.\n",
      "Successfully obtained datastore reference and path.\n",
      "Uploading file to managed-dataset/846522fc-a80b-4afa-a2db-80ea70088784/\n",
      "Successfully uploaded file to datastore.\n",
      "Creating and registering a new dataset.\n",
      "Successfully created and registered a new dataset.\n"
     ]
    }
   ],
   "source": [
    "##upload the datafream to azureml dataset\n",
    "az_ds_from_df=Dataset.Tabular.register_pandas_dataframe(dataframe=df_sub,target=az_store,name='CT_from_df')"
   ]
  },
  {
   "cell_type": "code",
   "execution_count": 20,
   "metadata": {
    "scrolled": true
   },
   "outputs": [
    {
     "name": "stdout",
     "output_type": "stream",
     "text": [
      "Uploading an estimated of 2 files\n",
      "Uploading ./sample_csv1.csv\n",
      "Uploaded ./sample_csv1.csv, 1 files out of an estimated total of 2\n",
      "Uploading ./sample_csv2.csv\n",
      "Uploaded ./sample_csv2.csv, 2 files out of an estimated total of 2\n",
      "Uploaded 2 files\n"
     ]
    },
    {
     "data": {
      "text/plain": [
       "$AZUREML_DATAREFERENCE_azure_sdk_bob01"
      ]
     },
     "execution_count": 20,
     "metadata": {},
     "output_type": "execute_result"
    }
   ],
   "source": [
    "#upload local files to storage account using datastore\n",
    "#(If we have a spesific folder created on storage account, we can give 'Target_path' parameter in below () )\n",
    "file_list=['./sample_csv1.csv','./sample_csv2.csv']\n",
    "\n",
    "az_store.upload_files(files=file_list,relative_root='./',overwrite=True)"
   ]
  },
  {
   "cell_type": "code",
   "execution_count": 21,
   "metadata": {},
   "outputs": [
    {
     "name": "stdout",
     "output_type": "stream",
     "text": [
      "Uploading an estimated of 2 files\n",
      "Uploading ./sample_data\\sample_csv1.csv\n",
      "Uploaded ./sample_data\\sample_csv1.csv, 1 files out of an estimated total of 2\n",
      "Uploading ./sample_data\\sample_csv2.csv\n",
      "Uploaded ./sample_data\\sample_csv2.csv, 2 files out of an estimated total of 2\n",
      "Uploaded 2 files\n"
     ]
    },
    {
     "data": {
      "text/plain": [
       "$AZUREML_DATAREFERENCE_azure_sdk_bob01"
      ]
     },
     "execution_count": 21,
     "metadata": {},
     "output_type": "execute_result"
    }
   ],
   "source": [
    "#upload a local folder or directory to the storage account\n",
    "#(If we have a spesific folder created on storage account, we can give 'Target_path' parameter in below () )\n",
    "az_store.upload(src_dir='./sample_data/',overwrite=True)"
   ]
  },
  {
   "cell_type": "code",
   "execution_count": null,
   "metadata": {},
   "outputs": [],
   "source": []
  },
  {
   "cell_type": "code",
   "execution_count": null,
   "metadata": {},
   "outputs": [],
   "source": []
  }
 ],
 "metadata": {
  "kernelspec": {
   "display_name": "Python 3",
   "language": "python",
   "name": "python3"
  },
  "language_info": {
   "codemirror_mode": {
    "name": "ipython",
    "version": 3
   },
   "file_extension": ".py",
   "mimetype": "text/x-python",
   "name": "python",
   "nbconvert_exporter": "python",
   "pygments_lexer": "ipython3",
   "version": "3.8.5"
  }
 },
 "nbformat": 4,
 "nbformat_minor": 4
}
