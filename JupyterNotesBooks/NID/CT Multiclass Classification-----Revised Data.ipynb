{
 "cells": [
  {
   "cell_type": "code",
   "execution_count": 1,
   "metadata": {},
   "outputs": [],
   "source": [
    "import pandas as pd\n",
    "import numpy as np\n",
    "import matplotlib.pyplot as plt\n",
    "import seaborn as sns\n",
    "%matplotlib inline"
   ]
  },
  {
   "cell_type": "code",
   "execution_count": 2,
   "metadata": {},
   "outputs": [],
   "source": [
    "df1=pd.read_csv('NID_revised_cleanData.csv')"
   ]
  },
  {
   "cell_type": "code",
   "execution_count": 3,
   "metadata": {},
   "outputs": [
    {
     "name": "stdout",
     "output_type": "stream",
     "text": [
      "<class 'pandas.core.frame.DataFrame'>\n",
      "RangeIndex: 1593 entries, 0 to 1592\n",
      "Data columns (total 12 columns):\n",
      " #   Column          Non-Null Count  Dtype  \n",
      "---  ------          --------------  -----  \n",
      " 0   Region          1593 non-null   object \n",
      " 1   Metro           1593 non-null   object \n",
      " 2   SiteType        1593 non-null   object \n",
      " 3   DeploymentType  1593 non-null   object \n",
      " 4   NIDPM           1593 non-null   object \n",
      " 5   DPM             1593 non-null   object \n",
      " 6   IsMainstream    1593 non-null   bool   \n",
      " 7   FacilityCode    1593 non-null   object \n",
      " 8   ClassType       1593 non-null   object \n",
      " 9   CT              1593 non-null   float64\n",
      " 10  CT_Status       1593 non-null   object \n",
      " 11  CT_Indicator    1593 non-null   object \n",
      "dtypes: bool(1), float64(1), object(10)\n",
      "memory usage: 138.6+ KB\n"
     ]
    }
   ],
   "source": [
    "df1.info()"
   ]
  },
  {
   "cell_type": "code",
   "execution_count": 4,
   "metadata": {},
   "outputs": [
    {
     "data": {
      "text/html": [
       "<div>\n",
       "<style scoped>\n",
       "    .dataframe tbody tr th:only-of-type {\n",
       "        vertical-align: middle;\n",
       "    }\n",
       "\n",
       "    .dataframe tbody tr th {\n",
       "        vertical-align: top;\n",
       "    }\n",
       "\n",
       "    .dataframe thead th {\n",
       "        text-align: right;\n",
       "    }\n",
       "</style>\n",
       "<table border=\"1\" class=\"dataframe\">\n",
       "  <thead>\n",
       "    <tr style=\"text-align: right;\">\n",
       "      <th></th>\n",
       "      <th>Region</th>\n",
       "      <th>Metro</th>\n",
       "      <th>SiteType</th>\n",
       "      <th>DeploymentType</th>\n",
       "      <th>NIDPM</th>\n",
       "      <th>DPM</th>\n",
       "      <th>IsMainstream</th>\n",
       "      <th>FacilityCode</th>\n",
       "      <th>ClassType</th>\n",
       "      <th>CT</th>\n",
       "      <th>CT_Status</th>\n",
       "      <th>CT_Indicator</th>\n",
       "    </tr>\n",
       "  </thead>\n",
       "  <tbody>\n",
       "    <tr>\n",
       "      <th>0</th>\n",
       "      <td>AMEREAST</td>\n",
       "      <td>Des Moines</td>\n",
       "      <td>DC</td>\n",
       "      <td>Expansion</td>\n",
       "      <td>John Simmons</td>\n",
       "      <td>Dhiraj Take (Tata Consultancy Services Ltd)</td>\n",
       "      <td>False</td>\n",
       "      <td>DM4</td>\n",
       "      <td>Class A</td>\n",
       "      <td>226.0</td>\n",
       "      <td>Out-of SLA</td>\n",
       "      <td>Yellow</td>\n",
       "    </tr>\n",
       "    <tr>\n",
       "      <th>1</th>\n",
       "      <td>AMEREAST</td>\n",
       "      <td>Des Moines</td>\n",
       "      <td>DC</td>\n",
       "      <td>Expansion</td>\n",
       "      <td>John Simmons</td>\n",
       "      <td>Dhiraj Take (Tata Consultancy Services Ltd)</td>\n",
       "      <td>False</td>\n",
       "      <td>DM4</td>\n",
       "      <td>Class A</td>\n",
       "      <td>226.0</td>\n",
       "      <td>Out-of SLA</td>\n",
       "      <td>Yellow</td>\n",
       "    </tr>\n",
       "    <tr>\n",
       "      <th>2</th>\n",
       "      <td>AMEREAST</td>\n",
       "      <td>Des Moines</td>\n",
       "      <td>DC</td>\n",
       "      <td>Expansion</td>\n",
       "      <td>John Simmons</td>\n",
       "      <td>Dhiraj Take (Tata Consultancy Services Ltd)</td>\n",
       "      <td>False</td>\n",
       "      <td>DM4</td>\n",
       "      <td>Class A</td>\n",
       "      <td>226.0</td>\n",
       "      <td>Out-of SLA</td>\n",
       "      <td>Yellow</td>\n",
       "    </tr>\n",
       "    <tr>\n",
       "      <th>3</th>\n",
       "      <td>AMEREAST</td>\n",
       "      <td>Campinas</td>\n",
       "      <td>RNG</td>\n",
       "      <td>Aug</td>\n",
       "      <td>Kathy Brown</td>\n",
       "      <td>Madhvi Chand (Tata Consultancy Services)</td>\n",
       "      <td>False</td>\n",
       "      <td>CPQ02</td>\n",
       "      <td>Class C</td>\n",
       "      <td>91.0</td>\n",
       "      <td>With-in SLA</td>\n",
       "      <td>Green</td>\n",
       "    </tr>\n",
       "    <tr>\n",
       "      <th>4</th>\n",
       "      <td>AMERWEST</td>\n",
       "      <td>Los Angeles</td>\n",
       "      <td>GW</td>\n",
       "      <td>Upgrade</td>\n",
       "      <td>Darren (Norm) Norman</td>\n",
       "      <td>Rajesh Adimoolam (Tata Consultancy Services Ltd)</td>\n",
       "      <td>False</td>\n",
       "      <td>LAX30</td>\n",
       "      <td>Class E</td>\n",
       "      <td>117.0</td>\n",
       "      <td>With-in SLA</td>\n",
       "      <td>Green</td>\n",
       "    </tr>\n",
       "  </tbody>\n",
       "</table>\n",
       "</div>"
      ],
      "text/plain": [
       "     Region        Metro SiteType DeploymentType                 NIDPM  \\\n",
       "0  AMEREAST   Des Moines       DC      Expansion          John Simmons   \n",
       "1  AMEREAST   Des Moines       DC      Expansion          John Simmons   \n",
       "2  AMEREAST   Des Moines       DC      Expansion          John Simmons   \n",
       "3  AMEREAST     Campinas      RNG            Aug           Kathy Brown   \n",
       "4  AMERWEST  Los Angeles       GW        Upgrade  Darren (Norm) Norman   \n",
       "\n",
       "                                                DPM  IsMainstream  \\\n",
       "0       Dhiraj Take (Tata Consultancy Services Ltd)         False   \n",
       "1       Dhiraj Take (Tata Consultancy Services Ltd)         False   \n",
       "2       Dhiraj Take (Tata Consultancy Services Ltd)         False   \n",
       "3          Madhvi Chand (Tata Consultancy Services)         False   \n",
       "4  Rajesh Adimoolam (Tata Consultancy Services Ltd)         False   \n",
       "\n",
       "  FacilityCode ClassType     CT    CT_Status CT_Indicator  \n",
       "0          DM4   Class A  226.0   Out-of SLA       Yellow  \n",
       "1          DM4   Class A  226.0   Out-of SLA       Yellow  \n",
       "2          DM4   Class A  226.0   Out-of SLA       Yellow  \n",
       "3        CPQ02   Class C   91.0  With-in SLA        Green  \n",
       "4        LAX30   Class E  117.0  With-in SLA        Green  "
      ]
     },
     "execution_count": 4,
     "metadata": {},
     "output_type": "execute_result"
    }
   ],
   "source": [
    "df1.head()"
   ]
  },
  {
   "cell_type": "code",
   "execution_count": 5,
   "metadata": {},
   "outputs": [
    {
     "data": {
      "text/plain": [
       "Out-of SLA     1094\n",
       "With-in SLA     499\n",
       "Name: CT_Status, dtype: int64"
      ]
     },
     "execution_count": 5,
     "metadata": {},
     "output_type": "execute_result"
    }
   ],
   "source": [
    "df1['CT_Status'].value_counts()"
   ]
  },
  {
   "cell_type": "code",
   "execution_count": 6,
   "metadata": {
    "scrolled": true
   },
   "outputs": [
    {
     "data": {
      "text/plain": [
       "Out-of SLA     68.675455\n",
       "With-in SLA    31.324545\n",
       "Name: CT_Status, dtype: float64"
      ]
     },
     "execution_count": 6,
     "metadata": {},
     "output_type": "execute_result"
    }
   ],
   "source": [
    "df1['CT_Status'].value_counts(normalize=True)*100"
   ]
  },
  {
   "cell_type": "code",
   "execution_count": 7,
   "metadata": {
    "scrolled": true
   },
   "outputs": [
    {
     "data": {
      "text/plain": [
       "<AxesSubplot:>"
      ]
     },
     "execution_count": 7,
     "metadata": {},
     "output_type": "execute_result"
    },
    {
     "data": {
      "image/png": "[encoded data removed]",
      "text/plain": [
       "<Figure size 432x288 with 1 Axes>"
      ]
     },
     "metadata": {
      "needs_background": "light"
     },
     "output_type": "display_data"
    }
   ],
   "source": [
    "df1['CT_Status'].value_counts(normalize=True).plot.bar()"
   ]
  },
  {
   "cell_type": "code",
   "execution_count": 11,
   "metadata": {},
   "outputs": [
    {
     "data": {
      "text/plain": [
       "Yellow    634\n",
       "Green     499\n",
       "Orange    378\n",
       "Red        82\n",
       "Name: CT_Indicator, dtype: int64"
      ]
     },
     "execution_count": 11,
     "metadata": {},
     "output_type": "execute_result"
    }
   ],
   "source": [
    "df1['CT_Indicator'].value_counts()"
   ]
  },
  {
   "cell_type": "code",
   "execution_count": 10,
   "metadata": {},
   "outputs": [
    {
     "data": {
      "text/plain": [
       "Yellow    39.799121\n",
       "Green     31.324545\n",
       "Orange    23.728814\n",
       "Red        5.147520\n",
       "Name: CT_Indicator, dtype: float64"
      ]
     },
     "execution_count": 10,
     "metadata": {},
     "output_type": "execute_result"
    }
   ],
   "source": [
    "df1['CT_Indicator'].value_counts(normalize=True)*100"
   ]
  },
  {
   "cell_type": "code",
   "execution_count": 8,
   "metadata": {},
   "outputs": [
    {
     "data": {
      "text/plain": [
       "<AxesSubplot:>"
      ]
     },
     "execution_count": 8,
     "metadata": {},
     "output_type": "execute_result"
    },
    {
     "data": {
      "image/png": "[encoded data removed]",
      "text/plain": [
       "<Figure size 432x288 with 1 Axes>"
      ]
     },
     "metadata": {
      "needs_background": "light"
     },
     "output_type": "display_data"
    }
   ],
   "source": [
    "df1['CT_Indicator'].value_counts(normalize=True).plot.bar()"
   ]
  },
  {
   "cell_type": "code",
   "execution_count": 12,
   "metadata": {},
   "outputs": [],
   "source": [
    "# Lets define predictors and Responce Varibale\n",
    "\n",
    "x=df1.drop(['CT','CT_Indicator','CT_Status'],axis=1)\n",
    "y=df1['CT_Indicator']"
   ]
  },
  {
   "cell_type": "code",
   "execution_count": 13,
   "metadata": {
    "scrolled": true
   },
   "outputs": [
    {
     "data": {
      "text/html": [
       "<div>\n",
       "<style scoped>\n",
       "    .dataframe tbody tr th:only-of-type {\n",
       "        vertical-align: middle;\n",
       "    }\n",
       "\n",
       "    .dataframe tbody tr th {\n",
       "        vertical-align: top;\n",
       "    }\n",
       "\n",
       "    .dataframe thead th {\n",
       "        text-align: right;\n",
       "    }\n",
       "</style>\n",
       "<table border=\"1\" class=\"dataframe\">\n",
       "  <thead>\n",
       "    <tr style=\"text-align: right;\">\n",
       "      <th></th>\n",
       "      <th>Region</th>\n",
       "      <th>Metro</th>\n",
       "      <th>SiteType</th>\n",
       "      <th>DeploymentType</th>\n",
       "      <th>NIDPM</th>\n",
       "      <th>DPM</th>\n",
       "      <th>IsMainstream</th>\n",
       "      <th>FacilityCode</th>\n",
       "      <th>ClassType</th>\n",
       "    </tr>\n",
       "  </thead>\n",
       "  <tbody>\n",
       "    <tr>\n",
       "      <th>0</th>\n",
       "      <td>AMEREAST</td>\n",
       "      <td>Des Moines</td>\n",
       "      <td>DC</td>\n",
       "      <td>Expansion</td>\n",
       "      <td>John Simmons</td>\n",
       "      <td>Dhiraj Take (Tata Consultancy Services Ltd)</td>\n",
       "      <td>False</td>\n",
       "      <td>DM4</td>\n",
       "      <td>Class A</td>\n",
       "    </tr>\n",
       "    <tr>\n",
       "      <th>1</th>\n",
       "      <td>AMEREAST</td>\n",
       "      <td>Des Moines</td>\n",
       "      <td>DC</td>\n",
       "      <td>Expansion</td>\n",
       "      <td>John Simmons</td>\n",
       "      <td>Dhiraj Take (Tata Consultancy Services Ltd)</td>\n",
       "      <td>False</td>\n",
       "      <td>DM4</td>\n",
       "      <td>Class A</td>\n",
       "    </tr>\n",
       "    <tr>\n",
       "      <th>2</th>\n",
       "      <td>AMEREAST</td>\n",
       "      <td>Des Moines</td>\n",
       "      <td>DC</td>\n",
       "      <td>Expansion</td>\n",
       "      <td>John Simmons</td>\n",
       "      <td>Dhiraj Take (Tata Consultancy Services Ltd)</td>\n",
       "      <td>False</td>\n",
       "      <td>DM4</td>\n",
       "      <td>Class A</td>\n",
       "    </tr>\n",
       "    <tr>\n",
       "      <th>3</th>\n",
       "      <td>AMEREAST</td>\n",
       "      <td>Campinas</td>\n",
       "      <td>RNG</td>\n",
       "      <td>Aug</td>\n",
       "      <td>Kathy Brown</td>\n",
       "      <td>Madhvi Chand (Tata Consultancy Services)</td>\n",
       "      <td>False</td>\n",
       "      <td>CPQ02</td>\n",
       "      <td>Class C</td>\n",
       "    </tr>\n",
       "    <tr>\n",
       "      <th>4</th>\n",
       "      <td>AMERWEST</td>\n",
       "      <td>Los Angeles</td>\n",
       "      <td>GW</td>\n",
       "      <td>Upgrade</td>\n",
       "      <td>Darren (Norm) Norman</td>\n",
       "      <td>Rajesh Adimoolam (Tata Consultancy Services Ltd)</td>\n",
       "      <td>False</td>\n",
       "      <td>LAX30</td>\n",
       "      <td>Class E</td>\n",
       "    </tr>\n",
       "  </tbody>\n",
       "</table>\n",
       "</div>"
      ],
      "text/plain": [
       "     Region        Metro SiteType DeploymentType                 NIDPM  \\\n",
       "0  AMEREAST   Des Moines       DC      Expansion          John Simmons   \n",
       "1  AMEREAST   Des Moines       DC      Expansion          John Simmons   \n",
       "2  AMEREAST   Des Moines       DC      Expansion          John Simmons   \n",
       "3  AMEREAST     Campinas      RNG            Aug           Kathy Brown   \n",
       "4  AMERWEST  Los Angeles       GW        Upgrade  Darren (Norm) Norman   \n",
       "\n",
       "                                                DPM  IsMainstream  \\\n",
       "0       Dhiraj Take (Tata Consultancy Services Ltd)         False   \n",
       "1       Dhiraj Take (Tata Consultancy Services Ltd)         False   \n",
       "2       Dhiraj Take (Tata Consultancy Services Ltd)         False   \n",
       "3          Madhvi Chand (Tata Consultancy Services)         False   \n",
       "4  Rajesh Adimoolam (Tata Consultancy Services Ltd)         False   \n",
       "\n",
       "  FacilityCode ClassType  \n",
       "0          DM4   Class A  \n",
       "1          DM4   Class A  \n",
       "2          DM4   Class A  \n",
       "3        CPQ02   Class C  \n",
       "4        LAX30   Class E  "
      ]
     },
     "execution_count": 13,
     "metadata": {},
     "output_type": "execute_result"
    }
   ],
   "source": [
    "x.head()"
   ]
  },
  {
   "cell_type": "code",
   "execution_count": 14,
   "metadata": {},
   "outputs": [],
   "source": [
    "# Will have to convert the categorical varibles into Dummy variables. \n",
    "x_encoded=pd.get_dummies(x,drop_first=True)"
   ]
  },
  {
   "cell_type": "code",
   "execution_count": 15,
   "metadata": {
    "scrolled": false
   },
   "outputs": [
    {
     "data": {
      "text/html": [
       "<div>\n",
       "<style scoped>\n",
       "    .dataframe tbody tr th:only-of-type {\n",
       "        vertical-align: middle;\n",
       "    }\n",
       "\n",
       "    .dataframe tbody tr th {\n",
       "        vertical-align: top;\n",
       "    }\n",
       "\n",
       "    .dataframe thead th {\n",
       "        text-align: right;\n",
       "    }\n",
       "</style>\n",
       "<table border=\"1\" class=\"dataframe\">\n",
       "  <thead>\n",
       "    <tr style=\"text-align: right;\">\n",
       "      <th></th>\n",
       "      <th>IsMainstream</th>\n",
       "      <th>Region_AMERWEST</th>\n",
       "      <th>Region_APAC</th>\n",
       "      <th>Region_EMEA</th>\n",
       "      <th>Metro_Abilene</th>\n",
       "      <th>Metro_Abu Dhabi</th>\n",
       "      <th>Metro_Agriport</th>\n",
       "      <th>Metro_Akron-Canton</th>\n",
       "      <th>Metro_Altus</th>\n",
       "      <th>Metro_Amarillo</th>\n",
       "      <th>...</th>\n",
       "      <th>FacilityCode_ZZV01</th>\n",
       "      <th>FacilityCode_ZZV70</th>\n",
       "      <th>ClassType_Class B</th>\n",
       "      <th>ClassType_Class C</th>\n",
       "      <th>ClassType_Class D</th>\n",
       "      <th>ClassType_Class E</th>\n",
       "      <th>ClassType_Class F</th>\n",
       "      <th>ClassType_Class G</th>\n",
       "      <th>ClassType_Missing</th>\n",
       "      <th>ClassType_Unknown</th>\n",
       "    </tr>\n",
       "  </thead>\n",
       "  <tbody>\n",
       "    <tr>\n",
       "      <th>0</th>\n",
       "      <td>False</td>\n",
       "      <td>0</td>\n",
       "      <td>0</td>\n",
       "      <td>0</td>\n",
       "      <td>0</td>\n",
       "      <td>0</td>\n",
       "      <td>0</td>\n",
       "      <td>0</td>\n",
       "      <td>0</td>\n",
       "      <td>0</td>\n",
       "      <td>...</td>\n",
       "      <td>0</td>\n",
       "      <td>0</td>\n",
       "      <td>0</td>\n",
       "      <td>0</td>\n",
       "      <td>0</td>\n",
       "      <td>0</td>\n",
       "      <td>0</td>\n",
       "      <td>0</td>\n",
       "      <td>0</td>\n",
       "      <td>0</td>\n",
       "    </tr>\n",
       "    <tr>\n",
       "      <th>1</th>\n",
       "      <td>False</td>\n",
       "      <td>0</td>\n",
       "      <td>0</td>\n",
       "      <td>0</td>\n",
       "      <td>0</td>\n",
       "      <td>0</td>\n",
       "      <td>0</td>\n",
       "      <td>0</td>\n",
       "      <td>0</td>\n",
       "      <td>0</td>\n",
       "      <td>...</td>\n",
       "      <td>0</td>\n",
       "      <td>0</td>\n",
       "      <td>0</td>\n",
       "      <td>0</td>\n",
       "      <td>0</td>\n",
       "      <td>0</td>\n",
       "      <td>0</td>\n",
       "      <td>0</td>\n",
       "      <td>0</td>\n",
       "      <td>0</td>\n",
       "    </tr>\n",
       "    <tr>\n",
       "      <th>2</th>\n",
       "      <td>False</td>\n",
       "      <td>0</td>\n",
       "      <td>0</td>\n",
       "      <td>0</td>\n",
       "      <td>0</td>\n",
       "      <td>0</td>\n",
       "      <td>0</td>\n",
       "      <td>0</td>\n",
       "      <td>0</td>\n",
       "      <td>0</td>\n",
       "      <td>...</td>\n",
       "      <td>0</td>\n",
       "      <td>0</td>\n",
       "      <td>0</td>\n",
       "      <td>0</td>\n",
       "      <td>0</td>\n",
       "      <td>0</td>\n",
       "      <td>0</td>\n",
       "      <td>0</td>\n",
       "      <td>0</td>\n",
       "      <td>0</td>\n",
       "    </tr>\n",
       "    <tr>\n",
       "      <th>3</th>\n",
       "      <td>False</td>\n",
       "      <td>0</td>\n",
       "      <td>0</td>\n",
       "      <td>0</td>\n",
       "      <td>0</td>\n",
       "      <td>0</td>\n",
       "      <td>0</td>\n",
       "      <td>0</td>\n",
       "      <td>0</td>\n",
       "      <td>0</td>\n",
       "      <td>...</td>\n",
       "      <td>0</td>\n",
       "      <td>0</td>\n",
       "      <td>0</td>\n",
       "      <td>1</td>\n",
       "      <td>0</td>\n",
       "      <td>0</td>\n",
       "      <td>0</td>\n",
       "      <td>0</td>\n",
       "      <td>0</td>\n",
       "      <td>0</td>\n",
       "    </tr>\n",
       "    <tr>\n",
       "      <th>4</th>\n",
       "      <td>False</td>\n",
       "      <td>1</td>\n",
       "      <td>0</td>\n",
       "      <td>0</td>\n",
       "      <td>0</td>\n",
       "      <td>0</td>\n",
       "      <td>0</td>\n",
       "      <td>0</td>\n",
       "      <td>0</td>\n",
       "      <td>0</td>\n",
       "      <td>...</td>\n",
       "      <td>0</td>\n",
       "      <td>0</td>\n",
       "      <td>0</td>\n",
       "      <td>0</td>\n",
       "      <td>0</td>\n",
       "      <td>1</td>\n",
       "      <td>0</td>\n",
       "      <td>0</td>\n",
       "      <td>0</td>\n",
       "      <td>0</td>\n",
       "    </tr>\n",
       "  </tbody>\n",
       "</table>\n",
       "<p>5 rows × 1091 columns</p>\n",
       "</div>"
      ],
      "text/plain": [
       "   IsMainstream  Region_AMERWEST  Region_APAC  Region_EMEA  Metro_Abilene  \\\n",
       "0         False                0            0            0              0   \n",
       "1         False                0            0            0              0   \n",
       "2         False                0            0            0              0   \n",
       "3         False                0            0            0              0   \n",
       "4         False                1            0            0              0   \n",
       "\n",
       "   Metro_Abu Dhabi  Metro_Agriport  Metro_Akron-Canton  Metro_Altus  \\\n",
       "0                0               0                   0            0   \n",
       "1                0               0                   0            0   \n",
       "2                0               0                   0            0   \n",
       "3                0               0                   0            0   \n",
       "4                0               0                   0            0   \n",
       "\n",
       "   Metro_Amarillo  ...  FacilityCode_ZZV01  FacilityCode_ZZV70  \\\n",
       "0               0  ...                   0                   0   \n",
       "1               0  ...                   0                   0   \n",
       "2               0  ...                   0                   0   \n",
       "3               0  ...                   0                   0   \n",
       "4               0  ...                   0                   0   \n",
       "\n",
       "   ClassType_Class B  ClassType_Class C  ClassType_Class D  ClassType_Class E  \\\n",
       "0                  0                  0                  0                  0   \n",
       "1                  0                  0                  0                  0   \n",
       "2                  0                  0                  0                  0   \n",
       "3                  0                  1                  0                  0   \n",
       "4                  0                  0                  0                  1   \n",
       "\n",
       "   ClassType_Class F  ClassType_Class G  ClassType_Missing  ClassType_Unknown  \n",
       "0                  0                  0                  0                  0  \n",
       "1                  0                  0                  0                  0  \n",
       "2                  0                  0                  0                  0  \n",
       "3                  0                  0                  0                  0  \n",
       "4                  0                  0                  0                  0  \n",
       "\n",
       "[5 rows x 1091 columns]"
      ]
     },
     "execution_count": 15,
     "metadata": {},
     "output_type": "execute_result"
    }
   ],
   "source": [
    "x_encoded.head()"
   ]
  },
  {
   "cell_type": "code",
   "execution_count": 13,
   "metadata": {},
   "outputs": [],
   "source": [
    "#value={'With-in SLA':1, 'Out-of SLA':0}\n",
    "#y.replace(value,inplace=True)"
   ]
  },
  {
   "cell_type": "code",
   "execution_count": 16,
   "metadata": {},
   "outputs": [
    {
     "data": {
      "text/plain": [
       "1287       Red\n",
       "679     Orange\n",
       "1301    Yellow\n",
       "1130     Green\n",
       "52       Green\n",
       "827      Green\n",
       "30      Orange\n",
       "260     Yellow\n",
       "1166     Green\n",
       "668     Yellow\n",
       "Name: CT_Indicator, dtype: object"
      ]
     },
     "execution_count": 16,
     "metadata": {},
     "output_type": "execute_result"
    }
   ],
   "source": [
    "y.sample(10)"
   ]
  },
  {
   "cell_type": "code",
   "execution_count": 17,
   "metadata": {},
   "outputs": [],
   "source": [
    "#Split the data into training and Testing\n",
    "from sklearn.model_selection import train_test_split\n",
    "x_train,x_val,y_train,y_val=train_test_split(x_encoded,y,test_size=0.25,random_state=100)"
   ]
  },
  {
   "cell_type": "code",
   "execution_count": 18,
   "metadata": {},
   "outputs": [],
   "source": [
    "from sklearn.ensemble import RandomForestClassifier\n",
    "from sklearn.neighbors import KNeighborsClassifier\n",
    "from sklearn.svm import SVC\n",
    "from sklearn.model_selection import cross_val_score\n",
    "from sklearn.metrics import accuracy_score, classification_report, confusion_matrix"
   ]
  },
  {
   "cell_type": "code",
   "execution_count": 19,
   "metadata": {},
   "outputs": [],
   "source": [
    "rc=RandomForestClassifier()\n",
    "knn=KNeighborsClassifier()\n",
    "svc=SVC()"
   ]
  },
  {
   "cell_type": "code",
   "execution_count": 20,
   "metadata": {},
   "outputs": [],
   "source": [
    "rc_score=cross_val_score(rc,x_train,y_train,cv=5)\n",
    "knn_score=cross_val_score(knn,x_train,y_train,cv=5)\n",
    "svc_score=cross_val_score(svc,x_train,y_train,cv=5)"
   ]
  },
  {
   "cell_type": "code",
   "execution_count": 21,
   "metadata": {
    "scrolled": false
   },
   "outputs": [
    {
     "name": "stdout",
     "output_type": "stream",
     "text": [
      "[0.69037657 0.66527197 0.69874477 0.69456067 0.73109244]\n",
      "RandomForest Score: 0.7\n",
      "[0.69037657 0.66527197 0.69874477 0.69456067 0.73109244]\n",
      "KNN Score: 0.64\n",
      "[0.69037657 0.66527197 0.69874477 0.69456067 0.73109244]\n",
      "SVM Score: 0.68\n"
     ]
    }
   ],
   "source": [
    "print (rc_score)\n",
    "print (\"RandomForest Score:\",np.round(rc_score.mean(),2))\n",
    "print (rc_score)\n",
    "print (\"KNN Score:\",np.round(knn_score.mean(),2))\n",
    "print (rc_score)\n",
    "print (\"SVM Score:\",np.round(svc_score.mean(),2))"
   ]
  },
  {
   "cell_type": "markdown",
   "metadata": {},
   "source": [
    "## Random Forest Classifier"
   ]
  },
  {
   "cell_type": "code",
   "execution_count": 24,
   "metadata": {},
   "outputs": [],
   "source": [
    "from sklearn.preprocessing import LabelEncoder\n",
    "le=LabelEncoder()\n",
    "x_lencoded= x.apply(le.fit_transform)"
   ]
  },
  {
   "cell_type": "code",
   "execution_count": 25,
   "metadata": {
    "scrolled": true
   },
   "outputs": [
    {
     "data": {
      "text/html": [
       "<div>\n",
       "<style scoped>\n",
       "    .dataframe tbody tr th:only-of-type {\n",
       "        vertical-align: middle;\n",
       "    }\n",
       "\n",
       "    .dataframe tbody tr th {\n",
       "        vertical-align: top;\n",
       "    }\n",
       "\n",
       "    .dataframe thead th {\n",
       "        text-align: right;\n",
       "    }\n",
       "</style>\n",
       "<table border=\"1\" class=\"dataframe\">\n",
       "  <thead>\n",
       "    <tr style=\"text-align: right;\">\n",
       "      <th></th>\n",
       "      <th>Region</th>\n",
       "      <th>Metro</th>\n",
       "      <th>SiteType</th>\n",
       "      <th>DeploymentType</th>\n",
       "      <th>NIDPM</th>\n",
       "      <th>DPM</th>\n",
       "      <th>IsMainstream</th>\n",
       "      <th>FacilityCode</th>\n",
       "      <th>ClassType</th>\n",
       "    </tr>\n",
       "  </thead>\n",
       "  <tbody>\n",
       "    <tr>\n",
       "      <th>0</th>\n",
       "      <td>0</td>\n",
       "      <td>64</td>\n",
       "      <td>2</td>\n",
       "      <td>5</td>\n",
       "      <td>15</td>\n",
       "      <td>12</td>\n",
       "      <td>0</td>\n",
       "      <td>211</td>\n",
       "      <td>0</td>\n",
       "    </tr>\n",
       "    <tr>\n",
       "      <th>1</th>\n",
       "      <td>0</td>\n",
       "      <td>64</td>\n",
       "      <td>2</td>\n",
       "      <td>5</td>\n",
       "      <td>15</td>\n",
       "      <td>12</td>\n",
       "      <td>0</td>\n",
       "      <td>211</td>\n",
       "      <td>0</td>\n",
       "    </tr>\n",
       "    <tr>\n",
       "      <th>2</th>\n",
       "      <td>0</td>\n",
       "      <td>64</td>\n",
       "      <td>2</td>\n",
       "      <td>5</td>\n",
       "      <td>15</td>\n",
       "      <td>12</td>\n",
       "      <td>0</td>\n",
       "      <td>211</td>\n",
       "      <td>0</td>\n",
       "    </tr>\n",
       "    <tr>\n",
       "      <th>3</th>\n",
       "      <td>0</td>\n",
       "      <td>36</td>\n",
       "      <td>5</td>\n",
       "      <td>1</td>\n",
       "      <td>16</td>\n",
       "      <td>32</td>\n",
       "      <td>0</td>\n",
       "      <td>170</td>\n",
       "      <td>2</td>\n",
       "    </tr>\n",
       "    <tr>\n",
       "      <th>4</th>\n",
       "      <td>1</td>\n",
       "      <td>109</td>\n",
       "      <td>4</td>\n",
       "      <td>17</td>\n",
       "      <td>6</td>\n",
       "      <td>46</td>\n",
       "      <td>0</td>\n",
       "      <td>379</td>\n",
       "      <td>4</td>\n",
       "    </tr>\n",
       "  </tbody>\n",
       "</table>\n",
       "</div>"
      ],
      "text/plain": [
       "   Region  Metro  SiteType  DeploymentType  NIDPM  DPM  IsMainstream  \\\n",
       "0       0     64         2               5     15   12             0   \n",
       "1       0     64         2               5     15   12             0   \n",
       "2       0     64         2               5     15   12             0   \n",
       "3       0     36         5               1     16   32             0   \n",
       "4       1    109         4              17      6   46             0   \n",
       "\n",
       "   FacilityCode  ClassType  \n",
       "0           211          0  \n",
       "1           211          0  \n",
       "2           211          0  \n",
       "3           170          2  \n",
       "4           379          4  "
      ]
     },
     "execution_count": 25,
     "metadata": {},
     "output_type": "execute_result"
    }
   ],
   "source": [
    "x_lencoded.head()"
   ]
  },
  {
   "cell_type": "code",
   "execution_count": 26,
   "metadata": {},
   "outputs": [],
   "source": [
    "#Split the data into training and Testing\n",
    "from sklearn.model_selection import train_test_split\n",
    "x_train1,x_val1,y_train1,y_val1=train_test_split(x_lencoded,y,test_size=0.25,random_state=100)"
   ]
  },
  {
   "cell_type": "code",
   "execution_count": 22,
   "metadata": {},
   "outputs": [],
   "source": [
    "from sklearn.model_selection import GridSearchCV"
   ]
  },
  {
   "cell_type": "code",
   "execution_count": 23,
   "metadata": {},
   "outputs": [],
   "source": [
    "def print_results(results):\n",
    "    print('BEST PARAMS: {}\\n'.format(results.best_params_))\n",
    "\n",
    "    means = results.cv_results_['mean_test_score']\n",
    "    stds = results.cv_results_['std_test_score']\n",
    "    for mean, std, params in zip(means, stds, results.cv_results_['params']):\n",
    "        print('{} (+/-{}) for {}'.format(round(mean, 3), round(std * 2, 3), params))"
   ]
  },
  {
   "cell_type": "code",
   "execution_count": 27,
   "metadata": {},
   "outputs": [
    {
     "name": "stdout",
     "output_type": "stream",
     "text": [
      "Fitting 3 folds for each of 33 candidates, totalling 99 fits\n"
     ]
    },
    {
     "name": "stderr",
     "output_type": "stream",
     "text": [
      "[Parallel(n_jobs=-1)]: Using backend LokyBackend with 4 concurrent workers.\n",
      "[Parallel(n_jobs=-1)]: Done  42 tasks      | elapsed:   12.0s\n",
      "[Parallel(n_jobs=-1)]: Done  99 out of  99 | elapsed:   23.9s finished\n"
     ]
    },
    {
     "name": "stdout",
     "output_type": "stream",
     "text": [
      "BEST PARAMS: {'max_depth': 40, 'n_estimators': 200}\n",
      "\n",
      "0.608 (+/-0.029) for {'max_depth': 5, 'n_estimators': 100}\n",
      "0.611 (+/-0.031) for {'max_depth': 5, 'n_estimators': 200}\n",
      "0.616 (+/-0.035) for {'max_depth': 5, 'n_estimators': 300}\n",
      "0.654 (+/-0.027) for {'max_depth': 7, 'n_estimators': 100}\n",
      "0.649 (+/-0.04) for {'max_depth': 7, 'n_estimators': 200}\n",
      "0.657 (+/-0.017) for {'max_depth': 7, 'n_estimators': 300}\n",
      "0.657 (+/-0.017) for {'max_depth': 10, 'n_estimators': 100}\n",
      "0.664 (+/-0.013) for {'max_depth': 10, 'n_estimators': 200}\n",
      "0.668 (+/-0.021) for {'max_depth': 10, 'n_estimators': 300}\n",
      "0.662 (+/-0.013) for {'max_depth': 12, 'n_estimators': 100}\n",
      "0.665 (+/-0.02) for {'max_depth': 12, 'n_estimators': 200}\n",
      "0.667 (+/-0.009) for {'max_depth': 12, 'n_estimators': 300}\n",
      "0.654 (+/-0.013) for {'max_depth': 15, 'n_estimators': 100}\n",
      "0.661 (+/-0.012) for {'max_depth': 15, 'n_estimators': 200}\n",
      "0.663 (+/-0.022) for {'max_depth': 15, 'n_estimators': 300}\n",
      "0.656 (+/-0.007) for {'max_depth': 20, 'n_estimators': 100}\n",
      "0.658 (+/-0.016) for {'max_depth': 20, 'n_estimators': 200}\n",
      "0.667 (+/-0.027) for {'max_depth': 20, 'n_estimators': 300}\n",
      "0.665 (+/-0.028) for {'max_depth': 25, 'n_estimators': 100}\n",
      "0.656 (+/-0.008) for {'max_depth': 25, 'n_estimators': 200}\n",
      "0.655 (+/-0.016) for {'max_depth': 25, 'n_estimators': 300}\n",
      "0.665 (+/-0.025) for {'max_depth': 30, 'n_estimators': 100}\n",
      "0.666 (+/-0.012) for {'max_depth': 30, 'n_estimators': 200}\n",
      "0.663 (+/-0.021) for {'max_depth': 30, 'n_estimators': 300}\n",
      "0.652 (+/-0.009) for {'max_depth': 35, 'n_estimators': 100}\n",
      "0.662 (+/-0.021) for {'max_depth': 35, 'n_estimators': 200}\n",
      "0.668 (+/-0.036) for {'max_depth': 35, 'n_estimators': 300}\n",
      "0.663 (+/-0.022) for {'max_depth': 40, 'n_estimators': 100}\n",
      "0.673 (+/-0.017) for {'max_depth': 40, 'n_estimators': 200}\n",
      "0.67 (+/-0.009) for {'max_depth': 40, 'n_estimators': 300}\n",
      "0.661 (+/-0.029) for {'max_depth': 37, 'n_estimators': 100}\n",
      "0.662 (+/-0.009) for {'max_depth': 37, 'n_estimators': 200}\n",
      "0.657 (+/-0.013) for {'max_depth': 37, 'n_estimators': 300}\n"
     ]
    }
   ],
   "source": [
    "RF1 = RandomForestClassifier()\n",
    "parameters = {\n",
    "    'n_estimators': [100,200,300],\n",
    "    'max_depth': [5,7,10,12,15,20,25,30,35,40,37]\n",
    "}\n",
    "\n",
    "cv = GridSearchCV(RF1, parameters, cv=3,n_jobs = -1,verbose = 1)\n",
    "cv.fit(x_train1, y_train1)\n",
    "print_results(cv)"
   ]
  },
  {
   "cell_type": "code",
   "execution_count": 28,
   "metadata": {},
   "outputs": [],
   "source": [
    "rf=RandomForestClassifier(max_depth=40, n_estimators=200)"
   ]
  },
  {
   "cell_type": "code",
   "execution_count": 31,
   "metadata": {
    "scrolled": true
   },
   "outputs": [
    {
     "data": {
      "text/plain": [
       "RandomForestClassifier(max_depth=40, n_estimators=200)"
      ]
     },
     "execution_count": 31,
     "metadata": {},
     "output_type": "execute_result"
    }
   ],
   "source": [
    "rf.fit(x_train1,y_train1)"
   ]
  },
  {
   "cell_type": "code",
   "execution_count": 32,
   "metadata": {},
   "outputs": [],
   "source": [
    "prediction=rf.predict(x_val1)"
   ]
  },
  {
   "cell_type": "code",
   "execution_count": 33,
   "metadata": {
    "scrolled": true
   },
   "outputs": [
    {
     "name": "stdout",
     "output_type": "stream",
     "text": [
      "              precision    recall  f1-score   support\n",
      "\n",
      "       Green       0.70      0.72      0.71       109\n",
      "      Orange       0.67      0.69      0.68       107\n",
      "         Red       0.75      0.60      0.67        25\n",
      "      Yellow       0.68      0.68      0.68       158\n",
      "\n",
      "    accuracy                           0.69       399\n",
      "   macro avg       0.70      0.67      0.68       399\n",
      "weighted avg       0.69      0.69      0.69       399\n",
      "\n"
     ]
    }
   ],
   "source": [
    "print(classification_report(y_val1,prediction))"
   ]
  },
  {
   "cell_type": "code",
   "execution_count": 34,
   "metadata": {
    "scrolled": false
   },
   "outputs": [
    {
     "name": "stdout",
     "output_type": "stream",
     "text": [
      "[[ 78   5   0  26]\n",
      " [  9  74   4  20]\n",
      " [  2   4  15   4]\n",
      " [ 23  27   1 107]]\n"
     ]
    }
   ],
   "source": [
    "print(confusion_matrix(y_val1,prediction))"
   ]
  },
  {
   "cell_type": "code",
   "execution_count": 35,
   "metadata": {
    "scrolled": true
   },
   "outputs": [],
   "source": [
    "importances=rf.feature_importances_"
   ]
  },
  {
   "cell_type": "code",
   "execution_count": 36,
   "metadata": {
    "scrolled": true
   },
   "outputs": [
    {
     "name": "stdout",
     "output_type": "stream",
     "text": [
      "('Region', 0.047287160836069486)\n",
      "('Metro', 0.15707685623403073)\n",
      "('SiteType', 0.07676738064796233)\n",
      "('DeploymentType', 0.11474442140623974)\n",
      "('NIDPM', 0.1509149877083493)\n",
      "('DPM', 0.1779012357301684)\n",
      "('IsMainstream', 0.008356246926383525)\n",
      "('FacilityCode', 0.19083450263116356)\n",
      "('ClassType', 0.07611720787963287)\n"
     ]
    }
   ],
   "source": [
    "for feature in zip (x.columns, importances):\n",
    "    print (feature)"
   ]
  },
  {
   "cell_type": "code",
   "execution_count": 38,
   "metadata": {},
   "outputs": [
    {
     "data": {
      "image/png": "[encoded data removed]",
      "text/plain": [
       "<Figure size 720x360 with 1 Axes>"
      ]
     },
     "metadata": {
      "needs_background": "light"
     },
     "output_type": "display_data"
    }
   ],
   "source": [
    "# Sort feature importances in descending order\n",
    "indices = np.argsort(importances)[::-1]\n",
    "\n",
    "# Rearrange feature names so they match the sorted feature importances\n",
    "names = [x.columns[i] for i in indices]\n",
    "\n",
    "# Create plot\n",
    "plt.figure(figsize=(10,5))\n",
    "\n",
    "# Create plot title\n",
    "plt.title(\"Random_Forest_Multiclass_Classification--Feature Importance\")\n",
    "\n",
    "# Add bars\n",
    "plt.bar(range(x.shape[1]), importances[indices])\n",
    "\n",
    "# Add feature names as x-axis labels\n",
    "plt.xticks(range(x.shape[1]), names, rotation=90)\n",
    "\n",
    "# Show plot\n",
    "plt.show()"
   ]
  },
  {
   "cell_type": "code",
   "execution_count": null,
   "metadata": {},
   "outputs": [],
   "source": []
  }
 ],
 "metadata": {
  "kernelspec": {
   "display_name": "Python 3",
   "language": "python",
   "name": "python3"
  },
  "language_info": {
   "codemirror_mode": {
    "name": "ipython",
    "version": 3
   },
   "file_extension": ".py",
   "mimetype": "text/x-python",
   "name": "python",
   "nbconvert_exporter": "python",
   "pygments_lexer": "ipython3",
   "version": "3.8.5"
  }
 },
 "nbformat": 4,
 "nbformat_minor": 4
}
