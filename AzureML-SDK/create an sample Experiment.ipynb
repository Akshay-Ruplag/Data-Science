{
 "cells": [
  {
   "cell_type": "code",
   "execution_count": 2,
   "metadata": {},
   "outputs": [],
   "source": [
    "from azureml.core import Workspace, Datastore, Dataset, Experiment"
   ]
  },
  {
   "cell_type": "code",
   "execution_count": 4,
   "metadata": {},
   "outputs": [],
   "source": [
    "ws=Workspace.from_config() #Initialize workspace from config file\n",
    "az_store=Datastore.get(ws,'azure_sdk_bob01')#Initialize datastore \n",
    "az_dataset= Dataset.get_by_name(ws,'CT_SDK' )#Get a single dataset by name in a workspace\n",
    "az_default_store=ws.get_default_datastore()#Access all the default datastores in the workspace"
   ]
  },
  {
   "cell_type": "code",
   "execution_count": 5,
   "metadata": {},
   "outputs": [],
   "source": [
    "#Create/access experiment object\n",
    "experiment=Experiment(workspace=ws,name='CT_SDK_EXP01')"
   ]
  },
  {
   "cell_type": "code",
   "execution_count": null,
   "metadata": {},
   "outputs": [],
   "source": [
    "#We have to write our code for data preprocessing and model building between start logging and complete. "
   ]
  },
  {
   "cell_type": "code",
   "execution_count": 10,
   "metadata": {},
   "outputs": [],
   "source": [
    "#Run an experiment using start logging method\n",
    "new_run=experiment.start_logging()"
   ]
  },
  {
   "cell_type": "code",
   "execution_count": 12,
   "metadata": {},
   "outputs": [
    {
     "data": {
      "text/html": [
       "<div>\n",
       "<style scoped>\n",
       "    .dataframe tbody tr th:only-of-type {\n",
       "        vertical-align: middle;\n",
       "    }\n",
       "\n",
       "    .dataframe tbody tr th {\n",
       "        vertical-align: top;\n",
       "    }\n",
       "\n",
       "    .dataframe thead th {\n",
       "        text-align: right;\n",
       "    }\n",
       "</style>\n",
       "<table border=\"1\" class=\"dataframe\">\n",
       "  <thead>\n",
       "    <tr style=\"text-align: right;\">\n",
       "      <th></th>\n",
       "      <th>Region</th>\n",
       "      <th>Metro</th>\n",
       "      <th>SiteType</th>\n",
       "      <th>DeploymentType</th>\n",
       "      <th>NIDPM</th>\n",
       "      <th>DPM</th>\n",
       "      <th>IsMainstream</th>\n",
       "      <th>FacilityCode</th>\n",
       "      <th>ClassType</th>\n",
       "      <th>CT</th>\n",
       "      <th>CT_Status</th>\n",
       "      <th>CT_Indicator</th>\n",
       "    </tr>\n",
       "  </thead>\n",
       "  <tbody>\n",
       "    <tr>\n",
       "      <th>0</th>\n",
       "      <td>AMEREAST</td>\n",
       "      <td>Des Moines</td>\n",
       "      <td>DC</td>\n",
       "      <td>Expansion</td>\n",
       "      <td>John Simmons</td>\n",
       "      <td>Dhiraj Take (Tata Consultancy Services Ltd)</td>\n",
       "      <td>False</td>\n",
       "      <td>DM4</td>\n",
       "      <td>Class A</td>\n",
       "      <td>226.0</td>\n",
       "      <td>Out-of SLA</td>\n",
       "      <td>Yellow</td>\n",
       "    </tr>\n",
       "    <tr>\n",
       "      <th>1</th>\n",
       "      <td>AMEREAST</td>\n",
       "      <td>Des Moines</td>\n",
       "      <td>DC</td>\n",
       "      <td>Expansion</td>\n",
       "      <td>John Simmons</td>\n",
       "      <td>Dhiraj Take (Tata Consultancy Services Ltd)</td>\n",
       "      <td>False</td>\n",
       "      <td>DM4</td>\n",
       "      <td>Class A</td>\n",
       "      <td>226.0</td>\n",
       "      <td>Out-of SLA</td>\n",
       "      <td>Yellow</td>\n",
       "    </tr>\n",
       "    <tr>\n",
       "      <th>2</th>\n",
       "      <td>AMEREAST</td>\n",
       "      <td>Des Moines</td>\n",
       "      <td>DC</td>\n",
       "      <td>Expansion</td>\n",
       "      <td>John Simmons</td>\n",
       "      <td>Dhiraj Take (Tata Consultancy Services Ltd)</td>\n",
       "      <td>False</td>\n",
       "      <td>DM4</td>\n",
       "      <td>Class A</td>\n",
       "      <td>226.0</td>\n",
       "      <td>Out-of SLA</td>\n",
       "      <td>Yellow</td>\n",
       "    </tr>\n",
       "    <tr>\n",
       "      <th>3</th>\n",
       "      <td>AMEREAST</td>\n",
       "      <td>Campinas</td>\n",
       "      <td>RNG</td>\n",
       "      <td>Aug</td>\n",
       "      <td>Kathy Brown</td>\n",
       "      <td>Madhvi Chand (Tata Consultancy Services)</td>\n",
       "      <td>False</td>\n",
       "      <td>CPQ02</td>\n",
       "      <td>Class C</td>\n",
       "      <td>91.0</td>\n",
       "      <td>With-in SLA</td>\n",
       "      <td>Green</td>\n",
       "    </tr>\n",
       "    <tr>\n",
       "      <th>4</th>\n",
       "      <td>AMERWEST</td>\n",
       "      <td>Los Angeles</td>\n",
       "      <td>GW</td>\n",
       "      <td>Upgrade</td>\n",
       "      <td>Darren (Norm) Norman</td>\n",
       "      <td>Rajesh Adimoolam (Tata Consultancy Services Ltd)</td>\n",
       "      <td>False</td>\n",
       "      <td>LAX30</td>\n",
       "      <td>Class E</td>\n",
       "      <td>117.0</td>\n",
       "      <td>With-in SLA</td>\n",
       "      <td>Green</td>\n",
       "    </tr>\n",
       "  </tbody>\n",
       "</table>\n",
       "</div>"
      ],
      "text/plain": [
       "     Region        Metro SiteType DeploymentType                 NIDPM  \\\n",
       "0  AMEREAST   Des Moines       DC      Expansion          John Simmons   \n",
       "1  AMEREAST   Des Moines       DC      Expansion          John Simmons   \n",
       "2  AMEREAST   Des Moines       DC      Expansion          John Simmons   \n",
       "3  AMEREAST     Campinas      RNG            Aug           Kathy Brown   \n",
       "4  AMERWEST  Los Angeles       GW        Upgrade  Darren (Norm) Norman   \n",
       "\n",
       "                                                DPM  IsMainstream  \\\n",
       "0       Dhiraj Take (Tata Consultancy Services Ltd)         False   \n",
       "1       Dhiraj Take (Tata Consultancy Services Ltd)         False   \n",
       "2       Dhiraj Take (Tata Consultancy Services Ltd)         False   \n",
       "3          Madhvi Chand (Tata Consultancy Services)         False   \n",
       "4  Rajesh Adimoolam (Tata Consultancy Services Ltd)         False   \n",
       "\n",
       "  FacilityCode ClassType     CT    CT_Status CT_Indicator  \n",
       "0          DM4   Class A  226.0   Out-of SLA       Yellow  \n",
       "1          DM4   Class A  226.0   Out-of SLA       Yellow  \n",
       "2          DM4   Class A  226.0   Out-of SLA       Yellow  \n",
       "3        CPQ02   Class C   91.0  With-in SLA        Green  \n",
       "4        LAX30   Class E  117.0  With-in SLA        Green  "
      ]
     },
     "execution_count": 12,
     "metadata": {},
     "output_type": "execute_result"
    }
   ],
   "source": [
    "#Get the data in pandas datafream\n",
    "df = az_dataset.to_pandas_dataframe()\n",
    "df.head()"
   ]
  },
  {
   "cell_type": "code",
   "execution_count": 15,
   "metadata": {},
   "outputs": [],
   "source": [
    "#Will do some preprocessing and will log teh values in AzureML experiment\n",
    "#Count of observations\n",
    "number_observations=len(df)\n",
    "#count of missing values\n",
    "missing_count=df.isnull().sum()"
   ]
  },
  {
   "cell_type": "code",
   "execution_count": 19,
   "metadata": {},
   "outputs": [
    {
     "name": "stderr",
     "output_type": "stream",
     "text": [
      "Metrics Client: Failed to post metric with name Region due to the following error \"Cannot log value type Int to column with existing type String.\"\n",
      "Metrics Client: Failed to post metric with name Metro due to the following error \"Cannot log value type Int to column with existing type String.\"\n",
      "Metrics Client: Failed to post metric with name SiteType due to the following error \"Cannot log value type Int to column with existing type String.\"\n",
      "Metrics Client: Failed to post metric with name DeploymentType due to the following error \"Cannot log value type Int to column with existing type String.\"\n",
      "Metrics Client: Failed to post metric with name NIDPM due to the following error \"Cannot log value type Int to column with existing type String.\"\n",
      "Metrics Client: Failed to post metric with name DPM due to the following error \"Cannot log value type Int to column with existing type String.\"\n",
      "Metrics Client: Failed to post metric with name IsMainstream due to the following error \"Cannot log value type Int to column with existing type String.\"\n",
      "Metrics Client: Failed to post metric with name FacilityCode due to the following error \"Cannot log value type Int to column with existing type String.\"\n",
      "Metrics Client: Failed to post metric with name ClassType due to the following error \"Cannot log value type Int to column with existing type String.\"\n",
      "Metrics Client: Failed to post metric with name CT due to the following error \"Cannot log value type Int to column with existing type String.\"\n",
      "Metrics Client: Failed to post metric with name CT_Status due to the following error \"Cannot log value type Int to column with existing type String.\"\n",
      "Metrics Client: Failed to post metric with name CT_Indicator due to the following error \"Cannot log value type Int to column with existing type String.\"\n"
     ]
    }
   ],
   "source": [
    "#log a metric to a workspace\n",
    "new_run.log('Number of Observations', number_observations)\n",
    "#log the missing values to workapce\n",
    "for col in df.columns:\n",
    "    new_run.log(col, missing_count[col])"
   ]
  },
  {
   "cell_type": "code",
   "execution_count": null,
   "metadata": {},
   "outputs": [],
   "source": []
  },
  {
   "cell_type": "code",
   "execution_count": 20,
   "metadata": {},
   "outputs": [],
   "source": [
    "#complete an experiment run\n",
    "new_run.complete()"
   ]
  },
  {
   "cell_type": "code",
   "execution_count": null,
   "metadata": {},
   "outputs": [],
   "source": []
  }
 ],
 "metadata": {
  "kernelspec": {
   "display_name": "Python 3",
   "language": "python",
   "name": "python3"
  },
  "language_info": {
   "codemirror_mode": {
    "name": "ipython",
    "version": 3
   },
   "file_extension": ".py",
   "mimetype": "text/x-python",
   "name": "python",
   "nbconvert_exporter": "python",
   "pygments_lexer": "ipython3",
   "version": "3.8.5"
  }
 },
 "nbformat": 4,
 "nbformat_minor": 4
}
