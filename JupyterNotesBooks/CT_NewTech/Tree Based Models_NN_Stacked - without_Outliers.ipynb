{
 "cells": [
  {
   "cell_type": "code",
   "execution_count": 1,
   "metadata": {},
   "outputs": [],
   "source": [
    "#Lets first import all the nessessary libraries \n",
    "\n",
    "import pandas as pd\n",
    "import numpy as np\n",
    "import matplotlib.pyplot as plt\n",
    "import seaborn as sns\n",
    "sns.set()\n",
    "\n",
    "import warnings\n",
    "warnings.filterwarnings(action=\"ignore\",category=FutureWarning)\n",
    "warnings.filterwarnings(action=\"ignore\",category=DeprecationWarning)\n",
    "\n",
    "pd.pandas.set_option(\"display.max_rows\",None)\n",
    "pd.pandas.set_option(\"display.max_columns\",None)"
   ]
  },
  {
   "cell_type": "code",
   "execution_count": 2,
   "metadata": {},
   "outputs": [],
   "source": [
    "#Lets read the data in\n",
    "df1=pd.read_csv (\"LT_Processed_without_Outliers.csv\")"
   ]
  },
  {
   "cell_type": "code",
   "execution_count": 3,
   "metadata": {},
   "outputs": [
    {
     "data": {
      "text/html": [
       "<div>\n",
       "<style scoped>\n",
       "    .dataframe tbody tr th:only-of-type {\n",
       "        vertical-align: middle;\n",
       "    }\n",
       "\n",
       "    .dataframe tbody tr th {\n",
       "        vertical-align: top;\n",
       "    }\n",
       "\n",
       "    .dataframe thead th {\n",
       "        text-align: right;\n",
       "    }\n",
       "</style>\n",
       "<table border=\"1\" class=\"dataframe\">\n",
       "  <thead>\n",
       "    <tr style=\"text-align: right;\">\n",
       "      <th></th>\n",
       "      <th>NewDCFlag</th>\n",
       "      <th>ColoReady At PlanReservationStart Flag</th>\n",
       "      <th>DeploymentSeverity</th>\n",
       "      <th>EngineeringGroup</th>\n",
       "      <th>PlanResourceTypeName</th>\n",
       "      <th>IsAddRack</th>\n",
       "      <th>IsFirstFootprint</th>\n",
       "      <th>IsNPI</th>\n",
       "      <th>PlanGEO</th>\n",
       "      <th>PlanIntentName</th>\n",
       "      <th>NumberOfRacks</th>\n",
       "      <th>NumberOfServers</th>\n",
       "      <th>PlanOrderPriorityName</th>\n",
       "      <th>PlanPropertyGroupName</th>\n",
       "      <th>Region</th>\n",
       "      <th>RegionGroup</th>\n",
       "      <th>RegionType</th>\n",
       "      <th>SKU Avaliable Flag</th>\n",
       "      <th>SKUCategoryName</th>\n",
       "      <th>CT Signal to LIve</th>\n",
       "      <th>CT Signal to Dock</th>\n",
       "    </tr>\n",
       "  </thead>\n",
       "  <tbody>\n",
       "    <tr>\n",
       "      <th>0</th>\n",
       "      <td>True</td>\n",
       "      <td>missing</td>\n",
       "      <td>5.0</td>\n",
       "      <td>Azure</td>\n",
       "      <td>Compute</td>\n",
       "      <td>missing</td>\n",
       "      <td>False</td>\n",
       "      <td>False</td>\n",
       "      <td>Asia Pacific</td>\n",
       "      <td>Growth</td>\n",
       "      <td>20.0</td>\n",
       "      <td>800.0</td>\n",
       "      <td>99-ZZ No Priority</td>\n",
       "      <td>Azure Compute APAC</td>\n",
       "      <td>Southeast Asia</td>\n",
       "      <td>Not Restricted</td>\n",
       "      <td>Hero</td>\n",
       "      <td>0</td>\n",
       "      <td>PreRack</td>\n",
       "      <td>124.0</td>\n",
       "      <td>31.0</td>\n",
       "    </tr>\n",
       "    <tr>\n",
       "      <th>1</th>\n",
       "      <td>False</td>\n",
       "      <td>missing</td>\n",
       "      <td>5.0</td>\n",
       "      <td>Azure</td>\n",
       "      <td>Storage</td>\n",
       "      <td>missing</td>\n",
       "      <td>False</td>\n",
       "      <td>False</td>\n",
       "      <td>Asia Pacific</td>\n",
       "      <td>Growth</td>\n",
       "      <td>20.0</td>\n",
       "      <td>280.0</td>\n",
       "      <td>99-ZZ No Priority</td>\n",
       "      <td>Azure Storage APAC</td>\n",
       "      <td>Southeast Asia</td>\n",
       "      <td>Not Restricted</td>\n",
       "      <td>Hero</td>\n",
       "      <td>0</td>\n",
       "      <td>PreRack</td>\n",
       "      <td>126.0</td>\n",
       "      <td>42.0</td>\n",
       "    </tr>\n",
       "    <tr>\n",
       "      <th>2</th>\n",
       "      <td>True</td>\n",
       "      <td>missing</td>\n",
       "      <td>5.0</td>\n",
       "      <td>Azure</td>\n",
       "      <td>Compute</td>\n",
       "      <td>missing</td>\n",
       "      <td>False</td>\n",
       "      <td>False</td>\n",
       "      <td>Europe</td>\n",
       "      <td>Growth</td>\n",
       "      <td>20.0</td>\n",
       "      <td>800.0</td>\n",
       "      <td>99-ZZ No Priority</td>\n",
       "      <td>Azure Compute EMEA</td>\n",
       "      <td>West Europe</td>\n",
       "      <td>Not Restricted</td>\n",
       "      <td>Hero</td>\n",
       "      <td>0</td>\n",
       "      <td>PreRack</td>\n",
       "      <td>198.0</td>\n",
       "      <td>31.0</td>\n",
       "    </tr>\n",
       "    <tr>\n",
       "      <th>3</th>\n",
       "      <td>False</td>\n",
       "      <td>missing</td>\n",
       "      <td>5.0</td>\n",
       "      <td>Azure</td>\n",
       "      <td>XIO Compute</td>\n",
       "      <td>missing</td>\n",
       "      <td>False</td>\n",
       "      <td>False</td>\n",
       "      <td>United States</td>\n",
       "      <td>Growth</td>\n",
       "      <td>20.0</td>\n",
       "      <td>880.0</td>\n",
       "      <td>99-ZZ No Priority</td>\n",
       "      <td>Azure Compute US</td>\n",
       "      <td>West US</td>\n",
       "      <td>Not Restricted</td>\n",
       "      <td>Hub</td>\n",
       "      <td>0</td>\n",
       "      <td>PreRack</td>\n",
       "      <td>207.0</td>\n",
       "      <td>49.0</td>\n",
       "    </tr>\n",
       "    <tr>\n",
       "      <th>4</th>\n",
       "      <td>True</td>\n",
       "      <td>missing</td>\n",
       "      <td>5.0</td>\n",
       "      <td>Azure</td>\n",
       "      <td>Compute</td>\n",
       "      <td>missing</td>\n",
       "      <td>False</td>\n",
       "      <td>False</td>\n",
       "      <td>Europe</td>\n",
       "      <td>Growth</td>\n",
       "      <td>20.0</td>\n",
       "      <td>800.0</td>\n",
       "      <td>99-ZZ No Priority</td>\n",
       "      <td>Azure Compute EMEA</td>\n",
       "      <td>North Europe</td>\n",
       "      <td>Not Restricted</td>\n",
       "      <td>Hero</td>\n",
       "      <td>0</td>\n",
       "      <td>PreRack</td>\n",
       "      <td>221.0</td>\n",
       "      <td>31.0</td>\n",
       "    </tr>\n",
       "  </tbody>\n",
       "</table>\n",
       "</div>"
      ],
      "text/plain": [
       "   NewDCFlag ColoReady At PlanReservationStart Flag  DeploymentSeverity  \\\n",
       "0       True                                missing                 5.0   \n",
       "1      False                                missing                 5.0   \n",
       "2       True                                missing                 5.0   \n",
       "3      False                                missing                 5.0   \n",
       "4       True                                missing                 5.0   \n",
       "\n",
       "  EngineeringGroup PlanResourceTypeName IsAddRack  IsFirstFootprint  IsNPI  \\\n",
       "0            Azure              Compute   missing             False  False   \n",
       "1            Azure              Storage   missing             False  False   \n",
       "2            Azure              Compute   missing             False  False   \n",
       "3            Azure          XIO Compute   missing             False  False   \n",
       "4            Azure              Compute   missing             False  False   \n",
       "\n",
       "         PlanGEO PlanIntentName  NumberOfRacks  NumberOfServers  \\\n",
       "0   Asia Pacific         Growth           20.0            800.0   \n",
       "1   Asia Pacific         Growth           20.0            280.0   \n",
       "2         Europe         Growth           20.0            800.0   \n",
       "3  United States         Growth           20.0            880.0   \n",
       "4         Europe         Growth           20.0            800.0   \n",
       "\n",
       "  PlanOrderPriorityName PlanPropertyGroupName          Region     RegionGroup  \\\n",
       "0     99-ZZ No Priority    Azure Compute APAC  Southeast Asia  Not Restricted   \n",
       "1     99-ZZ No Priority    Azure Storage APAC  Southeast Asia  Not Restricted   \n",
       "2     99-ZZ No Priority    Azure Compute EMEA     West Europe  Not Restricted   \n",
       "3     99-ZZ No Priority      Azure Compute US         West US  Not Restricted   \n",
       "4     99-ZZ No Priority    Azure Compute EMEA    North Europe  Not Restricted   \n",
       "\n",
       "  RegionType  SKU Avaliable Flag SKUCategoryName  CT Signal to LIve  \\\n",
       "0       Hero                   0         PreRack              124.0   \n",
       "1       Hero                   0         PreRack              126.0   \n",
       "2       Hero                   0         PreRack              198.0   \n",
       "3        Hub                   0         PreRack              207.0   \n",
       "4       Hero                   0         PreRack              221.0   \n",
       "\n",
       "   CT Signal to Dock  \n",
       "0               31.0  \n",
       "1               42.0  \n",
       "2               31.0  \n",
       "3               49.0  \n",
       "4               31.0  "
      ]
     },
     "execution_count": 3,
     "metadata": {},
     "output_type": "execute_result"
    }
   ],
   "source": [
    "df1.head()"
   ]
  },
  {
   "cell_type": "code",
   "execution_count": 13,
   "metadata": {},
   "outputs": [],
   "source": [
    "#As per the observations in EDA, we are going to drop-IsMainstream,ProjectCategory,NewRegionFlag, since it contains a single catogory\n",
    "#df1.drop([\"NewRegionFlag\",\"IsMainstream\",\"ProjectCategory\"],axis=1,inplace=True)"
   ]
  },
  {
   "cell_type": "code",
   "execution_count": 4,
   "metadata": {},
   "outputs": [],
   "source": [
    "#Since we already dealt with EDA and Feature Engineering, we will just check the summary\n",
    "#Fuction to see the summary of the data\n",
    "def summary_table(df):\n",
    "    print(f\"Dataset Shape: {df.shape}\")\n",
    "    #print(\"Total Columns in the Dataset:\", df1.columns.nunique())\n",
    "    summary = pd.DataFrame(df.dtypes,columns=['dtypes'])\n",
    "    summary = summary.reset_index()\n",
    "    summary['Name'] = summary['index']\n",
    "    summary = summary[['Name','dtypes']]\n",
    "    summary['Missing Values'] = df.isnull().sum().values\n",
    "    summary['Uniques Values'] = df.nunique().values\n",
    "  \n",
    "    return summary"
   ]
  },
  {
   "cell_type": "code",
   "execution_count": 5,
   "metadata": {},
   "outputs": [
    {
     "name": "stdout",
     "output_type": "stream",
     "text": [
      "Dataset Shape: (1070, 21)\n"
     ]
    },
    {
     "data": {
      "text/html": [
       "<div>\n",
       "<style scoped>\n",
       "    .dataframe tbody tr th:only-of-type {\n",
       "        vertical-align: middle;\n",
       "    }\n",
       "\n",
       "    .dataframe tbody tr th {\n",
       "        vertical-align: top;\n",
       "    }\n",
       "\n",
       "    .dataframe thead th {\n",
       "        text-align: right;\n",
       "    }\n",
       "</style>\n",
       "<table border=\"1\" class=\"dataframe\">\n",
       "  <thead>\n",
       "    <tr style=\"text-align: right;\">\n",
       "      <th></th>\n",
       "      <th>Name</th>\n",
       "      <th>dtypes</th>\n",
       "      <th>Missing Values</th>\n",
       "      <th>Uniques Values</th>\n",
       "    </tr>\n",
       "  </thead>\n",
       "  <tbody>\n",
       "    <tr>\n",
       "      <th>0</th>\n",
       "      <td>NewDCFlag</td>\n",
       "      <td>bool</td>\n",
       "      <td>0</td>\n",
       "      <td>2</td>\n",
       "    </tr>\n",
       "    <tr>\n",
       "      <th>1</th>\n",
       "      <td>ColoReady At PlanReservationStart Flag</td>\n",
       "      <td>object</td>\n",
       "      <td>0</td>\n",
       "      <td>3</td>\n",
       "    </tr>\n",
       "    <tr>\n",
       "      <th>2</th>\n",
       "      <td>DeploymentSeverity</td>\n",
       "      <td>float64</td>\n",
       "      <td>0</td>\n",
       "      <td>4</td>\n",
       "    </tr>\n",
       "    <tr>\n",
       "      <th>3</th>\n",
       "      <td>EngineeringGroup</td>\n",
       "      <td>object</td>\n",
       "      <td>0</td>\n",
       "      <td>6</td>\n",
       "    </tr>\n",
       "    <tr>\n",
       "      <th>4</th>\n",
       "      <td>PlanResourceTypeName</td>\n",
       "      <td>object</td>\n",
       "      <td>0</td>\n",
       "      <td>31</td>\n",
       "    </tr>\n",
       "    <tr>\n",
       "      <th>5</th>\n",
       "      <td>IsAddRack</td>\n",
       "      <td>object</td>\n",
       "      <td>0</td>\n",
       "      <td>3</td>\n",
       "    </tr>\n",
       "    <tr>\n",
       "      <th>6</th>\n",
       "      <td>IsFirstFootprint</td>\n",
       "      <td>bool</td>\n",
       "      <td>0</td>\n",
       "      <td>2</td>\n",
       "    </tr>\n",
       "    <tr>\n",
       "      <th>7</th>\n",
       "      <td>IsNPI</td>\n",
       "      <td>bool</td>\n",
       "      <td>0</td>\n",
       "      <td>2</td>\n",
       "    </tr>\n",
       "    <tr>\n",
       "      <th>8</th>\n",
       "      <td>PlanGEO</td>\n",
       "      <td>object</td>\n",
       "      <td>0</td>\n",
       "      <td>14</td>\n",
       "    </tr>\n",
       "    <tr>\n",
       "      <th>9</th>\n",
       "      <td>PlanIntentName</td>\n",
       "      <td>object</td>\n",
       "      <td>0</td>\n",
       "      <td>7</td>\n",
       "    </tr>\n",
       "    <tr>\n",
       "      <th>10</th>\n",
       "      <td>NumberOfRacks</td>\n",
       "      <td>float64</td>\n",
       "      <td>0</td>\n",
       "      <td>25</td>\n",
       "    </tr>\n",
       "    <tr>\n",
       "      <th>11</th>\n",
       "      <td>NumberOfServers</td>\n",
       "      <td>float64</td>\n",
       "      <td>0</td>\n",
       "      <td>118</td>\n",
       "    </tr>\n",
       "    <tr>\n",
       "      <th>12</th>\n",
       "      <td>PlanOrderPriorityName</td>\n",
       "      <td>object</td>\n",
       "      <td>0</td>\n",
       "      <td>4</td>\n",
       "    </tr>\n",
       "    <tr>\n",
       "      <th>13</th>\n",
       "      <td>PlanPropertyGroupName</td>\n",
       "      <td>object</td>\n",
       "      <td>0</td>\n",
       "      <td>19</td>\n",
       "    </tr>\n",
       "    <tr>\n",
       "      <th>14</th>\n",
       "      <td>Region</td>\n",
       "      <td>object</td>\n",
       "      <td>0</td>\n",
       "      <td>21</td>\n",
       "    </tr>\n",
       "    <tr>\n",
       "      <th>15</th>\n",
       "      <td>RegionGroup</td>\n",
       "      <td>object</td>\n",
       "      <td>0</td>\n",
       "      <td>3</td>\n",
       "    </tr>\n",
       "    <tr>\n",
       "      <th>16</th>\n",
       "      <td>RegionType</td>\n",
       "      <td>object</td>\n",
       "      <td>0</td>\n",
       "      <td>3</td>\n",
       "    </tr>\n",
       "    <tr>\n",
       "      <th>17</th>\n",
       "      <td>SKU Avaliable Flag</td>\n",
       "      <td>int64</td>\n",
       "      <td>0</td>\n",
       "      <td>2</td>\n",
       "    </tr>\n",
       "    <tr>\n",
       "      <th>18</th>\n",
       "      <td>SKUCategoryName</td>\n",
       "      <td>object</td>\n",
       "      <td>0</td>\n",
       "      <td>3</td>\n",
       "    </tr>\n",
       "    <tr>\n",
       "      <th>19</th>\n",
       "      <td>CT Signal to LIve</td>\n",
       "      <td>float64</td>\n",
       "      <td>0</td>\n",
       "      <td>274</td>\n",
       "    </tr>\n",
       "    <tr>\n",
       "      <th>20</th>\n",
       "      <td>CT Signal to Dock</td>\n",
       "      <td>float64</td>\n",
       "      <td>0</td>\n",
       "      <td>178</td>\n",
       "    </tr>\n",
       "  </tbody>\n",
       "</table>\n",
       "</div>"
      ],
      "text/plain": [
       "                                      Name   dtypes  Missing Values  \\\n",
       "0                                NewDCFlag     bool               0   \n",
       "1   ColoReady At PlanReservationStart Flag   object               0   \n",
       "2                       DeploymentSeverity  float64               0   \n",
       "3                         EngineeringGroup   object               0   \n",
       "4                     PlanResourceTypeName   object               0   \n",
       "5                                IsAddRack   object               0   \n",
       "6                         IsFirstFootprint     bool               0   \n",
       "7                                    IsNPI     bool               0   \n",
       "8                                  PlanGEO   object               0   \n",
       "9                           PlanIntentName   object               0   \n",
       "10                           NumberOfRacks  float64               0   \n",
       "11                         NumberOfServers  float64               0   \n",
       "12                   PlanOrderPriorityName   object               0   \n",
       "13                   PlanPropertyGroupName   object               0   \n",
       "14                                  Region   object               0   \n",
       "15                             RegionGroup   object               0   \n",
       "16                              RegionType   object               0   \n",
       "17                      SKU Avaliable Flag    int64               0   \n",
       "18                         SKUCategoryName   object               0   \n",
       "19                       CT Signal to LIve  float64               0   \n",
       "20                       CT Signal to Dock  float64               0   \n",
       "\n",
       "    Uniques Values  \n",
       "0                2  \n",
       "1                3  \n",
       "2                4  \n",
       "3                6  \n",
       "4               31  \n",
       "5                3  \n",
       "6                2  \n",
       "7                2  \n",
       "8               14  \n",
       "9                7  \n",
       "10              25  \n",
       "11             118  \n",
       "12               4  \n",
       "13              19  \n",
       "14              21  \n",
       "15               3  \n",
       "16               3  \n",
       "17               2  \n",
       "18               3  \n",
       "19             274  \n",
       "20             178  "
      ]
     },
     "execution_count": 5,
     "metadata": {},
     "output_type": "execute_result"
    }
   ],
   "source": [
    "summary_table(df1)"
   ]
  },
  {
   "cell_type": "code",
   "execution_count": 6,
   "metadata": {},
   "outputs": [],
   "source": [
    "#Lets fix the datatypes of each feature (Convert Bool type as Object type)\n",
    "bool_features_list= [feature for feature in df1.columns if df1[feature].dtype ==\"bool\"]\n",
    "bool_features_list\n",
    "\n",
    "df1[bool_features_list] = df1[bool_features_list].astype('object')"
   ]
  },
  {
   "cell_type": "code",
   "execution_count": 7,
   "metadata": {
    "scrolled": false
   },
   "outputs": [
    {
     "data": {
      "text/plain": [
       "['NewDCFlag',\n",
       " 'ColoReady At PlanReservationStart Flag',\n",
       " 'EngineeringGroup',\n",
       " 'PlanResourceTypeName',\n",
       " 'IsAddRack',\n",
       " 'IsFirstFootprint',\n",
       " 'IsNPI',\n",
       " 'PlanGEO',\n",
       " 'PlanIntentName',\n",
       " 'PlanOrderPriorityName',\n",
       " 'PlanPropertyGroupName',\n",
       " 'Region',\n",
       " 'RegionGroup',\n",
       " 'RegionType',\n",
       " 'SKUCategoryName',\n",
       " 'SKU Avaliable Flag',\n",
       " 'DeploymentSeverity']"
      ]
     },
     "execution_count": 7,
     "metadata": {},
     "output_type": "execute_result"
    }
   ],
   "source": [
    "categorical_features_list= [feature for feature in df1.columns if df1[feature].dtype ==\"object\"]\n",
    "aditional= ['SKU Avaliable Flag','DeploymentSeverity']\n",
    "categorical_features_list=categorical_features_list+ aditional\n",
    "categorical_features_list"
   ]
  },
  {
   "cell_type": "code",
   "execution_count": 8,
   "metadata": {},
   "outputs": [],
   "source": [
    "df1[categorical_features_list] = df1[categorical_features_list].astype('object')"
   ]
  },
  {
   "cell_type": "code",
   "execution_count": 20,
   "metadata": {},
   "outputs": [],
   "source": [
    "#Expect DeploymentSeverity feature, all other are nominal. Only DeploymentSeverity is Ordinal \n",
    "#So lets use Lable encoder for DeploymentSeverity\n",
    "\n",
    "#d = {'missing':5,'high':2, 'medium':3,'low':4 }\n",
    "#df1[\"DeploymentSeverity\"] = df1[\"DeploymentSeverity\"].replace(d)"
   ]
  },
  {
   "cell_type": "code",
   "execution_count": 9,
   "metadata": {},
   "outputs": [],
   "source": [
    "df2=df1.copy()"
   ]
  },
  {
   "cell_type": "code",
   "execution_count": 10,
   "metadata": {},
   "outputs": [
    {
     "data": {
      "text/html": [
       "<div>\n",
       "<style scoped>\n",
       "    .dataframe tbody tr th:only-of-type {\n",
       "        vertical-align: middle;\n",
       "    }\n",
       "\n",
       "    .dataframe tbody tr th {\n",
       "        vertical-align: top;\n",
       "    }\n",
       "\n",
       "    .dataframe thead th {\n",
       "        text-align: right;\n",
       "    }\n",
       "</style>\n",
       "<table border=\"1\" class=\"dataframe\">\n",
       "  <thead>\n",
       "    <tr style=\"text-align: right;\">\n",
       "      <th></th>\n",
       "      <th>NewDCFlag</th>\n",
       "      <th>ColoReady At PlanReservationStart Flag</th>\n",
       "      <th>DeploymentSeverity</th>\n",
       "      <th>EngineeringGroup</th>\n",
       "      <th>PlanResourceTypeName</th>\n",
       "      <th>IsAddRack</th>\n",
       "      <th>IsFirstFootprint</th>\n",
       "      <th>IsNPI</th>\n",
       "      <th>PlanGEO</th>\n",
       "      <th>PlanIntentName</th>\n",
       "      <th>NumberOfRacks</th>\n",
       "      <th>NumberOfServers</th>\n",
       "      <th>PlanOrderPriorityName</th>\n",
       "      <th>PlanPropertyGroupName</th>\n",
       "      <th>Region</th>\n",
       "      <th>RegionGroup</th>\n",
       "      <th>RegionType</th>\n",
       "      <th>SKU Avaliable Flag</th>\n",
       "      <th>SKUCategoryName</th>\n",
       "      <th>CT Signal to LIve</th>\n",
       "      <th>CT Signal to Dock</th>\n",
       "    </tr>\n",
       "  </thead>\n",
       "  <tbody>\n",
       "    <tr>\n",
       "      <th>1065</th>\n",
       "      <td>False</td>\n",
       "      <td>Yes</td>\n",
       "      <td>3</td>\n",
       "      <td>Azure</td>\n",
       "      <td>Rare_var</td>\n",
       "      <td>Yes</td>\n",
       "      <td>False</td>\n",
       "      <td>True</td>\n",
       "      <td>United States</td>\n",
       "      <td>Reservation</td>\n",
       "      <td>9.0</td>\n",
       "      <td>198.0</td>\n",
       "      <td>99-ZZ No Priority</td>\n",
       "      <td>Azure Compute US</td>\n",
       "      <td>Central US</td>\n",
       "      <td>Not Restricted</td>\n",
       "      <td>Hub</td>\n",
       "      <td>0</td>\n",
       "      <td>Rack</td>\n",
       "      <td>47.0</td>\n",
       "      <td>27.0</td>\n",
       "    </tr>\n",
       "    <tr>\n",
       "      <th>1066</th>\n",
       "      <td>False</td>\n",
       "      <td>Yes</td>\n",
       "      <td>4</td>\n",
       "      <td>Azure</td>\n",
       "      <td>M-Series</td>\n",
       "      <td>No</td>\n",
       "      <td>False</td>\n",
       "      <td>True</td>\n",
       "      <td>United States</td>\n",
       "      <td>Growth</td>\n",
       "      <td>10.0</td>\n",
       "      <td>110.0</td>\n",
       "      <td>21-S1 Strategic Initiative</td>\n",
       "      <td>Azure Compute US</td>\n",
       "      <td>East US 2</td>\n",
       "      <td>Not Restricted</td>\n",
       "      <td>Hero</td>\n",
       "      <td>1</td>\n",
       "      <td>Rack</td>\n",
       "      <td>64.0</td>\n",
       "      <td>58.0</td>\n",
       "    </tr>\n",
       "    <tr>\n",
       "      <th>1067</th>\n",
       "      <td>False</td>\n",
       "      <td>Yes</td>\n",
       "      <td>3</td>\n",
       "      <td>Azure</td>\n",
       "      <td>M-Series</td>\n",
       "      <td>No</td>\n",
       "      <td>False</td>\n",
       "      <td>True</td>\n",
       "      <td>JAPAN</td>\n",
       "      <td>Reservation</td>\n",
       "      <td>10.0</td>\n",
       "      <td>80.0</td>\n",
       "      <td>21-S1 Strategic Initiative</td>\n",
       "      <td>Azure Compute APAC</td>\n",
       "      <td>Japan East</td>\n",
       "      <td>Not Restricted</td>\n",
       "      <td>Hub</td>\n",
       "      <td>0</td>\n",
       "      <td>Rack</td>\n",
       "      <td>53.0</td>\n",
       "      <td>39.0</td>\n",
       "    </tr>\n",
       "    <tr>\n",
       "      <th>1068</th>\n",
       "      <td>False</td>\n",
       "      <td>missing</td>\n",
       "      <td>4</td>\n",
       "      <td>Azure</td>\n",
       "      <td>M-Series</td>\n",
       "      <td>No</td>\n",
       "      <td>False</td>\n",
       "      <td>True</td>\n",
       "      <td>Asia Pacific</td>\n",
       "      <td>Growth</td>\n",
       "      <td>10.0</td>\n",
       "      <td>110.0</td>\n",
       "      <td>21-S1 Strategic Initiative</td>\n",
       "      <td>Azure Compute APAC</td>\n",
       "      <td>Southeast Asia</td>\n",
       "      <td>Not Restricted</td>\n",
       "      <td>Hero</td>\n",
       "      <td>1</td>\n",
       "      <td>Rack</td>\n",
       "      <td>79.0</td>\n",
       "      <td>71.0</td>\n",
       "    </tr>\n",
       "    <tr>\n",
       "      <th>1069</th>\n",
       "      <td>False</td>\n",
       "      <td>Yes</td>\n",
       "      <td>3</td>\n",
       "      <td>Azure</td>\n",
       "      <td>M-Series</td>\n",
       "      <td>No</td>\n",
       "      <td>False</td>\n",
       "      <td>True</td>\n",
       "      <td>United States</td>\n",
       "      <td>Growth</td>\n",
       "      <td>10.0</td>\n",
       "      <td>110.0</td>\n",
       "      <td>Rare_var</td>\n",
       "      <td>Azure Compute US</td>\n",
       "      <td>West US 2</td>\n",
       "      <td>Not Restricted</td>\n",
       "      <td>Hero</td>\n",
       "      <td>1</td>\n",
       "      <td>Rack</td>\n",
       "      <td>57.0</td>\n",
       "      <td>48.0</td>\n",
       "    </tr>\n",
       "  </tbody>\n",
       "</table>\n",
       "</div>"
      ],
      "text/plain": [
       "     NewDCFlag ColoReady At PlanReservationStart Flag DeploymentSeverity  \\\n",
       "1065     False                                    Yes                  3   \n",
       "1066     False                                    Yes                  4   \n",
       "1067     False                                    Yes                  3   \n",
       "1068     False                                missing                  4   \n",
       "1069     False                                    Yes                  3   \n",
       "\n",
       "     EngineeringGroup PlanResourceTypeName IsAddRack IsFirstFootprint IsNPI  \\\n",
       "1065            Azure             Rare_var       Yes            False  True   \n",
       "1066            Azure             M-Series        No            False  True   \n",
       "1067            Azure             M-Series        No            False  True   \n",
       "1068            Azure             M-Series        No            False  True   \n",
       "1069            Azure             M-Series        No            False  True   \n",
       "\n",
       "            PlanGEO PlanIntentName  NumberOfRacks  NumberOfServers  \\\n",
       "1065  United States    Reservation            9.0            198.0   \n",
       "1066  United States         Growth           10.0            110.0   \n",
       "1067          JAPAN    Reservation           10.0             80.0   \n",
       "1068   Asia Pacific         Growth           10.0            110.0   \n",
       "1069  United States         Growth           10.0            110.0   \n",
       "\n",
       "           PlanOrderPriorityName PlanPropertyGroupName          Region  \\\n",
       "1065           99-ZZ No Priority      Azure Compute US      Central US   \n",
       "1066  21-S1 Strategic Initiative      Azure Compute US       East US 2   \n",
       "1067  21-S1 Strategic Initiative    Azure Compute APAC      Japan East   \n",
       "1068  21-S1 Strategic Initiative    Azure Compute APAC  Southeast Asia   \n",
       "1069                    Rare_var      Azure Compute US       West US 2   \n",
       "\n",
       "         RegionGroup RegionType SKU Avaliable Flag SKUCategoryName  \\\n",
       "1065  Not Restricted        Hub                  0            Rack   \n",
       "1066  Not Restricted       Hero                  1            Rack   \n",
       "1067  Not Restricted        Hub                  0            Rack   \n",
       "1068  Not Restricted       Hero                  1            Rack   \n",
       "1069  Not Restricted       Hero                  1            Rack   \n",
       "\n",
       "      CT Signal to LIve  CT Signal to Dock  \n",
       "1065               47.0               27.0  \n",
       "1066               64.0               58.0  \n",
       "1067               53.0               39.0  \n",
       "1068               79.0               71.0  \n",
       "1069               57.0               48.0  "
      ]
     },
     "execution_count": 10,
     "metadata": {},
     "output_type": "execute_result"
    }
   ],
   "source": [
    "df2.tail()"
   ]
  },
  {
   "cell_type": "code",
   "execution_count": 11,
   "metadata": {},
   "outputs": [],
   "source": [
    "#Lest label encode the catogorical variables\n",
    "from sklearn.preprocessing import LabelEncoder\n",
    "le=LabelEncoder()\n",
    "label_list=['NewDCFlag',\n",
    " 'ColoReady At PlanReservationStart Flag',\n",
    " 'EngineeringGroup',\n",
    " 'PlanResourceTypeName',\n",
    " 'IsAddRack',\n",
    " 'IsFirstFootprint',\n",
    " 'IsNPI',\n",
    " 'PlanGEO',\n",
    " 'PlanIntentName',\n",
    " 'PlanOrderPriorityName',\n",
    " 'PlanPropertyGroupName',\n",
    " 'Region',\n",
    " 'RegionGroup',\n",
    " 'RegionType',\n",
    " 'SKU Avaliable Flag',\n",
    " 'SKUCategoryName']\n",
    "df2[label_list]=df2[label_list].apply(le.fit_transform)"
   ]
  },
  {
   "cell_type": "code",
   "execution_count": 12,
   "metadata": {},
   "outputs": [
    {
     "data": {
      "text/html": [
       "<div>\n",
       "<style scoped>\n",
       "    .dataframe tbody tr th:only-of-type {\n",
       "        vertical-align: middle;\n",
       "    }\n",
       "\n",
       "    .dataframe tbody tr th {\n",
       "        vertical-align: top;\n",
       "    }\n",
       "\n",
       "    .dataframe thead th {\n",
       "        text-align: right;\n",
       "    }\n",
       "</style>\n",
       "<table border=\"1\" class=\"dataframe\">\n",
       "  <thead>\n",
       "    <tr style=\"text-align: right;\">\n",
       "      <th></th>\n",
       "      <th>NewDCFlag</th>\n",
       "      <th>ColoReady At PlanReservationStart Flag</th>\n",
       "      <th>DeploymentSeverity</th>\n",
       "      <th>EngineeringGroup</th>\n",
       "      <th>PlanResourceTypeName</th>\n",
       "      <th>IsAddRack</th>\n",
       "      <th>IsFirstFootprint</th>\n",
       "      <th>IsNPI</th>\n",
       "      <th>PlanGEO</th>\n",
       "      <th>PlanIntentName</th>\n",
       "      <th>NumberOfRacks</th>\n",
       "      <th>NumberOfServers</th>\n",
       "      <th>PlanOrderPriorityName</th>\n",
       "      <th>PlanPropertyGroupName</th>\n",
       "      <th>Region</th>\n",
       "      <th>RegionGroup</th>\n",
       "      <th>RegionType</th>\n",
       "      <th>SKU Avaliable Flag</th>\n",
       "      <th>SKUCategoryName</th>\n",
       "      <th>CT Signal to LIve</th>\n",
       "      <th>CT Signal to Dock</th>\n",
       "    </tr>\n",
       "  </thead>\n",
       "  <tbody>\n",
       "    <tr>\n",
       "      <th>0</th>\n",
       "      <td>1</td>\n",
       "      <td>2</td>\n",
       "      <td>5</td>\n",
       "      <td>0</td>\n",
       "      <td>7</td>\n",
       "      <td>2</td>\n",
       "      <td>0</td>\n",
       "      <td>0</td>\n",
       "      <td>1</td>\n",
       "      <td>1</td>\n",
       "      <td>20.0</td>\n",
       "      <td>800.0</td>\n",
       "      <td>2</td>\n",
       "      <td>2</td>\n",
       "      <td>13</td>\n",
       "      <td>0</td>\n",
       "      <td>0</td>\n",
       "      <td>0</td>\n",
       "      <td>0</td>\n",
       "      <td>124.0</td>\n",
       "      <td>31.0</td>\n",
       "    </tr>\n",
       "    <tr>\n",
       "      <th>1</th>\n",
       "      <td>0</td>\n",
       "      <td>2</td>\n",
       "      <td>5</td>\n",
       "      <td>0</td>\n",
       "      <td>24</td>\n",
       "      <td>2</td>\n",
       "      <td>0</td>\n",
       "      <td>0</td>\n",
       "      <td>1</td>\n",
       "      <td>1</td>\n",
       "      <td>20.0</td>\n",
       "      <td>280.0</td>\n",
       "      <td>2</td>\n",
       "      <td>8</td>\n",
       "      <td>13</td>\n",
       "      <td>0</td>\n",
       "      <td>0</td>\n",
       "      <td>0</td>\n",
       "      <td>0</td>\n",
       "      <td>126.0</td>\n",
       "      <td>42.0</td>\n",
       "    </tr>\n",
       "    <tr>\n",
       "      <th>2</th>\n",
       "      <td>1</td>\n",
       "      <td>2</td>\n",
       "      <td>5</td>\n",
       "      <td>0</td>\n",
       "      <td>7</td>\n",
       "      <td>2</td>\n",
       "      <td>0</td>\n",
       "      <td>0</td>\n",
       "      <td>5</td>\n",
       "      <td>1</td>\n",
       "      <td>20.0</td>\n",
       "      <td>800.0</td>\n",
       "      <td>2</td>\n",
       "      <td>3</td>\n",
       "      <td>18</td>\n",
       "      <td>0</td>\n",
       "      <td>0</td>\n",
       "      <td>0</td>\n",
       "      <td>0</td>\n",
       "      <td>198.0</td>\n",
       "      <td>31.0</td>\n",
       "    </tr>\n",
       "    <tr>\n",
       "      <th>3</th>\n",
       "      <td>0</td>\n",
       "      <td>2</td>\n",
       "      <td>5</td>\n",
       "      <td>0</td>\n",
       "      <td>26</td>\n",
       "      <td>2</td>\n",
       "      <td>0</td>\n",
       "      <td>0</td>\n",
       "      <td>13</td>\n",
       "      <td>1</td>\n",
       "      <td>20.0</td>\n",
       "      <td>880.0</td>\n",
       "      <td>2</td>\n",
       "      <td>4</td>\n",
       "      <td>19</td>\n",
       "      <td>0</td>\n",
       "      <td>1</td>\n",
       "      <td>0</td>\n",
       "      <td>0</td>\n",
       "      <td>207.0</td>\n",
       "      <td>49.0</td>\n",
       "    </tr>\n",
       "    <tr>\n",
       "      <th>4</th>\n",
       "      <td>1</td>\n",
       "      <td>2</td>\n",
       "      <td>5</td>\n",
       "      <td>0</td>\n",
       "      <td>7</td>\n",
       "      <td>2</td>\n",
       "      <td>0</td>\n",
       "      <td>0</td>\n",
       "      <td>5</td>\n",
       "      <td>1</td>\n",
       "      <td>20.0</td>\n",
       "      <td>800.0</td>\n",
       "      <td>2</td>\n",
       "      <td>3</td>\n",
       "      <td>10</td>\n",
       "      <td>0</td>\n",
       "      <td>0</td>\n",
       "      <td>0</td>\n",
       "      <td>0</td>\n",
       "      <td>221.0</td>\n",
       "      <td>31.0</td>\n",
       "    </tr>\n",
       "  </tbody>\n",
       "</table>\n",
       "</div>"
      ],
      "text/plain": [
       "   NewDCFlag  ColoReady At PlanReservationStart Flag DeploymentSeverity  \\\n",
       "0          1                                       2                  5   \n",
       "1          0                                       2                  5   \n",
       "2          1                                       2                  5   \n",
       "3          0                                       2                  5   \n",
       "4          1                                       2                  5   \n",
       "\n",
       "   EngineeringGroup  PlanResourceTypeName  IsAddRack  IsFirstFootprint  IsNPI  \\\n",
       "0                 0                     7          2                 0      0   \n",
       "1                 0                    24          2                 0      0   \n",
       "2                 0                     7          2                 0      0   \n",
       "3                 0                    26          2                 0      0   \n",
       "4                 0                     7          2                 0      0   \n",
       "\n",
       "   PlanGEO  PlanIntentName  NumberOfRacks  NumberOfServers  \\\n",
       "0        1               1           20.0            800.0   \n",
       "1        1               1           20.0            280.0   \n",
       "2        5               1           20.0            800.0   \n",
       "3       13               1           20.0            880.0   \n",
       "4        5               1           20.0            800.0   \n",
       "\n",
       "   PlanOrderPriorityName  PlanPropertyGroupName  Region  RegionGroup  \\\n",
       "0                      2                      2      13            0   \n",
       "1                      2                      8      13            0   \n",
       "2                      2                      3      18            0   \n",
       "3                      2                      4      19            0   \n",
       "4                      2                      3      10            0   \n",
       "\n",
       "   RegionType  SKU Avaliable Flag  SKUCategoryName  CT Signal to LIve  \\\n",
       "0           0                   0                0              124.0   \n",
       "1           0                   0                0              126.0   \n",
       "2           0                   0                0              198.0   \n",
       "3           1                   0                0              207.0   \n",
       "4           0                   0                0              221.0   \n",
       "\n",
       "   CT Signal to Dock  \n",
       "0               31.0  \n",
       "1               42.0  \n",
       "2               31.0  \n",
       "3               49.0  \n",
       "4               31.0  "
      ]
     },
     "execution_count": 12,
     "metadata": {},
     "output_type": "execute_result"
    }
   ],
   "source": [
    "df2.head()"
   ]
  },
  {
   "cell_type": "code",
   "execution_count": 13,
   "metadata": {},
   "outputs": [],
   "source": [
    "#lets define our predictors and outcome (Target)\n",
    "x=df2.drop([\"CT Signal to LIve\",\"CT Signal to Dock\"],axis=1)\n",
    "y=df2[\"CT Signal to LIve\"]"
   ]
  },
  {
   "cell_type": "code",
   "execution_count": 14,
   "metadata": {},
   "outputs": [
    {
     "data": {
      "text/plain": [
       "ExtraTreesRegressor(bootstrap=False, ccp_alpha=0.0, criterion='mse',\n",
       "                    max_depth=None, max_features='auto', max_leaf_nodes=None,\n",
       "                    max_samples=None, min_impurity_decrease=0.0,\n",
       "                    min_impurity_split=None, min_samples_leaf=1,\n",
       "                    min_samples_split=2, min_weight_fraction_leaf=0.0,\n",
       "                    n_estimators=100, n_jobs=None, oob_score=False,\n",
       "                    random_state=None, verbose=0, warm_start=False)"
      ]
     },
     "execution_count": 14,
     "metadata": {},
     "output_type": "execute_result"
    }
   ],
   "source": [
    "# Important feature using ExtraTreesRegressor\n",
    "from sklearn.ensemble import ExtraTreesRegressor\n",
    "selection = ExtraTreesRegressor()\n",
    "selection.fit(x, y)"
   ]
  },
  {
   "cell_type": "code",
   "execution_count": 15,
   "metadata": {},
   "outputs": [
    {
     "data": {
      "image/png": "[encoded data removed]",
      "text/plain": [
       "<Figure size 864x576 with 1 Axes>"
      ]
     },
     "metadata": {},
     "output_type": "display_data"
    }
   ],
   "source": [
    "#plot graph of feature importances for better visualization\n",
    "plt.figure(figsize = (12,8))\n",
    "feat_importances = pd.Series(selection.feature_importances_, index=x.columns)\n",
    "feat_importances.nlargest(20).plot(kind='barh')\n",
    "plt.show()"
   ]
  },
  {
   "cell_type": "code",
   "execution_count": 16,
   "metadata": {},
   "outputs": [],
   "source": [
    "#Lets split our data into training and testing sets. random_state is the seed used by the random number generator. It can be any integer.\n",
    "from sklearn.model_selection import train_test_split\n",
    "x_train,x_test,y_train,y_test=train_test_split(x,y,test_size=0.25,random_state=100)"
   ]
  },
  {
   "cell_type": "code",
   "execution_count": 17,
   "metadata": {},
   "outputs": [],
   "source": [
    "#lest import RFR\n",
    "from sklearn.ensemble import RandomForestRegressor\n",
    "RFR=RandomForestRegressor(n_estimators=300) #lets keep all the parmeters to default as of now"
   ]
  },
  {
   "cell_type": "code",
   "execution_count": 18,
   "metadata": {},
   "outputs": [
    {
     "data": {
      "text/plain": [
       "RandomForestRegressor(bootstrap=True, ccp_alpha=0.0, criterion='mse',\n",
       "                      max_depth=None, max_features='auto', max_leaf_nodes=None,\n",
       "                      max_samples=None, min_impurity_decrease=0.0,\n",
       "                      min_impurity_split=None, min_samples_leaf=1,\n",
       "                      min_samples_split=2, min_weight_fraction_leaf=0.0,\n",
       "                      n_estimators=300, n_jobs=None, oob_score=False,\n",
       "                      random_state=None, verbose=0, warm_start=False)"
      ]
     },
     "execution_count": 18,
     "metadata": {},
     "output_type": "execute_result"
    }
   ],
   "source": [
    "RFR.fit(x_train,y_train)"
   ]
  },
  {
   "cell_type": "code",
   "execution_count": 19,
   "metadata": {},
   "outputs": [],
   "source": [
    "#Predictions \n",
    "pred=RFR.predict(x_test)"
   ]
  },
  {
   "cell_type": "code",
   "execution_count": 20,
   "metadata": {},
   "outputs": [],
   "source": [
    "# Lets evaluate our results (compairing y_test with the pred)\n",
    "from sklearn.metrics import mean_absolute_error,mean_squared_error, r2_score"
   ]
  },
  {
   "cell_type": "code",
   "execution_count": 21,
   "metadata": {},
   "outputs": [],
   "source": [
    "#Error calculation\n",
    "RMSE = np.sqrt(mean_squared_error(y_test, pred))\n",
    "MAE = mean_absolute_error(y_test, pred)\n",
    "r_squre= r2_score(y_test, pred)"
   ]
  },
  {
   "cell_type": "code",
   "execution_count": 22,
   "metadata": {},
   "outputs": [
    {
     "name": "stdout",
     "output_type": "stream",
     "text": [
      "RMSE : 53.09870486080974\n",
      "MAE: 37.49112372536252\n",
      "r_square: 0.5467577200511442\n"
     ]
    }
   ],
   "source": [
    "print('RMSE :',RMSE) \n",
    "print('MAE:', MAE)\n",
    "print(\"r_square:\",r_squre)"
   ]
  },
  {
   "cell_type": "code",
   "execution_count": 23,
   "metadata": {},
   "outputs": [
    {
     "name": "stdout",
     "output_type": "stream",
     "text": [
      "('NewDCFlag', 0.019776659637383138)\n",
      "('ColoReady At PlanReservationStart Flag', 0.03407773572242861)\n",
      "('DeploymentSeverity', 0.10399213247765311)\n",
      "('EngineeringGroup', 0.06014213852849598)\n",
      "('PlanResourceTypeName', 0.12030916514700735)\n",
      "('IsAddRack', 0.012258427863580406)\n",
      "('IsFirstFootprint', 0.003147720115612923)\n",
      "('IsNPI', 0.026018011969471764)\n",
      "('PlanGEO', 0.044694719848314336)\n",
      "('PlanIntentName', 0.037363119531500844)\n",
      "('NumberOfRacks', 0.037129181019744696)\n",
      "('NumberOfServers', 0.19134705474153427)\n",
      "('PlanOrderPriorityName', 0.009669392774463558)\n",
      "('PlanPropertyGroupName', 0.08109946940145071)\n",
      "('Region', 0.09219614210223884)\n",
      "('RegionGroup', 0.004652827028472126)\n",
      "('RegionType', 0.021440543702717356)\n",
      "('SKU Avaliable Flag', 0.01780425805951279)\n",
      "('SKUCategoryName', 0.08288130032841723)\n"
     ]
    }
   ],
   "source": [
    "#Lets Check the Feaure Importance \n",
    "importances=RFR.feature_importances_\n",
    "\n",
    "for feature in zip (x.columns, importances):\n",
    "    print (feature)"
   ]
  },
  {
   "cell_type": "code",
   "execution_count": 24,
   "metadata": {},
   "outputs": [
    {
     "data": {
      "image/png": "[encoded data removed]",
      "text/plain": [
       "<Figure size 864x432 with 1 Axes>"
      ]
     },
     "metadata": {},
     "output_type": "display_data"
    }
   ],
   "source": [
    "# Sort feature importances in descending order\n",
    "indices = np.argsort(importances)[::-1]\n",
    "\n",
    "# Rearrange feature names so they match the sorted feature importances\n",
    "names = [x.columns[i] for i in indices]\n",
    "\n",
    "# Create plot\n",
    "plt.figure(figsize=(12,6))\n",
    "\n",
    "# Create plot title\n",
    "plt.title(\"Feature Importance\")\n",
    "\n",
    "# Add bars\n",
    "plt.bar(range(x.shape[1]), importances[indices])\n",
    "\n",
    "# Add feature names as x-axis labels\n",
    "plt.xticks(range(x.shape[1]), names, rotation=90)\n",
    "\n",
    "# Show plot\n",
    "plt.show()"
   ]
  },
  {
   "cell_type": "code",
   "execution_count": 137,
   "metadata": {
    "scrolled": false
   },
   "outputs": [
    {
     "name": "stdout",
     "output_type": "stream",
     "text": [
      "Fitting 3 folds for each of 40 candidates, totalling 120 fits\n"
     ]
    },
    {
     "name": "stderr",
     "output_type": "stream",
     "text": [
      "[Parallel(n_jobs=-1)]: Using backend LokyBackend with 4 concurrent workers.\n",
      "[Parallel(n_jobs=-1)]: Done  42 tasks      | elapsed:   30.0s\n",
      "[Parallel(n_jobs=-1)]: Done 120 out of 120 | elapsed:  1.3min finished\n"
     ]
    },
    {
     "data": {
      "text/plain": [
       "GridSearchCV(cv=3, error_score=nan,\n",
       "             estimator=RandomForestRegressor(bootstrap=True, ccp_alpha=0.0,\n",
       "                                             criterion='mse', max_depth=None,\n",
       "                                             max_features='auto',\n",
       "                                             max_leaf_nodes=None,\n",
       "                                             max_samples=None,\n",
       "                                             min_impurity_decrease=0.0,\n",
       "                                             min_impurity_split=None,\n",
       "                                             min_samples_leaf=1,\n",
       "                                             min_samples_split=2,\n",
       "                                             min_weight_fraction_leaf=0.0,\n",
       "                                             n_estimators=100, n_jobs=None,\n",
       "                                             oob_score=False, random_state=None,\n",
       "                                             verbose=0, warm_start=False),\n",
       "             iid='deprecated', n_jobs=-1,\n",
       "             param_grid={'max_depth': [2, 3, 4, 5, 6, 7, 8, None],\n",
       "                         'n_estimators': [100, 200, 300, 400, 500]},\n",
       "             pre_dispatch='2*n_jobs', refit=True, return_train_score=False,\n",
       "             scoring=None, verbose=1)"
      ]
     },
     "execution_count": 137,
     "metadata": {},
     "output_type": "execute_result"
    }
   ],
   "source": [
    "#Lets do hyperparameter tunning \n",
    "\n",
    "from sklearn.model_selection import GridSearchCV\n",
    "\n",
    "rfr = RandomForestRegressor()\n",
    "parameters = {\n",
    "    'n_estimators': [100,200,300,400,500],\n",
    "    'max_depth' : [2,3,4,5,6,7,8,None]\n",
    "}\n",
    "\n",
    "cv = GridSearchCV(rfr, parameters, cv=3, n_jobs = -1,verbose = 1)\n",
    "cv.fit(x, y)"
   ]
  },
  {
   "cell_type": "code",
   "execution_count": 138,
   "metadata": {},
   "outputs": [
    {
     "data": {
      "text/plain": [
       "{'max_depth': 3, 'n_estimators': 300}"
      ]
     },
     "execution_count": 138,
     "metadata": {},
     "output_type": "execute_result"
    }
   ],
   "source": [
    "cv.best_params_"
   ]
  },
  {
   "cell_type": "code",
   "execution_count": 139,
   "metadata": {},
   "outputs": [],
   "source": [
    "#GridSearch Predictions\n",
    "pred=cv.predict(x_test)"
   ]
  },
  {
   "cell_type": "code",
   "execution_count": 141,
   "metadata": {},
   "outputs": [
    {
     "name": "stdout",
     "output_type": "stream",
     "text": [
      "RMSE : 63.310373586596334\n",
      "MAE: 47.98473255343712\n",
      "r_square: 0.355664126424477\n"
     ]
    }
   ],
   "source": [
    "print('RMSE :',RMSE) \n",
    "print('MAE:', MAE)\n",
    "print(\"r_square:\",r_squre)"
   ]
  },
  {
   "cell_type": "markdown",
   "metadata": {},
   "source": [
    "# Gradient Boosting"
   ]
  },
  {
   "cell_type": "code",
   "execution_count": 25,
   "metadata": {},
   "outputs": [],
   "source": [
    "# Initialize and fit regressor\n",
    "from sklearn.ensemble import GradientBoostingRegressor\n",
    "gbr=GradientBoostingRegressor(loss='lad',max_depth=8,n_estimators=200)"
   ]
  },
  {
   "cell_type": "code",
   "execution_count": 26,
   "metadata": {},
   "outputs": [
    {
     "data": {
      "text/plain": [
       "GradientBoostingRegressor(alpha=0.9, ccp_alpha=0.0, criterion='friedman_mse',\n",
       "                          init=None, learning_rate=0.1, loss='lad', max_depth=8,\n",
       "                          max_features=None, max_leaf_nodes=None,\n",
       "                          min_impurity_decrease=0.0, min_impurity_split=None,\n",
       "                          min_samples_leaf=1, min_samples_split=2,\n",
       "                          min_weight_fraction_leaf=0.0, n_estimators=200,\n",
       "                          n_iter_no_change=None, presort='deprecated',\n",
       "                          random_state=None, subsample=1.0, tol=0.0001,\n",
       "                          validation_fraction=0.1, verbose=0, warm_start=False)"
      ]
     },
     "execution_count": 26,
     "metadata": {},
     "output_type": "execute_result"
    }
   ],
   "source": [
    "gbr.fit(x_train,y_train)"
   ]
  },
  {
   "cell_type": "code",
   "execution_count": 27,
   "metadata": {},
   "outputs": [],
   "source": [
    "#Predictions\n",
    "pred=gbr.predict(x_test)"
   ]
  },
  {
   "cell_type": "code",
   "execution_count": 70,
   "metadata": {},
   "outputs": [],
   "source": [
    "G_pred=pd.DataFrame(pred)#For stack model"
   ]
  },
  {
   "cell_type": "code",
   "execution_count": 28,
   "metadata": {},
   "outputs": [],
   "source": [
    "#Error calculation\n",
    "RMSE = np.sqrt(mean_squared_error(y_test, pred))\n",
    "MAE = mean_absolute_error(y_test, pred)\n",
    "r_squre= r2_score(y_test, pred)"
   ]
  },
  {
   "cell_type": "code",
   "execution_count": 29,
   "metadata": {},
   "outputs": [
    {
     "name": "stdout",
     "output_type": "stream",
     "text": [
      "RMSE : 57.77610548637707\n",
      "MAE: 38.27808459062592\n",
      "r_square: 0.4633895980639202\n"
     ]
    }
   ],
   "source": [
    "print('RMSE :',RMSE) \n",
    "print('MAE:', MAE)\n",
    "print(\"r_square:\",r_squre)"
   ]
  },
  {
   "cell_type": "code",
   "execution_count": 158,
   "metadata": {},
   "outputs": [
    {
     "name": "stdout",
     "output_type": "stream",
     "text": [
      "Fitting 3 folds for each of 48 candidates, totalling 144 fits\n"
     ]
    },
    {
     "name": "stderr",
     "output_type": "stream",
     "text": [
      "[Parallel(n_jobs=-1)]: Using backend LokyBackend with 4 concurrent workers.\n",
      "[Parallel(n_jobs=-1)]: Done  42 tasks      | elapsed:   11.7s\n",
      "[Parallel(n_jobs=-1)]: Done 144 out of 144 | elapsed:  2.0min finished\n"
     ]
    },
    {
     "data": {
      "text/plain": [
       "GridSearchCV(cv=3, error_score=nan,\n",
       "             estimator=GradientBoostingRegressor(alpha=0.9, ccp_alpha=0.0,\n",
       "                                                 criterion='friedman_mse',\n",
       "                                                 init=None, learning_rate=0.1,\n",
       "                                                 loss='ls', max_depth=3,\n",
       "                                                 max_features=None,\n",
       "                                                 max_leaf_nodes=None,\n",
       "                                                 min_impurity_decrease=0.0,\n",
       "                                                 min_impurity_split=None,\n",
       "                                                 min_samples_leaf=1,\n",
       "                                                 min_samples_split=2,\n",
       "                                                 min_weight_fraction_leaf=0.0,\n",
       "                                                 n_estimators=100,\n",
       "                                                 n_iter_no_change=None,\n",
       "                                                 presort='deprecated',\n",
       "                                                 random_state=None,\n",
       "                                                 subsample=1.0, tol=0.0001,\n",
       "                                                 validation_fraction=0.1,\n",
       "                                                 verbose=0, warm_start=False),\n",
       "             iid='deprecated', n_jobs=-1,\n",
       "             param_grid={'criterion': ['mse', 'friedman_mse'],\n",
       "                         'loss': ['ls', 'lad', 'huber'],\n",
       "                         'max_depth': [2, 3, 4, 5, 6, 7, 8, None]},\n",
       "             pre_dispatch='2*n_jobs', refit=True, return_train_score=False,\n",
       "             scoring=None, verbose=1)"
      ]
     },
     "execution_count": 158,
     "metadata": {},
     "output_type": "execute_result"
    }
   ],
   "source": [
    "#Lets do hyperparameter tunning \n",
    "\n",
    "from sklearn.model_selection import GridSearchCV\n",
    "\n",
    "rfr = GradientBoostingRegressor()\n",
    "parameters = {\n",
    "                #'n_estimators': [100,200,300],\n",
    "                'criterion' : ['mse','friedman_mse'],\n",
    "                'max_depth' : [2,3,4,5,6,7,8,None],\n",
    "                'loss' : ['ls', 'lad', 'huber']\n",
    "}\n",
    "\n",
    "cv = GridSearchCV(rfr, parameters, cv=3, n_jobs = -1,verbose = 1)\n",
    "cv.fit(x_train, y_train)"
   ]
  },
  {
   "cell_type": "code",
   "execution_count": 159,
   "metadata": {
    "scrolled": true
   },
   "outputs": [
    {
     "data": {
      "text/plain": [
       "{'criterion': 'friedman_mse', 'loss': 'lad', 'max_depth': 8}"
      ]
     },
     "execution_count": 159,
     "metadata": {},
     "output_type": "execute_result"
    }
   ],
   "source": [
    "cv.best_params_"
   ]
  },
  {
   "cell_type": "code",
   "execution_count": 75,
   "metadata": {},
   "outputs": [],
   "source": [
    "#GridSearch Predictions \n",
    "pred=cv.predict(x_test)"
   ]
  },
  {
   "cell_type": "code",
   "execution_count": 76,
   "metadata": {
    "scrolled": false
   },
   "outputs": [
    {
     "name": "stdout",
     "output_type": "stream",
     "text": [
      "RMSE : 60.192658730004176\n",
      "MAE: 43.021765285373235\n",
      "r_square: 0.39307409678391503\n"
     ]
    }
   ],
   "source": [
    "#Results \n",
    "print('RMSE :',RMSE) \n",
    "print('MAE:', MAE)\n",
    "print(\"r_square:\",r_squre)"
   ]
  },
  {
   "cell_type": "markdown",
   "metadata": {},
   "source": [
    "# AdaBoost"
   ]
  },
  {
   "cell_type": "code",
   "execution_count": 30,
   "metadata": {},
   "outputs": [],
   "source": [
    "from sklearn.ensemble import AdaBoostRegressor\n",
    "abr= AdaBoostRegressor()"
   ]
  },
  {
   "cell_type": "code",
   "execution_count": 31,
   "metadata": {
    "scrolled": true
   },
   "outputs": [
    {
     "data": {
      "text/plain": [
       "AdaBoostRegressor(base_estimator=None, learning_rate=1.0, loss='linear',\n",
       "                  n_estimators=50, random_state=None)"
      ]
     },
     "execution_count": 31,
     "metadata": {},
     "output_type": "execute_result"
    }
   ],
   "source": [
    "abr.fit(x_train,y_train)"
   ]
  },
  {
   "cell_type": "code",
   "execution_count": 32,
   "metadata": {},
   "outputs": [],
   "source": [
    "#Predictions\n",
    "pred=abr.predict(x_test)"
   ]
  },
  {
   "cell_type": "code",
   "execution_count": 33,
   "metadata": {},
   "outputs": [],
   "source": [
    "#Error calculation\n",
    "RMSE = np.sqrt(mean_squared_error(y_test, pred))\n",
    "MAE = mean_absolute_error(y_test, pred)\n",
    "r_squre= r2_score(y_test, pred)"
   ]
  },
  {
   "cell_type": "code",
   "execution_count": 34,
   "metadata": {
    "scrolled": true
   },
   "outputs": [
    {
     "name": "stdout",
     "output_type": "stream",
     "text": [
      "RMSE : 68.88035509656451\n",
      "MAE: 55.37207955103475\n",
      "r_square: 0.2373007598789828\n"
     ]
    }
   ],
   "source": [
    "#Results\n",
    "print('RMSE :',RMSE) \n",
    "print('MAE:', MAE)\n",
    "print(\"r_square:\",r_squre)"
   ]
  },
  {
   "cell_type": "code",
   "execution_count": 82,
   "metadata": {
    "scrolled": true
   },
   "outputs": [
    {
     "name": "stdout",
     "output_type": "stream",
     "text": [
      "Fitting 3 folds for each of 18 candidates, totalling 54 fits\n"
     ]
    },
    {
     "name": "stderr",
     "output_type": "stream",
     "text": [
      "[Parallel(n_jobs=-1)]: Using backend LokyBackend with 4 concurrent workers.\n",
      "[Parallel(n_jobs=-1)]: Done  42 tasks      | elapsed:   14.1s\n",
      "[Parallel(n_jobs=-1)]: Done  54 out of  54 | elapsed:   19.5s finished\n"
     ]
    },
    {
     "data": {
      "text/plain": [
       "GridSearchCV(cv=3, error_score=nan,\n",
       "             estimator=AdaBoostRegressor(base_estimator=None, learning_rate=1.0,\n",
       "                                         loss='linear', n_estimators=50,\n",
       "                                         random_state=None),\n",
       "             iid='deprecated', n_jobs=-1,\n",
       "             param_grid={'learning_rate': [0.1, 1],\n",
       "                         'loss': ['linear', 'square', 'exponential'],\n",
       "                         'n_estimators': [100, 200, 300]},\n",
       "             pre_dispatch='2*n_jobs', refit=True, return_train_score=False,\n",
       "             scoring=None, verbose=1)"
      ]
     },
     "execution_count": 82,
     "metadata": {},
     "output_type": "execute_result"
    }
   ],
   "source": [
    "#Lets do hyperparameter tunning \n",
    "\n",
    "from sklearn.model_selection import GridSearchCV\n",
    "\n",
    "adb1 = AdaBoostRegressor()\n",
    "parameters = {\n",
    "                'n_estimators': [100,200,300],\n",
    "                'learning_rate' : [0.1,1],\n",
    "                'loss' : ['linear', 'square', 'exponential']\n",
    "               \n",
    "}\n",
    "\n",
    "cv = GridSearchCV(adb1, parameters, cv=3, n_jobs = -1,verbose = 1)\n",
    "cv.fit(x_train, y_train)"
   ]
  },
  {
   "cell_type": "code",
   "execution_count": 83,
   "metadata": {},
   "outputs": [
    {
     "data": {
      "text/plain": [
       "{'learning_rate': 0.1, 'loss': 'exponential', 'n_estimators': 100}"
      ]
     },
     "execution_count": 83,
     "metadata": {},
     "output_type": "execute_result"
    }
   ],
   "source": [
    "cv.best_params_"
   ]
  },
  {
   "cell_type": "markdown",
   "metadata": {},
   "source": [
    "# Neural Neats-MLP"
   ]
  },
  {
   "cell_type": "code",
   "execution_count": 35,
   "metadata": {},
   "outputs": [],
   "source": [
    "from sklearn.neural_network import MLPRegressor\n",
    "mlp=MLPRegressor()"
   ]
  },
  {
   "cell_type": "code",
   "execution_count": 36,
   "metadata": {},
   "outputs": [
    {
     "data": {
      "text/plain": [
       "MLPRegressor(activation='relu', alpha=0.0001, batch_size='auto', beta_1=0.9,\n",
       "             beta_2=0.999, early_stopping=False, epsilon=1e-08,\n",
       "             hidden_layer_sizes=(100,), learning_rate='constant',\n",
       "             learning_rate_init=0.001, max_fun=15000, max_iter=200,\n",
       "             momentum=0.9, n_iter_no_change=10, nesterovs_momentum=True,\n",
       "             power_t=0.5, random_state=None, shuffle=True, solver='adam',\n",
       "             tol=0.0001, validation_fraction=0.1, verbose=False,\n",
       "             warm_start=False)"
      ]
     },
     "execution_count": 36,
     "metadata": {},
     "output_type": "execute_result"
    }
   ],
   "source": [
    "mlp.fit(x_train,y_train)"
   ]
  },
  {
   "cell_type": "code",
   "execution_count": 37,
   "metadata": {},
   "outputs": [],
   "source": [
    "#Predictions\n",
    "pred=mlp.predict(x_test)"
   ]
  },
  {
   "cell_type": "code",
   "execution_count": 38,
   "metadata": {},
   "outputs": [],
   "source": [
    "#Error calculation\n",
    "RMSE = np.sqrt(mean_squared_error(y_test, pred))\n",
    "MAE = mean_absolute_error(y_test, pred)\n",
    "r_squre= r2_score(y_test, pred)"
   ]
  },
  {
   "cell_type": "code",
   "execution_count": 39,
   "metadata": {
    "scrolled": true
   },
   "outputs": [
    {
     "name": "stdout",
     "output_type": "stream",
     "text": [
      "RMSE : 77.58378507091754\n",
      "MAE: 62.61416986139014\n",
      "r_square: 0.03238077988527943\n"
     ]
    }
   ],
   "source": [
    "#Results\n",
    "print('RMSE :',RMSE) \n",
    "print('MAE:', MAE)\n",
    "print(\"r_square:\",r_squre)"
   ]
  },
  {
   "cell_type": "code",
   "execution_count": 89,
   "metadata": {
    "scrolled": false
   },
   "outputs": [
    {
     "name": "stdout",
     "output_type": "stream",
     "text": [
      "Fitting 3 folds for each of 27 candidates, totalling 81 fits\n"
     ]
    },
    {
     "name": "stderr",
     "output_type": "stream",
     "text": [
      "[Parallel(n_jobs=-1)]: Using backend LokyBackend with 4 concurrent workers.\n",
      "[Parallel(n_jobs=-1)]: Done  42 tasks      | elapsed:   14.9s\n",
      "[Parallel(n_jobs=-1)]: Done  81 out of  81 | elapsed:   30.2s finished\n",
      "C:\\Users\\Shrutee\\Anaconda3\\lib\\site-packages\\sklearn\\neural_network\\_multilayer_perceptron.py:571: ConvergenceWarning: Stochastic Optimizer: Maximum iterations (200) reached and the optimization hasn't converged yet.\n",
      "  % self.max_iter, ConvergenceWarning)\n"
     ]
    },
    {
     "data": {
      "text/plain": [
       "GridSearchCV(cv=3, error_score=nan,\n",
       "             estimator=MLPRegressor(activation='relu', alpha=0.0001,\n",
       "                                    batch_size='auto', beta_1=0.9, beta_2=0.999,\n",
       "                                    early_stopping=False, epsilon=1e-08,\n",
       "                                    hidden_layer_sizes=(100,),\n",
       "                                    learning_rate='constant',\n",
       "                                    learning_rate_init=0.001, max_fun=15000,\n",
       "                                    max_iter=200, momentum=0.9,\n",
       "                                    n_iter_no_change=10,\n",
       "                                    nesterovs_momentum=True, power_t=0.5,\n",
       "                                    random_state=...uffle=True,\n",
       "                                    solver='adam', tol=0.0001,\n",
       "                                    validation_fraction=0.1, verbose=False,\n",
       "                                    warm_start=False),\n",
       "             iid='deprecated', n_jobs=-1,\n",
       "             param_grid={'activation': ['relu', 'tanh', 'logistic'],\n",
       "                         'hidden_layer_sizes': [(10,), (50,), (100,)],\n",
       "                         'learning_rate': ['constant', 'invscaling',\n",
       "                                           'adaptive']},\n",
       "             pre_dispatch='2*n_jobs', refit=True, return_train_score=False,\n",
       "             scoring=None, verbose=1)"
      ]
     },
     "execution_count": 89,
     "metadata": {},
     "output_type": "execute_result"
    }
   ],
   "source": [
    "#Lets do hyperparameter tunning \n",
    "\n",
    "from sklearn.model_selection import GridSearchCV\n",
    "\n",
    "mlp1 = MLPRegressor()\n",
    "parameters = {\n",
    "                'hidden_layer_sizes': [(10,), (50,), (100,)],\n",
    "                'activation': ['relu', 'tanh', 'logistic'],\n",
    "                'learning_rate': ['constant', 'invscaling', 'adaptive']\n",
    "               \n",
    "}\n",
    "\n",
    "cv = GridSearchCV(mlp1, parameters, cv=3, n_jobs = -1,verbose = 1)\n",
    "cv.fit(x_train, y_train)"
   ]
  },
  {
   "cell_type": "code",
   "execution_count": 90,
   "metadata": {},
   "outputs": [
    {
     "data": {
      "text/plain": [
       "{'activation': 'relu',\n",
       " 'hidden_layer_sizes': (100,),\n",
       " 'learning_rate': 'invscaling'}"
      ]
     },
     "execution_count": 90,
     "metadata": {},
     "output_type": "execute_result"
    }
   ],
   "source": [
    "cv.best_params_"
   ]
  },
  {
   "cell_type": "markdown",
   "metadata": {},
   "source": [
    "# Catboost "
   ]
  },
  {
   "cell_type": "code",
   "execution_count": 91,
   "metadata": {},
   "outputs": [],
   "source": [
    "#lets define our predictors and outcome (Target)\n",
    "#x1=df1.drop([\"CT Signal to LIve\",\"CT Signal to Dock\"],axis=1)\n",
    "#y1=df1[\"CT Signal to LIve\"]"
   ]
  },
  {
   "cell_type": "code",
   "execution_count": 92,
   "metadata": {},
   "outputs": [],
   "source": [
    "#Lets split our data into training and testing sets. random_state is the seed used by the random number generator. It can be any integer.\n",
    "from sklearn.model_selection import train_test_split\n",
    "#x_train,x_test,y_train,y_test=train_test_split(x1,y1,test_size=0.25,random_state=100)"
   ]
  },
  {
   "cell_type": "code",
   "execution_count": 40,
   "metadata": {},
   "outputs": [],
   "source": [
    "from catboost import CatBoostRegressor\n",
    "cr=CatBoostRegressor(iterations=200, loss_function='RMSE',\n",
    "                              random_state = 2021, \n",
    "                              eval_metric=\"RMSE\")"
   ]
  },
  {
   "cell_type": "code",
   "execution_count": 41,
   "metadata": {
    "scrolled": false
   },
   "outputs": [
    {
     "name": "stdout",
     "output_type": "stream",
     "text": [
      "Learning rate set to 0.120458\n",
      "0:\tlearn: 70.4696472\ttest: 76.1668415\tbest: 76.1668415 (0)\ttotal: 131ms\tremaining: 26.1s\n",
      "1:\tlearn: 67.9603518\ttest: 74.1713521\tbest: 74.1713521 (1)\ttotal: 133ms\tremaining: 13.1s\n",
      "2:\tlearn: 66.1488325\ttest: 72.4206776\tbest: 72.4206776 (2)\ttotal: 134ms\tremaining: 8.82s\n",
      "3:\tlearn: 64.5126527\ttest: 71.4011464\tbest: 71.4011464 (3)\ttotal: 136ms\tremaining: 6.66s\n",
      "4:\tlearn: 63.0086006\ttest: 70.3311978\tbest: 70.3311978 (4)\ttotal: 138ms\tremaining: 5.37s\n",
      "5:\tlearn: 61.5103668\ttest: 69.2836074\tbest: 69.2836074 (5)\ttotal: 140ms\tremaining: 4.52s\n",
      "6:\tlearn: 60.3882033\ttest: 68.4667896\tbest: 68.4667896 (6)\ttotal: 141ms\tremaining: 3.9s\n",
      "7:\tlearn: 59.4815768\ttest: 67.7746745\tbest: 67.7746745 (7)\ttotal: 143ms\tremaining: 3.42s\n",
      "8:\tlearn: 58.4829935\ttest: 66.9142134\tbest: 66.9142134 (8)\ttotal: 144ms\tremaining: 3.06s\n",
      "9:\tlearn: 57.7055938\ttest: 66.3990711\tbest: 66.3990711 (9)\ttotal: 146ms\tremaining: 2.77s\n",
      "10:\tlearn: 56.8043077\ttest: 66.0224475\tbest: 66.0224475 (10)\ttotal: 148ms\tremaining: 2.54s\n",
      "11:\tlearn: 56.2012336\ttest: 65.3944577\tbest: 65.3944577 (11)\ttotal: 150ms\tremaining: 2.35s\n",
      "12:\tlearn: 55.3726897\ttest: 64.7390456\tbest: 64.7390456 (12)\ttotal: 152ms\tremaining: 2.19s\n",
      "13:\tlearn: 54.8220755\ttest: 64.1897939\tbest: 64.1897939 (13)\ttotal: 154ms\tremaining: 2.05s\n",
      "14:\tlearn: 54.4009546\ttest: 64.0952144\tbest: 64.0952144 (14)\ttotal: 157ms\tremaining: 1.94s\n",
      "15:\tlearn: 54.1304535\ttest: 63.9873670\tbest: 63.9873670 (15)\ttotal: 160ms\tremaining: 1.84s\n",
      "16:\tlearn: 53.7789606\ttest: 63.9221570\tbest: 63.9221570 (16)\ttotal: 164ms\tremaining: 1.76s\n",
      "17:\tlearn: 53.3344618\ttest: 63.6404327\tbest: 63.6404327 (17)\ttotal: 166ms\tremaining: 1.68s\n",
      "18:\tlearn: 52.9667829\ttest: 63.2282596\tbest: 63.2282596 (18)\ttotal: 168ms\tremaining: 1.6s\n",
      "19:\tlearn: 52.6887834\ttest: 62.8348092\tbest: 62.8348092 (19)\ttotal: 170ms\tremaining: 1.53s\n",
      "20:\tlearn: 52.3950137\ttest: 62.6566100\tbest: 62.6566100 (20)\ttotal: 173ms\tremaining: 1.47s\n",
      "21:\tlearn: 52.0171032\ttest: 62.3881417\tbest: 62.3881417 (21)\ttotal: 176ms\tremaining: 1.42s\n",
      "22:\tlearn: 51.8450585\ttest: 62.2339845\tbest: 62.2339845 (22)\ttotal: 178ms\tremaining: 1.37s\n",
      "23:\tlearn: 51.4070599\ttest: 61.8574932\tbest: 61.8574932 (23)\ttotal: 181ms\tremaining: 1.33s\n",
      "24:\tlearn: 51.1504981\ttest: 61.7818007\tbest: 61.7818007 (24)\ttotal: 184ms\tremaining: 1.28s\n",
      "25:\tlearn: 50.9034862\ttest: 61.6329912\tbest: 61.6329912 (25)\ttotal: 186ms\tremaining: 1.25s\n",
      "26:\tlearn: 50.5472502\ttest: 61.4724776\tbest: 61.4724776 (26)\ttotal: 189ms\tremaining: 1.21s\n",
      "27:\tlearn: 50.3934360\ttest: 61.5101122\tbest: 61.4724776 (26)\ttotal: 192ms\tremaining: 1.18s\n",
      "28:\tlearn: 50.2876959\ttest: 61.5678453\tbest: 61.4724776 (26)\ttotal: 194ms\tremaining: 1.15s\n",
      "29:\tlearn: 50.0844148\ttest: 61.4966501\tbest: 61.4724776 (26)\ttotal: 197ms\tremaining: 1.12s\n",
      "30:\tlearn: 49.7532369\ttest: 61.2699182\tbest: 61.2699182 (30)\ttotal: 201ms\tremaining: 1.09s\n",
      "31:\tlearn: 49.2487710\ttest: 60.9632327\tbest: 60.9632327 (31)\ttotal: 204ms\tremaining: 1.07s\n",
      "32:\tlearn: 49.1152384\ttest: 60.9681026\tbest: 60.9632327 (31)\ttotal: 206ms\tremaining: 1.04s\n",
      "33:\tlearn: 48.8603652\ttest: 60.8315420\tbest: 60.8315420 (33)\ttotal: 208ms\tremaining: 1.02s\n",
      "34:\tlearn: 48.5645751\ttest: 60.6927654\tbest: 60.6927654 (34)\ttotal: 211ms\tremaining: 994ms\n",
      "35:\tlearn: 48.4108488\ttest: 60.7190444\tbest: 60.6927654 (34)\ttotal: 213ms\tremaining: 969ms\n",
      "36:\tlearn: 48.2994047\ttest: 60.7014589\tbest: 60.6927654 (34)\ttotal: 215ms\tremaining: 945ms\n",
      "37:\tlearn: 47.9018350\ttest: 60.6049649\tbest: 60.6049649 (37)\ttotal: 217ms\tremaining: 924ms\n",
      "38:\tlearn: 47.7165704\ttest: 60.4927013\tbest: 60.4927013 (38)\ttotal: 220ms\tremaining: 906ms\n",
      "39:\tlearn: 47.3917773\ttest: 60.4582828\tbest: 60.4582828 (39)\ttotal: 221ms\tremaining: 885ms\n",
      "40:\tlearn: 47.0563601\ttest: 60.3435335\tbest: 60.3435335 (40)\ttotal: 223ms\tremaining: 865ms\n",
      "41:\tlearn: 46.8328314\ttest: 60.2867252\tbest: 60.2867252 (41)\ttotal: 226ms\tremaining: 850ms\n",
      "42:\tlearn: 46.6473782\ttest: 60.2764007\tbest: 60.2764007 (42)\ttotal: 228ms\tremaining: 832ms\n",
      "43:\tlearn: 46.5602910\ttest: 60.3369485\tbest: 60.2764007 (42)\ttotal: 230ms\tremaining: 814ms\n",
      "44:\tlearn: 46.3593440\ttest: 60.3574801\tbest: 60.2764007 (42)\ttotal: 231ms\tremaining: 797ms\n",
      "45:\tlearn: 46.2085195\ttest: 60.3105746\tbest: 60.2764007 (42)\ttotal: 235ms\tremaining: 786ms\n",
      "46:\tlearn: 46.1003903\ttest: 60.1509608\tbest: 60.1509608 (46)\ttotal: 238ms\tremaining: 776ms\n",
      "47:\tlearn: 45.9199136\ttest: 60.1289217\tbest: 60.1289217 (47)\ttotal: 241ms\tremaining: 762ms\n",
      "48:\tlearn: 45.7233550\ttest: 60.1029521\tbest: 60.1029521 (48)\ttotal: 243ms\tremaining: 749ms\n",
      "49:\tlearn: 45.5134503\ttest: 60.0089726\tbest: 60.0089726 (49)\ttotal: 245ms\tremaining: 734ms\n",
      "50:\tlearn: 45.3143169\ttest: 59.8251480\tbest: 59.8251480 (50)\ttotal: 247ms\tremaining: 720ms\n",
      "51:\tlearn: 45.0831661\ttest: 59.7593643\tbest: 59.7593643 (51)\ttotal: 248ms\tremaining: 707ms\n",
      "52:\tlearn: 44.9757009\ttest: 59.5977404\tbest: 59.5977404 (52)\ttotal: 251ms\tremaining: 695ms\n",
      "53:\tlearn: 44.8198558\ttest: 59.5934194\tbest: 59.5934194 (53)\ttotal: 253ms\tremaining: 683ms\n",
      "54:\tlearn: 44.6833088\ttest: 59.4532093\tbest: 59.4532093 (54)\ttotal: 255ms\tremaining: 673ms\n",
      "55:\tlearn: 44.5692612\ttest: 59.3605839\tbest: 59.3605839 (55)\ttotal: 258ms\tremaining: 664ms\n",
      "56:\tlearn: 44.1623190\ttest: 59.2323635\tbest: 59.2323635 (56)\ttotal: 262ms\tremaining: 658ms\n",
      "57:\tlearn: 43.9986595\ttest: 59.2854611\tbest: 59.2323635 (56)\ttotal: 265ms\tremaining: 650ms\n",
      "58:\tlearn: 43.6878793\ttest: 59.3154787\tbest: 59.2323635 (56)\ttotal: 267ms\tremaining: 639ms\n",
      "59:\tlearn: 43.4210161\ttest: 59.3319315\tbest: 59.2323635 (56)\ttotal: 269ms\tremaining: 628ms\n",
      "60:\tlearn: 43.2793866\ttest: 59.3462093\tbest: 59.2323635 (56)\ttotal: 271ms\tremaining: 617ms\n",
      "61:\tlearn: 43.1502258\ttest: 59.1253981\tbest: 59.1253981 (61)\ttotal: 275ms\tremaining: 611ms\n",
      "62:\tlearn: 43.0033512\ttest: 59.0317850\tbest: 59.0317850 (62)\ttotal: 278ms\tremaining: 605ms\n",
      "63:\tlearn: 42.8339893\ttest: 58.9992668\tbest: 58.9992668 (63)\ttotal: 281ms\tremaining: 597ms\n",
      "64:\tlearn: 42.7036055\ttest: 58.9088046\tbest: 58.9088046 (64)\ttotal: 285ms\tremaining: 591ms\n",
      "65:\tlearn: 42.5570046\ttest: 58.9042787\tbest: 58.9042787 (65)\ttotal: 287ms\tremaining: 583ms\n",
      "66:\tlearn: 42.3278936\ttest: 58.8266193\tbest: 58.8266193 (66)\ttotal: 289ms\tremaining: 575ms\n",
      "67:\tlearn: 42.2179382\ttest: 58.6680959\tbest: 58.6680959 (67)\ttotal: 291ms\tremaining: 566ms\n",
      "68:\tlearn: 42.1137788\ttest: 58.6533192\tbest: 58.6533192 (68)\ttotal: 293ms\tremaining: 557ms\n",
      "69:\tlearn: 41.9536371\ttest: 58.6216591\tbest: 58.6216591 (69)\ttotal: 296ms\tremaining: 550ms\n",
      "70:\tlearn: 41.7935877\ttest: 58.6509294\tbest: 58.6216591 (69)\ttotal: 301ms\tremaining: 546ms\n",
      "71:\tlearn: 41.5618889\ttest: 58.8046049\tbest: 58.6216591 (69)\ttotal: 303ms\tremaining: 538ms\n",
      "72:\tlearn: 41.4338033\ttest: 58.7528792\tbest: 58.6216591 (69)\ttotal: 305ms\tremaining: 531ms\n",
      "73:\tlearn: 41.3534849\ttest: 58.6908830\tbest: 58.6216591 (69)\ttotal: 307ms\tremaining: 523ms\n",
      "74:\tlearn: 41.2141754\ttest: 58.6103440\tbest: 58.6103440 (74)\ttotal: 309ms\tremaining: 515ms\n",
      "75:\tlearn: 41.0659564\ttest: 58.6217573\tbest: 58.6103440 (74)\ttotal: 311ms\tremaining: 507ms\n",
      "76:\tlearn: 40.9144935\ttest: 58.5146351\tbest: 58.5146351 (76)\ttotal: 313ms\tremaining: 499ms\n",
      "77:\tlearn: 40.7261497\ttest: 58.3770010\tbest: 58.3770010 (77)\ttotal: 315ms\tremaining: 493ms\n",
      "78:\tlearn: 40.6454044\ttest: 58.3080751\tbest: 58.3080751 (78)\ttotal: 317ms\tremaining: 486ms\n",
      "79:\tlearn: 40.4506816\ttest: 58.2632076\tbest: 58.2632076 (79)\ttotal: 319ms\tremaining: 478ms\n",
      "80:\tlearn: 40.1566253\ttest: 58.1570543\tbest: 58.1570543 (80)\ttotal: 321ms\tremaining: 471ms\n",
      "81:\tlearn: 40.0636051\ttest: 58.1238057\tbest: 58.1238057 (81)\ttotal: 324ms\tremaining: 467ms\n",
      "82:\tlearn: 39.8443245\ttest: 57.9412382\tbest: 57.9412382 (82)\ttotal: 327ms\tremaining: 462ms\n",
      "83:\tlearn: 39.7608510\ttest: 57.9363688\tbest: 57.9363688 (83)\ttotal: 330ms\tremaining: 456ms\n",
      "84:\tlearn: 39.5533348\ttest: 58.0110540\tbest: 57.9363688 (83)\ttotal: 333ms\tremaining: 450ms\n",
      "85:\tlearn: 39.4816400\ttest: 57.9842175\tbest: 57.9363688 (83)\ttotal: 335ms\tremaining: 443ms\n",
      "86:\tlearn: 39.2573208\ttest: 57.8939894\tbest: 57.8939894 (86)\ttotal: 336ms\tremaining: 437ms\n",
      "87:\tlearn: 39.1242228\ttest: 57.8786706\tbest: 57.8786706 (87)\ttotal: 338ms\tremaining: 430ms\n",
      "88:\tlearn: 39.0351733\ttest: 57.8767588\tbest: 57.8767588 (88)\ttotal: 340ms\tremaining: 424ms\n",
      "89:\tlearn: 38.8612778\ttest: 57.8635459\tbest: 57.8635459 (89)\ttotal: 342ms\tremaining: 417ms\n",
      "90:\tlearn: 38.7905157\ttest: 57.8466048\tbest: 57.8466048 (90)\ttotal: 343ms\tremaining: 411ms\n",
      "91:\tlearn: 38.5894658\ttest: 57.7333058\tbest: 57.7333058 (91)\ttotal: 346ms\tremaining: 406ms\n",
      "92:\tlearn: 38.4608726\ttest: 57.7073927\tbest: 57.7073927 (92)\ttotal: 348ms\tremaining: 401ms\n",
      "93:\tlearn: 38.4083069\ttest: 57.6778550\tbest: 57.6778550 (93)\ttotal: 351ms\tremaining: 396ms\n",
      "94:\tlearn: 38.3210955\ttest: 57.6755401\tbest: 57.6755401 (94)\ttotal: 354ms\tremaining: 391ms\n",
      "95:\tlearn: 38.1308730\ttest: 57.7297654\tbest: 57.6755401 (94)\ttotal: 356ms\tremaining: 386ms\n",
      "96:\tlearn: 37.9325338\ttest: 57.5546175\tbest: 57.5546175 (96)\ttotal: 358ms\tremaining: 380ms\n",
      "97:\tlearn: 37.8782466\ttest: 57.5524330\tbest: 57.5524330 (97)\ttotal: 360ms\tremaining: 375ms\n",
      "98:\tlearn: 37.6348610\ttest: 57.5137051\tbest: 57.5137051 (98)\ttotal: 363ms\tremaining: 370ms\n",
      "99:\tlearn: 37.5694456\ttest: 57.5222574\tbest: 57.5137051 (98)\ttotal: 365ms\tremaining: 365ms\n",
      "100:\tlearn: 37.4696347\ttest: 57.5270076\tbest: 57.5137051 (98)\ttotal: 367ms\tremaining: 360ms\n",
      "101:\tlearn: 37.4119508\ttest: 57.5153450\tbest: 57.5137051 (98)\ttotal: 370ms\tremaining: 356ms\n",
      "102:\tlearn: 37.1500465\ttest: 57.2575722\tbest: 57.2575722 (102)\ttotal: 376ms\tremaining: 354ms\n",
      "103:\tlearn: 37.0778276\ttest: 57.2621934\tbest: 57.2575722 (102)\ttotal: 378ms\tremaining: 349ms\n",
      "104:\tlearn: 36.9142902\ttest: 57.2776818\tbest: 57.2575722 (102)\ttotal: 381ms\tremaining: 344ms\n",
      "105:\tlearn: 36.7319910\ttest: 57.2261607\tbest: 57.2261607 (105)\ttotal: 383ms\tremaining: 339ms\n",
      "106:\tlearn: 36.4156746\ttest: 57.0180389\tbest: 57.0180389 (106)\ttotal: 385ms\tremaining: 334ms\n",
      "107:\tlearn: 36.3373758\ttest: 57.0172115\tbest: 57.0172115 (107)\ttotal: 387ms\tremaining: 329ms\n",
      "108:\tlearn: 36.2267900\ttest: 56.9925137\tbest: 56.9925137 (108)\ttotal: 390ms\tremaining: 326ms\n",
      "109:\tlearn: 36.1374299\ttest: 56.9338805\tbest: 56.9338805 (109)\ttotal: 395ms\tremaining: 323ms\n",
      "110:\tlearn: 36.0828257\ttest: 56.9364865\tbest: 56.9338805 (109)\ttotal: 397ms\tremaining: 319ms\n",
      "111:\tlearn: 35.9730103\ttest: 56.9479296\tbest: 56.9338805 (109)\ttotal: 400ms\tremaining: 314ms\n",
      "112:\tlearn: 35.9189687\ttest: 56.9742957\tbest: 56.9338805 (109)\ttotal: 401ms\tremaining: 309ms\n",
      "113:\tlearn: 35.8721058\ttest: 56.9800100\tbest: 56.9338805 (109)\ttotal: 404ms\tremaining: 304ms\n",
      "114:\tlearn: 35.7577051\ttest: 56.9544376\tbest: 56.9338805 (109)\ttotal: 405ms\tremaining: 300ms\n",
      "115:\tlearn: 35.6773815\ttest: 56.9237324\tbest: 56.9237324 (115)\ttotal: 407ms\tremaining: 295ms\n",
      "116:\tlearn: 35.4516160\ttest: 56.9072192\tbest: 56.9072192 (116)\ttotal: 409ms\tremaining: 290ms\n",
      "117:\tlearn: 35.4232668\ttest: 56.9213758\tbest: 56.9072192 (116)\ttotal: 411ms\tremaining: 285ms\n",
      "118:\tlearn: 35.3549780\ttest: 56.8971464\tbest: 56.8971464 (118)\ttotal: 412ms\tremaining: 281ms\n",
      "119:\tlearn: 35.2881611\ttest: 56.9186884\tbest: 56.8971464 (118)\ttotal: 414ms\tremaining: 276ms\n"
     ]
    },
    {
     "name": "stdout",
     "output_type": "stream",
     "text": [
      "120:\tlearn: 35.1325739\ttest: 56.8768699\tbest: 56.8768699 (120)\ttotal: 417ms\tremaining: 272ms\n",
      "121:\tlearn: 35.0515712\ttest: 56.8615329\tbest: 56.8615329 (121)\ttotal: 419ms\tremaining: 268ms\n",
      "122:\tlearn: 34.8603030\ttest: 56.7290029\tbest: 56.7290029 (122)\ttotal: 421ms\tremaining: 263ms\n",
      "123:\tlearn: 34.6993907\ttest: 56.7589416\tbest: 56.7290029 (122)\ttotal: 422ms\tremaining: 259ms\n",
      "124:\tlearn: 34.6215773\ttest: 56.7620650\tbest: 56.7290029 (122)\ttotal: 424ms\tremaining: 255ms\n",
      "125:\tlearn: 34.5855382\ttest: 56.7414699\tbest: 56.7290029 (122)\ttotal: 426ms\tremaining: 250ms\n",
      "126:\tlearn: 34.5424562\ttest: 56.7550390\tbest: 56.7290029 (122)\ttotal: 428ms\tremaining: 246ms\n",
      "127:\tlearn: 34.4554608\ttest: 56.7925644\tbest: 56.7290029 (122)\ttotal: 431ms\tremaining: 242ms\n",
      "128:\tlearn: 34.3739062\ttest: 56.8121850\tbest: 56.7290029 (122)\ttotal: 432ms\tremaining: 238ms\n",
      "129:\tlearn: 34.2818055\ttest: 56.8435755\tbest: 56.7290029 (122)\ttotal: 434ms\tremaining: 234ms\n",
      "130:\tlearn: 34.1991207\ttest: 56.8895488\tbest: 56.7290029 (122)\ttotal: 436ms\tremaining: 230ms\n",
      "131:\tlearn: 34.1079189\ttest: 56.8616246\tbest: 56.7290029 (122)\ttotal: 438ms\tremaining: 225ms\n",
      "132:\tlearn: 34.0623718\ttest: 56.8418359\tbest: 56.7290029 (122)\ttotal: 439ms\tremaining: 221ms\n",
      "133:\tlearn: 34.0239018\ttest: 56.8567413\tbest: 56.7290029 (122)\ttotal: 442ms\tremaining: 217ms\n",
      "134:\tlearn: 33.9723731\ttest: 56.8181617\tbest: 56.7290029 (122)\ttotal: 443ms\tremaining: 213ms\n",
      "135:\tlearn: 33.9313958\ttest: 56.8195028\tbest: 56.7290029 (122)\ttotal: 445ms\tremaining: 209ms\n",
      "136:\tlearn: 33.8608138\ttest: 56.7792144\tbest: 56.7290029 (122)\ttotal: 447ms\tremaining: 206ms\n",
      "137:\tlearn: 33.7412705\ttest: 56.7525238\tbest: 56.7290029 (122)\ttotal: 449ms\tremaining: 202ms\n",
      "138:\tlearn: 33.6485486\ttest: 56.7545015\tbest: 56.7290029 (122)\ttotal: 451ms\tremaining: 198ms\n",
      "139:\tlearn: 33.5860804\ttest: 56.7199293\tbest: 56.7199293 (139)\ttotal: 453ms\tremaining: 194ms\n",
      "140:\tlearn: 33.4615978\ttest: 56.6812342\tbest: 56.6812342 (140)\ttotal: 455ms\tremaining: 190ms\n",
      "141:\tlearn: 33.4172051\ttest: 56.6759438\tbest: 56.6759438 (141)\ttotal: 456ms\tremaining: 186ms\n",
      "142:\tlearn: 33.2716241\ttest: 56.6494368\tbest: 56.6494368 (142)\ttotal: 458ms\tremaining: 183ms\n",
      "143:\tlearn: 32.9533521\ttest: 56.3494524\tbest: 56.3494524 (143)\ttotal: 460ms\tremaining: 179ms\n",
      "144:\tlearn: 32.8870226\ttest: 56.3101355\tbest: 56.3101355 (144)\ttotal: 462ms\tremaining: 175ms\n",
      "145:\tlearn: 32.8013431\ttest: 56.2882959\tbest: 56.2882959 (145)\ttotal: 464ms\tremaining: 172ms\n",
      "146:\tlearn: 32.7283530\ttest: 56.2739747\tbest: 56.2739747 (146)\ttotal: 466ms\tremaining: 168ms\n",
      "147:\tlearn: 32.6945630\ttest: 56.2650271\tbest: 56.2650271 (147)\ttotal: 468ms\tremaining: 164ms\n",
      "148:\tlearn: 32.6421581\ttest: 56.2916937\tbest: 56.2650271 (147)\ttotal: 470ms\tremaining: 161ms\n",
      "149:\tlearn: 32.5747995\ttest: 56.2727927\tbest: 56.2650271 (147)\ttotal: 472ms\tremaining: 157ms\n",
      "150:\tlearn: 32.5331230\ttest: 56.2865865\tbest: 56.2650271 (147)\ttotal: 474ms\tremaining: 154ms\n",
      "151:\tlearn: 32.4906723\ttest: 56.2501208\tbest: 56.2501208 (151)\ttotal: 475ms\tremaining: 150ms\n",
      "152:\tlearn: 32.3532470\ttest: 56.1351650\tbest: 56.1351650 (152)\ttotal: 477ms\tremaining: 147ms\n",
      "153:\tlearn: 32.2949983\ttest: 56.1313634\tbest: 56.1313634 (153)\ttotal: 479ms\tremaining: 143ms\n",
      "154:\tlearn: 32.2257325\ttest: 56.1661746\tbest: 56.1313634 (153)\ttotal: 480ms\tremaining: 139ms\n",
      "155:\tlearn: 32.2025791\ttest: 56.1930582\tbest: 56.1313634 (153)\ttotal: 482ms\tremaining: 136ms\n",
      "156:\tlearn: 32.1511629\ttest: 56.1810906\tbest: 56.1313634 (153)\ttotal: 484ms\tremaining: 133ms\n",
      "157:\tlearn: 32.0653914\ttest: 56.2295748\tbest: 56.1313634 (153)\ttotal: 487ms\tremaining: 130ms\n",
      "158:\tlearn: 31.9901284\ttest: 56.2007239\tbest: 56.1313634 (153)\ttotal: 490ms\tremaining: 126ms\n",
      "159:\tlearn: 31.8529193\ttest: 56.2157507\tbest: 56.1313634 (153)\ttotal: 493ms\tremaining: 123ms\n",
      "160:\tlearn: 31.6683763\ttest: 56.1809004\tbest: 56.1313634 (153)\ttotal: 496ms\tremaining: 120ms\n",
      "161:\tlearn: 31.5907869\ttest: 56.1440998\tbest: 56.1313634 (153)\ttotal: 498ms\tremaining: 117ms\n",
      "162:\tlearn: 31.5032261\ttest: 56.1249438\tbest: 56.1249438 (162)\ttotal: 500ms\tremaining: 113ms\n",
      "163:\tlearn: 31.4181143\ttest: 56.1482897\tbest: 56.1249438 (162)\ttotal: 502ms\tremaining: 110ms\n",
      "164:\tlearn: 31.3781421\ttest: 56.1254172\tbest: 56.1249438 (162)\ttotal: 504ms\tremaining: 107ms\n",
      "165:\tlearn: 31.3196872\ttest: 56.1320294\tbest: 56.1249438 (162)\ttotal: 506ms\tremaining: 104ms\n",
      "166:\tlearn: 31.2143206\ttest: 56.1495781\tbest: 56.1249438 (162)\ttotal: 508ms\tremaining: 100ms\n",
      "167:\tlearn: 31.0708254\ttest: 56.1170062\tbest: 56.1170062 (167)\ttotal: 510ms\tremaining: 97.1ms\n",
      "168:\tlearn: 30.9817622\ttest: 56.0927088\tbest: 56.0927088 (168)\ttotal: 512ms\tremaining: 93.8ms\n",
      "169:\tlearn: 30.8806178\ttest: 56.0620052\tbest: 56.0620052 (169)\ttotal: 514ms\tremaining: 90.8ms\n",
      "170:\tlearn: 30.8125501\ttest: 56.0856245\tbest: 56.0620052 (169)\ttotal: 517ms\tremaining: 87.7ms\n",
      "171:\tlearn: 30.7425991\ttest: 56.1186025\tbest: 56.0620052 (169)\ttotal: 519ms\tremaining: 84.5ms\n",
      "172:\tlearn: 30.6809726\ttest: 56.1184737\tbest: 56.0620052 (169)\ttotal: 522ms\tremaining: 81.4ms\n",
      "173:\tlearn: 30.6393084\ttest: 56.0955853\tbest: 56.0620052 (169)\ttotal: 524ms\tremaining: 78.3ms\n",
      "174:\tlearn: 30.5495805\ttest: 56.1005170\tbest: 56.0620052 (169)\ttotal: 526ms\tremaining: 75.1ms\n",
      "175:\tlearn: 30.4653248\ttest: 56.0270217\tbest: 56.0270217 (175)\ttotal: 528ms\tremaining: 71.9ms\n",
      "176:\tlearn: 30.4258517\ttest: 56.0148399\tbest: 56.0148399 (176)\ttotal: 529ms\tremaining: 68.8ms\n",
      "177:\tlearn: 30.3594875\ttest: 56.0207297\tbest: 56.0148399 (176)\ttotal: 531ms\tremaining: 65.7ms\n",
      "178:\tlearn: 30.3079119\ttest: 56.0703687\tbest: 56.0148399 (176)\ttotal: 533ms\tremaining: 62.6ms\n",
      "179:\tlearn: 30.2039054\ttest: 56.0115943\tbest: 56.0115943 (179)\ttotal: 535ms\tremaining: 59.5ms\n",
      "180:\tlearn: 30.1647817\ttest: 56.0349001\tbest: 56.0115943 (179)\ttotal: 537ms\tremaining: 56.4ms\n",
      "181:\tlearn: 30.1133760\ttest: 56.0823057\tbest: 56.0115943 (179)\ttotal: 539ms\tremaining: 53.3ms\n",
      "182:\tlearn: 29.9732509\ttest: 55.9638559\tbest: 55.9638559 (182)\ttotal: 543ms\tremaining: 50.4ms\n",
      "183:\tlearn: 29.9307385\ttest: 55.9430029\tbest: 55.9430029 (183)\ttotal: 546ms\tremaining: 47.5ms\n",
      "184:\tlearn: 29.8678441\ttest: 55.9069889\tbest: 55.9069889 (184)\ttotal: 549ms\tremaining: 44.5ms\n",
      "185:\tlearn: 29.8535022\ttest: 55.9314481\tbest: 55.9069889 (184)\ttotal: 551ms\tremaining: 41.5ms\n",
      "186:\tlearn: 29.7670846\ttest: 55.9623415\tbest: 55.9069889 (184)\ttotal: 554ms\tremaining: 38.5ms\n",
      "187:\tlearn: 29.7075924\ttest: 55.9742921\tbest: 55.9069889 (184)\ttotal: 556ms\tremaining: 35.5ms\n",
      "188:\tlearn: 29.6538164\ttest: 55.9781279\tbest: 55.9069889 (184)\ttotal: 560ms\tremaining: 32.6ms\n",
      "189:\tlearn: 29.5970132\ttest: 55.9758544\tbest: 55.9069889 (184)\ttotal: 562ms\tremaining: 29.6ms\n",
      "190:\tlearn: 29.5274416\ttest: 55.9334312\tbest: 55.9069889 (184)\ttotal: 566ms\tremaining: 26.7ms\n",
      "191:\tlearn: 29.4794156\ttest: 55.9011231\tbest: 55.9011231 (191)\ttotal: 569ms\tremaining: 23.7ms\n",
      "192:\tlearn: 29.4507720\ttest: 55.8923186\tbest: 55.8923186 (192)\ttotal: 571ms\tremaining: 20.7ms\n",
      "193:\tlearn: 29.3766859\ttest: 55.8308639\tbest: 55.8308639 (193)\ttotal: 573ms\tremaining: 17.7ms\n",
      "194:\tlearn: 29.3217887\ttest: 55.7771656\tbest: 55.7771656 (194)\ttotal: 575ms\tremaining: 14.7ms\n",
      "195:\tlearn: 29.2590178\ttest: 55.7774498\tbest: 55.7771656 (194)\ttotal: 577ms\tremaining: 11.8ms\n",
      "196:\tlearn: 29.1840429\ttest: 55.7862607\tbest: 55.7771656 (194)\ttotal: 579ms\tremaining: 8.82ms\n",
      "197:\tlearn: 29.1049641\ttest: 55.6955071\tbest: 55.6955071 (197)\ttotal: 581ms\tremaining: 5.87ms\n",
      "198:\tlearn: 29.0438943\ttest: 55.6788916\tbest: 55.6788916 (198)\ttotal: 583ms\tremaining: 2.93ms\n",
      "199:\tlearn: 28.8752759\ttest: 55.6627023\tbest: 55.6627023 (199)\ttotal: 585ms\tremaining: 0us\n",
      "\n",
      "bestTest = 55.66270235\n",
      "bestIteration = 199\n",
      "\n"
     ]
    },
    {
     "data": {
      "text/plain": [
       "<catboost.core.CatBoostRegressor at 0x5565a58>"
      ]
     },
     "execution_count": 41,
     "metadata": {},
     "output_type": "execute_result"
    }
   ],
   "source": [
    "cr.fit(x_train, y_train,eval_set=(x_test, y_test))"
   ]
  },
  {
   "cell_type": "code",
   "execution_count": 42,
   "metadata": {},
   "outputs": [],
   "source": [
    "# Lets do predictions on out test data\n",
    "pred=cr.predict(x_test)"
   ]
  },
  {
   "cell_type": "code",
   "execution_count": 96,
   "metadata": {},
   "outputs": [],
   "source": [
    "#C_pred=pd.DataFrame(pred)#For Stack model"
   ]
  },
  {
   "cell_type": "code",
   "execution_count": 43,
   "metadata": {},
   "outputs": [],
   "source": [
    "#Error calculation\n",
    "RMSE = np.sqrt(mean_squared_error(y_test, pred))\n",
    "MAE = mean_absolute_error(y_test, pred)\n",
    "r_squre= r2_score(y_test, pred)"
   ]
  },
  {
   "cell_type": "code",
   "execution_count": 44,
   "metadata": {
    "scrolled": true
   },
   "outputs": [
    {
     "name": "stdout",
     "output_type": "stream",
     "text": [
      "RMSE : 55.66270234837938\n",
      "MAE: 40.28072104180991\n",
      "r_square: 0.5019291410759843\n"
     ]
    }
   ],
   "source": [
    "#Results \n",
    "print('RMSE :',RMSE) \n",
    "print('MAE:', MAE)\n",
    "print(\"r_square:\",r_squre)"
   ]
  },
  {
   "cell_type": "code",
   "execution_count": 172,
   "metadata": {
    "scrolled": false
   },
   "outputs": [
    {
     "name": "stdout",
     "output_type": "stream",
     "text": [
      "Fitting 3 folds for each of 8 candidates, totalling 24 fits\n"
     ]
    },
    {
     "name": "stderr",
     "output_type": "stream",
     "text": [
      "[Parallel(n_jobs=-1)]: Using backend LokyBackend with 4 concurrent workers.\n",
      "[Parallel(n_jobs=-1)]: Done  24 out of  24 | elapsed:   15.0s finished\n"
     ]
    },
    {
     "name": "stdout",
     "output_type": "stream",
     "text": [
      "Learning rate set to 0.127515\n",
      "0:\tlearn: 70.5289572\ttotal: 1.94ms\tremaining: 386ms\n",
      "1:\tlearn: 68.6293250\ttotal: 4.2ms\tremaining: 416ms\n",
      "2:\tlearn: 66.6690580\ttotal: 6.04ms\tremaining: 397ms\n",
      "3:\tlearn: 64.6257509\ttotal: 8.88ms\tremaining: 435ms\n",
      "4:\tlearn: 62.8803320\ttotal: 11.3ms\tremaining: 441ms\n",
      "5:\tlearn: 61.5255648\ttotal: 13.9ms\tremaining: 450ms\n",
      "6:\tlearn: 60.4665590\ttotal: 15.7ms\tremaining: 433ms\n",
      "7:\tlearn: 59.5194141\ttotal: 17.7ms\tremaining: 424ms\n",
      "8:\tlearn: 58.5619383\ttotal: 19.7ms\tremaining: 419ms\n",
      "9:\tlearn: 57.5774365\ttotal: 23ms\tremaining: 438ms\n",
      "10:\tlearn: 57.0216006\ttotal: 24.8ms\tremaining: 426ms\n",
      "11:\tlearn: 56.5459969\ttotal: 26.7ms\tremaining: 419ms\n",
      "12:\tlearn: 55.9911613\ttotal: 28.5ms\tremaining: 410ms\n",
      "13:\tlearn: 55.4575103\ttotal: 30.4ms\tremaining: 403ms\n",
      "14:\tlearn: 54.7257195\ttotal: 32ms\tremaining: 395ms\n",
      "15:\tlearn: 54.3228130\ttotal: 33.7ms\tremaining: 387ms\n",
      "16:\tlearn: 54.0674625\ttotal: 35.4ms\tremaining: 381ms\n",
      "17:\tlearn: 53.5898881\ttotal: 37.2ms\tremaining: 376ms\n",
      "18:\tlearn: 53.0692108\ttotal: 38.8ms\tremaining: 370ms\n",
      "19:\tlearn: 52.6192472\ttotal: 40.4ms\tremaining: 364ms\n",
      "20:\tlearn: 52.3161505\ttotal: 42.1ms\tremaining: 359ms\n",
      "21:\tlearn: 51.7611019\ttotal: 43.7ms\tremaining: 354ms\n",
      "22:\tlearn: 51.5180165\ttotal: 45.3ms\tremaining: 349ms\n",
      "23:\tlearn: 51.2265156\ttotal: 47ms\tremaining: 345ms\n",
      "24:\tlearn: 50.7480277\ttotal: 48.7ms\tremaining: 341ms\n",
      "25:\tlearn: 50.3477038\ttotal: 50.3ms\tremaining: 337ms\n",
      "26:\tlearn: 49.9012525\ttotal: 52ms\tremaining: 333ms\n",
      "27:\tlearn: 49.6915378\ttotal: 53.6ms\tremaining: 329ms\n",
      "28:\tlearn: 49.2927947\ttotal: 55.2ms\tremaining: 326ms\n",
      "29:\tlearn: 48.9712035\ttotal: 56.9ms\tremaining: 322ms\n",
      "30:\tlearn: 48.5860589\ttotal: 58.5ms\tremaining: 319ms\n",
      "31:\tlearn: 48.3844890\ttotal: 60.2ms\tremaining: 316ms\n",
      "32:\tlearn: 48.1626990\ttotal: 61.8ms\tremaining: 313ms\n",
      "33:\tlearn: 47.9503526\ttotal: 63.4ms\tremaining: 309ms\n",
      "34:\tlearn: 47.8089747\ttotal: 65.2ms\tremaining: 307ms\n",
      "35:\tlearn: 47.6555235\ttotal: 66.8ms\tremaining: 304ms\n",
      "36:\tlearn: 47.3192466\ttotal: 68.4ms\tremaining: 301ms\n",
      "37:\tlearn: 46.8870791\ttotal: 70ms\tremaining: 298ms\n",
      "38:\tlearn: 46.6321727\ttotal: 71.7ms\tremaining: 296ms\n",
      "39:\tlearn: 46.3713955\ttotal: 73.5ms\tremaining: 294ms\n",
      "40:\tlearn: 46.2026312\ttotal: 75.1ms\tremaining: 291ms\n",
      "41:\tlearn: 45.9366731\ttotal: 76.8ms\tremaining: 289ms\n",
      "42:\tlearn: 45.7643879\ttotal: 78.4ms\tremaining: 286ms\n",
      "43:\tlearn: 45.6483016\ttotal: 80ms\tremaining: 284ms\n",
      "44:\tlearn: 45.3611331\ttotal: 81.6ms\tremaining: 281ms\n",
      "45:\tlearn: 45.1365166\ttotal: 83.9ms\tremaining: 281ms\n",
      "46:\tlearn: 44.9291709\ttotal: 87.8ms\tremaining: 286ms\n",
      "47:\tlearn: 44.8223983\ttotal: 90.3ms\tremaining: 286ms\n",
      "48:\tlearn: 44.7031317\ttotal: 92.6ms\tremaining: 285ms\n",
      "49:\tlearn: 44.4915277\ttotal: 95ms\tremaining: 285ms\n",
      "50:\tlearn: 44.1932567\ttotal: 97.6ms\tremaining: 285ms\n",
      "51:\tlearn: 43.8858789\ttotal: 100ms\tremaining: 285ms\n",
      "52:\tlearn: 43.8457287\ttotal: 103ms\tremaining: 285ms\n",
      "53:\tlearn: 43.7391198\ttotal: 106ms\tremaining: 285ms\n",
      "54:\tlearn: 43.4567169\ttotal: 108ms\tremaining: 285ms\n",
      "55:\tlearn: 43.0895435\ttotal: 111ms\tremaining: 286ms\n",
      "56:\tlearn: 42.9967095\ttotal: 114ms\tremaining: 285ms\n",
      "57:\tlearn: 42.9286051\ttotal: 116ms\tremaining: 284ms\n",
      "58:\tlearn: 42.8770953\ttotal: 118ms\tremaining: 283ms\n",
      "59:\tlearn: 42.6303587\ttotal: 120ms\tremaining: 281ms\n",
      "60:\tlearn: 42.3545365\ttotal: 122ms\tremaining: 279ms\n",
      "61:\tlearn: 42.1690354\ttotal: 124ms\tremaining: 277ms\n",
      "62:\tlearn: 42.0042812\ttotal: 126ms\tremaining: 275ms\n",
      "63:\tlearn: 41.9186402\ttotal: 128ms\tremaining: 273ms\n",
      "64:\tlearn: 41.6751486\ttotal: 130ms\tremaining: 270ms\n",
      "65:\tlearn: 41.5933445\ttotal: 132ms\tremaining: 268ms\n",
      "66:\tlearn: 41.4284132\ttotal: 134ms\tremaining: 266ms\n",
      "67:\tlearn: 41.3534270\ttotal: 138ms\tremaining: 268ms\n",
      "68:\tlearn: 41.1941473\ttotal: 141ms\tremaining: 267ms\n",
      "69:\tlearn: 41.0656005\ttotal: 145ms\tremaining: 269ms\n",
      "70:\tlearn: 40.9130304\ttotal: 149ms\tremaining: 271ms\n",
      "71:\tlearn: 40.7962740\ttotal: 155ms\tremaining: 276ms\n",
      "72:\tlearn: 40.6844645\ttotal: 158ms\tremaining: 274ms\n",
      "73:\tlearn: 40.4230459\ttotal: 160ms\tremaining: 272ms\n",
      "74:\tlearn: 40.2861928\ttotal: 162ms\tremaining: 270ms\n",
      "75:\tlearn: 39.8543789\ttotal: 164ms\tremaining: 268ms\n",
      "76:\tlearn: 39.5546159\ttotal: 166ms\tremaining: 265ms\n",
      "77:\tlearn: 39.3756535\ttotal: 168ms\tremaining: 263ms\n",
      "78:\tlearn: 39.2487746\ttotal: 170ms\tremaining: 260ms\n",
      "79:\tlearn: 39.0752652\ttotal: 172ms\tremaining: 258ms\n",
      "80:\tlearn: 39.0384925\ttotal: 174ms\tremaining: 255ms\n",
      "81:\tlearn: 38.9425944\ttotal: 176ms\tremaining: 253ms\n",
      "82:\tlearn: 38.8475911\ttotal: 177ms\tremaining: 250ms\n",
      "83:\tlearn: 38.7614766\ttotal: 179ms\tremaining: 247ms\n",
      "84:\tlearn: 38.6090841\ttotal: 181ms\tremaining: 245ms\n",
      "85:\tlearn: 38.4838032\ttotal: 183ms\tremaining: 243ms\n",
      "86:\tlearn: 38.3852284\ttotal: 185ms\tremaining: 240ms\n",
      "87:\tlearn: 38.2853206\ttotal: 187ms\tremaining: 238ms\n",
      "88:\tlearn: 38.0119918\ttotal: 189ms\tremaining: 236ms\n",
      "89:\tlearn: 37.7799945\ttotal: 191ms\tremaining: 234ms\n",
      "90:\tlearn: 37.6016688\ttotal: 193ms\tremaining: 231ms\n",
      "91:\tlearn: 37.5284717\ttotal: 196ms\tremaining: 230ms\n",
      "92:\tlearn: 37.5081513\ttotal: 199ms\tremaining: 228ms\n",
      "93:\tlearn: 37.4884567\ttotal: 201ms\tremaining: 226ms\n",
      "94:\tlearn: 37.4219808\ttotal: 203ms\tremaining: 224ms\n",
      "95:\tlearn: 37.3123788\ttotal: 205ms\tremaining: 222ms\n",
      "96:\tlearn: 36.9510853\ttotal: 207ms\tremaining: 220ms\n",
      "97:\tlearn: 36.9025534\ttotal: 209ms\tremaining: 217ms\n",
      "98:\tlearn: 36.7803866\ttotal: 211ms\tremaining: 215ms\n",
      "99:\tlearn: 36.6845246\ttotal: 213ms\tremaining: 213ms\n",
      "100:\tlearn: 36.6204965\ttotal: 214ms\tremaining: 210ms\n",
      "101:\tlearn: 36.5894306\ttotal: 216ms\tremaining: 207ms\n",
      "102:\tlearn: 36.4063549\ttotal: 218ms\tremaining: 205ms\n",
      "103:\tlearn: 36.3736072\ttotal: 219ms\tremaining: 202ms\n",
      "104:\tlearn: 36.3370495\ttotal: 221ms\tremaining: 200ms\n",
      "105:\tlearn: 36.0463391\ttotal: 223ms\tremaining: 198ms\n",
      "106:\tlearn: 35.7975809\ttotal: 224ms\tremaining: 195ms\n",
      "107:\tlearn: 35.6705632\ttotal: 226ms\tremaining: 193ms\n",
      "108:\tlearn: 35.5756610\ttotal: 228ms\tremaining: 190ms\n",
      "109:\tlearn: 35.5424636\ttotal: 229ms\tremaining: 188ms\n",
      "110:\tlearn: 35.3893806\ttotal: 231ms\tremaining: 185ms\n",
      "111:\tlearn: 35.3312300\ttotal: 233ms\tremaining: 183ms\n",
      "112:\tlearn: 35.3180638\ttotal: 234ms\tremaining: 180ms\n",
      "113:\tlearn: 35.2645817\ttotal: 236ms\tremaining: 178ms\n",
      "114:\tlearn: 35.2170653\ttotal: 238ms\tremaining: 176ms\n",
      "115:\tlearn: 35.1662475\ttotal: 239ms\tremaining: 173ms\n",
      "116:\tlearn: 35.1519723\ttotal: 241ms\tremaining: 171ms\n",
      "117:\tlearn: 35.0968620\ttotal: 242ms\tremaining: 168ms\n",
      "118:\tlearn: 35.0335928\ttotal: 244ms\tremaining: 166ms\n",
      "119:\tlearn: 34.8381299\ttotal: 246ms\tremaining: 164ms\n",
      "120:\tlearn: 34.7636790\ttotal: 247ms\tremaining: 161ms\n",
      "121:\tlearn: 34.6397296\ttotal: 249ms\tremaining: 159ms\n",
      "122:\tlearn: 34.6035809\ttotal: 250ms\tremaining: 157ms\n",
      "123:\tlearn: 34.4834841\ttotal: 252ms\tremaining: 155ms\n",
      "124:\tlearn: 34.3566822\ttotal: 254ms\tremaining: 152ms\n",
      "125:\tlearn: 34.2798190\ttotal: 255ms\tremaining: 150ms\n",
      "126:\tlearn: 34.2208774\ttotal: 257ms\tremaining: 148ms\n",
      "127:\tlearn: 34.0570592\ttotal: 259ms\tremaining: 146ms\n",
      "128:\tlearn: 34.0166987\ttotal: 260ms\tremaining: 143ms\n",
      "129:\tlearn: 33.8820178\ttotal: 262ms\tremaining: 141ms\n",
      "130:\tlearn: 33.7676474\ttotal: 264ms\tremaining: 139ms\n",
      "131:\tlearn: 33.6321679\ttotal: 265ms\tremaining: 137ms\n",
      "132:\tlearn: 33.5532976\ttotal: 267ms\tremaining: 134ms\n",
      "133:\tlearn: 33.4917464\ttotal: 269ms\tremaining: 132ms\n",
      "134:\tlearn: 33.4143052\ttotal: 270ms\tremaining: 130ms\n",
      "135:\tlearn: 33.3832422\ttotal: 272ms\tremaining: 128ms\n",
      "136:\tlearn: 33.2915275\ttotal: 274ms\tremaining: 126ms\n",
      "137:\tlearn: 33.2035701\ttotal: 275ms\tremaining: 124ms\n",
      "138:\tlearn: 33.1669610\ttotal: 277ms\tremaining: 121ms\n",
      "139:\tlearn: 32.9784697\ttotal: 280ms\tremaining: 120ms\n",
      "140:\tlearn: 32.9412861\ttotal: 282ms\tremaining: 118ms\n",
      "141:\tlearn: 32.8940995\ttotal: 284ms\tremaining: 116ms\n",
      "142:\tlearn: 32.8295451\ttotal: 286ms\tremaining: 114ms\n",
      "143:\tlearn: 32.7733295\ttotal: 288ms\tremaining: 112ms\n",
      "144:\tlearn: 32.7081280\ttotal: 290ms\tremaining: 110ms\n",
      "145:\tlearn: 32.5686084\ttotal: 291ms\tremaining: 108ms\n",
      "146:\tlearn: 32.4668158\ttotal: 293ms\tremaining: 106ms\n",
      "147:\tlearn: 32.4084049\ttotal: 295ms\tremaining: 103ms\n",
      "148:\tlearn: 32.3126475\ttotal: 296ms\tremaining: 101ms\n",
      "149:\tlearn: 32.2397240\ttotal: 298ms\tremaining: 99.3ms\n",
      "150:\tlearn: 32.0998868\ttotal: 300ms\tremaining: 97.2ms\n",
      "151:\tlearn: 31.9604576\ttotal: 301ms\tremaining: 95.1ms\n",
      "152:\tlearn: 31.8986952\ttotal: 303ms\tremaining: 93ms\n",
      "153:\tlearn: 31.8306511\ttotal: 305ms\tremaining: 91ms\n",
      "154:\tlearn: 31.7407280\ttotal: 306ms\tremaining: 88.9ms\n",
      "155:\tlearn: 31.6139841\ttotal: 308ms\tremaining: 86.9ms\n",
      "156:\tlearn: 31.5473610\ttotal: 311ms\tremaining: 85.1ms\n",
      "157:\tlearn: 31.4570396\ttotal: 314ms\tremaining: 83.4ms\n",
      "158:\tlearn: 31.3282814\ttotal: 316ms\tremaining: 81.6ms\n",
      "159:\tlearn: 31.2781405\ttotal: 318ms\tremaining: 79.6ms\n",
      "160:\tlearn: 31.1975083\ttotal: 321ms\tremaining: 77.7ms\n",
      "161:\tlearn: 31.1480272\ttotal: 323ms\tremaining: 75.7ms\n",
      "162:\tlearn: 31.1061862\ttotal: 325ms\tremaining: 73.7ms\n",
      "163:\tlearn: 31.0643259\ttotal: 326ms\tremaining: 71.6ms\n",
      "164:\tlearn: 30.9471868\ttotal: 328ms\tremaining: 69.6ms\n",
      "165:\tlearn: 30.7981774\ttotal: 330ms\tremaining: 67.6ms\n",
      "166:\tlearn: 30.7265572\ttotal: 332ms\tremaining: 65.6ms\n",
      "167:\tlearn: 30.6293007\ttotal: 334ms\tremaining: 63.6ms\n",
      "168:\tlearn: 30.5185312\ttotal: 336ms\tremaining: 61.6ms\n",
      "169:\tlearn: 30.5155583\ttotal: 338ms\tremaining: 59.7ms\n",
      "170:\tlearn: 30.4366875\ttotal: 341ms\tremaining: 57.7ms\n",
      "171:\tlearn: 30.3252108\ttotal: 343ms\tremaining: 55.8ms\n",
      "172:\tlearn: 30.3010186\ttotal: 344ms\tremaining: 53.8ms\n",
      "173:\tlearn: 30.1873048\ttotal: 346ms\tremaining: 51.8ms\n",
      "174:\tlearn: 30.1241105\ttotal: 348ms\tremaining: 49.8ms\n",
      "175:\tlearn: 30.0490379\ttotal: 350ms\tremaining: 47.8ms\n",
      "176:\tlearn: 29.9951955\ttotal: 352ms\tremaining: 45.8ms\n",
      "177:\tlearn: 29.9384546\ttotal: 355ms\tremaining: 43.9ms\n",
      "178:\tlearn: 29.8606209\ttotal: 357ms\tremaining: 41.9ms\n",
      "179:\tlearn: 29.7222984\ttotal: 360ms\tremaining: 40ms\n",
      "180:\tlearn: 29.6310513\ttotal: 362ms\tremaining: 38ms\n",
      "181:\tlearn: 29.5922986\ttotal: 364ms\tremaining: 36ms\n",
      "182:\tlearn: 29.5899472\ttotal: 366ms\tremaining: 34ms\n",
      "183:\tlearn: 29.5208250\ttotal: 367ms\tremaining: 31.9ms\n",
      "184:\tlearn: 29.4535670\ttotal: 369ms\tremaining: 29.9ms\n",
      "185:\tlearn: 29.4228630\ttotal: 371ms\tremaining: 27.9ms\n",
      "186:\tlearn: 29.2205459\ttotal: 373ms\tremaining: 25.9ms\n",
      "187:\tlearn: 29.1841770\ttotal: 374ms\tremaining: 23.9ms\n",
      "188:\tlearn: 29.1076339\ttotal: 376ms\tremaining: 21.9ms\n",
      "189:\tlearn: 28.9940082\ttotal: 377ms\tremaining: 19.9ms\n",
      "190:\tlearn: 28.9491920\ttotal: 379ms\tremaining: 17.9ms\n",
      "191:\tlearn: 28.8485528\ttotal: 381ms\tremaining: 15.9ms\n",
      "192:\tlearn: 28.6792669\ttotal: 383ms\tremaining: 13.9ms\n",
      "193:\tlearn: 28.6768596\ttotal: 384ms\tremaining: 11.9ms\n",
      "194:\tlearn: 28.5893280\ttotal: 386ms\tremaining: 9.9ms\n",
      "195:\tlearn: 28.5360088\ttotal: 388ms\tremaining: 7.92ms\n",
      "196:\tlearn: 28.4885552\ttotal: 390ms\tremaining: 5.93ms\n",
      "197:\tlearn: 28.4520282\ttotal: 391ms\tremaining: 3.95ms\n",
      "198:\tlearn: 28.3929312\ttotal: 393ms\tremaining: 1.97ms\n",
      "199:\tlearn: 28.3189071\ttotal: 394ms\tremaining: 0us\n"
     ]
    },
    {
     "data": {
      "text/plain": [
       "GridSearchCV(cv=3, error_score=nan,\n",
       "             estimator=<catboost.core.CatBoostRegressor object at 0x000000001389D4E0>,\n",
       "             iid='deprecated', n_jobs=-1,\n",
       "             param_grid={'iterations': [100, 200, 300, 400],\n",
       "                         'loss_function': ['MAE', 'RMSE']},\n",
       "             pre_dispatch='2*n_jobs', refit=True, return_train_score=False,\n",
       "             scoring=None, verbose=1)"
      ]
     },
     "execution_count": 172,
     "metadata": {},
     "output_type": "execute_result"
    }
   ],
   "source": [
    "#Lets do hyperparameter tunning \n",
    "\n",
    "from sklearn.model_selection import GridSearchCV\n",
    "\n",
    "cat1 = CatBoostRegressor()\n",
    "parameters = {\n",
    "                'iterations': [100,200,300,400],\n",
    "                'loss_function': ['MAE', 'RMSE'],\n",
    "                \n",
    "               \n",
    "}\n",
    "\n",
    "cv = GridSearchCV(cat1, parameters, cv=3, n_jobs = -1,verbose = 1)\n",
    "cv.fit(x_train, y_train)"
   ]
  },
  {
   "cell_type": "code",
   "execution_count": 173,
   "metadata": {
    "scrolled": true
   },
   "outputs": [
    {
     "data": {
      "text/plain": [
       "{'iterations': 200, 'loss_function': 'RMSE'}"
      ]
     },
     "execution_count": 173,
     "metadata": {},
     "output_type": "execute_result"
    }
   ],
   "source": [
    "cv.best_params_"
   ]
  },
  {
   "cell_type": "markdown",
   "metadata": {},
   "source": [
    "# KNN"
   ]
  },
  {
   "cell_type": "code",
   "execution_count": 45,
   "metadata": {},
   "outputs": [],
   "source": [
    "from sklearn.neighbors import KNeighborsRegressor\n",
    "knn=KNeighborsRegressor()"
   ]
  },
  {
   "cell_type": "code",
   "execution_count": 46,
   "metadata": {},
   "outputs": [
    {
     "data": {
      "text/plain": [
       "KNeighborsRegressor(algorithm='auto', leaf_size=30, metric='minkowski',\n",
       "                    metric_params=None, n_jobs=None, n_neighbors=5, p=2,\n",
       "                    weights='uniform')"
      ]
     },
     "execution_count": 46,
     "metadata": {},
     "output_type": "execute_result"
    }
   ],
   "source": [
    "knn.fit(x_train,y_train)"
   ]
  },
  {
   "cell_type": "code",
   "execution_count": 47,
   "metadata": {},
   "outputs": [],
   "source": [
    "pred=knn.predict(x_test)"
   ]
  },
  {
   "cell_type": "code",
   "execution_count": 48,
   "metadata": {},
   "outputs": [],
   "source": [
    "#Error calculation\n",
    "RMSE = np.sqrt(mean_squared_error(y_test, pred))\n",
    "MAE = mean_absolute_error(y_test, pred)\n",
    "r_squre= r2_score(y_test, pred)"
   ]
  },
  {
   "cell_type": "code",
   "execution_count": 49,
   "metadata": {},
   "outputs": [
    {
     "name": "stdout",
     "output_type": "stream",
     "text": [
      "RMSE : 63.00155529944681\n",
      "MAE: 48.61716417910448\n",
      "r_square: 0.36193473852298474\n"
     ]
    }
   ],
   "source": [
    "#Results \n",
    "print('RMSE :',RMSE) \n",
    "print('MAE:', MAE)\n",
    "print(\"r_square:\",r_squre)"
   ]
  },
  {
   "cell_type": "code",
   "execution_count": 106,
   "metadata": {},
   "outputs": [
    {
     "name": "stdout",
     "output_type": "stream",
     "text": [
      "Fitting 3 folds for each of 16 candidates, totalling 48 fits\n"
     ]
    },
    {
     "name": "stderr",
     "output_type": "stream",
     "text": [
      "[Parallel(n_jobs=-1)]: Using backend LokyBackend with 4 concurrent workers.\n",
      "[Parallel(n_jobs=-1)]: Done  41 out of  48 | elapsed:    0.6s remaining:    0.0s\n",
      "[Parallel(n_jobs=-1)]: Done  48 out of  48 | elapsed:    0.7s finished\n"
     ]
    },
    {
     "data": {
      "text/plain": [
       "GridSearchCV(cv=3, error_score=nan,\n",
       "             estimator=KNeighborsRegressor(algorithm='auto', leaf_size=30,\n",
       "                                           metric='minkowski',\n",
       "                                           metric_params=None, n_jobs=None,\n",
       "                                           n_neighbors=5, p=2,\n",
       "                                           weights='uniform'),\n",
       "             iid='deprecated', n_jobs=-1,\n",
       "             param_grid={'algorithm': ['auto', 'ball_tree', 'kd_tree', 'brute'],\n",
       "                         'n_neighbors': [5, 7, 10, 12]},\n",
       "             pre_dispatch='2*n_jobs', refit=True, return_train_score=False,\n",
       "             scoring=None, verbose=1)"
      ]
     },
     "execution_count": 106,
     "metadata": {},
     "output_type": "execute_result"
    }
   ],
   "source": [
    "#Lets do hyperparameter tunning \n",
    "\n",
    "from sklearn.model_selection import GridSearchCV\n",
    "\n",
    "knn1 = KNeighborsRegressor()\n",
    "parameters = {\n",
    "                'n_neighbors': [5,7,10,12],\n",
    "                'algorithm' : ['auto', 'ball_tree', 'kd_tree', 'brute']\n",
    "                \n",
    "               \n",
    "}\n",
    "\n",
    "cv = GridSearchCV(knn1, parameters, cv=3, n_jobs = -1,verbose = 1)\n",
    "cv.fit(x_train, y_train)"
   ]
  },
  {
   "cell_type": "code",
   "execution_count": 107,
   "metadata": {},
   "outputs": [
    {
     "data": {
      "text/plain": [
       "{'algorithm': 'auto', 'n_neighbors': 7}"
      ]
     },
     "execution_count": 107,
     "metadata": {},
     "output_type": "execute_result"
    }
   ],
   "source": [
    "cv.best_params_"
   ]
  },
  {
   "cell_type": "markdown",
   "metadata": {},
   "source": [
    "# Stack Model "
   ]
  },
  {
   "cell_type": "markdown",
   "metadata": {},
   "source": [
    "Lest stack Two models 1. Gradient Boosting 2. CatBoosting \n",
    "And meta estimator- Random Forest \n",
    "\n",
    "This is a special method where we first segment the dataset as training and testing portions.Then we use the training set to train multiple regressors(base learners) and obtain their predictions made on the test set. Then we stack the predicted columns vertically which we consider as features while having the actual values of these samples in the last column as targets.Now we have created a new dataset which we give to another Regressor(meta learner) to identify patterns/relationships between predictions and actual values."
   ]
  },
  {
   "cell_type": "markdown",
   "metadata": {},
   "source": [
    "# Now Lets concat the 2 prediction datafreames and one Actual data frame\n",
    "actual=pd.DataFrame(y_test)"
   ]
  },
  {
   "cell_type": "markdown",
   "metadata": {
    "scrolled": false
   },
   "source": [
    "actual.to_csv(\"True.csv\",index=0,columns=actual.columns)"
   ]
  },
  {
   "cell_type": "markdown",
   "metadata": {},
   "source": [
    "G_pred.columns=[\"Prediction1\"]\n",
    "C_pred.columns=[\"Prediction2\"]"
   ]
  },
  {
   "cell_type": "markdown",
   "metadata": {},
   "source": [
    "sd=pd.read_csv(\"priction_join.csv\")"
   ]
  },
  {
   "cell_type": "markdown",
   "metadata": {
    "scrolled": false
   },
   "source": [
    "sd.info()"
   ]
  },
  {
   "cell_type": "markdown",
   "metadata": {
    "scrolled": true
   },
   "source": [
    "#Lets define X and Y\n",
    "x=sd.drop(\"CT Signal to LIve\",axis=1)\n",
    "y=sd[\"CT Signal to LIve\"]"
   ]
  },
  {
   "cell_type": "markdown",
   "metadata": {},
   "source": [
    "x_train,x_test,y_train,y_test=train_test_split(x,y,test_size=0.3,random_state=100)"
   ]
  },
  {
   "cell_type": "markdown",
   "metadata": {
    "scrolled": false
   },
   "source": [
    "stacker= RandomForestRegressor(n_estimators=100,max_depth=5)"
   ]
  },
  {
   "cell_type": "markdown",
   "metadata": {},
   "source": [
    "stacker.fit(x_train,y_train)"
   ]
  },
  {
   "cell_type": "markdown",
   "metadata": {
    "scrolled": true
   },
   "source": [
    "stcker_pred=stacker.predict(x_test)"
   ]
  },
  {
   "cell_type": "markdown",
   "metadata": {
    "scrolled": true
   },
   "source": [
    "#Error calculation\n",
    "RMSE = np.sqrt(mean_squared_error(y_test, stcker_pred))\n",
    "MAE = mean_absolute_error(y_test, stcker_pred)\n",
    "r_squre= r2_score(y_test, stcker_pred)"
   ]
  },
  {
   "cell_type": "markdown",
   "metadata": {
    "scrolled": true
   },
   "source": [
    "#Results \n",
    "print('RMSE :',RMSE) \n",
    "print('MAE:', MAE)\n",
    "print(\"r_square:\",r_squre)"
   ]
  },
  {
   "cell_type": "markdown",
   "metadata": {
    "scrolled": true
   },
   "source": [
    "#Lets do hyperparameter tunning \n",
    "\n",
    "from sklearn.model_selection import GridSearchCV\n",
    "\n",
    "rf = RandomForestRegressor()\n",
    "parameters = {\n",
    "    'n_estimators': [100,200,300,400,500],\n",
    "    'max_depth' : [2,3,4,5,6,7,8,None]\n",
    "}\n",
    "\n",
    "cv = GridSearchCV(rf, parameters, cv=3, n_jobs = -1,verbose = 1)\n",
    "cv.fit(x_train, y_train)"
   ]
  },
  {
   "cell_type": "markdown",
   "metadata": {
    "scrolled": true
   },
   "source": [
    "cv.best_params_"
   ]
  },
  {
   "cell_type": "code",
   "execution_count": null,
   "metadata": {},
   "outputs": [],
   "source": []
  },
  {
   "cell_type": "code",
   "execution_count": null,
   "metadata": {},
   "outputs": [],
   "source": []
  }
 ],
 "metadata": {
  "kernelspec": {
   "display_name": "Python 3",
   "language": "python",
   "name": "python3"
  },
  "language_info": {
   "codemirror_mode": {
    "name": "ipython",
    "version": 3
   },
   "file_extension": ".py",
   "mimetype": "text/x-python",
   "name": "python",
   "nbconvert_exporter": "python",
   "pygments_lexer": "ipython3",
   "version": "3.7.3"
  }
 },
 "nbformat": 4,
 "nbformat_minor": 4
}
