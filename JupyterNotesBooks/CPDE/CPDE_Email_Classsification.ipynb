{
 "cells": [
  {
   "cell_type": "code",
   "execution_count": 2,
   "metadata": {},
   "outputs": [],
   "source": [
    "import pandas as pd\n",
    "import numpy as np\n",
    "import matplotlib.pyplot as plt\n",
    "import seaborn as sns\n",
    "\n",
    "%matplotlib inline \n",
    "\n",
    "import warnings\n",
    "warnings.filterwarnings(action='ignore')"
   ]
  },
  {
   "cell_type": "markdown",
   "metadata": {},
   "source": [
    "### Let's first do analysis of the Test Data"
   ]
  },
  {
   "cell_type": "code",
   "execution_count": 12,
   "metadata": {
    "scrolled": false
   },
   "outputs": [],
   "source": [
    "#Read the emails Subjets from excel files\n",
    "June = pd.read_excel('Email Raw Data_24Sep20 (version 1).xlsx', sheet_name='June-Month', encoding = \"ISO-8859-1\")\n",
    "July = pd.read_excel('Email Raw Data_24Sep20 (version 1).xlsx', sheet_name='July-Month', encoding = \"ISO-8859-1\")\n",
    "Aug = pd.read_excel('Email Raw Data_24Sep20 (version 1).xlsx', sheet_name='Aug-Month', encoding = \"ISO-8859-1\")\n",
    "Sep = pd.read_excel('Email Raw Data_24Sep20 (version 1).xlsx', sheet_name='Sep-Month', encoding = \"ISO-8859-1\")"
   ]
  },
  {
   "cell_type": "code",
   "execution_count": 13,
   "metadata": {},
   "outputs": [],
   "source": [
    "#Lets Concat all month in One Data Frame\n",
    "data=pd.concat([June,July,Aug,Sep],axis=0)"
   ]
  },
  {
   "cell_type": "code",
   "execution_count": 14,
   "metadata": {
    "scrolled": false
   },
   "outputs": [
    {
     "data": {
      "text/html": [
       "<div>\n",
       "<style scoped>\n",
       "    .dataframe tbody tr th:only-of-type {\n",
       "        vertical-align: middle;\n",
       "    }\n",
       "\n",
       "    .dataframe tbody tr th {\n",
       "        vertical-align: top;\n",
       "    }\n",
       "\n",
       "    .dataframe thead th {\n",
       "        text-align: right;\n",
       "    }\n",
       "</style>\n",
       "<table border=\"1\" class=\"dataframe\">\n",
       "  <thead>\n",
       "    <tr style=\"text-align: right;\">\n",
       "      <th></th>\n",
       "      <th>Subject</th>\n",
       "      <th>Sender</th>\n",
       "      <th>DateTimeReceived</th>\n",
       "      <th>Recevied_Date</th>\n",
       "      <th>ToLine</th>\n",
       "      <th>DatetimeReceivedPST</th>\n",
       "      <th>IsComplete</th>\n",
       "      <th>CompletedDate</th>\n",
       "      <th>CompletedBy</th>\n",
       "      <th>Category</th>\n",
       "      <th>StartTime</th>\n",
       "      <th>ReplyTime</th>\n",
       "      <th>Scored Labels</th>\n",
       "    </tr>\n",
       "  </thead>\n",
       "  <tbody>\n",
       "    <tr>\n",
       "      <th>0</th>\n",
       "      <td>RE: Microsoft New Vendor Application -  Select...</td>\n",
       "      <td>v-niingo@microsoft.com</td>\n",
       "      <td>2020-06-19T14:50:07+00:00</td>\n",
       "      <td>2020-06-19</td>\n",
       "      <td>Meechee.Kim@microsoft.com;F.ElGharib@selectium...</td>\n",
       "      <td>06/19/2020 07:50:7 AM</td>\n",
       "      <td>NaN</td>\n",
       "      <td>NaT</td>\n",
       "      <td>NaN</td>\n",
       "      <td>Reply</td>\n",
       "      <td>2020-06-15 16:45:56</td>\n",
       "      <td>NaT</td>\n",
       "      <td>New vendor</td>\n",
       "    </tr>\n",
       "    <tr>\n",
       "      <th>1</th>\n",
       "      <td>RE: TRIM.20200603.01 - Supplier ID conformatio...</td>\n",
       "      <td>v-parche@microsoft.com</td>\n",
       "      <td>2020-06-19T14:53:12+00:00</td>\n",
       "      <td>2020-06-19</td>\n",
       "      <td>John.Schoonover@microsoft.com;Donald.James@mic...</td>\n",
       "      <td>06/19/2020 07:53:12 AM</td>\n",
       "      <td>NaN</td>\n",
       "      <td>NaT</td>\n",
       "      <td>NaN</td>\n",
       "      <td>NaN</td>\n",
       "      <td>NaT</td>\n",
       "      <td>NaT</td>\n",
       "      <td>CID</td>\n",
       "    </tr>\n",
       "    <tr>\n",
       "      <th>2</th>\n",
       "      <td>RE: E-mail approval request - TRIM.20200416.06</td>\n",
       "      <td>v-parche@microsoft.com</td>\n",
       "      <td>2020-06-19T14:56:20+00:00</td>\n",
       "      <td>2020-06-19</td>\n",
       "      <td>Ruchika.Chinda@microsoft.com</td>\n",
       "      <td>06/19/2020 07:56:20 AM</td>\n",
       "      <td>NaN</td>\n",
       "      <td>NaT</td>\n",
       "      <td>NaN</td>\n",
       "      <td>NaN</td>\n",
       "      <td>NaT</td>\n",
       "      <td>NaT</td>\n",
       "      <td>Approval</td>\n",
       "    </tr>\n",
       "    <tr>\n",
       "      <th>3</th>\n",
       "      <td>RE: DWT Review Requested – MIRAIT Corporation ...</td>\n",
       "      <td>Neda.Vassey@microsoft.com</td>\n",
       "      <td>2020-06-19T14:59:45+00:00</td>\n",
       "      <td>2020-06-19</td>\n",
       "      <td>lauriemitchel@dwt.com;Deland.Mitchell@microsof...</td>\n",
       "      <td>06/19/2020 07:59:45 AM</td>\n",
       "      <td>1.0</td>\n",
       "      <td>2020-06-22 01:40:05.063</td>\n",
       "      <td>v-vanai@microsoft.com</td>\n",
       "      <td>Followup</td>\n",
       "      <td>2020-06-18 09:18:37</td>\n",
       "      <td>NaT</td>\n",
       "      <td>DWT</td>\n",
       "    </tr>\n",
       "    <tr>\n",
       "      <th>4</th>\n",
       "      <td>RE: DWT Review Requested // MANAGEMENT AND CON...</td>\n",
       "      <td>Neda.Vassey@microsoft.com</td>\n",
       "      <td>2020-06-19T15:01:55+00:00</td>\n",
       "      <td>2020-06-19</td>\n",
       "      <td>dwt-msP+C@dwt.com;v-mircon@microsoft.com</td>\n",
       "      <td>06/19/2020 08:01:55 AM</td>\n",
       "      <td>1.0</td>\n",
       "      <td>2020-06-22 08:02:24.000</td>\n",
       "      <td>v-smsalu@microsoft.com</td>\n",
       "      <td>Followup</td>\n",
       "      <td>2020-06-18 09:58:48</td>\n",
       "      <td>NaT</td>\n",
       "      <td>DWT</td>\n",
       "    </tr>\n",
       "  </tbody>\n",
       "</table>\n",
       "</div>"
      ],
      "text/plain": [
       "                                             Subject  \\\n",
       "0  RE: Microsoft New Vendor Application -  Select...   \n",
       "1  RE: TRIM.20200603.01 - Supplier ID conformatio...   \n",
       "2     RE: E-mail approval request - TRIM.20200416.06   \n",
       "3  RE: DWT Review Requested – MIRAIT Corporation ...   \n",
       "4  RE: DWT Review Requested // MANAGEMENT AND CON...   \n",
       "\n",
       "                      Sender           DateTimeReceived Recevied_Date  \\\n",
       "0     v-niingo@microsoft.com  2020-06-19T14:50:07+00:00    2020-06-19   \n",
       "1     v-parche@microsoft.com  2020-06-19T14:53:12+00:00    2020-06-19   \n",
       "2     v-parche@microsoft.com  2020-06-19T14:56:20+00:00    2020-06-19   \n",
       "3  Neda.Vassey@microsoft.com  2020-06-19T14:59:45+00:00    2020-06-19   \n",
       "4  Neda.Vassey@microsoft.com  2020-06-19T15:01:55+00:00    2020-06-19   \n",
       "\n",
       "                                              ToLine     DatetimeReceivedPST  \\\n",
       "0  Meechee.Kim@microsoft.com;F.ElGharib@selectium...   06/19/2020 07:50:7 AM   \n",
       "1  John.Schoonover@microsoft.com;Donald.James@mic...  06/19/2020 07:53:12 AM   \n",
       "2                       Ruchika.Chinda@microsoft.com  06/19/2020 07:56:20 AM   \n",
       "3  lauriemitchel@dwt.com;Deland.Mitchell@microsof...  06/19/2020 07:59:45 AM   \n",
       "4           dwt-msP+C@dwt.com;v-mircon@microsoft.com  06/19/2020 08:01:55 AM   \n",
       "\n",
       "   IsComplete           CompletedDate             CompletedBy  Category  \\\n",
       "0         NaN                     NaT                     NaN     Reply   \n",
       "1         NaN                     NaT                     NaN       NaN   \n",
       "2         NaN                     NaT                     NaN       NaN   \n",
       "3         1.0 2020-06-22 01:40:05.063   v-vanai@microsoft.com  Followup   \n",
       "4         1.0 2020-06-22 08:02:24.000  v-smsalu@microsoft.com  Followup   \n",
       "\n",
       "            StartTime ReplyTime Scored Labels  \n",
       "0 2020-06-15 16:45:56       NaT    New vendor  \n",
       "1                 NaT       NaT           CID  \n",
       "2                 NaT       NaT      Approval  \n",
       "3 2020-06-18 09:18:37       NaT           DWT  \n",
       "4 2020-06-18 09:58:48       NaT           DWT  "
      ]
     },
     "execution_count": 14,
     "metadata": {},
     "output_type": "execute_result"
    }
   ],
   "source": [
    "#Lets check head for June month on data\n",
    "June.head()"
   ]
  },
  {
   "cell_type": "code",
   "execution_count": 15,
   "metadata": {
    "scrolled": true
   },
   "outputs": [
    {
     "data": {
      "text/plain": [
       "Index(['Subject', 'Sender', 'DateTimeReceived', 'Recevied_Date', 'ToLine',\n",
       "       'DatetimeReceivedPST', 'IsComplete', 'CompletedDate', 'CompletedBy',\n",
       "       'Category', 'StartTime', 'ReplyTime', 'Scored Labels'],\n",
       "      dtype='object')"
      ]
     },
     "execution_count": 15,
     "metadata": {},
     "output_type": "execute_result"
    }
   ],
   "source": [
    "June.columns"
   ]
  },
  {
   "cell_type": "code",
   "execution_count": 24,
   "metadata": {},
   "outputs": [],
   "source": [
    "#Making a list of usuful columns\n",
    "col=['Sender', 'Recevied_Date', 'ToLine', 'Category','Scored Labels']\n",
    "June=June[col]"
   ]
  },
  {
   "cell_type": "code",
   "execution_count": 25,
   "metadata": {},
   "outputs": [
    {
     "data": {
      "text/html": [
       "<div>\n",
       "<style scoped>\n",
       "    .dataframe tbody tr th:only-of-type {\n",
       "        vertical-align: middle;\n",
       "    }\n",
       "\n",
       "    .dataframe tbody tr th {\n",
       "        vertical-align: top;\n",
       "    }\n",
       "\n",
       "    .dataframe thead th {\n",
       "        text-align: right;\n",
       "    }\n",
       "</style>\n",
       "<table border=\"1\" class=\"dataframe\">\n",
       "  <thead>\n",
       "    <tr style=\"text-align: right;\">\n",
       "      <th></th>\n",
       "      <th>Sender</th>\n",
       "      <th>Recevied_Date</th>\n",
       "      <th>ToLine</th>\n",
       "      <th>Category</th>\n",
       "      <th>Scored Labels</th>\n",
       "    </tr>\n",
       "  </thead>\n",
       "  <tbody>\n",
       "    <tr>\n",
       "      <th>0</th>\n",
       "      <td>v-niingo@microsoft.com</td>\n",
       "      <td>2020-06-19</td>\n",
       "      <td>Meechee.Kim@microsoft.com;F.ElGharib@selectium...</td>\n",
       "      <td>Reply</td>\n",
       "      <td>New vendor</td>\n",
       "    </tr>\n",
       "    <tr>\n",
       "      <th>1</th>\n",
       "      <td>v-parche@microsoft.com</td>\n",
       "      <td>2020-06-19</td>\n",
       "      <td>John.Schoonover@microsoft.com;Donald.James@mic...</td>\n",
       "      <td>NaN</td>\n",
       "      <td>CID</td>\n",
       "    </tr>\n",
       "    <tr>\n",
       "      <th>2</th>\n",
       "      <td>v-parche@microsoft.com</td>\n",
       "      <td>2020-06-19</td>\n",
       "      <td>Ruchika.Chinda@microsoft.com</td>\n",
       "      <td>NaN</td>\n",
       "      <td>Approval</td>\n",
       "    </tr>\n",
       "    <tr>\n",
       "      <th>3</th>\n",
       "      <td>Neda.Vassey@microsoft.com</td>\n",
       "      <td>2020-06-19</td>\n",
       "      <td>lauriemitchel@dwt.com;Deland.Mitchell@microsof...</td>\n",
       "      <td>Followup</td>\n",
       "      <td>DWT</td>\n",
       "    </tr>\n",
       "    <tr>\n",
       "      <th>4</th>\n",
       "      <td>Neda.Vassey@microsoft.com</td>\n",
       "      <td>2020-06-19</td>\n",
       "      <td>dwt-msP+C@dwt.com;v-mircon@microsoft.com</td>\n",
       "      <td>Followup</td>\n",
       "      <td>DWT</td>\n",
       "    </tr>\n",
       "  </tbody>\n",
       "</table>\n",
       "</div>"
      ],
      "text/plain": [
       "                      Sender Recevied_Date  \\\n",
       "0     v-niingo@microsoft.com    2020-06-19   \n",
       "1     v-parche@microsoft.com    2020-06-19   \n",
       "2     v-parche@microsoft.com    2020-06-19   \n",
       "3  Neda.Vassey@microsoft.com    2020-06-19   \n",
       "4  Neda.Vassey@microsoft.com    2020-06-19   \n",
       "\n",
       "                                              ToLine  Category Scored Labels  \n",
       "0  Meechee.Kim@microsoft.com;F.ElGharib@selectium...     Reply    New vendor  \n",
       "1  John.Schoonover@microsoft.com;Donald.James@mic...       NaN           CID  \n",
       "2                       Ruchika.Chinda@microsoft.com       NaN      Approval  \n",
       "3  lauriemitchel@dwt.com;Deland.Mitchell@microsof...  Followup           DWT  \n",
       "4           dwt-msP+C@dwt.com;v-mircon@microsoft.com  Followup           DWT  "
      ]
     },
     "execution_count": 25,
     "metadata": {},
     "output_type": "execute_result"
    }
   ],
   "source": [
    "June.head()"
   ]
  },
  {
   "cell_type": "code",
   "execution_count": 26,
   "metadata": {},
   "outputs": [
    {
     "data": {
      "text/plain": [
       "Sender            729\n",
       "Recevied_Date      30\n",
       "ToLine           3746\n",
       "Category            4\n",
       "Scored Labels      55\n",
       "dtype: int64"
      ]
     },
     "execution_count": 26,
     "metadata": {},
     "output_type": "execute_result"
    }
   ],
   "source": [
    "June[:].nunique()"
   ]
  },
  {
   "cell_type": "code",
   "execution_count": 27,
   "metadata": {
    "scrolled": false
   },
   "outputs": [
    {
     "data": {
      "image/png": "[encoded data removed]",
      "text/plain": [
       "<Figure size 1152x360 with 1 Axes>"
      ]
     },
     "metadata": {
      "needs_background": "light"
     },
     "output_type": "display_data"
    }
   ],
   "source": [
    "#This Shows in Month of June, emails of \"Need Classification\" are more than the rest. \n",
    "June['Scored Labels'].value_counts(normalize=True).plot.bar(figsize=(16,5))\n",
    "plt.show()"
   ]
  },
  {
   "cell_type": "code",
   "execution_count": 20,
   "metadata": {},
   "outputs": [
    {
     "data": {
      "text/html": [
       "<div>\n",
       "<style scoped>\n",
       "    .dataframe tbody tr th:only-of-type {\n",
       "        vertical-align: middle;\n",
       "    }\n",
       "\n",
       "    .dataframe tbody tr th {\n",
       "        vertical-align: top;\n",
       "    }\n",
       "\n",
       "    .dataframe thead th {\n",
       "        text-align: right;\n",
       "    }\n",
       "</style>\n",
       "<table border=\"1\" class=\"dataframe\">\n",
       "  <thead>\n",
       "    <tr style=\"text-align: right;\">\n",
       "      <th></th>\n",
       "      <th>Subject</th>\n",
       "      <th>Sender</th>\n",
       "      <th>DateTimeReceived</th>\n",
       "      <th>Recevied_Date</th>\n",
       "      <th>ToLine</th>\n",
       "      <th>DatetimeReceivedPST</th>\n",
       "      <th>IsComplete</th>\n",
       "      <th>CompletedDate</th>\n",
       "      <th>CompletedBy</th>\n",
       "      <th>Category</th>\n",
       "      <th>StartTime</th>\n",
       "      <th>ReplyTime</th>\n",
       "      <th>Scored Labels</th>\n",
       "      <th>Subject_part1</th>\n",
       "      <th>Subject_part2</th>\n",
       "      <th>Subject_part3</th>\n",
       "      <th>Subject_part4</th>\n",
       "      <th>Subject_part5</th>\n",
       "      <th>Subject_part6</th>\n",
       "    </tr>\n",
       "  </thead>\n",
       "  <tbody>\n",
       "    <tr>\n",
       "      <th>0</th>\n",
       "      <td>RE: Microsoft New Vendor Application -  Select...</td>\n",
       "      <td>v-niingo@microsoft.com</td>\n",
       "      <td>2020-06-19T14:50:07+00:00</td>\n",
       "      <td>2020-06-19</td>\n",
       "      <td>Meechee.Kim@microsoft.com;F.ElGharib@selectium...</td>\n",
       "      <td>06/19/2020 07:50:7 AM</td>\n",
       "      <td>NaN</td>\n",
       "      <td>NaT</td>\n",
       "      <td>NaN</td>\n",
       "      <td>Reply</td>\n",
       "      <td>2020-06-15 16:45:56</td>\n",
       "      <td>NaT</td>\n",
       "      <td>New vendor</td>\n",
       "      <td>NaN</td>\n",
       "      <td>NaN</td>\n",
       "      <td>NaN</td>\n",
       "      <td>NaN</td>\n",
       "      <td>NaN</td>\n",
       "      <td>NaN</td>\n",
       "    </tr>\n",
       "    <tr>\n",
       "      <th>1</th>\n",
       "      <td>RE: TRIM.20200603.01 - Supplier ID conformatio...</td>\n",
       "      <td>v-parche@microsoft.com</td>\n",
       "      <td>2020-06-19T14:53:12+00:00</td>\n",
       "      <td>2020-06-19</td>\n",
       "      <td>John.Schoonover@microsoft.com;Donald.James@mic...</td>\n",
       "      <td>06/19/2020 07:53:12 AM</td>\n",
       "      <td>NaN</td>\n",
       "      <td>NaT</td>\n",
       "      <td>NaN</td>\n",
       "      <td>NaN</td>\n",
       "      <td>NaT</td>\n",
       "      <td>NaT</td>\n",
       "      <td>CID</td>\n",
       "      <td>NaN</td>\n",
       "      <td>NaN</td>\n",
       "      <td>NaN</td>\n",
       "      <td>NaN</td>\n",
       "      <td>NaN</td>\n",
       "      <td>NaN</td>\n",
       "    </tr>\n",
       "    <tr>\n",
       "      <th>2</th>\n",
       "      <td>RE: E-mail approval request - TRIM.20200416.06</td>\n",
       "      <td>v-parche@microsoft.com</td>\n",
       "      <td>2020-06-19T14:56:20+00:00</td>\n",
       "      <td>2020-06-19</td>\n",
       "      <td>Ruchika.Chinda@microsoft.com</td>\n",
       "      <td>06/19/2020 07:56:20 AM</td>\n",
       "      <td>NaN</td>\n",
       "      <td>NaT</td>\n",
       "      <td>NaN</td>\n",
       "      <td>NaN</td>\n",
       "      <td>NaT</td>\n",
       "      <td>NaT</td>\n",
       "      <td>Approval</td>\n",
       "      <td>NaN</td>\n",
       "      <td>NaN</td>\n",
       "      <td>NaN</td>\n",
       "      <td>NaN</td>\n",
       "      <td>NaN</td>\n",
       "      <td>NaN</td>\n",
       "    </tr>\n",
       "    <tr>\n",
       "      <th>3</th>\n",
       "      <td>RE: DWT Review Requested – MIRAIT Corporation ...</td>\n",
       "      <td>Neda.Vassey@microsoft.com</td>\n",
       "      <td>2020-06-19T14:59:45+00:00</td>\n",
       "      <td>2020-06-19</td>\n",
       "      <td>lauriemitchel@dwt.com;Deland.Mitchell@microsof...</td>\n",
       "      <td>06/19/2020 07:59:45 AM</td>\n",
       "      <td>1.0</td>\n",
       "      <td>2020-06-22 01:40:05.063</td>\n",
       "      <td>v-vanai@microsoft.com</td>\n",
       "      <td>Followup</td>\n",
       "      <td>2020-06-18 09:18:37</td>\n",
       "      <td>NaT</td>\n",
       "      <td>DWT</td>\n",
       "      <td>NaN</td>\n",
       "      <td>NaN</td>\n",
       "      <td>NaN</td>\n",
       "      <td>NaN</td>\n",
       "      <td>NaN</td>\n",
       "      <td>NaN</td>\n",
       "    </tr>\n",
       "    <tr>\n",
       "      <th>4</th>\n",
       "      <td>RE: DWT Review Requested // MANAGEMENT AND CON...</td>\n",
       "      <td>Neda.Vassey@microsoft.com</td>\n",
       "      <td>2020-06-19T15:01:55+00:00</td>\n",
       "      <td>2020-06-19</td>\n",
       "      <td>dwt-msP+C@dwt.com;v-mircon@microsoft.com</td>\n",
       "      <td>06/19/2020 08:01:55 AM</td>\n",
       "      <td>1.0</td>\n",
       "      <td>2020-06-22 08:02:24.000</td>\n",
       "      <td>v-smsalu@microsoft.com</td>\n",
       "      <td>Followup</td>\n",
       "      <td>2020-06-18 09:58:48</td>\n",
       "      <td>NaT</td>\n",
       "      <td>DWT</td>\n",
       "      <td>NaN</td>\n",
       "      <td>NaN</td>\n",
       "      <td>NaN</td>\n",
       "      <td>NaN</td>\n",
       "      <td>NaN</td>\n",
       "      <td>NaN</td>\n",
       "    </tr>\n",
       "  </tbody>\n",
       "</table>\n",
       "</div>"
      ],
      "text/plain": [
       "                                             Subject  \\\n",
       "0  RE: Microsoft New Vendor Application -  Select...   \n",
       "1  RE: TRIM.20200603.01 - Supplier ID conformatio...   \n",
       "2     RE: E-mail approval request - TRIM.20200416.06   \n",
       "3  RE: DWT Review Requested – MIRAIT Corporation ...   \n",
       "4  RE: DWT Review Requested // MANAGEMENT AND CON...   \n",
       "\n",
       "                      Sender           DateTimeReceived Recevied_Date  \\\n",
       "0     v-niingo@microsoft.com  2020-06-19T14:50:07+00:00    2020-06-19   \n",
       "1     v-parche@microsoft.com  2020-06-19T14:53:12+00:00    2020-06-19   \n",
       "2     v-parche@microsoft.com  2020-06-19T14:56:20+00:00    2020-06-19   \n",
       "3  Neda.Vassey@microsoft.com  2020-06-19T14:59:45+00:00    2020-06-19   \n",
       "4  Neda.Vassey@microsoft.com  2020-06-19T15:01:55+00:00    2020-06-19   \n",
       "\n",
       "                                              ToLine     DatetimeReceivedPST  \\\n",
       "0  Meechee.Kim@microsoft.com;F.ElGharib@selectium...   06/19/2020 07:50:7 AM   \n",
       "1  John.Schoonover@microsoft.com;Donald.James@mic...  06/19/2020 07:53:12 AM   \n",
       "2                       Ruchika.Chinda@microsoft.com  06/19/2020 07:56:20 AM   \n",
       "3  lauriemitchel@dwt.com;Deland.Mitchell@microsof...  06/19/2020 07:59:45 AM   \n",
       "4           dwt-msP+C@dwt.com;v-mircon@microsoft.com  06/19/2020 08:01:55 AM   \n",
       "\n",
       "   IsComplete           CompletedDate             CompletedBy  Category  \\\n",
       "0         NaN                     NaT                     NaN     Reply   \n",
       "1         NaN                     NaT                     NaN       NaN   \n",
       "2         NaN                     NaT                     NaN       NaN   \n",
       "3         1.0 2020-06-22 01:40:05.063   v-vanai@microsoft.com  Followup   \n",
       "4         1.0 2020-06-22 08:02:24.000  v-smsalu@microsoft.com  Followup   \n",
       "\n",
       "            StartTime ReplyTime Scored Labels Subject_part1 Subject_part2  \\\n",
       "0 2020-06-15 16:45:56       NaT    New vendor           NaN           NaN   \n",
       "1                 NaT       NaT           CID           NaN           NaN   \n",
       "2                 NaT       NaT      Approval           NaN           NaN   \n",
       "3 2020-06-18 09:18:37       NaT           DWT           NaN           NaN   \n",
       "4 2020-06-18 09:58:48       NaT           DWT           NaN           NaN   \n",
       "\n",
       "  Subject_part3 Subject_part4 Subject_part5 Subject_part6  \n",
       "0           NaN           NaN           NaN           NaN  \n",
       "1           NaN           NaN           NaN           NaN  \n",
       "2           NaN           NaN           NaN           NaN  \n",
       "3           NaN           NaN           NaN           NaN  \n",
       "4           NaN           NaN           NaN           NaN  "
      ]
     },
     "execution_count": 20,
     "metadata": {},
     "output_type": "execute_result"
    }
   ],
   "source": [
    "#Lets check for concat data\n",
    "data.head()"
   ]
  },
  {
   "cell_type": "code",
   "execution_count": 23,
   "metadata": {},
   "outputs": [
    {
     "name": "stdout",
     "output_type": "stream",
     "text": [
      "<class 'pandas.core.frame.DataFrame'>\n",
      "Int64Index: 27260 entries, 0 to 5154\n",
      "Data columns (total 19 columns):\n",
      " #   Column               Non-Null Count  Dtype         \n",
      "---  ------               --------------  -----         \n",
      " 0   Subject              27260 non-null  object        \n",
      " 1   Sender               27260 non-null  object        \n",
      " 2   DateTimeReceived     27260 non-null  object        \n",
      " 3   Recevied_Date        27260 non-null  datetime64[ns]\n",
      " 4   ToLine               27177 non-null  object        \n",
      " 5   DatetimeReceivedPST  27260 non-null  object        \n",
      " 6   IsComplete           4323 non-null   float64       \n",
      " 7   CompletedDate        4323 non-null   datetime64[ns]\n",
      " 8   CompletedBy          2817 non-null   object        \n",
      " 9   Category             17923 non-null  object        \n",
      " 10  StartTime            19661 non-null  datetime64[ns]\n",
      " 11  ReplyTime            4766 non-null   datetime64[ns]\n",
      " 12  Scored Labels        27260 non-null  object        \n",
      " 13  Subject_part1        10790 non-null  object        \n",
      " 14  Subject_part2        6321 non-null   object        \n",
      " 15  Subject_part3        5140 non-null   object        \n",
      " 16  Subject_part4        3170 non-null   object        \n",
      " 17  Subject_part5        104 non-null    object        \n",
      " 18  Subject_part6        6 non-null      object        \n",
      "dtypes: datetime64[ns](4), float64(1), object(14)\n",
      "memory usage: 4.2+ MB\n"
     ]
    }
   ],
   "source": [
    "data.info()"
   ]
  },
  {
   "cell_type": "code",
   "execution_count": 28,
   "metadata": {},
   "outputs": [],
   "source": [
    "#Taking only useful columns\n",
    "data1=data[col]"
   ]
  },
  {
   "cell_type": "code",
   "execution_count": 29,
   "metadata": {
    "scrolled": false
   },
   "outputs": [
    {
     "data": {
      "text/html": [
       "<div>\n",
       "<style scoped>\n",
       "    .dataframe tbody tr th:only-of-type {\n",
       "        vertical-align: middle;\n",
       "    }\n",
       "\n",
       "    .dataframe tbody tr th {\n",
       "        vertical-align: top;\n",
       "    }\n",
       "\n",
       "    .dataframe thead th {\n",
       "        text-align: right;\n",
       "    }\n",
       "</style>\n",
       "<table border=\"1\" class=\"dataframe\">\n",
       "  <thead>\n",
       "    <tr style=\"text-align: right;\">\n",
       "      <th></th>\n",
       "      <th>Sender</th>\n",
       "      <th>Recevied_Date</th>\n",
       "      <th>ToLine</th>\n",
       "      <th>Category</th>\n",
       "      <th>Scored Labels</th>\n",
       "    </tr>\n",
       "  </thead>\n",
       "  <tbody>\n",
       "    <tr>\n",
       "      <th>0</th>\n",
       "      <td>v-niingo@microsoft.com</td>\n",
       "      <td>2020-06-19</td>\n",
       "      <td>Meechee.Kim@microsoft.com;F.ElGharib@selectium...</td>\n",
       "      <td>Reply</td>\n",
       "      <td>New vendor</td>\n",
       "    </tr>\n",
       "    <tr>\n",
       "      <th>1</th>\n",
       "      <td>v-parche@microsoft.com</td>\n",
       "      <td>2020-06-19</td>\n",
       "      <td>John.Schoonover@microsoft.com;Donald.James@mic...</td>\n",
       "      <td>NaN</td>\n",
       "      <td>CID</td>\n",
       "    </tr>\n",
       "    <tr>\n",
       "      <th>2</th>\n",
       "      <td>v-parche@microsoft.com</td>\n",
       "      <td>2020-06-19</td>\n",
       "      <td>Ruchika.Chinda@microsoft.com</td>\n",
       "      <td>NaN</td>\n",
       "      <td>Approval</td>\n",
       "    </tr>\n",
       "    <tr>\n",
       "      <th>3</th>\n",
       "      <td>Neda.Vassey@microsoft.com</td>\n",
       "      <td>2020-06-19</td>\n",
       "      <td>lauriemitchel@dwt.com;Deland.Mitchell@microsof...</td>\n",
       "      <td>Followup</td>\n",
       "      <td>DWT</td>\n",
       "    </tr>\n",
       "    <tr>\n",
       "      <th>4</th>\n",
       "      <td>Neda.Vassey@microsoft.com</td>\n",
       "      <td>2020-06-19</td>\n",
       "      <td>dwt-msP+C@dwt.com;v-mircon@microsoft.com</td>\n",
       "      <td>Followup</td>\n",
       "      <td>DWT</td>\n",
       "    </tr>\n",
       "  </tbody>\n",
       "</table>\n",
       "</div>"
      ],
      "text/plain": [
       "                      Sender Recevied_Date  \\\n",
       "0     v-niingo@microsoft.com    2020-06-19   \n",
       "1     v-parche@microsoft.com    2020-06-19   \n",
       "2     v-parche@microsoft.com    2020-06-19   \n",
       "3  Neda.Vassey@microsoft.com    2020-06-19   \n",
       "4  Neda.Vassey@microsoft.com    2020-06-19   \n",
       "\n",
       "                                              ToLine  Category Scored Labels  \n",
       "0  Meechee.Kim@microsoft.com;F.ElGharib@selectium...     Reply    New vendor  \n",
       "1  John.Schoonover@microsoft.com;Donald.James@mic...       NaN           CID  \n",
       "2                       Ruchika.Chinda@microsoft.com       NaN      Approval  \n",
       "3  lauriemitchel@dwt.com;Deland.Mitchell@microsof...  Followup           DWT  \n",
       "4           dwt-msP+C@dwt.com;v-mircon@microsoft.com  Followup           DWT  "
      ]
     },
     "execution_count": 29,
     "metadata": {},
     "output_type": "execute_result"
    }
   ],
   "source": [
    "data1.head()"
   ]
  },
  {
   "cell_type": "code",
   "execution_count": 30,
   "metadata": {},
   "outputs": [],
   "source": [
    "data1.to_csv('Concat_all.csv',index=0,columns=data1.columns)"
   ]
  },
  {
   "cell_type": "code",
   "execution_count": 31,
   "metadata": {},
   "outputs": [],
   "source": [
    "data2=pd.read_csv('Concat_all.csv',encoding=\"ISO-8859-1\")"
   ]
  },
  {
   "cell_type": "code",
   "execution_count": 32,
   "metadata": {
    "scrolled": false
   },
   "outputs": [
    {
     "name": "stdout",
     "output_type": "stream",
     "text": [
      "<class 'pandas.core.frame.DataFrame'>\n",
      "RangeIndex: 27260 entries, 0 to 27259\n",
      "Data columns (total 23 columns):\n",
      " #   Column         Non-Null Count  Dtype \n",
      "---  ------         --------------  ----- \n",
      " 0   Sender         27260 non-null  object\n",
      " 1   Recevied_Date  27260 non-null  object\n",
      " 2   ToLine         27177 non-null  object\n",
      " 3   Category       17923 non-null  object\n",
      " 4   Scored_Labels  27260 non-null  object\n",
      " 5   ToLine1        27177 non-null  object\n",
      " 6   ToLine2        14749 non-null  object\n",
      " 7   ToLine3        7729 non-null   object\n",
      " 8   ToLine4        4285 non-null   object\n",
      " 9   ToLine5        2655 non-null   object\n",
      " 10  ToLine6        1664 non-null   object\n",
      " 11  ToLine7        1186 non-null   object\n",
      " 12  ToLine8        834 non-null    object\n",
      " 13  ToLine9        763 non-null    object\n",
      " 14  ToLine10       713 non-null    object\n",
      " 15  ToLine11       664 non-null    object\n",
      " 16  ToLine12       636 non-null    object\n",
      " 17  ToLine13       39 non-null     object\n",
      " 18  ToLine14       30 non-null     object\n",
      " 19  ToLine15       19 non-null     object\n",
      " 20  ToLine16       16 non-null     object\n",
      " 21  ToLine17       8 non-null      object\n",
      " 22  ToLine18       2 non-null      object\n",
      "dtypes: object(23)\n",
      "memory usage: 4.8+ MB\n"
     ]
    }
   ],
   "source": [
    "data2.info()"
   ]
  },
  {
   "cell_type": "code",
   "execution_count": 33,
   "metadata": {},
   "outputs": [
    {
     "data": {
      "text/plain": [
       "Index(['Sender', 'Recevied_Date', 'ToLine', 'Category', 'Scored_Labels',\n",
       "       'ToLine1', 'ToLine2', 'ToLine3', 'ToLine4', 'ToLine5', 'ToLine6',\n",
       "       'ToLine7', 'ToLine8', 'ToLine9', 'ToLine10', 'ToLine11', 'ToLine12',\n",
       "       'ToLine13', 'ToLine14', 'ToLine15', 'ToLine16', 'ToLine17', 'ToLine18'],\n",
       "      dtype='object')"
      ]
     },
     "execution_count": 33,
     "metadata": {},
     "output_type": "execute_result"
    }
   ],
   "source": [
    "data2.columns"
   ]
  },
  {
   "cell_type": "code",
   "execution_count": 35,
   "metadata": {},
   "outputs": [],
   "source": [
    "#At first Will consider only One person in the ToLine so that would be ToLine1. \n",
    "data2.drop([ 'ToLine','ToLine2', 'ToLine3', 'ToLine4', 'ToLine5', 'ToLine6',\n",
    "       'ToLine7', 'ToLine8', 'ToLine9', 'ToLine10', 'ToLine11', 'ToLine12',\n",
    "       'ToLine13', 'ToLine14', 'ToLine15', 'ToLine16', 'ToLine17', 'ToLine18'],axis=1,inplace=True)"
   ]
  },
  {
   "cell_type": "code",
   "execution_count": 37,
   "metadata": {},
   "outputs": [
    {
     "data": {
      "text/html": [
       "<div>\n",
       "<style scoped>\n",
       "    .dataframe tbody tr th:only-of-type {\n",
       "        vertical-align: middle;\n",
       "    }\n",
       "\n",
       "    .dataframe tbody tr th {\n",
       "        vertical-align: top;\n",
       "    }\n",
       "\n",
       "    .dataframe thead th {\n",
       "        text-align: right;\n",
       "    }\n",
       "</style>\n",
       "<table border=\"1\" class=\"dataframe\">\n",
       "  <thead>\n",
       "    <tr style=\"text-align: right;\">\n",
       "      <th></th>\n",
       "      <th>Sender</th>\n",
       "      <th>Recevied_Date</th>\n",
       "      <th>Category</th>\n",
       "      <th>Scored_Labels</th>\n",
       "      <th>ToLine1</th>\n",
       "    </tr>\n",
       "  </thead>\n",
       "  <tbody>\n",
       "    <tr>\n",
       "      <th>0</th>\n",
       "      <td>v-niingo@microsoft.com</td>\n",
       "      <td>6/19/2020</td>\n",
       "      <td>Reply</td>\n",
       "      <td>New vendor</td>\n",
       "      <td>Meechee.Kim</td>\n",
       "    </tr>\n",
       "    <tr>\n",
       "      <th>1</th>\n",
       "      <td>v-parche@microsoft.com</td>\n",
       "      <td>6/19/2020</td>\n",
       "      <td>NaN</td>\n",
       "      <td>CID</td>\n",
       "      <td>John.Schoonover</td>\n",
       "    </tr>\n",
       "    <tr>\n",
       "      <th>2</th>\n",
       "      <td>v-parche@microsoft.com</td>\n",
       "      <td>6/19/2020</td>\n",
       "      <td>NaN</td>\n",
       "      <td>Approval</td>\n",
       "      <td>Ruchika.Chinda</td>\n",
       "    </tr>\n",
       "    <tr>\n",
       "      <th>3</th>\n",
       "      <td>Neda.Vassey@microsoft.com</td>\n",
       "      <td>6/19/2020</td>\n",
       "      <td>Followup</td>\n",
       "      <td>DWT</td>\n",
       "      <td>lauriemitchel</td>\n",
       "    </tr>\n",
       "    <tr>\n",
       "      <th>4</th>\n",
       "      <td>Neda.Vassey@microsoft.com</td>\n",
       "      <td>6/19/2020</td>\n",
       "      <td>Followup</td>\n",
       "      <td>DWT</td>\n",
       "      <td>dwt-msP+C</td>\n",
       "    </tr>\n",
       "  </tbody>\n",
       "</table>\n",
       "</div>"
      ],
      "text/plain": [
       "                      Sender Recevied_Date  Category Scored_Labels  \\\n",
       "0     v-niingo@microsoft.com     6/19/2020     Reply    New vendor   \n",
       "1     v-parche@microsoft.com     6/19/2020       NaN           CID   \n",
       "2     v-parche@microsoft.com     6/19/2020       NaN      Approval   \n",
       "3  Neda.Vassey@microsoft.com     6/19/2020  Followup           DWT   \n",
       "4  Neda.Vassey@microsoft.com     6/19/2020  Followup           DWT   \n",
       "\n",
       "           ToLine1  \n",
       "0      Meechee.Kim  \n",
       "1  John.Schoonover  \n",
       "2   Ruchika.Chinda  \n",
       "3    lauriemitchel  \n",
       "4        dwt-msP+C  "
      ]
     },
     "execution_count": 37,
     "metadata": {},
     "output_type": "execute_result"
    }
   ],
   "source": [
    "data2.head()"
   ]
  },
  {
   "cell_type": "code",
   "execution_count": 38,
   "metadata": {},
   "outputs": [
    {
     "data": {
      "image/png": "[encoded data removed]",
      "text/plain": [
       "<Figure size 1152x360 with 1 Axes>"
      ]
     },
     "metadata": {
      "needs_background": "light"
     },
     "output_type": "display_data"
    }
   ],
   "source": [
    "#This Shows in Month of June, emails of \"Need Classification\" are more than the rest. \n",
    "data2['Scored_Labels'].value_counts(normalize=True).plot.bar(figsize=(16,5))\n",
    "plt.show()"
   ]
  },
  {
   "cell_type": "code",
   "execution_count": 40,
   "metadata": {},
   "outputs": [
    {
     "data": {
      "text/plain": [
       "Sender           1342\n",
       "Recevied_Date     115\n",
       "Category            4\n",
       "Scored_Labels      56\n",
       "ToLine1          1676\n",
       "dtype: int64"
      ]
     },
     "execution_count": 40,
     "metadata": {},
     "output_type": "execute_result"
    }
   ],
   "source": [
    "data2[:].nunique()"
   ]
  },
  {
   "cell_type": "code",
   "execution_count": 42,
   "metadata": {},
   "outputs": [],
   "source": [
    "Quotation= data2[data2['Scored_Labels']=='Quotation']"
   ]
  },
  {
   "cell_type": "code",
   "execution_count": 48,
   "metadata": {},
   "outputs": [
    {
     "data": {
      "text/plain": [
       "v-pradn        135\n",
       "v-prasma       135\n",
       "v-shvaib       134\n",
       "v-lashir       110\n",
       "v-pakotu       109\n",
       "              ... \n",
       "harshadj         1\n",
       "Eric.Keiser      1\n",
       "bburkh           1\n",
       "v-jemoor         1\n",
       "brmil            1\n",
       "Name: ToLine1, Length: 412, dtype: int64"
      ]
     },
     "execution_count": 48,
     "metadata": {},
     "output_type": "execute_result"
    }
   ],
   "source": [
    "Quotation['ToLine1'].value_counts()"
   ]
  },
  {
   "cell_type": "code",
   "execution_count": null,
   "metadata": {},
   "outputs": [],
   "source": []
  },
  {
   "cell_type": "code",
   "execution_count": null,
   "metadata": {},
   "outputs": [],
   "source": []
  }
 ],
 "metadata": {
  "kernelspec": {
   "display_name": "Python 3",
   "language": "python",
   "name": "python3"
  },
  "language_info": {
   "codemirror_mode": {
    "name": "ipython",
    "version": 3
   },
   "file_extension": ".py",
   "mimetype": "text/x-python",
   "name": "python",
   "nbconvert_exporter": "python",
   "pygments_lexer": "ipython3",
   "version": "3.8.3"
  }
 },
 "nbformat": 4,
 "nbformat_minor": 4
}
