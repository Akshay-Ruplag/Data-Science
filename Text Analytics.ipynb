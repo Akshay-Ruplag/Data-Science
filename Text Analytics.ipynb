{
 "cells": [
  {
   "cell_type": "markdown",
   "metadata": {},
   "source": [
    "# Text Analytics\n",
    "In text analytics, we will be converting Unstructed data to structured data.\n",
    "After converting the Unstructed data to structured data, we will predict the ticket category using Random Forest classification method.\n",
    "## Basic feature extraction using text data<br>"
   ]
  },
  {
   "cell_type": "code",
   "execution_count": 1,
   "metadata": {},
   "outputs": [],
   "source": [
    "import numpy as np\n",
    "import pandas as pd\n",
    "import nltk\n",
    "from nltk.corpus import stopwords\n",
    "#!pip install textblob\n",
    "from textblob import TextBlob\n",
    "from textblob import Word\n",
    "from nltk.stem import PorterStemmer\n",
    "from sklearn.feature_extraction.text import CountVectorizer\n",
    "from scipy.sparse import csr_matrix"
   ]
  },
  {
   "cell_type": "code",
   "execution_count": 55,
   "metadata": {},
   "outputs": [
    {
     "name": "stdout",
     "output_type": "stream",
     "text": [
      "<class 'pandas.core.frame.DataFrame'>\n",
      "RangeIndex: 13459 entries, 0 to 13458\n",
      "Data columns (total 3 columns):\n",
      "IncidentId       13459 non-null int64\n",
      "Title            13459 non-null object\n",
      "ComponentName    13459 non-null object\n",
      "dtypes: int64(1), object(2)\n",
      "memory usage: 315.5+ KB\n"
     ]
    }
   ],
   "source": [
    "#Read the ticket from CSV files\n",
    "tickets = pd.read_csv('ICMTickets.csv', encoding = \"ISO-8859-1\")\n",
    "tickets.info()"
   ]
  },
  {
   "cell_type": "code",
   "execution_count": 70,
   "metadata": {},
   "outputs": [
    {
     "name": "stdout",
     "output_type": "stream",
     "text": [
      "11.135002600490377\n"
     ]
    },
    {
     "data": {
      "text/html": [
       "<div>\n",
       "<style scoped>\n",
       "    .dataframe tbody tr th:only-of-type {\n",
       "        vertical-align: middle;\n",
       "    }\n",
       "\n",
       "    .dataframe tbody tr th {\n",
       "        vertical-align: top;\n",
       "    }\n",
       "\n",
       "    .dataframe thead th {\n",
       "        text-align: right;\n",
       "    }\n",
       "</style>\n",
       "<table border=\"1\" class=\"dataframe\">\n",
       "  <thead>\n",
       "    <tr style=\"text-align: right;\">\n",
       "      <th></th>\n",
       "      <th>IncidentId</th>\n",
       "      <th>Title</th>\n",
       "      <th>ComponentName</th>\n",
       "      <th>word_count</th>\n",
       "      <th>stopwords</th>\n",
       "    </tr>\n",
       "  </thead>\n",
       "  <tbody>\n",
       "    <tr>\n",
       "      <th>0</th>\n",
       "      <td>102933628</td>\n",
       "      <td>Server:BN1DA101 Event2003.HP Sensor.A temperat...</td>\n",
       "      <td>Event Monitoring Alerts</td>\n",
       "      <td>39</td>\n",
       "      <td>13</td>\n",
       "    </tr>\n",
       "    <tr>\n",
       "      <th>1</th>\n",
       "      <td>91337227</td>\n",
       "      <td>Server:BN1DA114 Event2003.HP Sensor.A temperat...</td>\n",
       "      <td>Event Monitoring Alerts</td>\n",
       "      <td>39</td>\n",
       "      <td>13</td>\n",
       "    </tr>\n",
       "    <tr>\n",
       "      <th>2</th>\n",
       "      <td>71375266</td>\n",
       "      <td>Server:BN1DA282 Event103.HP Smart Array;Desc:A...</td>\n",
       "      <td>Event Monitoring Alerts</td>\n",
       "      <td>81</td>\n",
       "      <td>25</td>\n",
       "    </tr>\n",
       "    <tr>\n",
       "      <th>3</th>\n",
       "      <td>69122680</td>\n",
       "      <td>Server:BN1DA282 Event2003.HP Sensor.A temperat...</td>\n",
       "      <td>Event Monitoring Alerts</td>\n",
       "      <td>39</td>\n",
       "      <td>13</td>\n",
       "    </tr>\n",
       "    <tr>\n",
       "      <th>4</th>\n",
       "      <td>68964337</td>\n",
       "      <td>Server:IEBRBI-DATAVIZ3 Event2003.HP Sensor.A t...</td>\n",
       "      <td>Event Monitoring Alerts</td>\n",
       "      <td>39</td>\n",
       "      <td>13</td>\n",
       "    </tr>\n",
       "  </tbody>\n",
       "</table>\n",
       "</div>"
      ],
      "text/plain": [
       "   IncidentId                                              Title  \\\n",
       "0   102933628  Server:BN1DA101 Event2003.HP Sensor.A temperat...   \n",
       "1    91337227  Server:BN1DA114 Event2003.HP Sensor.A temperat...   \n",
       "2    71375266  Server:BN1DA282 Event103.HP Smart Array;Desc:A...   \n",
       "3    69122680  Server:BN1DA282 Event2003.HP Sensor.A temperat...   \n",
       "4    68964337  Server:IEBRBI-DATAVIZ3 Event2003.HP Sensor.A t...   \n",
       "\n",
       "             ComponentName  word_count  stopwords  \n",
       "0  Event Monitoring Alerts          39         13  \n",
       "1  Event Monitoring Alerts          39         13  \n",
       "2  Event Monitoring Alerts          81         25  \n",
       "3  Event Monitoring Alerts          39         13  \n",
       "4  Event Monitoring Alerts          39         13  "
      ]
     },
     "execution_count": 70,
     "metadata": {},
     "output_type": "execute_result"
    }
   ],
   "source": [
    "# Let's check how many words are present in each ticket\n",
    "tickets['word_count'] = tickets['Title'].apply(lambda x: len(str(x).split()))\n",
    "print(tickets['word_count'].mean())\n",
    "stop = stopwords.words('english') # Create stop words\n",
    "#print(stop)\n",
    "tickets['stopwords'] = tickets['Title'].apply(lambda x: len([x for x in x.split() if x in stop]))\n",
    "tickets.head()"
   ]
  },
  {
   "cell_type": "markdown",
   "metadata": {},
   "source": [
    "## Basic Text Pre-processing of text data\n",
    "Lower casing<br>\n",
    "Punctuation removal<br>\n",
    "Stopwords removal<br>\n",
    "Frequent words removal<br>\n",
    "Rare words removal<br>\n",
    "Spelling correction<br>\n",
    "Tokenization<br>\n",
    "Stemming<br>\n",
    "Lemmatization<br>"
   ]
  },
  {
   "cell_type": "code",
   "execution_count": 75,
   "metadata": {},
   "outputs": [
    {
     "data": {
      "text/html": [
       "<div>\n",
       "<style scoped>\n",
       "    .dataframe tbody tr th:only-of-type {\n",
       "        vertical-align: middle;\n",
       "    }\n",
       "\n",
       "    .dataframe tbody tr th {\n",
       "        vertical-align: top;\n",
       "    }\n",
       "\n",
       "    .dataframe thead th {\n",
       "        text-align: right;\n",
       "    }\n",
       "</style>\n",
       "<table border=\"1\" class=\"dataframe\">\n",
       "  <thead>\n",
       "    <tr style=\"text-align: right;\">\n",
       "      <th></th>\n",
       "      <th>IncidentId</th>\n",
       "      <th>Title</th>\n",
       "      <th>ComponentName</th>\n",
       "      <th>word_count</th>\n",
       "      <th>stopwords</th>\n",
       "    </tr>\n",
       "  </thead>\n",
       "  <tbody>\n",
       "    <tr>\n",
       "      <th>0</th>\n",
       "      <td>102933628</td>\n",
       "      <td>server bnda event hp sensor temperature sensor...</td>\n",
       "      <td>Event Monitoring Alerts</td>\n",
       "      <td>39</td>\n",
       "      <td>13</td>\n",
       "    </tr>\n",
       "    <tr>\n",
       "      <th>1</th>\n",
       "      <td>91337227</td>\n",
       "      <td>server bnda event hp sensor temperature sensor...</td>\n",
       "      <td>Event Monitoring Alerts</td>\n",
       "      <td>39</td>\n",
       "      <td>13</td>\n",
       "    </tr>\n",
       "    <tr>\n",
       "      <th>2</th>\n",
       "      <td>71375266</td>\n",
       "      <td>server bnda event hp smart array desc logical ...</td>\n",
       "      <td>Event Monitoring Alerts</td>\n",
       "      <td>81</td>\n",
       "      <td>25</td>\n",
       "    </tr>\n",
       "    <tr>\n",
       "      <th>3</th>\n",
       "      <td>69122680</td>\n",
       "      <td>server bnda event hp sensor temperature sensor...</td>\n",
       "      <td>Event Monitoring Alerts</td>\n",
       "      <td>39</td>\n",
       "      <td>13</td>\n",
       "    </tr>\n",
       "    <tr>\n",
       "      <th>4</th>\n",
       "      <td>68964337</td>\n",
       "      <td>server iebrbi dataviz event hp sensor temperat...</td>\n",
       "      <td>Event Monitoring Alerts</td>\n",
       "      <td>39</td>\n",
       "      <td>13</td>\n",
       "    </tr>\n",
       "  </tbody>\n",
       "</table>\n",
       "</div>"
      ],
      "text/plain": [
       "   IncidentId                                              Title  \\\n",
       "0   102933628  server bnda event hp sensor temperature sensor...   \n",
       "1    91337227  server bnda event hp sensor temperature sensor...   \n",
       "2    71375266  server bnda event hp smart array desc logical ...   \n",
       "3    69122680  server bnda event hp sensor temperature sensor...   \n",
       "4    68964337  server iebrbi dataviz event hp sensor temperat...   \n",
       "\n",
       "             ComponentName  word_count  stopwords  \n",
       "0  Event Monitoring Alerts          39         13  \n",
       "1  Event Monitoring Alerts          39         13  \n",
       "2  Event Monitoring Alerts          81         25  \n",
       "3  Event Monitoring Alerts          39         13  \n",
       "4  Event Monitoring Alerts          39         13  "
      ]
     },
     "execution_count": 75,
     "metadata": {},
     "output_type": "execute_result"
    }
   ],
   "source": [
    "#tickets.drop(['word_count','stopwords'], axis=1, inplace=True)\n",
    "\n",
    "tickets['Title'] = tickets['Title'].apply(lambda x: \" \".join(x.lower() for x in x.split())) # Converting Lower case\n",
    "tickets['Title'] = tickets['Title'].str.replace('[^\\w\\s]',' ').str.replace('_',' ') # Removing Punctuation\n",
    "tickets['Title'] = tickets['Title'].apply(lambda x: \" \".join(x for x in x.split() if x not in stop)) # Removal of Stop Words\n",
    "# Removal of numbers\n",
    "tickets['Title'] = tickets['Title'].str.replace('[0-9]','') # Remove numbers\n",
    "tickets.head()"
   ]
  },
  {
   "cell_type": "code",
   "execution_count": 238,
   "metadata": {},
   "outputs": [],
   "source": [
    "# Tokenization refers to dividing the text into a sequence of words or sentences.\n",
    "#print(TextBlob(tickets['Title'][1]).words)\n",
    "#Stemming refers to the removal of suffices, like “ing”, “ly”, “s”, etc. by a simple rule-based approach. \n",
    "#st = PorterStemmer()\n",
    "#tickets['Title']=tickets['Title'].apply(lambda x: \" \".join([st.stem(word) for word in x.split()]))"
   ]
  },
  {
   "cell_type": "code",
   "execution_count": 76,
   "metadata": {},
   "outputs": [
    {
     "data": {
      "text/plain": [
       "<13459x111 sparse matrix of type '<class 'numpy.int64'>'\n",
       "\twith 95578 stored elements in Compressed Sparse Row format>"
      ]
     },
     "execution_count": 76,
     "metadata": {},
     "output_type": "execute_result"
    }
   ],
   "source": [
    "# Lemmatization is a more effective option than stemming because it converts the word into its root word, rather than just stripping the suffices. It makes use of the vocabulary and does a morphological analysis to obtain the root word. Therefore, we usually prefer using lemmatization over stemming.\n",
    "tickets['Title']=tickets['Title'].apply(lambda x: \" \".join([Word(word).lemmatize() for word in x.split()]))\n",
    "#Converting to Bag of words/Document term matrix\n",
    "bow = CountVectorizer(min_df=135) # Converting to matrix\n",
    "tickets_bow = bow.fit_transform(tickets['Title'])\n",
    "tickets_bow"
   ]
  },
  {
   "cell_type": "code",
   "execution_count": 77,
   "metadata": {},
   "outputs": [
    {
     "data": {
      "text/plain": [
       "access                  639\n",
       "accountclose            143\n",
       "agent                  3991\n",
       "alert                  1014\n",
       "applicationevents       184\n",
       "apps                    688\n",
       "asp                     686\n",
       "available               729\n",
       "azcdnangpcorp          2635\n",
       "azmsadevtabib           148\n",
       "azpcddadevsql           138\n",
       "azpcddarptsql           272\n",
       "azpcddatstsql           378\n",
       "azpcdmapp               193\n",
       "azpeunrtoweb            158\n",
       "azpmdsrre               316\n",
       "azpmsacrmcdsp           138\n",
       "azpmsaosd               231\n",
       "azpmsaprodtab           158\n",
       "azpmsaweb               148\n",
       "azpmsetl                171\n",
       "azpmsu                  205\n",
       "azpuswcrtoweb           379\n",
       "azwindcubeprd           138\n",
       "azwindsqd               179\n",
       "azwindsqp               198\n",
       "ba                      173\n",
       "bnda                   1105\n",
       "byte                    402\n",
       "cdna                   2805\n",
       "                       ... \n",
       "privacy                2511\n",
       "prod                   1330\n",
       "read                    155\n",
       "registration            150\n",
       "request                1811\n",
       "root                    686\n",
       "scheduled               164\n",
       "server                 2950\n",
       "service                3060\n",
       "servicestatus          3303\n",
       "since                   144\n",
       "space                  2727\n",
       "sql                     638\n",
       "sqlprocessesblocked     139\n",
       "sqlserveragent          167\n",
       "ssa                     190\n",
       "state                  3421\n",
       "status                  155\n",
       "stopped                3171\n",
       "system                  489\n",
       "threshold              3508\n",
       "ticket                  137\n",
       "time                    694\n",
       "unhealthy               731\n",
       "usage                  1770\n",
       "user                    298\n",
       "value                   850\n",
       "vc                      170\n",
       "window                  254\n",
       "wsvc                    691\n",
       "Length: 111, dtype: int64"
      ]
     },
     "execution_count": 77,
     "metadata": {},
     "output_type": "execute_result"
    }
   ],
   "source": [
    "tickets_dtm=pd.DataFrame(bow.fit_transform(tickets['Title']).toarray(), columns=bow.get_feature_names()) # \n",
    "tickets_dtm[:].sum()"
   ]
  },
  {
   "cell_type": "markdown",
   "metadata": {},
   "source": [
    "# Let's build a model using Random Forest"
   ]
  },
  {
   "cell_type": "code",
   "execution_count": 241,
   "metadata": {},
   "outputs": [],
   "source": [
    "import matplotlib.pyplot as plt\n",
    "import seaborn as sns\n",
    "from sklearn.model_selection import train_test_split\n",
    "%matplotlib inline\n",
    "\n",
    "# To ignore warnings\n",
    "import warnings\n",
    "warnings.filterwarnings(\"ignore\")"
   ]
  },
  {
   "cell_type": "code",
   "execution_count": 242,
   "metadata": {},
   "outputs": [],
   "source": [
    "# Putting feature variable to X\n",
    "X = tickets_dtm.copy()\n",
    "\n",
    "# Putting response variable to y\n",
    "y = tickets['ComponentName']\n",
    "\n",
    "# Splitting the data into train and test\n",
    "X_train, X_test, y_train, y_test = train_test_split(X, y, test_size=0.30, random_state=234)"
   ]
  },
  {
   "cell_type": "code",
   "execution_count": 243,
   "metadata": {},
   "outputs": [],
   "source": [
    "# Importing random forest classifier from sklearn library\n",
    "from sklearn.ensemble import RandomForestClassifier\n",
    "\n",
    "# Running the random forest with default parameters.\n",
    "rfc = RandomForestClassifier()"
   ]
  },
  {
   "cell_type": "code",
   "execution_count": 244,
   "metadata": {},
   "outputs": [
    {
     "data": {
      "text/plain": [
       "RandomForestClassifier(bootstrap=True, class_weight=None, criterion='gini',\n",
       "            max_depth=None, max_features='auto', max_leaf_nodes=None,\n",
       "            min_impurity_decrease=0.0, min_impurity_split=None,\n",
       "            min_samples_leaf=1, min_samples_split=2,\n",
       "            min_weight_fraction_leaf=0.0, n_estimators=10, n_jobs=None,\n",
       "            oob_score=False, random_state=None, verbose=0,\n",
       "            warm_start=False)"
      ]
     },
     "execution_count": 244,
     "metadata": {},
     "output_type": "execute_result"
    }
   ],
   "source": [
    "# fit\n",
    "rfc.fit(X_train,y_train)"
   ]
  },
  {
   "cell_type": "code",
   "execution_count": 245,
   "metadata": {},
   "outputs": [],
   "source": [
    "# Making predictions\n",
    "predictions = rfc.predict(X_test)"
   ]
  },
  {
   "cell_type": "code",
   "execution_count": 246,
   "metadata": {},
   "outputs": [],
   "source": [
    "# Importing classification report and confusion matrix from sklearn metrics\n",
    "from sklearn.metrics import classification_report,confusion_matrix, accuracy_score"
   ]
  },
  {
   "cell_type": "code",
   "execution_count": 247,
   "metadata": {},
   "outputs": [
    {
     "name": "stdout",
     "output_type": "stream",
     "text": [
      "                         precision    recall  f1-score   support\n",
      "\n",
      "    Asp.Net Apps alerts       1.00      1.00      1.00       203\n",
      "            Cube Issues       0.40      0.21      0.28        19\n",
      "      Disk Space alerts       0.99      1.00      1.00       662\n",
      "Event Monitoring Alerts       0.86      0.85      0.85       175\n",
      "       Incident Request       0.00      0.00      0.00         0\n",
      "        Infra Incidents       0.76      0.81      0.78        31\n",
      "      Infra Maintenance       1.00      0.99      0.99        88\n",
      "         Infra Requests       0.85      0.93      0.89       113\n",
      "             NGP Cosmos       0.98      0.82      0.89       110\n",
      "                NGP SQL       0.88      0.98      0.93       310\n",
      "                OPG/EGW       0.82      0.72      0.77        25\n",
      "                 Others       1.00      0.25      0.40        12\n",
      "     Performance Alerts       0.99      1.00      0.99       834\n",
      "          SQL Incidents       0.91      0.94      0.92       122\n",
      "        SQL Maintenance       1.00      0.62      0.77         8\n",
      "           SQL Requests       0.91      0.93      0.92        86\n",
      "            SQL Service       0.00      0.00      0.00         6\n",
      "  Service status alerts       0.99      0.98      0.99      1040\n",
      "         U360 Incidents       0.86      0.73      0.79        26\n",
      "          U360 Requests       0.95      0.92      0.94        66\n",
      "             URL Alerts       0.85      0.98      0.91        47\n",
      "           VC Incidents       0.00      0.00      0.00         2\n",
      "         VC Maintenance       0.00      0.00      0.00         3\n",
      "            VC Requests       0.82      0.92      0.87        50\n",
      "\n",
      "              micro avg       0.96      0.96      0.96      4038\n",
      "              macro avg       0.74      0.69      0.70      4038\n",
      "           weighted avg       0.96      0.96      0.96      4038\n",
      "\n"
     ]
    }
   ],
   "source": [
    "# Let's check the report of our default model\n",
    "print(classification_report(y_test,predictions))"
   ]
  },
  {
   "cell_type": "code",
   "execution_count": 248,
   "metadata": {
    "scrolled": true
   },
   "outputs": [
    {
     "name": "stdout",
     "output_type": "stream",
     "text": [
      "[[ 202    0    1    0    0    0    0    0    0    0    0    0    0    0\n",
      "     0    0    0    0    0    0    0    0    0    0]\n",
      " [   0    4    0   11    0    0    0    1    0    0    0    0    0    3\n",
      "     0    0    0    0    0    0    0    0    0    0]\n",
      " [   0    0  661    0    0    0    0    0    0    0    0    0    1    0\n",
      "     0    0    0    0    0    0    0    0    0    0]\n",
      " [   0    6    0  148    0    0    0    0    0   11    0    0    3    0\n",
      "     0    0    0    1    0    0    6    0    0    0]\n",
      " [   0    0    0    0    0    0    0    0    0    0    0    0    0    0\n",
      "     0    0    0    0    0    0    0    0    0    0]\n",
      " [   0    0    0    2    1   25    0    1    0    0    1    0    0    0\n",
      "     0    0    0    0    0    0    1    0    0    0]\n",
      " [   0    0    0    1    0    0   87    0    0    0    0    0    0    0\n",
      "     0    0    0    0    0    0    0    0    0    0]\n",
      " [   0    0    0    0    0    0    0  105    0    0    0    0    1    0\n",
      "     0    6    0    0    1    0    0    0    0    0]\n",
      " [   0    0    0    0    0    0    0    0   90   20    0    0    0    0\n",
      "     0    0    0    0    0    0    0    0    0    0]\n",
      " [   0    0    0    0    0    0    0    0    0  305    0    0    0    0\n",
      "     0    0    0    5    0    0    0    0    0    0]\n",
      " [   0    0    0    0    0    1    0    4    0    0   18    0    0    0\n",
      "     0    1    0    0    0    1    0    0    0    0]\n",
      " [   0    0    0    0    0    1    0    2    1    0    0    3    0    0\n",
      "     0    0    0    0    0    0    0    0    0    5]\n",
      " [   0    0    2    0    0    0    0    0    0    0    0    0  831    0\n",
      "     0    0    0    0    0    0    1    0    0    0]\n",
      " [   0    0    0    0    0    4    0    1    0    0    0    0    2  115\n",
      "     0    0    0    0    0    0    0    0    0    0]\n",
      " [   0    0    0    1    0    0    0    0    0    0    0    0    0    1\n",
      "     5    1    0    0    0    0    0    0    0    0]\n",
      " [   0    0    0    0    0    0    0    5    0    0    0    0    1    0\n",
      "     0   80    0    0    0    0    0    0    0    0]\n",
      " [   0    0    0    2    0    0    0    0    0    1    0    0    0    3\n",
      "     0    0    0    0    0    0    0    0    0    0]\n",
      " [   0    0    1    7    0    0    0    0    0   10    0    0    1    3\n",
      "     0    0    0 1018    0    0    0    0    0    0]\n",
      " [   0    0    0    0    0    1    0    2    1    0    0    0    0    2\n",
      "     0    0    0    0   19    0    0    0    0    1]\n",
      " [   0    0    0    0    0    0    0    0    0    0    3    0    0    0\n",
      "     0    0    0    0    0   61    0    0    0    2]\n",
      " [   0    0    0    0    0    0    0    1    0    0    0    0    0    0\n",
      "     0    0    0    0    0    0   46    0    0    0]\n",
      " [   0    0    0    0    0    1    0    0    0    0    0    0    0    0\n",
      "     0    0    0    0    1    0    0    0    0    0]\n",
      " [   0    0    0    0    0    0    0    0    0    0    0    0    0    0\n",
      "     0    0    0    0    1    0    0    0    0    2]\n",
      " [   0    0    0    0    0    0    0    2    0    0    0    0    0    0\n",
      "     0    0    0    0    0    2    0    0    0   46]]\n"
     ]
    }
   ],
   "source": [
    "# Printing confusion matrix\n",
    "print(confusion_matrix(y_test,predictions))"
   ]
  },
  {
   "cell_type": "code",
   "execution_count": 249,
   "metadata": {
    "scrolled": true
   },
   "outputs": [
    {
     "name": "stdout",
     "output_type": "stream",
     "text": [
      "0.9581475978207034\n"
     ]
    }
   ],
   "source": [
    "print(accuracy_score(y_test,predictions))"
   ]
  },
  {
   "cell_type": "code",
   "execution_count": 250,
   "metadata": {},
   "outputs": [],
   "source": [
    "# Create the parameter grid based on the results of random search \n",
    "from sklearn.model_selection import GridSearchCV\n",
    "param_grid = {\n",
    "    'n_estimators': [10, 25, 50, 100, 200, 300], \n",
    "    'max_features': [3, 5, 10, 15, 20,25,30,35,40,45,50]\n",
    "}\n",
    "# Create a based model\n",
    "rf = RandomForestClassifier()\n",
    "# Instantiate the grid search model\n",
    "grid_search = GridSearchCV(estimator = rf, param_grid = param_grid, \n",
    "                          cv = 3, n_jobs = -1,verbose = 1)"
   ]
  },
  {
   "cell_type": "code",
   "execution_count": 251,
   "metadata": {},
   "outputs": [
    {
     "name": "stdout",
     "output_type": "stream",
     "text": [
      "Fitting 3 folds for each of 66 candidates, totalling 198 fits\n"
     ]
    },
    {
     "name": "stderr",
     "output_type": "stream",
     "text": [
      "[Parallel(n_jobs=-1)]: Using backend LokyBackend with 4 concurrent workers.\n",
      "[Parallel(n_jobs=-1)]: Done  42 tasks      | elapsed:   33.0s\n",
      "[Parallel(n_jobs=-1)]: Done 198 out of 198 | elapsed:  1.8min finished\n"
     ]
    },
    {
     "data": {
      "text/plain": [
       "GridSearchCV(cv=3, error_score='raise-deprecating',\n",
       "       estimator=RandomForestClassifier(bootstrap=True, class_weight=None, criterion='gini',\n",
       "            max_depth=None, max_features='auto', max_leaf_nodes=None,\n",
       "            min_impurity_decrease=0.0, min_impurity_split=None,\n",
       "            min_samples_leaf=1, min_samples_split=2,\n",
       "            min_weight_fraction_leaf=0.0, n_estimators='warn', n_jobs=None,\n",
       "            oob_score=False, random_state=None, verbose=0,\n",
       "            warm_start=False),\n",
       "       fit_params=None, iid='warn', n_jobs=-1,\n",
       "       param_grid={'n_estimators': [10, 25, 50, 100, 200, 300], 'max_features': [3, 5, 10, 15, 20, 25, 30, 35, 40, 45, 50]},\n",
       "       pre_dispatch='2*n_jobs', refit=True, return_train_score='warn',\n",
       "       scoring=None, verbose=1)"
      ]
     },
     "execution_count": 251,
     "metadata": {},
     "output_type": "execute_result"
    }
   ],
   "source": [
    "# Fit the grid search to the data\n",
    "grid_search.fit(X_train, y_train)"
   ]
  },
  {
   "cell_type": "code",
   "execution_count": 252,
   "metadata": {},
   "outputs": [
    {
     "name": "stdout",
     "output_type": "stream",
     "text": [
      "We can get accuracy of 0.9556310370448997 using {'max_features': 20, 'n_estimators': 25}\n"
     ]
    }
   ],
   "source": [
    "# printing the optimal accuracy score and hyperparameters\n",
    "print('We can get accuracy of',grid_search.best_score_,'using',grid_search.best_params_)"
   ]
  },
  {
   "cell_type": "code",
   "execution_count": 295,
   "metadata": {},
   "outputs": [
    {
     "data": {
      "image/png": "[encoded data removed]",
      "text/plain": [
       "<Figure size 432x288 with 1 Axes>"
      ]
     },
     "metadata": {
      "needs_background": "light"
     },
     "output_type": "display_data"
    }
   ],
   "source": [
    "# To find which words(features) are impoerant\n",
    "features = X_train.columns\n",
    "importances = rfc.feature_importances_\n",
    "indices = np.argsort(importances)\n",
    "\n",
    "plt.title('Feature Importances')\n",
    "plt.barh(range(len(indices)), importances[indices], color='b', align='center')\n",
    "plt.yticks(range(len(indices)), [features[i] for i in indices])\n",
    "plt.xlabel('Relative Importance')\n",
    "plt.show()"
   ]
  }
 ],
 "metadata": {
  "kernelspec": {
   "display_name": "Python 3",
   "language": "python",
   "name": "python3"
  },
  "language_info": {
   "codemirror_mode": {
    "name": "ipython",
    "version": 3
   },
   "file_extension": ".py",
   "mimetype": "text/x-python",
   "name": "python",
   "nbconvert_exporter": "python",
   "pygments_lexer": "ipython3",
   "version": "3.7.3"
  }
 },
 "nbformat": 4,
 "nbformat_minor": 2
}
