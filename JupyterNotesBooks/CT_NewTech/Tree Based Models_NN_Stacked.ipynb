{
 "cells": [
  {
   "cell_type": "code",
   "execution_count": 1,
   "metadata": {},
   "outputs": [],
   "source": [
    "#Lets first import all the nessessary libraries \n",
    "\n",
    "import pandas as pd\n",
    "import numpy as np\n",
    "import matplotlib.pyplot as plt\n",
    "import seaborn as sns\n",
    "sns.set()\n",
    "\n",
    "import warnings\n",
    "warnings.filterwarnings(action=\"ignore\",category=FutureWarning)\n",
    "warnings.filterwarnings(action=\"ignore\",category=DeprecationWarning)\n",
    "\n",
    "pd.pandas.set_option(\"display.max_rows\",None)\n",
    "pd.pandas.set_option(\"display.max_columns\",None)"
   ]
  },
  {
   "cell_type": "code",
   "execution_count": 2,
   "metadata": {},
   "outputs": [],
   "source": [
    "#Lets read the data in\n",
    "df1=pd.read_csv (\"LT_processed_data.csv\")"
   ]
  },
  {
   "cell_type": "code",
   "execution_count": 3,
   "metadata": {},
   "outputs": [
    {
     "data": {
      "text/html": [
       "<div>\n",
       "<style scoped>\n",
       "    .dataframe tbody tr th:only-of-type {\n",
       "        vertical-align: middle;\n",
       "    }\n",
       "\n",
       "    .dataframe tbody tr th {\n",
       "        vertical-align: top;\n",
       "    }\n",
       "\n",
       "    .dataframe thead th {\n",
       "        text-align: right;\n",
       "    }\n",
       "</style>\n",
       "<table border=\"1\" class=\"dataframe\">\n",
       "  <thead>\n",
       "    <tr style=\"text-align: right;\">\n",
       "      <th></th>\n",
       "      <th>NewDCFlag</th>\n",
       "      <th>NewRegionFlag</th>\n",
       "      <th>ColoReady At PlanReservationStart Flag</th>\n",
       "      <th>DeploymentSeverity</th>\n",
       "      <th>EngineeringGroup</th>\n",
       "      <th>PlanResourceTypeName</th>\n",
       "      <th>IsAddRack</th>\n",
       "      <th>IsFirstFootprint</th>\n",
       "      <th>IsMainstream</th>\n",
       "      <th>IsNPI</th>\n",
       "      <th>PlanGEO</th>\n",
       "      <th>PlanIntentName</th>\n",
       "      <th>NumberOfRacks</th>\n",
       "      <th>NumberOfServers</th>\n",
       "      <th>PlanOrderPriorityName</th>\n",
       "      <th>PlanPropertyGroupName</th>\n",
       "      <th>ProjectCategory</th>\n",
       "      <th>Region</th>\n",
       "      <th>RegionGroup</th>\n",
       "      <th>RegionType</th>\n",
       "      <th>SKU Avaliable Flag</th>\n",
       "      <th>SKUCategoryName</th>\n",
       "      <th>CT Signal to LIve</th>\n",
       "      <th>CT Signal to Dock</th>\n",
       "    </tr>\n",
       "  </thead>\n",
       "  <tbody>\n",
       "    <tr>\n",
       "      <th>0</th>\n",
       "      <td>True</td>\n",
       "      <td>False</td>\n",
       "      <td>missing</td>\n",
       "      <td>missing</td>\n",
       "      <td>Azure</td>\n",
       "      <td>Compute</td>\n",
       "      <td>missing</td>\n",
       "      <td>False</td>\n",
       "      <td>Not Mainstream</td>\n",
       "      <td>False</td>\n",
       "      <td>Asia Pacific</td>\n",
       "      <td>Growth</td>\n",
       "      <td>20</td>\n",
       "      <td>800.0</td>\n",
       "      <td>99-ZZ No Priority</td>\n",
       "      <td>Azure Compute APAC</td>\n",
       "      <td>PRD</td>\n",
       "      <td>Southeast Asia</td>\n",
       "      <td>Not Restricted</td>\n",
       "      <td>Hero</td>\n",
       "      <td>0</td>\n",
       "      <td>PreRack</td>\n",
       "      <td>124.0</td>\n",
       "      <td>31.0</td>\n",
       "    </tr>\n",
       "    <tr>\n",
       "      <th>1</th>\n",
       "      <td>False</td>\n",
       "      <td>False</td>\n",
       "      <td>missing</td>\n",
       "      <td>missing</td>\n",
       "      <td>Azure</td>\n",
       "      <td>Storage</td>\n",
       "      <td>missing</td>\n",
       "      <td>False</td>\n",
       "      <td>Not Mainstream</td>\n",
       "      <td>False</td>\n",
       "      <td>Asia Pacific</td>\n",
       "      <td>Growth</td>\n",
       "      <td>20</td>\n",
       "      <td>280.0</td>\n",
       "      <td>99-ZZ No Priority</td>\n",
       "      <td>Azure Storage APAC</td>\n",
       "      <td>PRD</td>\n",
       "      <td>Southeast Asia</td>\n",
       "      <td>Not Restricted</td>\n",
       "      <td>Hero</td>\n",
       "      <td>0</td>\n",
       "      <td>PreRack</td>\n",
       "      <td>126.0</td>\n",
       "      <td>42.0</td>\n",
       "    </tr>\n",
       "    <tr>\n",
       "      <th>2</th>\n",
       "      <td>True</td>\n",
       "      <td>False</td>\n",
       "      <td>missing</td>\n",
       "      <td>missing</td>\n",
       "      <td>Azure</td>\n",
       "      <td>Compute</td>\n",
       "      <td>missing</td>\n",
       "      <td>False</td>\n",
       "      <td>Not Mainstream</td>\n",
       "      <td>False</td>\n",
       "      <td>Europe</td>\n",
       "      <td>Growth</td>\n",
       "      <td>20</td>\n",
       "      <td>800.0</td>\n",
       "      <td>99-ZZ No Priority</td>\n",
       "      <td>Azure Compute EMEA</td>\n",
       "      <td>PRD</td>\n",
       "      <td>West Europe</td>\n",
       "      <td>Not Restricted</td>\n",
       "      <td>Hero</td>\n",
       "      <td>0</td>\n",
       "      <td>PreRack</td>\n",
       "      <td>198.0</td>\n",
       "      <td>31.0</td>\n",
       "    </tr>\n",
       "    <tr>\n",
       "      <th>3</th>\n",
       "      <td>False</td>\n",
       "      <td>False</td>\n",
       "      <td>missing</td>\n",
       "      <td>missing</td>\n",
       "      <td>Azure</td>\n",
       "      <td>XIO Compute</td>\n",
       "      <td>missing</td>\n",
       "      <td>False</td>\n",
       "      <td>Not Mainstream</td>\n",
       "      <td>False</td>\n",
       "      <td>United States</td>\n",
       "      <td>Growth</td>\n",
       "      <td>20</td>\n",
       "      <td>880.0</td>\n",
       "      <td>99-ZZ No Priority</td>\n",
       "      <td>Azure Compute US</td>\n",
       "      <td>PRD</td>\n",
       "      <td>West US</td>\n",
       "      <td>Not Restricted</td>\n",
       "      <td>Hub</td>\n",
       "      <td>0</td>\n",
       "      <td>PreRack</td>\n",
       "      <td>207.0</td>\n",
       "      <td>49.0</td>\n",
       "    </tr>\n",
       "    <tr>\n",
       "      <th>4</th>\n",
       "      <td>False</td>\n",
       "      <td>False</td>\n",
       "      <td>missing</td>\n",
       "      <td>missing</td>\n",
       "      <td>Azure</td>\n",
       "      <td>Xtransport</td>\n",
       "      <td>missing</td>\n",
       "      <td>False</td>\n",
       "      <td>Not Mainstream</td>\n",
       "      <td>False</td>\n",
       "      <td>CHINA</td>\n",
       "      <td>Growth</td>\n",
       "      <td>1</td>\n",
       "      <td>14.0</td>\n",
       "      <td>99-ZZ No Priority</td>\n",
       "      <td>Rare_var</td>\n",
       "      <td>PRD</td>\n",
       "      <td>Rare_var</td>\n",
       "      <td>Restricted</td>\n",
       "      <td>Satellite</td>\n",
       "      <td>0</td>\n",
       "      <td>PreRack</td>\n",
       "      <td>737.0</td>\n",
       "      <td>49.0</td>\n",
       "    </tr>\n",
       "  </tbody>\n",
       "</table>\n",
       "</div>"
      ],
      "text/plain": [
       "   NewDCFlag  NewRegionFlag ColoReady At PlanReservationStart Flag  \\\n",
       "0       True          False                                missing   \n",
       "1      False          False                                missing   \n",
       "2       True          False                                missing   \n",
       "3      False          False                                missing   \n",
       "4      False          False                                missing   \n",
       "\n",
       "  DeploymentSeverity EngineeringGroup PlanResourceTypeName IsAddRack  \\\n",
       "0            missing            Azure              Compute   missing   \n",
       "1            missing            Azure              Storage   missing   \n",
       "2            missing            Azure              Compute   missing   \n",
       "3            missing            Azure          XIO Compute   missing   \n",
       "4            missing            Azure           Xtransport   missing   \n",
       "\n",
       "   IsFirstFootprint    IsMainstream  IsNPI        PlanGEO PlanIntentName  \\\n",
       "0             False  Not Mainstream  False   Asia Pacific         Growth   \n",
       "1             False  Not Mainstream  False   Asia Pacific         Growth   \n",
       "2             False  Not Mainstream  False         Europe         Growth   \n",
       "3             False  Not Mainstream  False  United States         Growth   \n",
       "4             False  Not Mainstream  False          CHINA         Growth   \n",
       "\n",
       "   NumberOfRacks  NumberOfServers PlanOrderPriorityName PlanPropertyGroupName  \\\n",
       "0             20            800.0     99-ZZ No Priority    Azure Compute APAC   \n",
       "1             20            280.0     99-ZZ No Priority    Azure Storage APAC   \n",
       "2             20            800.0     99-ZZ No Priority    Azure Compute EMEA   \n",
       "3             20            880.0     99-ZZ No Priority      Azure Compute US   \n",
       "4              1             14.0     99-ZZ No Priority              Rare_var   \n",
       "\n",
       "  ProjectCategory          Region     RegionGroup RegionType  \\\n",
       "0             PRD  Southeast Asia  Not Restricted       Hero   \n",
       "1             PRD  Southeast Asia  Not Restricted       Hero   \n",
       "2             PRD     West Europe  Not Restricted       Hero   \n",
       "3             PRD         West US  Not Restricted        Hub   \n",
       "4             PRD        Rare_var      Restricted  Satellite   \n",
       "\n",
       "   SKU Avaliable Flag SKUCategoryName  CT Signal to LIve  CT Signal to Dock  \n",
       "0                   0         PreRack              124.0               31.0  \n",
       "1                   0         PreRack              126.0               42.0  \n",
       "2                   0         PreRack              198.0               31.0  \n",
       "3                   0         PreRack              207.0               49.0  \n",
       "4                   0         PreRack              737.0               49.0  "
      ]
     },
     "execution_count": 3,
     "metadata": {},
     "output_type": "execute_result"
    }
   ],
   "source": [
    "df1.head()"
   ]
  },
  {
   "cell_type": "code",
   "execution_count": 4,
   "metadata": {},
   "outputs": [],
   "source": [
    "#As per the observations in EDA, we are going to drop-IsMainstream,ProjectCategory,NewRegionFlag, since it contains a single catogory\n",
    "df1.drop([\"NewRegionFlag\",\"IsMainstream\",\"ProjectCategory\"],axis=1,inplace=True)"
   ]
  },
  {
   "cell_type": "code",
   "execution_count": 5,
   "metadata": {},
   "outputs": [],
   "source": [
    "#Since we already dealt with EDA and Feature Engineering, we will just check the summary\n",
    "#Fuction to see the summary of the data\n",
    "def summary_table(df):\n",
    "    print(f\"Dataset Shape: {df.shape}\")\n",
    "    #print(\"Total Columns in the Dataset:\", df1.columns.nunique())\n",
    "    summary = pd.DataFrame(df.dtypes,columns=['dtypes'])\n",
    "    summary = summary.reset_index()\n",
    "    summary['Name'] = summary['index']\n",
    "    summary = summary[['Name','dtypes']]\n",
    "    summary['Missing Values'] = df.isnull().sum().values\n",
    "    summary['Uniques Values'] = df.nunique().values\n",
    "  \n",
    "    return summary"
   ]
  },
  {
   "cell_type": "code",
   "execution_count": 6,
   "metadata": {},
   "outputs": [
    {
     "name": "stdout",
     "output_type": "stream",
     "text": [
      "Dataset Shape: (1124, 21)\n"
     ]
    },
    {
     "data": {
      "text/html": [
       "<div>\n",
       "<style scoped>\n",
       "    .dataframe tbody tr th:only-of-type {\n",
       "        vertical-align: middle;\n",
       "    }\n",
       "\n",
       "    .dataframe tbody tr th {\n",
       "        vertical-align: top;\n",
       "    }\n",
       "\n",
       "    .dataframe thead th {\n",
       "        text-align: right;\n",
       "    }\n",
       "</style>\n",
       "<table border=\"1\" class=\"dataframe\">\n",
       "  <thead>\n",
       "    <tr style=\"text-align: right;\">\n",
       "      <th></th>\n",
       "      <th>Name</th>\n",
       "      <th>dtypes</th>\n",
       "      <th>Missing Values</th>\n",
       "      <th>Uniques Values</th>\n",
       "    </tr>\n",
       "  </thead>\n",
       "  <tbody>\n",
       "    <tr>\n",
       "      <th>0</th>\n",
       "      <td>NewDCFlag</td>\n",
       "      <td>bool</td>\n",
       "      <td>0</td>\n",
       "      <td>2</td>\n",
       "    </tr>\n",
       "    <tr>\n",
       "      <th>1</th>\n",
       "      <td>ColoReady At PlanReservationStart Flag</td>\n",
       "      <td>object</td>\n",
       "      <td>0</td>\n",
       "      <td>3</td>\n",
       "    </tr>\n",
       "    <tr>\n",
       "      <th>2</th>\n",
       "      <td>DeploymentSeverity</td>\n",
       "      <td>object</td>\n",
       "      <td>0</td>\n",
       "      <td>4</td>\n",
       "    </tr>\n",
       "    <tr>\n",
       "      <th>3</th>\n",
       "      <td>EngineeringGroup</td>\n",
       "      <td>object</td>\n",
       "      <td>0</td>\n",
       "      <td>6</td>\n",
       "    </tr>\n",
       "    <tr>\n",
       "      <th>4</th>\n",
       "      <td>PlanResourceTypeName</td>\n",
       "      <td>object</td>\n",
       "      <td>0</td>\n",
       "      <td>31</td>\n",
       "    </tr>\n",
       "    <tr>\n",
       "      <th>5</th>\n",
       "      <td>IsAddRack</td>\n",
       "      <td>object</td>\n",
       "      <td>0</td>\n",
       "      <td>3</td>\n",
       "    </tr>\n",
       "    <tr>\n",
       "      <th>6</th>\n",
       "      <td>IsFirstFootprint</td>\n",
       "      <td>bool</td>\n",
       "      <td>0</td>\n",
       "      <td>2</td>\n",
       "    </tr>\n",
       "    <tr>\n",
       "      <th>7</th>\n",
       "      <td>IsNPI</td>\n",
       "      <td>bool</td>\n",
       "      <td>0</td>\n",
       "      <td>2</td>\n",
       "    </tr>\n",
       "    <tr>\n",
       "      <th>8</th>\n",
       "      <td>PlanGEO</td>\n",
       "      <td>object</td>\n",
       "      <td>0</td>\n",
       "      <td>14</td>\n",
       "    </tr>\n",
       "    <tr>\n",
       "      <th>9</th>\n",
       "      <td>PlanIntentName</td>\n",
       "      <td>object</td>\n",
       "      <td>0</td>\n",
       "      <td>7</td>\n",
       "    </tr>\n",
       "    <tr>\n",
       "      <th>10</th>\n",
       "      <td>NumberOfRacks</td>\n",
       "      <td>int64</td>\n",
       "      <td>0</td>\n",
       "      <td>26</td>\n",
       "    </tr>\n",
       "    <tr>\n",
       "      <th>11</th>\n",
       "      <td>NumberOfServers</td>\n",
       "      <td>float64</td>\n",
       "      <td>0</td>\n",
       "      <td>123</td>\n",
       "    </tr>\n",
       "    <tr>\n",
       "      <th>12</th>\n",
       "      <td>PlanOrderPriorityName</td>\n",
       "      <td>object</td>\n",
       "      <td>0</td>\n",
       "      <td>4</td>\n",
       "    </tr>\n",
       "    <tr>\n",
       "      <th>13</th>\n",
       "      <td>PlanPropertyGroupName</td>\n",
       "      <td>object</td>\n",
       "      <td>0</td>\n",
       "      <td>19</td>\n",
       "    </tr>\n",
       "    <tr>\n",
       "      <th>14</th>\n",
       "      <td>Region</td>\n",
       "      <td>object</td>\n",
       "      <td>0</td>\n",
       "      <td>21</td>\n",
       "    </tr>\n",
       "    <tr>\n",
       "      <th>15</th>\n",
       "      <td>RegionGroup</td>\n",
       "      <td>object</td>\n",
       "      <td>0</td>\n",
       "      <td>3</td>\n",
       "    </tr>\n",
       "    <tr>\n",
       "      <th>16</th>\n",
       "      <td>RegionType</td>\n",
       "      <td>object</td>\n",
       "      <td>0</td>\n",
       "      <td>3</td>\n",
       "    </tr>\n",
       "    <tr>\n",
       "      <th>17</th>\n",
       "      <td>SKU Avaliable Flag</td>\n",
       "      <td>int64</td>\n",
       "      <td>0</td>\n",
       "      <td>2</td>\n",
       "    </tr>\n",
       "    <tr>\n",
       "      <th>18</th>\n",
       "      <td>SKUCategoryName</td>\n",
       "      <td>object</td>\n",
       "      <td>0</td>\n",
       "      <td>3</td>\n",
       "    </tr>\n",
       "    <tr>\n",
       "      <th>19</th>\n",
       "      <td>CT Signal to LIve</td>\n",
       "      <td>float64</td>\n",
       "      <td>0</td>\n",
       "      <td>314</td>\n",
       "    </tr>\n",
       "    <tr>\n",
       "      <th>20</th>\n",
       "      <td>CT Signal to Dock</td>\n",
       "      <td>float64</td>\n",
       "      <td>0</td>\n",
       "      <td>184</td>\n",
       "    </tr>\n",
       "  </tbody>\n",
       "</table>\n",
       "</div>"
      ],
      "text/plain": [
       "                                      Name   dtypes  Missing Values  \\\n",
       "0                                NewDCFlag     bool               0   \n",
       "1   ColoReady At PlanReservationStart Flag   object               0   \n",
       "2                       DeploymentSeverity   object               0   \n",
       "3                         EngineeringGroup   object               0   \n",
       "4                     PlanResourceTypeName   object               0   \n",
       "5                                IsAddRack   object               0   \n",
       "6                         IsFirstFootprint     bool               0   \n",
       "7                                    IsNPI     bool               0   \n",
       "8                                  PlanGEO   object               0   \n",
       "9                           PlanIntentName   object               0   \n",
       "10                           NumberOfRacks    int64               0   \n",
       "11                         NumberOfServers  float64               0   \n",
       "12                   PlanOrderPriorityName   object               0   \n",
       "13                   PlanPropertyGroupName   object               0   \n",
       "14                                  Region   object               0   \n",
       "15                             RegionGroup   object               0   \n",
       "16                              RegionType   object               0   \n",
       "17                      SKU Avaliable Flag    int64               0   \n",
       "18                         SKUCategoryName   object               0   \n",
       "19                       CT Signal to LIve  float64               0   \n",
       "20                       CT Signal to Dock  float64               0   \n",
       "\n",
       "    Uniques Values  \n",
       "0                2  \n",
       "1                3  \n",
       "2                4  \n",
       "3                6  \n",
       "4               31  \n",
       "5                3  \n",
       "6                2  \n",
       "7                2  \n",
       "8               14  \n",
       "9                7  \n",
       "10              26  \n",
       "11             123  \n",
       "12               4  \n",
       "13              19  \n",
       "14              21  \n",
       "15               3  \n",
       "16               3  \n",
       "17               2  \n",
       "18               3  \n",
       "19             314  \n",
       "20             184  "
      ]
     },
     "execution_count": 6,
     "metadata": {},
     "output_type": "execute_result"
    }
   ],
   "source": [
    "summary_table(df1)"
   ]
  },
  {
   "cell_type": "code",
   "execution_count": 7,
   "metadata": {},
   "outputs": [],
   "source": [
    "#Lets fix the datatypes of each feature (Convert Bool type as Object type)\n",
    "bool_features_list= [feature for feature in df1.columns if df1[feature].dtype ==\"bool\"]\n",
    "bool_features_list\n",
    "\n",
    "df1[bool_features_list] = df1[bool_features_list].astype('object')"
   ]
  },
  {
   "cell_type": "code",
   "execution_count": 19,
   "metadata": {
    "scrolled": true
   },
   "outputs": [
    {
     "data": {
      "text/plain": [
       "['NewDCFlag',\n",
       " 'ColoReady At PlanReservationStart Flag',\n",
       " 'EngineeringGroup',\n",
       " 'PlanResourceTypeName',\n",
       " 'IsAddRack',\n",
       " 'IsFirstFootprint',\n",
       " 'IsNPI',\n",
       " 'PlanGEO',\n",
       " 'PlanIntentName',\n",
       " 'PlanOrderPriorityName',\n",
       " 'PlanPropertyGroupName',\n",
       " 'Region',\n",
       " 'RegionGroup',\n",
       " 'RegionType',\n",
       " 'SKUCategoryName',\n",
       " 'SKU Avaliable Flag']"
      ]
     },
     "execution_count": 19,
     "metadata": {},
     "output_type": "execute_result"
    }
   ],
   "source": [
    "categorical_features_list= [feature for feature in df1.columns if df1[feature].dtype ==\"object\"]\n",
    "aditional= ['SKU Avaliable Flag']\n",
    "categorical_features_list=categorical_features_list+ aditional\n",
    "categorical_features_list"
   ]
  },
  {
   "cell_type": "code",
   "execution_count": 9,
   "metadata": {},
   "outputs": [],
   "source": [
    "#Expect DeploymentSeverity feature, all other are nominal. Only DeploymentSeverity is Ordinal \n",
    "#So lets use Lable encoder for DeploymentSeverity\n",
    "\n",
    "d = {'missing':5,'high':2, 'medium':3,'low':4 }\n",
    "df1[\"DeploymentSeverity\"] = df1[\"DeploymentSeverity\"].replace(d)"
   ]
  },
  {
   "cell_type": "code",
   "execution_count": 20,
   "metadata": {},
   "outputs": [],
   "source": [
    "df2=df1.copy()"
   ]
  },
  {
   "cell_type": "code",
   "execution_count": 21,
   "metadata": {},
   "outputs": [
    {
     "data": {
      "text/html": [
       "<div>\n",
       "<style scoped>\n",
       "    .dataframe tbody tr th:only-of-type {\n",
       "        vertical-align: middle;\n",
       "    }\n",
       "\n",
       "    .dataframe tbody tr th {\n",
       "        vertical-align: top;\n",
       "    }\n",
       "\n",
       "    .dataframe thead th {\n",
       "        text-align: right;\n",
       "    }\n",
       "</style>\n",
       "<table border=\"1\" class=\"dataframe\">\n",
       "  <thead>\n",
       "    <tr style=\"text-align: right;\">\n",
       "      <th></th>\n",
       "      <th>NewDCFlag</th>\n",
       "      <th>ColoReady At PlanReservationStart Flag</th>\n",
       "      <th>DeploymentSeverity</th>\n",
       "      <th>EngineeringGroup</th>\n",
       "      <th>PlanResourceTypeName</th>\n",
       "      <th>IsAddRack</th>\n",
       "      <th>IsFirstFootprint</th>\n",
       "      <th>IsNPI</th>\n",
       "      <th>PlanGEO</th>\n",
       "      <th>PlanIntentName</th>\n",
       "      <th>NumberOfRacks</th>\n",
       "      <th>NumberOfServers</th>\n",
       "      <th>PlanOrderPriorityName</th>\n",
       "      <th>PlanPropertyGroupName</th>\n",
       "      <th>Region</th>\n",
       "      <th>RegionGroup</th>\n",
       "      <th>RegionType</th>\n",
       "      <th>SKU Avaliable Flag</th>\n",
       "      <th>SKUCategoryName</th>\n",
       "      <th>CT Signal to LIve</th>\n",
       "      <th>CT Signal to Dock</th>\n",
       "    </tr>\n",
       "  </thead>\n",
       "  <tbody>\n",
       "    <tr>\n",
       "      <th>0</th>\n",
       "      <td>True</td>\n",
       "      <td>missing</td>\n",
       "      <td>5</td>\n",
       "      <td>Azure</td>\n",
       "      <td>Compute</td>\n",
       "      <td>missing</td>\n",
       "      <td>False</td>\n",
       "      <td>False</td>\n",
       "      <td>Asia Pacific</td>\n",
       "      <td>Growth</td>\n",
       "      <td>20</td>\n",
       "      <td>800.0</td>\n",
       "      <td>99-ZZ No Priority</td>\n",
       "      <td>Azure Compute APAC</td>\n",
       "      <td>Southeast Asia</td>\n",
       "      <td>Not Restricted</td>\n",
       "      <td>Hero</td>\n",
       "      <td>0</td>\n",
       "      <td>PreRack</td>\n",
       "      <td>124.0</td>\n",
       "      <td>31.0</td>\n",
       "    </tr>\n",
       "    <tr>\n",
       "      <th>1</th>\n",
       "      <td>False</td>\n",
       "      <td>missing</td>\n",
       "      <td>5</td>\n",
       "      <td>Azure</td>\n",
       "      <td>Storage</td>\n",
       "      <td>missing</td>\n",
       "      <td>False</td>\n",
       "      <td>False</td>\n",
       "      <td>Asia Pacific</td>\n",
       "      <td>Growth</td>\n",
       "      <td>20</td>\n",
       "      <td>280.0</td>\n",
       "      <td>99-ZZ No Priority</td>\n",
       "      <td>Azure Storage APAC</td>\n",
       "      <td>Southeast Asia</td>\n",
       "      <td>Not Restricted</td>\n",
       "      <td>Hero</td>\n",
       "      <td>0</td>\n",
       "      <td>PreRack</td>\n",
       "      <td>126.0</td>\n",
       "      <td>42.0</td>\n",
       "    </tr>\n",
       "    <tr>\n",
       "      <th>2</th>\n",
       "      <td>True</td>\n",
       "      <td>missing</td>\n",
       "      <td>5</td>\n",
       "      <td>Azure</td>\n",
       "      <td>Compute</td>\n",
       "      <td>missing</td>\n",
       "      <td>False</td>\n",
       "      <td>False</td>\n",
       "      <td>Europe</td>\n",
       "      <td>Growth</td>\n",
       "      <td>20</td>\n",
       "      <td>800.0</td>\n",
       "      <td>99-ZZ No Priority</td>\n",
       "      <td>Azure Compute EMEA</td>\n",
       "      <td>West Europe</td>\n",
       "      <td>Not Restricted</td>\n",
       "      <td>Hero</td>\n",
       "      <td>0</td>\n",
       "      <td>PreRack</td>\n",
       "      <td>198.0</td>\n",
       "      <td>31.0</td>\n",
       "    </tr>\n",
       "    <tr>\n",
       "      <th>3</th>\n",
       "      <td>False</td>\n",
       "      <td>missing</td>\n",
       "      <td>5</td>\n",
       "      <td>Azure</td>\n",
       "      <td>XIO Compute</td>\n",
       "      <td>missing</td>\n",
       "      <td>False</td>\n",
       "      <td>False</td>\n",
       "      <td>United States</td>\n",
       "      <td>Growth</td>\n",
       "      <td>20</td>\n",
       "      <td>880.0</td>\n",
       "      <td>99-ZZ No Priority</td>\n",
       "      <td>Azure Compute US</td>\n",
       "      <td>West US</td>\n",
       "      <td>Not Restricted</td>\n",
       "      <td>Hub</td>\n",
       "      <td>0</td>\n",
       "      <td>PreRack</td>\n",
       "      <td>207.0</td>\n",
       "      <td>49.0</td>\n",
       "    </tr>\n",
       "    <tr>\n",
       "      <th>4</th>\n",
       "      <td>False</td>\n",
       "      <td>missing</td>\n",
       "      <td>5</td>\n",
       "      <td>Azure</td>\n",
       "      <td>Xtransport</td>\n",
       "      <td>missing</td>\n",
       "      <td>False</td>\n",
       "      <td>False</td>\n",
       "      <td>CHINA</td>\n",
       "      <td>Growth</td>\n",
       "      <td>1</td>\n",
       "      <td>14.0</td>\n",
       "      <td>99-ZZ No Priority</td>\n",
       "      <td>Rare_var</td>\n",
       "      <td>Rare_var</td>\n",
       "      <td>Restricted</td>\n",
       "      <td>Satellite</td>\n",
       "      <td>0</td>\n",
       "      <td>PreRack</td>\n",
       "      <td>737.0</td>\n",
       "      <td>49.0</td>\n",
       "    </tr>\n",
       "  </tbody>\n",
       "</table>\n",
       "</div>"
      ],
      "text/plain": [
       "  NewDCFlag ColoReady At PlanReservationStart Flag  DeploymentSeverity  \\\n",
       "0      True                                missing                   5   \n",
       "1     False                                missing                   5   \n",
       "2      True                                missing                   5   \n",
       "3     False                                missing                   5   \n",
       "4     False                                missing                   5   \n",
       "\n",
       "  EngineeringGroup PlanResourceTypeName IsAddRack IsFirstFootprint  IsNPI  \\\n",
       "0            Azure              Compute   missing            False  False   \n",
       "1            Azure              Storage   missing            False  False   \n",
       "2            Azure              Compute   missing            False  False   \n",
       "3            Azure          XIO Compute   missing            False  False   \n",
       "4            Azure           Xtransport   missing            False  False   \n",
       "\n",
       "         PlanGEO PlanIntentName  NumberOfRacks  NumberOfServers  \\\n",
       "0   Asia Pacific         Growth             20            800.0   \n",
       "1   Asia Pacific         Growth             20            280.0   \n",
       "2         Europe         Growth             20            800.0   \n",
       "3  United States         Growth             20            880.0   \n",
       "4          CHINA         Growth              1             14.0   \n",
       "\n",
       "  PlanOrderPriorityName PlanPropertyGroupName          Region     RegionGroup  \\\n",
       "0     99-ZZ No Priority    Azure Compute APAC  Southeast Asia  Not Restricted   \n",
       "1     99-ZZ No Priority    Azure Storage APAC  Southeast Asia  Not Restricted   \n",
       "2     99-ZZ No Priority    Azure Compute EMEA     West Europe  Not Restricted   \n",
       "3     99-ZZ No Priority      Azure Compute US         West US  Not Restricted   \n",
       "4     99-ZZ No Priority              Rare_var        Rare_var      Restricted   \n",
       "\n",
       "  RegionType  SKU Avaliable Flag SKUCategoryName  CT Signal to LIve  \\\n",
       "0       Hero                   0         PreRack              124.0   \n",
       "1       Hero                   0         PreRack              126.0   \n",
       "2       Hero                   0         PreRack              198.0   \n",
       "3        Hub                   0         PreRack              207.0   \n",
       "4  Satellite                   0         PreRack              737.0   \n",
       "\n",
       "   CT Signal to Dock  \n",
       "0               31.0  \n",
       "1               42.0  \n",
       "2               31.0  \n",
       "3               49.0  \n",
       "4               49.0  "
      ]
     },
     "execution_count": 21,
     "metadata": {},
     "output_type": "execute_result"
    }
   ],
   "source": [
    "df2.head()"
   ]
  },
  {
   "cell_type": "code",
   "execution_count": 22,
   "metadata": {},
   "outputs": [],
   "source": [
    "#Lest label encode the catogorical variables\n",
    "from sklearn.preprocessing import LabelEncoder\n",
    "le=LabelEncoder()\n",
    "df2[categorical_features_list]=df2[categorical_features_list].apply(le.fit_transform)"
   ]
  },
  {
   "cell_type": "code",
   "execution_count": 23,
   "metadata": {},
   "outputs": [
    {
     "data": {
      "text/html": [
       "<div>\n",
       "<style scoped>\n",
       "    .dataframe tbody tr th:only-of-type {\n",
       "        vertical-align: middle;\n",
       "    }\n",
       "\n",
       "    .dataframe tbody tr th {\n",
       "        vertical-align: top;\n",
       "    }\n",
       "\n",
       "    .dataframe thead th {\n",
       "        text-align: right;\n",
       "    }\n",
       "</style>\n",
       "<table border=\"1\" class=\"dataframe\">\n",
       "  <thead>\n",
       "    <tr style=\"text-align: right;\">\n",
       "      <th></th>\n",
       "      <th>NewDCFlag</th>\n",
       "      <th>ColoReady At PlanReservationStart Flag</th>\n",
       "      <th>DeploymentSeverity</th>\n",
       "      <th>EngineeringGroup</th>\n",
       "      <th>PlanResourceTypeName</th>\n",
       "      <th>IsAddRack</th>\n",
       "      <th>IsFirstFootprint</th>\n",
       "      <th>IsNPI</th>\n",
       "      <th>PlanGEO</th>\n",
       "      <th>PlanIntentName</th>\n",
       "      <th>NumberOfRacks</th>\n",
       "      <th>NumberOfServers</th>\n",
       "      <th>PlanOrderPriorityName</th>\n",
       "      <th>PlanPropertyGroupName</th>\n",
       "      <th>Region</th>\n",
       "      <th>RegionGroup</th>\n",
       "      <th>RegionType</th>\n",
       "      <th>SKU Avaliable Flag</th>\n",
       "      <th>SKUCategoryName</th>\n",
       "      <th>CT Signal to LIve</th>\n",
       "      <th>CT Signal to Dock</th>\n",
       "    </tr>\n",
       "  </thead>\n",
       "  <tbody>\n",
       "    <tr>\n",
       "      <th>0</th>\n",
       "      <td>1</td>\n",
       "      <td>2</td>\n",
       "      <td>5</td>\n",
       "      <td>0</td>\n",
       "      <td>7</td>\n",
       "      <td>2</td>\n",
       "      <td>0</td>\n",
       "      <td>0</td>\n",
       "      <td>1</td>\n",
       "      <td>1</td>\n",
       "      <td>20</td>\n",
       "      <td>800.0</td>\n",
       "      <td>2</td>\n",
       "      <td>2</td>\n",
       "      <td>13</td>\n",
       "      <td>0</td>\n",
       "      <td>0</td>\n",
       "      <td>0</td>\n",
       "      <td>0</td>\n",
       "      <td>124.0</td>\n",
       "      <td>31.0</td>\n",
       "    </tr>\n",
       "    <tr>\n",
       "      <th>1</th>\n",
       "      <td>0</td>\n",
       "      <td>2</td>\n",
       "      <td>5</td>\n",
       "      <td>0</td>\n",
       "      <td>24</td>\n",
       "      <td>2</td>\n",
       "      <td>0</td>\n",
       "      <td>0</td>\n",
       "      <td>1</td>\n",
       "      <td>1</td>\n",
       "      <td>20</td>\n",
       "      <td>280.0</td>\n",
       "      <td>2</td>\n",
       "      <td>8</td>\n",
       "      <td>13</td>\n",
       "      <td>0</td>\n",
       "      <td>0</td>\n",
       "      <td>0</td>\n",
       "      <td>0</td>\n",
       "      <td>126.0</td>\n",
       "      <td>42.0</td>\n",
       "    </tr>\n",
       "    <tr>\n",
       "      <th>2</th>\n",
       "      <td>1</td>\n",
       "      <td>2</td>\n",
       "      <td>5</td>\n",
       "      <td>0</td>\n",
       "      <td>7</td>\n",
       "      <td>2</td>\n",
       "      <td>0</td>\n",
       "      <td>0</td>\n",
       "      <td>5</td>\n",
       "      <td>1</td>\n",
       "      <td>20</td>\n",
       "      <td>800.0</td>\n",
       "      <td>2</td>\n",
       "      <td>3</td>\n",
       "      <td>18</td>\n",
       "      <td>0</td>\n",
       "      <td>0</td>\n",
       "      <td>0</td>\n",
       "      <td>0</td>\n",
       "      <td>198.0</td>\n",
       "      <td>31.0</td>\n",
       "    </tr>\n",
       "    <tr>\n",
       "      <th>3</th>\n",
       "      <td>0</td>\n",
       "      <td>2</td>\n",
       "      <td>5</td>\n",
       "      <td>0</td>\n",
       "      <td>26</td>\n",
       "      <td>2</td>\n",
       "      <td>0</td>\n",
       "      <td>0</td>\n",
       "      <td>13</td>\n",
       "      <td>1</td>\n",
       "      <td>20</td>\n",
       "      <td>880.0</td>\n",
       "      <td>2</td>\n",
       "      <td>4</td>\n",
       "      <td>19</td>\n",
       "      <td>0</td>\n",
       "      <td>1</td>\n",
       "      <td>0</td>\n",
       "      <td>0</td>\n",
       "      <td>207.0</td>\n",
       "      <td>49.0</td>\n",
       "    </tr>\n",
       "    <tr>\n",
       "      <th>4</th>\n",
       "      <td>0</td>\n",
       "      <td>2</td>\n",
       "      <td>5</td>\n",
       "      <td>0</td>\n",
       "      <td>30</td>\n",
       "      <td>2</td>\n",
       "      <td>0</td>\n",
       "      <td>0</td>\n",
       "      <td>3</td>\n",
       "      <td>1</td>\n",
       "      <td>1</td>\n",
       "      <td>14.0</td>\n",
       "      <td>2</td>\n",
       "      <td>14</td>\n",
       "      <td>11</td>\n",
       "      <td>2</td>\n",
       "      <td>2</td>\n",
       "      <td>0</td>\n",
       "      <td>0</td>\n",
       "      <td>737.0</td>\n",
       "      <td>49.0</td>\n",
       "    </tr>\n",
       "  </tbody>\n",
       "</table>\n",
       "</div>"
      ],
      "text/plain": [
       "   NewDCFlag  ColoReady At PlanReservationStart Flag  DeploymentSeverity  \\\n",
       "0          1                                       2                   5   \n",
       "1          0                                       2                   5   \n",
       "2          1                                       2                   5   \n",
       "3          0                                       2                   5   \n",
       "4          0                                       2                   5   \n",
       "\n",
       "   EngineeringGroup  PlanResourceTypeName  IsAddRack  IsFirstFootprint  IsNPI  \\\n",
       "0                 0                     7          2                 0      0   \n",
       "1                 0                    24          2                 0      0   \n",
       "2                 0                     7          2                 0      0   \n",
       "3                 0                    26          2                 0      0   \n",
       "4                 0                    30          2                 0      0   \n",
       "\n",
       "   PlanGEO  PlanIntentName  NumberOfRacks  NumberOfServers  \\\n",
       "0        1               1             20            800.0   \n",
       "1        1               1             20            280.0   \n",
       "2        5               1             20            800.0   \n",
       "3       13               1             20            880.0   \n",
       "4        3               1              1             14.0   \n",
       "\n",
       "   PlanOrderPriorityName  PlanPropertyGroupName  Region  RegionGroup  \\\n",
       "0                      2                      2      13            0   \n",
       "1                      2                      8      13            0   \n",
       "2                      2                      3      18            0   \n",
       "3                      2                      4      19            0   \n",
       "4                      2                     14      11            2   \n",
       "\n",
       "   RegionType  SKU Avaliable Flag  SKUCategoryName  CT Signal to LIve  \\\n",
       "0           0                   0                0              124.0   \n",
       "1           0                   0                0              126.0   \n",
       "2           0                   0                0              198.0   \n",
       "3           1                   0                0              207.0   \n",
       "4           2                   0                0              737.0   \n",
       "\n",
       "   CT Signal to Dock  \n",
       "0               31.0  \n",
       "1               42.0  \n",
       "2               31.0  \n",
       "3               49.0  \n",
       "4               49.0  "
      ]
     },
     "execution_count": 23,
     "metadata": {},
     "output_type": "execute_result"
    }
   ],
   "source": [
    "df2.head()"
   ]
  },
  {
   "cell_type": "code",
   "execution_count": 152,
   "metadata": {},
   "outputs": [],
   "source": [
    "#lets define our predictors and outcome (Target)\n",
    "x=df2.drop([\"CT Signal to LIve\",\"CT Signal to Dock\"],axis=1)\n",
    "y=df2[\"CT Signal to LIve\"]"
   ]
  },
  {
   "cell_type": "code",
   "execution_count": 25,
   "metadata": {},
   "outputs": [
    {
     "data": {
      "text/plain": [
       "ExtraTreesRegressor(bootstrap=False, ccp_alpha=0.0, criterion='mse',\n",
       "                    max_depth=None, max_features='auto', max_leaf_nodes=None,\n",
       "                    max_samples=None, min_impurity_decrease=0.0,\n",
       "                    min_impurity_split=None, min_samples_leaf=1,\n",
       "                    min_samples_split=2, min_weight_fraction_leaf=0.0,\n",
       "                    n_estimators=100, n_jobs=None, oob_score=False,\n",
       "                    random_state=None, verbose=0, warm_start=False)"
      ]
     },
     "execution_count": 25,
     "metadata": {},
     "output_type": "execute_result"
    }
   ],
   "source": [
    "# Important feature using ExtraTreesRegressor\n",
    "from sklearn.ensemble import ExtraTreesRegressor\n",
    "selection = ExtraTreesRegressor()\n",
    "selection.fit(x, y)"
   ]
  },
  {
   "cell_type": "code",
   "execution_count": 26,
   "metadata": {},
   "outputs": [
    {
     "data": {
      "image/png": "[encoded data removed]",
      "text/plain": [
       "<Figure size 864x576 with 1 Axes>"
      ]
     },
     "metadata": {},
     "output_type": "display_data"
    }
   ],
   "source": [
    "#plot graph of feature importances for better visualization\n",
    "plt.figure(figsize = (12,8))\n",
    "feat_importances = pd.Series(selection.feature_importances_, index=x.columns)\n",
    "feat_importances.nlargest(20).plot(kind='barh')\n",
    "plt.show()"
   ]
  },
  {
   "cell_type": "code",
   "execution_count": 193,
   "metadata": {},
   "outputs": [],
   "source": [
    "#Lets split our data into training and testing sets. random_state is the seed used by the random number generator. It can be any integer.\n",
    "from sklearn.model_selection import train_test_split\n",
    "x_train,x_test,y_train,y_test=train_test_split(x,y,test_size=0.25,random_state=100)"
   ]
  },
  {
   "cell_type": "code",
   "execution_count": 28,
   "metadata": {},
   "outputs": [],
   "source": [
    "#lest import RFR\n",
    "from sklearn.ensemble import RandomForestRegressor\n",
    "RFR=RandomForestRegressor() #lets keep all the parmeters to default as of now"
   ]
  },
  {
   "cell_type": "code",
   "execution_count": 30,
   "metadata": {},
   "outputs": [
    {
     "data": {
      "text/plain": [
       "RandomForestRegressor(bootstrap=True, ccp_alpha=0.0, criterion='mse',\n",
       "                      max_depth=None, max_features='auto', max_leaf_nodes=None,\n",
       "                      max_samples=None, min_impurity_decrease=0.0,\n",
       "                      min_impurity_split=None, min_samples_leaf=1,\n",
       "                      min_samples_split=2, min_weight_fraction_leaf=0.0,\n",
       "                      n_estimators=100, n_jobs=None, oob_score=False,\n",
       "                      random_state=None, verbose=0, warm_start=False)"
      ]
     },
     "execution_count": 30,
     "metadata": {},
     "output_type": "execute_result"
    }
   ],
   "source": [
    "RFR.fit(x_train,y_train)"
   ]
  },
  {
   "cell_type": "code",
   "execution_count": 31,
   "metadata": {},
   "outputs": [],
   "source": [
    "#Predictions \n",
    "pred=RFR.predict(x_test)"
   ]
  },
  {
   "cell_type": "code",
   "execution_count": 32,
   "metadata": {},
   "outputs": [],
   "source": [
    "# Lets evaluate our results (compairing y_test with the pred)\n",
    "from sklearn.metrics import mean_absolute_error,mean_squared_error, r2_score"
   ]
  },
  {
   "cell_type": "code",
   "execution_count": 97,
   "metadata": {},
   "outputs": [],
   "source": [
    "#Error calculation\n",
    "RMSE = np.sqrt(mean_squared_error(y_test, pred))\n",
    "MAE = mean_absolute_error(y_test, pred)\n",
    "r_squre= r2_score(y_test, pred)"
   ]
  },
  {
   "cell_type": "code",
   "execution_count": 47,
   "metadata": {},
   "outputs": [
    {
     "name": "stdout",
     "output_type": "stream",
     "text": [
      "RMSE : 68.15184251759952\n",
      "MAE: 46.32334855186797\n",
      "r_square: 0.5422437585397755\n"
     ]
    }
   ],
   "source": [
    "print('RMSE :',RMSE) \n",
    "print('MAE:', MAE)\n",
    "print(\"r_square:\",r_squre) "
   ]
  },
  {
   "cell_type": "code",
   "execution_count": 84,
   "metadata": {},
   "outputs": [
    {
     "name": "stdout",
     "output_type": "stream",
     "text": [
      "('NewDCFlag', 0.007936700966561388)\n",
      "('ColoReady At PlanReservationStart Flag', 0.024267434886225302)\n",
      "('DeploymentSeverity', 0.02930732803514045)\n",
      "('EngineeringGroup', 0.010251474563886039)\n",
      "('PlanResourceTypeName', 0.21679558741280022)\n",
      "('IsAddRack', 0.025816503334700817)\n",
      "('IsFirstFootprint', 0.013109680136854332)\n",
      "('IsNPI', 0.019046342219929565)\n",
      "('PlanGEO', 0.047032771862816604)\n",
      "('PlanIntentName', 0.03480508725640733)\n",
      "('NumberOfRacks', 0.03706448184090779)\n",
      "('NumberOfServers', 0.16084516397400495)\n",
      "('PlanOrderPriorityName', 0.0926883332909325)\n",
      "('PlanPropertyGroupName', 0.060936573510376554)\n",
      "('Region', 0.07802718503966498)\n",
      "('RegionGroup', 0.02584428897867371)\n",
      "('RegionType', 0.019549711705563803)\n",
      "('SKU Avaliable Flag', 0.01549588435203432)\n",
      "('SKUCategoryName', 0.08117946663251939)\n"
     ]
    }
   ],
   "source": [
    "#Lets Check the Feaure Importance \n",
    "importances=RFR.feature_importances_\n",
    "\n",
    "for feature in zip (x.columns, importances):\n",
    "    print (feature)"
   ]
  },
  {
   "cell_type": "code",
   "execution_count": 37,
   "metadata": {},
   "outputs": [
    {
     "data": {
      "image/png": "[encoded data removed]",
      "text/plain": [
       "<Figure size 864x432 with 1 Axes>"
      ]
     },
     "metadata": {},
     "output_type": "display_data"
    }
   ],
   "source": [
    "# Sort feature importances in descending order\n",
    "indices = np.argsort(importances)[::-1]\n",
    "\n",
    "# Rearrange feature names so they match the sorted feature importances\n",
    "names = [x.columns[i] for i in indices]\n",
    "\n",
    "# Create plot\n",
    "plt.figure(figsize=(12,6))\n",
    "\n",
    "# Create plot title\n",
    "plt.title(\"Feature Importance\")\n",
    "\n",
    "# Add bars\n",
    "plt.bar(range(x.shape[1]), importances[indices])\n",
    "\n",
    "# Add feature names as x-axis labels\n",
    "plt.xticks(range(x.shape[1]), names, rotation=90)\n",
    "\n",
    "# Show plot\n",
    "plt.show()"
   ]
  },
  {
   "cell_type": "code",
   "execution_count": 40,
   "metadata": {
    "scrolled": false
   },
   "outputs": [
    {
     "name": "stdout",
     "output_type": "stream",
     "text": [
      "Fitting 3 folds for each of 40 candidates, totalling 120 fits\n"
     ]
    },
    {
     "name": "stderr",
     "output_type": "stream",
     "text": [
      "[Parallel(n_jobs=-1)]: Using backend LokyBackend with 4 concurrent workers.\n",
      "[Parallel(n_jobs=-1)]: Done  42 tasks      | elapsed:   17.7s\n",
      "[Parallel(n_jobs=-1)]: Done 120 out of 120 | elapsed:  1.1min finished\n"
     ]
    },
    {
     "data": {
      "text/plain": [
       "GridSearchCV(cv=3, error_score=nan,\n",
       "             estimator=RandomForestRegressor(bootstrap=True, ccp_alpha=0.0,\n",
       "                                             criterion='mse', max_depth=None,\n",
       "                                             max_features='auto',\n",
       "                                             max_leaf_nodes=None,\n",
       "                                             max_samples=None,\n",
       "                                             min_impurity_decrease=0.0,\n",
       "                                             min_impurity_split=None,\n",
       "                                             min_samples_leaf=1,\n",
       "                                             min_samples_split=2,\n",
       "                                             min_weight_fraction_leaf=0.0,\n",
       "                                             n_estimators=100, n_jobs=None,\n",
       "                                             oob_score=False, random_state=None,\n",
       "                                             verbose=0, warm_start=False),\n",
       "             iid='deprecated', n_jobs=-1,\n",
       "             param_grid={'max_depth': [2, 3, 4, 5, 6, 7, 8, None],\n",
       "                         'n_estimators': [100, 200, 300, 400, 500]},\n",
       "             pre_dispatch='2*n_jobs', refit=True, return_train_score=False,\n",
       "             scoring=None, verbose=1)"
      ]
     },
     "execution_count": 40,
     "metadata": {},
     "output_type": "execute_result"
    }
   ],
   "source": [
    "#Lets do hyperparameter tunning \n",
    "\n",
    "from sklearn.model_selection import GridSearchCV\n",
    "\n",
    "rfr = RandomForestRegressor()\n",
    "parameters = {\n",
    "    'n_estimators': [100,200,300,400,500],\n",
    "    'max_depth' : [2,3,4,5,6,7,8,None]\n",
    "}\n",
    "\n",
    "cv = GridSearchCV(rfr, parameters, cv=3, n_jobs = -1,verbose = 1)\n",
    "cv.fit(x_train, y_train)"
   ]
  },
  {
   "cell_type": "code",
   "execution_count": 42,
   "metadata": {},
   "outputs": [
    {
     "data": {
      "text/plain": [
       "{'max_depth': None, 'n_estimators': 300}"
      ]
     },
     "execution_count": 42,
     "metadata": {},
     "output_type": "execute_result"
    }
   ],
   "source": [
    "cv.best_params_"
   ]
  },
  {
   "cell_type": "code",
   "execution_count": 85,
   "metadata": {},
   "outputs": [],
   "source": [
    "#GridSearch Predictions\n",
    "pred=cv.predict(x_test)"
   ]
  },
  {
   "cell_type": "code",
   "execution_count": 86,
   "metadata": {},
   "outputs": [
    {
     "name": "stdout",
     "output_type": "stream",
     "text": [
      "RMSE : 83.33007891664396\n",
      "MAE: 54.59537697796514\n",
      "r_square: 0.3156430888641685\n"
     ]
    }
   ],
   "source": [
    "print('RMSE :',RMSE) \n",
    "print('MAE:', MAE)\n",
    "print(\"r_square:\",r_squre) "
   ]
  },
  {
   "cell_type": "markdown",
   "metadata": {},
   "source": [
    "# Gradient Boosting"
   ]
  },
  {
   "cell_type": "code",
   "execution_count": 199,
   "metadata": {},
   "outputs": [],
   "source": [
    "# Initialize and fit regressor\n",
    "from sklearn.ensemble import GradientBoostingRegressor\n",
    "gbr=GradientBoostingRegressor(n_estimators=100,loss=\"lad\",max_depth=8)"
   ]
  },
  {
   "cell_type": "code",
   "execution_count": 200,
   "metadata": {},
   "outputs": [
    {
     "data": {
      "text/plain": [
       "GradientBoostingRegressor(alpha=0.9, ccp_alpha=0.0, criterion='friedman_mse',\n",
       "                          init=None, learning_rate=0.1, loss='lad', max_depth=8,\n",
       "                          max_features=None, max_leaf_nodes=None,\n",
       "                          min_impurity_decrease=0.0, min_impurity_split=None,\n",
       "                          min_samples_leaf=1, min_samples_split=2,\n",
       "                          min_weight_fraction_leaf=0.0, n_estimators=100,\n",
       "                          n_iter_no_change=None, presort='deprecated',\n",
       "                          random_state=None, subsample=1.0, tol=0.0001,\n",
       "                          validation_fraction=0.1, verbose=0, warm_start=False)"
      ]
     },
     "execution_count": 200,
     "metadata": {},
     "output_type": "execute_result"
    }
   ],
   "source": [
    "gbr.fit(x_train,y_train)"
   ]
  },
  {
   "cell_type": "code",
   "execution_count": 201,
   "metadata": {},
   "outputs": [],
   "source": [
    "#Predictions\n",
    "pred=gbr.predict(x_test)"
   ]
  },
  {
   "cell_type": "code",
   "execution_count": 204,
   "metadata": {},
   "outputs": [],
   "source": [
    "G_pred=pd.DataFrame(pred)#For stack model"
   ]
  },
  {
   "cell_type": "code",
   "execution_count": 202,
   "metadata": {},
   "outputs": [],
   "source": [
    "#Error calculation\n",
    "RMSE = np.sqrt(mean_squared_error(y_test, pred))\n",
    "MAE = mean_absolute_error(y_test, pred)\n",
    "r_squre= r2_score(y_test, pred)"
   ]
  },
  {
   "cell_type": "code",
   "execution_count": 203,
   "metadata": {},
   "outputs": [
    {
     "name": "stdout",
     "output_type": "stream",
     "text": [
      "RMSE : 68.22319182205037\n",
      "MAE: 44.72201481109841\n",
      "r_square: 0.5412847914836285\n"
     ]
    }
   ],
   "source": [
    "print('RMSE :',RMSE) \n",
    "print('MAE:', MAE)\n",
    "print(\"r_square:\",r_squre)"
   ]
  },
  {
   "cell_type": "code",
   "execution_count": 53,
   "metadata": {},
   "outputs": [
    {
     "name": "stdout",
     "output_type": "stream",
     "text": [
      "Fitting 3 folds for each of 144 candidates, totalling 432 fits\n"
     ]
    },
    {
     "name": "stderr",
     "output_type": "stream",
     "text": [
      "[Parallel(n_jobs=-1)]: Using backend LokyBackend with 4 concurrent workers.\n",
      "[Parallel(n_jobs=-1)]: Done  42 tasks      | elapsed:   10.4s\n",
      "[Parallel(n_jobs=-1)]: Done 192 tasks      | elapsed:  2.7min\n",
      "[Parallel(n_jobs=-1)]: Done 432 out of 432 | elapsed:  9.5min finished\n"
     ]
    },
    {
     "data": {
      "text/plain": [
       "GridSearchCV(cv=3, error_score=nan,\n",
       "             estimator=GradientBoostingRegressor(alpha=0.9, ccp_alpha=0.0,\n",
       "                                                 criterion='friedman_mse',\n",
       "                                                 init=None, learning_rate=0.1,\n",
       "                                                 loss='ls', max_depth=3,\n",
       "                                                 max_features=None,\n",
       "                                                 max_leaf_nodes=None,\n",
       "                                                 min_impurity_decrease=0.0,\n",
       "                                                 min_impurity_split=None,\n",
       "                                                 min_samples_leaf=1,\n",
       "                                                 min_samples_split=2,\n",
       "                                                 min_weight_fraction_leaf=0.0,\n",
       "                                                 n_estimators=100,\n",
       "                                                 n_iter_n...\n",
       "                                                 presort='deprecated',\n",
       "                                                 random_state=None,\n",
       "                                                 subsample=1.0, tol=0.0001,\n",
       "                                                 validation_fraction=0.1,\n",
       "                                                 verbose=0, warm_start=False),\n",
       "             iid='deprecated', n_jobs=-1,\n",
       "             param_grid={'criterion': ['mse', 'friedman_mse'],\n",
       "                         'loss': ['ls', 'lad', 'huber'],\n",
       "                         'max_depth': [2, 3, 4, 5, 6, 7, 8, None],\n",
       "                         'n_estimators': [100, 200, 300]},\n",
       "             pre_dispatch='2*n_jobs', refit=True, return_train_score=False,\n",
       "             scoring=None, verbose=1)"
      ]
     },
     "execution_count": 53,
     "metadata": {},
     "output_type": "execute_result"
    }
   ],
   "source": [
    "#Lets do hyperparameter tunning \n",
    "\n",
    "from sklearn.model_selection import GridSearchCV\n",
    "\n",
    "rfr = GradientBoostingRegressor()\n",
    "parameters = {\n",
    "                'n_estimators': [100,200,300],\n",
    "                'criterion' : ['mse','friedman_mse'],\n",
    "                'max_depth' : [2,3,4,5,6,7,8,None],\n",
    "                'loss' : ['ls', 'lad', 'huber']\n",
    "}\n",
    "\n",
    "cv = GridSearchCV(rfr, parameters, cv=3, n_jobs = -1,verbose = 1)\n",
    "cv.fit(x_train, y_train)"
   ]
  },
  {
   "cell_type": "code",
   "execution_count": 54,
   "metadata": {
    "scrolled": true
   },
   "outputs": [
    {
     "data": {
      "text/plain": [
       "{'criterion': 'friedman_mse',\n",
       " 'loss': 'lad',\n",
       " 'max_depth': 8,\n",
       " 'n_estimators': 100}"
      ]
     },
     "execution_count": 54,
     "metadata": {},
     "output_type": "execute_result"
    }
   ],
   "source": [
    "cv.best_params_"
   ]
  },
  {
   "cell_type": "code",
   "execution_count": 189,
   "metadata": {},
   "outputs": [],
   "source": [
    "#GridSearch Predictions \n",
    "pred=cv.predict(x_test)"
   ]
  },
  {
   "cell_type": "code",
   "execution_count": 190,
   "metadata": {
    "scrolled": false
   },
   "outputs": [
    {
     "name": "stdout",
     "output_type": "stream",
     "text": [
      "RMSE : 72.37721210254114\n",
      "MAE: 50.4671452583749\n",
      "r_square: 0.4837230066127879\n"
     ]
    }
   ],
   "source": [
    "#Results \n",
    "print('RMSE :',RMSE) \n",
    "print('MAE:', MAE)\n",
    "print(\"r_square:\",r_squre)"
   ]
  },
  {
   "cell_type": "markdown",
   "metadata": {},
   "source": [
    "# AdaBoost"
   ]
  },
  {
   "cell_type": "code",
   "execution_count": 102,
   "metadata": {},
   "outputs": [],
   "source": [
    "from sklearn.ensemble import AdaBoostRegressor\n",
    "abr= AdaBoostRegressor(n_estimators=100,learning_rate=0.1,loss='exponential')"
   ]
  },
  {
   "cell_type": "code",
   "execution_count": 159,
   "metadata": {
    "scrolled": true
   },
   "outputs": [
    {
     "data": {
      "text/plain": [
       "AdaBoostRegressor(base_estimator=None, learning_rate=0.1, loss='exponential',\n",
       "                  n_estimators=100, random_state=None)"
      ]
     },
     "execution_count": 159,
     "metadata": {},
     "output_type": "execute_result"
    }
   ],
   "source": [
    "abr.fit(x_train,y_train)"
   ]
  },
  {
   "cell_type": "code",
   "execution_count": 163,
   "metadata": {},
   "outputs": [],
   "source": [
    "#Predictions\n",
    "pred=abr.predict(x_test)"
   ]
  },
  {
   "cell_type": "code",
   "execution_count": 164,
   "metadata": {},
   "outputs": [],
   "source": [
    "#Error calculation\n",
    "RMSE = np.sqrt(mean_squared_error(y_test, pred))\n",
    "MAE = mean_absolute_error(y_test, pred)\n",
    "r_squre= r2_score(y_test, pred)"
   ]
  },
  {
   "cell_type": "code",
   "execution_count": 165,
   "metadata": {
    "scrolled": true
   },
   "outputs": [
    {
     "name": "stdout",
     "output_type": "stream",
     "text": [
      "RMSE : 86.5228358656083\n",
      "MAE: 69.65119422942175\n",
      "r_square: 0.2621967533048367\n"
     ]
    }
   ],
   "source": [
    "#Results\n",
    "print('RMSE :',RMSE) \n",
    "print('MAE:', MAE)\n",
    "print(\"r_square:\",r_squre)"
   ]
  },
  {
   "cell_type": "code",
   "execution_count": 89,
   "metadata": {
    "scrolled": true
   },
   "outputs": [
    {
     "name": "stdout",
     "output_type": "stream",
     "text": [
      "Fitting 3 folds for each of 18 candidates, totalling 54 fits\n"
     ]
    },
    {
     "name": "stderr",
     "output_type": "stream",
     "text": [
      "[Parallel(n_jobs=-1)]: Using backend LokyBackend with 4 concurrent workers.\n",
      "[Parallel(n_jobs=-1)]: Done  42 tasks      | elapsed:   13.6s\n",
      "[Parallel(n_jobs=-1)]: Done  54 out of  54 | elapsed:   17.6s finished\n"
     ]
    },
    {
     "data": {
      "text/plain": [
       "GridSearchCV(cv=3, error_score=nan,\n",
       "             estimator=AdaBoostRegressor(base_estimator=None, learning_rate=1.0,\n",
       "                                         loss='linear', n_estimators=50,\n",
       "                                         random_state=None),\n",
       "             iid='deprecated', n_jobs=-1,\n",
       "             param_grid={'learning_rate': [0.1, 1],\n",
       "                         'loss': ['linear', 'square', 'exponential'],\n",
       "                         'n_estimators': [100, 200, 300]},\n",
       "             pre_dispatch='2*n_jobs', refit=True, return_train_score=False,\n",
       "             scoring=None, verbose=1)"
      ]
     },
     "execution_count": 89,
     "metadata": {},
     "output_type": "execute_result"
    }
   ],
   "source": [
    "#Lets do hyperparameter tunning \n",
    "\n",
    "from sklearn.model_selection import GridSearchCV\n",
    "\n",
    "adb1 = AdaBoostRegressor()\n",
    "parameters = {\n",
    "                'n_estimators': [100,200,300],\n",
    "                'learning_rate' : [0.1,1],\n",
    "                'loss' : ['linear', 'square', 'exponential']\n",
    "               \n",
    "}\n",
    "\n",
    "cv = GridSearchCV(adb1, parameters, cv=3, n_jobs = -1,verbose = 1)\n",
    "cv.fit(x_train, y_train)"
   ]
  },
  {
   "cell_type": "code",
   "execution_count": 90,
   "metadata": {},
   "outputs": [
    {
     "data": {
      "text/plain": [
       "{'learning_rate': 0.1, 'loss': 'exponential', 'n_estimators': 100}"
      ]
     },
     "execution_count": 90,
     "metadata": {},
     "output_type": "execute_result"
    }
   ],
   "source": [
    "cv.best_params_"
   ]
  },
  {
   "cell_type": "markdown",
   "metadata": {},
   "source": [
    "# Neural Neats-MLP"
   ]
  },
  {
   "cell_type": "code",
   "execution_count": 166,
   "metadata": {},
   "outputs": [],
   "source": [
    "from sklearn.neural_network import MLPRegressor\n",
    "mlp=MLPRegressor(learning_rate='adaptive',hidden_layer_sizes=(100,))"
   ]
  },
  {
   "cell_type": "code",
   "execution_count": 167,
   "metadata": {},
   "outputs": [
    {
     "name": "stderr",
     "output_type": "stream",
     "text": [
      "C:\\Users\\Shrutee\\Anaconda3\\lib\\site-packages\\sklearn\\neural_network\\_multilayer_perceptron.py:571: ConvergenceWarning: Stochastic Optimizer: Maximum iterations (200) reached and the optimization hasn't converged yet.\n",
      "  % self.max_iter, ConvergenceWarning)\n"
     ]
    },
    {
     "data": {
      "text/plain": [
       "MLPRegressor(activation='relu', alpha=0.0001, batch_size='auto', beta_1=0.9,\n",
       "             beta_2=0.999, early_stopping=False, epsilon=1e-08,\n",
       "             hidden_layer_sizes=(100,), learning_rate='adaptive',\n",
       "             learning_rate_init=0.001, max_fun=15000, max_iter=200,\n",
       "             momentum=0.9, n_iter_no_change=10, nesterovs_momentum=True,\n",
       "             power_t=0.5, random_state=None, shuffle=True, solver='adam',\n",
       "             tol=0.0001, validation_fraction=0.1, verbose=False,\n",
       "             warm_start=False)"
      ]
     },
     "execution_count": 167,
     "metadata": {},
     "output_type": "execute_result"
    }
   ],
   "source": [
    "mlp.fit(x_train,y_train)"
   ]
  },
  {
   "cell_type": "code",
   "execution_count": 168,
   "metadata": {},
   "outputs": [],
   "source": [
    "#Predictions\n",
    "pred=mlp.predict(x_test)"
   ]
  },
  {
   "cell_type": "code",
   "execution_count": 169,
   "metadata": {},
   "outputs": [],
   "source": [
    "#Error calculation\n",
    "RMSE = np.sqrt(mean_squared_error(y_test, pred))\n",
    "MAE = mean_absolute_error(y_test, pred)\n",
    "r_squre= r2_score(y_test, pred)"
   ]
  },
  {
   "cell_type": "code",
   "execution_count": 170,
   "metadata": {
    "scrolled": true
   },
   "outputs": [
    {
     "name": "stdout",
     "output_type": "stream",
     "text": [
      "RMSE : 92.99119557063689\n",
      "MAE: 69.4448835059283\n",
      "r_square: 0.14775839092729726\n"
     ]
    }
   ],
   "source": [
    "#Results\n",
    "print('RMSE :',RMSE) \n",
    "print('MAE:', MAE)\n",
    "print(\"r_square:\",r_squre)"
   ]
  },
  {
   "cell_type": "code",
   "execution_count": 106,
   "metadata": {
    "scrolled": false
   },
   "outputs": [
    {
     "name": "stdout",
     "output_type": "stream",
     "text": [
      "Fitting 3 folds for each of 27 candidates, totalling 81 fits\n"
     ]
    },
    {
     "name": "stderr",
     "output_type": "stream",
     "text": [
      "[Parallel(n_jobs=-1)]: Using backend LokyBackend with 4 concurrent workers.\n",
      "[Parallel(n_jobs=-1)]: Done  42 tasks      | elapsed:   16.9s\n",
      "[Parallel(n_jobs=-1)]: Done  81 out of  81 | elapsed:   32.3s finished\n",
      "C:\\Users\\Shrutee\\Anaconda3\\lib\\site-packages\\sklearn\\neural_network\\_multilayer_perceptron.py:571: ConvergenceWarning: Stochastic Optimizer: Maximum iterations (200) reached and the optimization hasn't converged yet.\n",
      "  % self.max_iter, ConvergenceWarning)\n"
     ]
    },
    {
     "data": {
      "text/plain": [
       "GridSearchCV(cv=3, error_score=nan,\n",
       "             estimator=MLPRegressor(activation='relu', alpha=0.0001,\n",
       "                                    batch_size='auto', beta_1=0.9, beta_2=0.999,\n",
       "                                    early_stopping=False, epsilon=1e-08,\n",
       "                                    hidden_layer_sizes=(100,),\n",
       "                                    learning_rate='constant',\n",
       "                                    learning_rate_init=0.001, max_fun=15000,\n",
       "                                    max_iter=200, momentum=0.9,\n",
       "                                    n_iter_no_change=10,\n",
       "                                    nesterovs_momentum=True, power_t=0.5,\n",
       "                                    random_state=...uffle=True,\n",
       "                                    solver='adam', tol=0.0001,\n",
       "                                    validation_fraction=0.1, verbose=False,\n",
       "                                    warm_start=False),\n",
       "             iid='deprecated', n_jobs=-1,\n",
       "             param_grid={'activation': ['relu', 'tanh', 'logistic'],\n",
       "                         'hidden_layer_sizes': [(10,), (50,), (100,)],\n",
       "                         'learning_rate': ['constant', 'invscaling',\n",
       "                                           'adaptive']},\n",
       "             pre_dispatch='2*n_jobs', refit=True, return_train_score=False,\n",
       "             scoring=None, verbose=1)"
      ]
     },
     "execution_count": 106,
     "metadata": {},
     "output_type": "execute_result"
    }
   ],
   "source": [
    "#Lets do hyperparameter tunning \n",
    "\n",
    "from sklearn.model_selection import GridSearchCV\n",
    "\n",
    "mlp1 = MLPRegressor()\n",
    "parameters = {\n",
    "                'hidden_layer_sizes': [(10,), (50,), (100,)],\n",
    "                'activation': ['relu', 'tanh', 'logistic'],\n",
    "                'learning_rate': ['constant', 'invscaling', 'adaptive']\n",
    "               \n",
    "}\n",
    "\n",
    "cv = GridSearchCV(mlp1, parameters, cv=3, n_jobs = -1,verbose = 1)\n",
    "cv.fit(x_train, y_train)"
   ]
  },
  {
   "cell_type": "code",
   "execution_count": 107,
   "metadata": {},
   "outputs": [
    {
     "data": {
      "text/plain": [
       "{'activation': 'relu',\n",
       " 'hidden_layer_sizes': (100,),\n",
       " 'learning_rate': 'adaptive'}"
      ]
     },
     "execution_count": 107,
     "metadata": {},
     "output_type": "execute_result"
    }
   ],
   "source": [
    "cv.best_params_"
   ]
  },
  {
   "cell_type": "markdown",
   "metadata": {},
   "source": [
    "# Catboost "
   ]
  },
  {
   "cell_type": "code",
   "execution_count": 139,
   "metadata": {},
   "outputs": [],
   "source": [
    "#lets define our predictors and outcome (Target)\n",
    "x1=df1.drop([\"CT Signal to LIve\",\"CT Signal to Dock\"],axis=1)\n",
    "y1=df1[\"CT Signal to LIve\"]"
   ]
  },
  {
   "cell_type": "code",
   "execution_count": 140,
   "metadata": {},
   "outputs": [],
   "source": [
    "#Lets split our data into training and testing sets. random_state is the seed used by the random number generator. It can be any integer.\n",
    "from sklearn.model_selection import train_test_split\n",
    "x_train,x_test,y_train,y_test=train_test_split(x1,y1,test_size=0.25,random_state=100)"
   ]
  },
  {
   "cell_type": "code",
   "execution_count": 205,
   "metadata": {},
   "outputs": [],
   "source": [
    "from catboost import CatBoostRegressor\n",
    "cr=CatBoostRegressor(iterations=200, loss_function='RMSE',\n",
    "                              random_state = 2021, \n",
    "                              eval_metric=\"RMSE\")"
   ]
  },
  {
   "cell_type": "code",
   "execution_count": 206,
   "metadata": {
    "scrolled": false
   },
   "outputs": [
    {
     "name": "stdout",
     "output_type": "stream",
     "text": [
      "Learning rate set to 0.121598\n",
      "0:\tlearn: 99.9555200\ttest: 97.5713430\tbest: 97.5713430 (0)\ttotal: 23.5ms\tremaining: 4.67s\n",
      "1:\tlearn: 97.4697421\ttest: 95.5275636\tbest: 95.5275636 (1)\ttotal: 49.8ms\tremaining: 4.93s\n",
      "2:\tlearn: 95.0142847\ttest: 93.7076224\tbest: 93.7076224 (2)\ttotal: 73.5ms\tremaining: 4.83s\n",
      "3:\tlearn: 93.4642867\ttest: 92.3326077\tbest: 92.3326077 (3)\ttotal: 93.5ms\tremaining: 4.58s\n",
      "4:\tlearn: 91.5160575\ttest: 90.7504402\tbest: 90.7504402 (4)\ttotal: 122ms\tremaining: 4.77s\n",
      "5:\tlearn: 89.5351269\ttest: 88.6493423\tbest: 88.6493423 (5)\ttotal: 148ms\tremaining: 4.79s\n",
      "6:\tlearn: 88.0300736\ttest: 87.1471588\tbest: 87.1471588 (6)\ttotal: 171ms\tremaining: 4.71s\n",
      "7:\tlearn: 86.5762976\ttest: 85.4545192\tbest: 85.4545192 (7)\ttotal: 197ms\tremaining: 4.73s\n",
      "8:\tlearn: 85.3221946\ttest: 84.2430744\tbest: 84.2430744 (8)\ttotal: 224ms\tremaining: 4.76s\n",
      "9:\tlearn: 84.0939924\ttest: 82.6214983\tbest: 82.6214983 (9)\ttotal: 251ms\tremaining: 4.76s\n",
      "10:\tlearn: 83.0353996\ttest: 81.7580592\tbest: 81.7580592 (10)\ttotal: 284ms\tremaining: 4.89s\n",
      "11:\tlearn: 82.7387615\ttest: 81.2758083\tbest: 81.2758083 (11)\ttotal: 291ms\tremaining: 4.57s\n",
      "12:\tlearn: 81.7291471\ttest: 80.5622609\tbest: 80.5622609 (12)\ttotal: 315ms\tremaining: 4.53s\n",
      "13:\tlearn: 81.1101472\ttest: 79.7947334\tbest: 79.7947334 (13)\ttotal: 338ms\tremaining: 4.49s\n",
      "14:\tlearn: 80.5203260\ttest: 79.2160939\tbest: 79.2160939 (14)\ttotal: 359ms\tremaining: 4.43s\n",
      "15:\tlearn: 79.6482027\ttest: 78.5123486\tbest: 78.5123486 (15)\ttotal: 392ms\tremaining: 4.51s\n",
      "16:\tlearn: 79.2977766\ttest: 78.3959182\tbest: 78.3959182 (16)\ttotal: 429ms\tremaining: 4.62s\n",
      "17:\tlearn: 78.9100810\ttest: 78.3161567\tbest: 78.3161567 (17)\ttotal: 448ms\tremaining: 4.53s\n",
      "18:\tlearn: 78.8004706\ttest: 78.3569060\tbest: 78.3161567 (17)\ttotal: 478ms\tremaining: 4.56s\n",
      "19:\tlearn: 78.4267191\ttest: 78.0990927\tbest: 78.0990927 (19)\ttotal: 505ms\tremaining: 4.55s\n",
      "20:\tlearn: 77.7124225\ttest: 77.8892475\tbest: 77.8892475 (20)\ttotal: 530ms\tremaining: 4.52s\n",
      "21:\tlearn: 76.8036236\ttest: 77.5072286\tbest: 77.5072286 (21)\ttotal: 561ms\tremaining: 4.54s\n",
      "22:\tlearn: 76.4278894\ttest: 77.3051346\tbest: 77.3051346 (22)\ttotal: 588ms\tremaining: 4.53s\n",
      "23:\tlearn: 75.9445298\ttest: 77.0278536\tbest: 77.0278536 (23)\ttotal: 626ms\tremaining: 4.59s\n",
      "24:\tlearn: 75.3748443\ttest: 76.7334706\tbest: 76.7334706 (24)\ttotal: 651ms\tremaining: 4.55s\n",
      "25:\tlearn: 74.8494949\ttest: 76.4612712\tbest: 76.4612712 (25)\ttotal: 679ms\tremaining: 4.54s\n",
      "26:\tlearn: 74.5827805\ttest: 76.3016189\tbest: 76.3016189 (26)\ttotal: 703ms\tremaining: 4.5s\n",
      "27:\tlearn: 74.2672640\ttest: 76.2202990\tbest: 76.2202990 (27)\ttotal: 721ms\tremaining: 4.43s\n",
      "28:\tlearn: 74.1115721\ttest: 76.2237143\tbest: 76.2202990 (27)\ttotal: 753ms\tremaining: 4.44s\n",
      "29:\tlearn: 74.0306445\ttest: 76.1792982\tbest: 76.1792982 (29)\ttotal: 778ms\tremaining: 4.41s\n",
      "30:\tlearn: 73.9232900\ttest: 76.1656428\tbest: 76.1656428 (30)\ttotal: 807ms\tremaining: 4.4s\n",
      "31:\tlearn: 73.7085941\ttest: 76.0939170\tbest: 76.0939170 (31)\ttotal: 833ms\tremaining: 4.38s\n",
      "32:\tlearn: 73.4275426\ttest: 76.0360771\tbest: 76.0360771 (32)\ttotal: 860ms\tremaining: 4.35s\n",
      "33:\tlearn: 72.9536627\ttest: 75.7368316\tbest: 75.7368316 (33)\ttotal: 884ms\tremaining: 4.32s\n",
      "34:\tlearn: 72.4450187\ttest: 75.4984898\tbest: 75.4984898 (34)\ttotal: 908ms\tremaining: 4.28s\n",
      "35:\tlearn: 72.3619250\ttest: 75.4186157\tbest: 75.4186157 (35)\ttotal: 930ms\tremaining: 4.24s\n",
      "36:\tlearn: 72.1309393\ttest: 75.1516658\tbest: 75.1516658 (36)\ttotal: 963ms\tremaining: 4.24s\n",
      "37:\tlearn: 71.6990287\ttest: 74.5863053\tbest: 74.5863053 (37)\ttotal: 991ms\tremaining: 4.22s\n",
      "38:\tlearn: 71.5059014\ttest: 74.5888515\tbest: 74.5863053 (37)\ttotal: 1.03s\tremaining: 4.25s\n",
      "39:\tlearn: 71.3996851\ttest: 74.5455046\tbest: 74.5455046 (39)\ttotal: 1.05s\tremaining: 4.22s\n",
      "40:\tlearn: 71.3306375\ttest: 74.5405788\tbest: 74.5405788 (40)\ttotal: 1.08s\tremaining: 4.19s\n",
      "41:\tlearn: 71.2509722\ttest: 74.5100348\tbest: 74.5100348 (41)\ttotal: 1.11s\tremaining: 4.17s\n",
      "42:\tlearn: 71.1923477\ttest: 74.5065683\tbest: 74.5065683 (42)\ttotal: 1.13s\tremaining: 4.13s\n",
      "43:\tlearn: 70.9299091\ttest: 74.3014581\tbest: 74.3014581 (43)\ttotal: 1.18s\tremaining: 4.17s\n",
      "44:\tlearn: 70.7276802\ttest: 74.3227195\tbest: 74.3014581 (43)\ttotal: 1.21s\tremaining: 4.16s\n",
      "45:\tlearn: 70.6029269\ttest: 74.3130370\tbest: 74.3014581 (43)\ttotal: 1.25s\tremaining: 4.18s\n",
      "46:\tlearn: 70.4519370\ttest: 74.3070555\tbest: 74.3014581 (43)\ttotal: 1.29s\tremaining: 4.19s\n",
      "47:\tlearn: 70.0732337\ttest: 74.0846816\tbest: 74.0846816 (47)\ttotal: 1.32s\tremaining: 4.19s\n",
      "48:\tlearn: 70.0728900\ttest: 74.0869376\tbest: 74.0846816 (47)\ttotal: 1.33s\tremaining: 4.11s\n",
      "49:\tlearn: 69.9804694\ttest: 74.0967955\tbest: 74.0846816 (47)\ttotal: 1.36s\tremaining: 4.08s\n",
      "50:\tlearn: 69.8565622\ttest: 74.0875081\tbest: 74.0846816 (47)\ttotal: 1.39s\tremaining: 4.07s\n",
      "51:\tlearn: 69.8076472\ttest: 74.1255338\tbest: 74.0846816 (47)\ttotal: 1.4s\tremaining: 3.98s\n",
      "52:\tlearn: 69.6117287\ttest: 73.9647981\tbest: 73.9647981 (52)\ttotal: 1.43s\tremaining: 3.96s\n",
      "53:\tlearn: 69.2002014\ttest: 73.6878964\tbest: 73.6878964 (53)\ttotal: 1.46s\tremaining: 3.94s\n",
      "54:\tlearn: 69.0709050\ttest: 73.6705662\tbest: 73.6705662 (54)\ttotal: 1.49s\tremaining: 3.92s\n",
      "55:\tlearn: 68.8361796\ttest: 73.6032800\tbest: 73.6032800 (55)\ttotal: 1.51s\tremaining: 3.88s\n",
      "56:\tlearn: 68.7124502\ttest: 73.5981447\tbest: 73.5981447 (56)\ttotal: 1.54s\tremaining: 3.86s\n",
      "57:\tlearn: 68.5001609\ttest: 73.5633560\tbest: 73.5633560 (57)\ttotal: 1.56s\tremaining: 3.83s\n",
      "58:\tlearn: 67.9367301\ttest: 73.2921230\tbest: 73.2921230 (58)\ttotal: 1.59s\tremaining: 3.8s\n",
      "59:\tlearn: 67.8318310\ttest: 73.2996644\tbest: 73.2921230 (58)\ttotal: 1.61s\tremaining: 3.75s\n",
      "60:\tlearn: 67.6874948\ttest: 73.2846517\tbest: 73.2846517 (60)\ttotal: 1.63s\tremaining: 3.72s\n",
      "61:\tlearn: 67.5923534\ttest: 73.2226377\tbest: 73.2226377 (61)\ttotal: 1.66s\tremaining: 3.68s\n",
      "62:\tlearn: 67.4276136\ttest: 73.1465692\tbest: 73.1465692 (62)\ttotal: 1.68s\tremaining: 3.65s\n",
      "63:\tlearn: 67.3437787\ttest: 73.1395404\tbest: 73.1395404 (63)\ttotal: 1.7s\tremaining: 3.61s\n",
      "64:\tlearn: 66.8278571\ttest: 72.9790065\tbest: 72.9790065 (64)\ttotal: 1.72s\tremaining: 3.57s\n",
      "65:\tlearn: 66.5853455\ttest: 72.7718930\tbest: 72.7718930 (65)\ttotal: 1.75s\tremaining: 3.56s\n",
      "66:\tlearn: 66.5219259\ttest: 72.7963920\tbest: 72.7718930 (65)\ttotal: 1.78s\tremaining: 3.53s\n",
      "67:\tlearn: 66.2914267\ttest: 72.6853685\tbest: 72.6853685 (67)\ttotal: 1.8s\tremaining: 3.5s\n",
      "68:\tlearn: 66.1589774\ttest: 72.4853288\tbest: 72.4853288 (68)\ttotal: 1.82s\tremaining: 3.46s\n",
      "69:\tlearn: 65.8575788\ttest: 72.3714674\tbest: 72.3714674 (69)\ttotal: 1.85s\tremaining: 3.43s\n",
      "70:\tlearn: 65.7321499\ttest: 72.2988985\tbest: 72.2988985 (70)\ttotal: 1.87s\tremaining: 3.4s\n",
      "71:\tlearn: 65.4847144\ttest: 72.0619018\tbest: 72.0619018 (71)\ttotal: 1.89s\tremaining: 3.36s\n",
      "72:\tlearn: 65.3739324\ttest: 72.0567796\tbest: 72.0567796 (72)\ttotal: 1.91s\tremaining: 3.33s\n",
      "73:\tlearn: 65.2460027\ttest: 72.0210283\tbest: 72.0210283 (73)\ttotal: 1.94s\tremaining: 3.31s\n",
      "74:\tlearn: 65.1128441\ttest: 71.9946183\tbest: 71.9946183 (74)\ttotal: 1.96s\tremaining: 3.27s\n",
      "75:\tlearn: 64.8977614\ttest: 71.9574846\tbest: 71.9574846 (75)\ttotal: 1.99s\tremaining: 3.25s\n",
      "76:\tlearn: 64.6868948\ttest: 71.7176001\tbest: 71.7176001 (76)\ttotal: 2.02s\tremaining: 3.22s\n",
      "77:\tlearn: 64.4319122\ttest: 71.5612689\tbest: 71.5612689 (77)\ttotal: 2.04s\tremaining: 3.2s\n",
      "78:\tlearn: 64.0923536\ttest: 71.4966207\tbest: 71.4966207 (78)\ttotal: 2.08s\tremaining: 3.18s\n",
      "79:\tlearn: 63.8668909\ttest: 71.4035313\tbest: 71.4035313 (79)\ttotal: 2.11s\tremaining: 3.16s\n",
      "80:\tlearn: 63.6560150\ttest: 71.3888561\tbest: 71.3888561 (80)\ttotal: 2.15s\tremaining: 3.15s\n",
      "81:\tlearn: 63.4887293\ttest: 71.3326066\tbest: 71.3326066 (81)\ttotal: 2.17s\tremaining: 3.13s\n",
      "82:\tlearn: 63.2566274\ttest: 71.3034277\tbest: 71.3034277 (82)\ttotal: 2.2s\tremaining: 3.1s\n",
      "83:\tlearn: 63.2011692\ttest: 71.2855752\tbest: 71.2855752 (83)\ttotal: 2.25s\tremaining: 3.11s\n",
      "84:\tlearn: 63.1901671\ttest: 71.2771374\tbest: 71.2771374 (84)\ttotal: 2.29s\tremaining: 3.1s\n",
      "85:\tlearn: 62.9575211\ttest: 71.2161361\tbest: 71.2161361 (85)\ttotal: 2.33s\tremaining: 3.09s\n",
      "86:\tlearn: 62.8355403\ttest: 71.2084347\tbest: 71.2084347 (86)\ttotal: 2.36s\tremaining: 3.06s\n",
      "87:\tlearn: 62.7192076\ttest: 71.1627245\tbest: 71.1627245 (87)\ttotal: 2.38s\tremaining: 3.03s\n",
      "88:\tlearn: 62.5396614\ttest: 71.1922579\tbest: 71.1627245 (87)\ttotal: 2.42s\tremaining: 3.01s\n",
      "89:\tlearn: 62.3662136\ttest: 71.1932738\tbest: 71.1627245 (87)\ttotal: 2.45s\tremaining: 2.99s\n",
      "90:\tlearn: 62.3154991\ttest: 71.1821018\tbest: 71.1627245 (87)\ttotal: 2.48s\tremaining: 2.97s\n"
     ]
    },
    {
     "name": "stdout",
     "output_type": "stream",
     "text": [
      "91:\tlearn: 62.2780872\ttest: 71.1650817\tbest: 71.1627245 (87)\ttotal: 2.5s\tremaining: 2.93s\n",
      "92:\tlearn: 62.0820613\ttest: 71.1619237\tbest: 71.1619237 (92)\ttotal: 2.53s\tremaining: 2.92s\n",
      "93:\tlearn: 62.0405054\ttest: 71.1882614\tbest: 71.1619237 (92)\ttotal: 2.56s\tremaining: 2.88s\n",
      "94:\tlearn: 61.6189300\ttest: 70.7404678\tbest: 70.7404678 (94)\ttotal: 2.58s\tremaining: 2.85s\n",
      "95:\tlearn: 61.4502377\ttest: 70.7436156\tbest: 70.7404678 (94)\ttotal: 2.62s\tremaining: 2.84s\n",
      "96:\tlearn: 61.0880370\ttest: 70.5749244\tbest: 70.5749244 (96)\ttotal: 2.65s\tremaining: 2.81s\n",
      "97:\tlearn: 60.9764827\ttest: 70.5763654\tbest: 70.5749244 (96)\ttotal: 2.69s\tremaining: 2.8s\n",
      "98:\tlearn: 60.6654100\ttest: 70.3668159\tbest: 70.3668159 (98)\ttotal: 2.73s\tremaining: 2.79s\n",
      "99:\tlearn: 60.5791992\ttest: 70.3991660\tbest: 70.3668159 (98)\ttotal: 2.76s\tremaining: 2.76s\n",
      "100:\tlearn: 60.5353601\ttest: 70.3917868\tbest: 70.3668159 (98)\ttotal: 2.79s\tremaining: 2.73s\n",
      "101:\tlearn: 60.0389097\ttest: 70.3853663\tbest: 70.3668159 (98)\ttotal: 2.82s\tremaining: 2.71s\n",
      "102:\tlearn: 60.0339732\ttest: 70.3853432\tbest: 70.3668159 (98)\ttotal: 2.86s\tremaining: 2.69s\n",
      "103:\tlearn: 59.6397872\ttest: 70.3756918\tbest: 70.3668159 (98)\ttotal: 2.89s\tremaining: 2.67s\n",
      "104:\tlearn: 59.4896967\ttest: 70.3879475\tbest: 70.3668159 (98)\ttotal: 2.92s\tremaining: 2.65s\n",
      "105:\tlearn: 59.3634763\ttest: 70.3345221\tbest: 70.3345221 (105)\ttotal: 2.96s\tremaining: 2.62s\n",
      "106:\tlearn: 59.2263284\ttest: 70.3354262\tbest: 70.3345221 (105)\ttotal: 2.99s\tremaining: 2.6s\n",
      "107:\tlearn: 59.1653624\ttest: 70.3324800\tbest: 70.3324800 (107)\ttotal: 3.03s\tremaining: 2.58s\n",
      "108:\tlearn: 59.1596095\ttest: 70.3327621\tbest: 70.3324800 (107)\ttotal: 3.06s\tremaining: 2.56s\n",
      "109:\tlearn: 58.9546843\ttest: 70.3850730\tbest: 70.3324800 (107)\ttotal: 3.11s\tremaining: 2.54s\n",
      "110:\tlearn: 58.9026921\ttest: 70.4136845\tbest: 70.3324800 (107)\ttotal: 3.14s\tremaining: 2.52s\n",
      "111:\tlearn: 58.8568318\ttest: 70.4742432\tbest: 70.3324800 (107)\ttotal: 3.17s\tremaining: 2.49s\n",
      "112:\tlearn: 58.5904293\ttest: 70.5548067\tbest: 70.3324800 (107)\ttotal: 3.2s\tremaining: 2.46s\n",
      "113:\tlearn: 58.5517267\ttest: 70.5630896\tbest: 70.3324800 (107)\ttotal: 3.24s\tremaining: 2.44s\n",
      "114:\tlearn: 58.5089418\ttest: 70.5949695\tbest: 70.3324800 (107)\ttotal: 3.29s\tremaining: 2.43s\n",
      "115:\tlearn: 58.3920345\ttest: 70.6127728\tbest: 70.3324800 (107)\ttotal: 3.33s\tremaining: 2.41s\n",
      "116:\tlearn: 58.1683916\ttest: 70.6427787\tbest: 70.3324800 (107)\ttotal: 3.37s\tremaining: 2.39s\n",
      "117:\tlearn: 58.0915366\ttest: 70.6649110\tbest: 70.3324800 (107)\ttotal: 3.41s\tremaining: 2.37s\n",
      "118:\tlearn: 57.8808109\ttest: 70.7335653\tbest: 70.3324800 (107)\ttotal: 3.47s\tremaining: 2.36s\n",
      "119:\tlearn: 57.8652555\ttest: 70.7295823\tbest: 70.3324800 (107)\ttotal: 3.52s\tremaining: 2.34s\n",
      "120:\tlearn: 57.7841766\ttest: 70.7243764\tbest: 70.3324800 (107)\ttotal: 3.54s\tremaining: 2.31s\n",
      "121:\tlearn: 57.7239939\ttest: 70.7261553\tbest: 70.3324800 (107)\ttotal: 3.57s\tremaining: 2.29s\n",
      "122:\tlearn: 57.6806104\ttest: 70.6857780\tbest: 70.3324800 (107)\ttotal: 3.6s\tremaining: 2.26s\n",
      "123:\tlearn: 57.5991638\ttest: 70.7051925\tbest: 70.3324800 (107)\ttotal: 3.63s\tremaining: 2.23s\n",
      "124:\tlearn: 57.5639862\ttest: 70.7017907\tbest: 70.3324800 (107)\ttotal: 3.66s\tremaining: 2.19s\n",
      "125:\tlearn: 57.4582993\ttest: 70.5622521\tbest: 70.3324800 (107)\ttotal: 3.7s\tremaining: 2.17s\n",
      "126:\tlearn: 57.4411905\ttest: 70.5625698\tbest: 70.3324800 (107)\ttotal: 3.75s\tremaining: 2.16s\n",
      "127:\tlearn: 57.3609801\ttest: 70.5480575\tbest: 70.3324800 (107)\ttotal: 3.79s\tremaining: 2.13s\n",
      "128:\tlearn: 57.1540081\ttest: 70.3403614\tbest: 70.3324800 (107)\ttotal: 3.83s\tremaining: 2.11s\n",
      "129:\tlearn: 56.9334487\ttest: 70.2596881\tbest: 70.2596881 (129)\ttotal: 3.86s\tremaining: 2.08s\n",
      "130:\tlearn: 56.8479503\ttest: 70.1658904\tbest: 70.1658904 (130)\ttotal: 3.89s\tremaining: 2.05s\n",
      "131:\tlearn: 56.7774557\ttest: 70.1161183\tbest: 70.1161183 (131)\ttotal: 3.93s\tremaining: 2.02s\n",
      "132:\tlearn: 56.5527260\ttest: 70.1699599\tbest: 70.1161183 (131)\ttotal: 3.96s\tremaining: 2s\n",
      "133:\tlearn: 56.5135224\ttest: 70.1606453\tbest: 70.1161183 (131)\ttotal: 3.99s\tremaining: 1.96s\n",
      "134:\tlearn: 56.4668182\ttest: 70.1339410\tbest: 70.1161183 (131)\ttotal: 4.01s\tremaining: 1.93s\n",
      "135:\tlearn: 56.2932955\ttest: 70.1359383\tbest: 70.1161183 (131)\ttotal: 4.05s\tremaining: 1.91s\n",
      "136:\tlearn: 56.1731969\ttest: 70.1074986\tbest: 70.1074986 (136)\ttotal: 4.08s\tremaining: 1.88s\n",
      "137:\tlearn: 56.0524679\ttest: 70.0878367\tbest: 70.0878367 (137)\ttotal: 4.11s\tremaining: 1.85s\n",
      "138:\tlearn: 55.9420720\ttest: 70.1156534\tbest: 70.0878367 (137)\ttotal: 4.14s\tremaining: 1.82s\n",
      "139:\tlearn: 55.9170482\ttest: 70.1189719\tbest: 70.0878367 (137)\ttotal: 4.17s\tremaining: 1.79s\n",
      "140:\tlearn: 55.7909796\ttest: 70.1632638\tbest: 70.0878367 (137)\ttotal: 4.2s\tremaining: 1.76s\n",
      "141:\tlearn: 55.7871083\ttest: 70.1680358\tbest: 70.0878367 (137)\ttotal: 4.24s\tremaining: 1.73s\n",
      "142:\tlearn: 55.7332673\ttest: 70.1960538\tbest: 70.0878367 (137)\ttotal: 4.27s\tremaining: 1.7s\n",
      "143:\tlearn: 55.5519390\ttest: 70.1757690\tbest: 70.0878367 (137)\ttotal: 4.32s\tremaining: 1.68s\n",
      "144:\tlearn: 55.1231138\ttest: 70.2262917\tbest: 70.0878367 (137)\ttotal: 4.34s\tremaining: 1.65s\n",
      "145:\tlearn: 54.9766536\ttest: 70.1440139\tbest: 70.0878367 (137)\ttotal: 4.37s\tremaining: 1.62s\n",
      "146:\tlearn: 54.9491173\ttest: 70.1442908\tbest: 70.0878367 (137)\ttotal: 4.39s\tremaining: 1.58s\n",
      "147:\tlearn: 54.8111875\ttest: 70.3419933\tbest: 70.0878367 (137)\ttotal: 4.42s\tremaining: 1.55s\n",
      "148:\tlearn: 54.6439688\ttest: 70.1515393\tbest: 70.0878367 (137)\ttotal: 4.44s\tremaining: 1.52s\n",
      "149:\tlearn: 54.5771822\ttest: 70.1515942\tbest: 70.0878367 (137)\ttotal: 4.46s\tremaining: 1.49s\n",
      "150:\tlearn: 54.5094285\ttest: 70.1707877\tbest: 70.0878367 (137)\ttotal: 4.49s\tremaining: 1.46s\n",
      "151:\tlearn: 54.4638879\ttest: 70.2083487\tbest: 70.0878367 (137)\ttotal: 4.52s\tremaining: 1.43s\n",
      "152:\tlearn: 54.4283451\ttest: 70.1858496\tbest: 70.0878367 (137)\ttotal: 4.55s\tremaining: 1.4s\n",
      "153:\tlearn: 54.4078212\ttest: 70.2266557\tbest: 70.0878367 (137)\ttotal: 4.59s\tremaining: 1.37s\n",
      "154:\tlearn: 54.3829878\ttest: 70.2299878\tbest: 70.0878367 (137)\ttotal: 4.61s\tremaining: 1.34s\n",
      "155:\tlearn: 54.2920220\ttest: 70.2445574\tbest: 70.0878367 (137)\ttotal: 4.63s\tremaining: 1.31s\n",
      "156:\tlearn: 54.1571423\ttest: 70.2860266\tbest: 70.0878367 (137)\ttotal: 4.66s\tremaining: 1.28s\n",
      "157:\tlearn: 54.0038753\ttest: 70.2812906\tbest: 70.0878367 (137)\ttotal: 4.69s\tremaining: 1.25s\n",
      "158:\tlearn: 53.9859162\ttest: 70.3696841\tbest: 70.0878367 (137)\ttotal: 4.71s\tremaining: 1.22s\n",
      "159:\tlearn: 53.9413594\ttest: 70.3501323\tbest: 70.0878367 (137)\ttotal: 4.75s\tremaining: 1.19s\n",
      "160:\tlearn: 53.8373273\ttest: 70.2544967\tbest: 70.0878367 (137)\ttotal: 4.78s\tremaining: 1.16s\n",
      "161:\tlearn: 53.7953693\ttest: 70.2446219\tbest: 70.0878367 (137)\ttotal: 4.8s\tremaining: 1.13s\n",
      "162:\tlearn: 53.6732241\ttest: 70.1165155\tbest: 70.0878367 (137)\ttotal: 4.83s\tremaining: 1.09s\n",
      "163:\tlearn: 53.5404541\ttest: 70.0773968\tbest: 70.0773968 (163)\ttotal: 4.86s\tremaining: 1.07s\n",
      "164:\tlearn: 53.4510890\ttest: 70.0719928\tbest: 70.0719928 (164)\ttotal: 4.89s\tremaining: 1.04s\n",
      "165:\tlearn: 53.3077898\ttest: 70.1573379\tbest: 70.0719928 (164)\ttotal: 4.92s\tremaining: 1.01s\n",
      "166:\tlearn: 52.8248313\ttest: 69.8138963\tbest: 69.8138963 (166)\ttotal: 4.94s\tremaining: 977ms\n",
      "167:\tlearn: 52.7002861\ttest: 69.8955622\tbest: 69.8138963 (166)\ttotal: 4.98s\tremaining: 948ms\n",
      "168:\tlearn: 52.5332764\ttest: 69.8118103\tbest: 69.8118103 (168)\ttotal: 5s\tremaining: 918ms\n",
      "169:\tlearn: 52.4462873\ttest: 69.7545911\tbest: 69.7545911 (169)\ttotal: 5.04s\tremaining: 890ms\n",
      "170:\tlearn: 52.4206549\ttest: 69.7653761\tbest: 69.7545911 (169)\ttotal: 5.08s\tremaining: 862ms\n",
      "171:\tlearn: 52.3830400\ttest: 69.7610004\tbest: 69.7545911 (169)\ttotal: 5.11s\tremaining: 832ms\n",
      "172:\tlearn: 52.2601366\ttest: 69.6863549\tbest: 69.6863549 (172)\ttotal: 5.13s\tremaining: 802ms\n",
      "173:\tlearn: 52.0599355\ttest: 69.5196355\tbest: 69.5196355 (173)\ttotal: 5.17s\tremaining: 773ms\n",
      "174:\tlearn: 52.0132764\ttest: 69.4986027\tbest: 69.4986027 (174)\ttotal: 5.2s\tremaining: 743ms\n",
      "175:\tlearn: 51.9638318\ttest: 69.5075035\tbest: 69.4986027 (174)\ttotal: 5.23s\tremaining: 713ms\n",
      "176:\tlearn: 51.7541806\ttest: 69.5819473\tbest: 69.4986027 (174)\ttotal: 5.25s\tremaining: 682ms\n",
      "177:\tlearn: 51.7455269\ttest: 69.5816080\tbest: 69.4986027 (174)\ttotal: 5.27s\tremaining: 652ms\n",
      "178:\tlearn: 51.7089786\ttest: 69.5815746\tbest: 69.4986027 (174)\ttotal: 5.3s\tremaining: 621ms\n",
      "179:\tlearn: 51.6637627\ttest: 69.5722984\tbest: 69.4986027 (174)\ttotal: 5.32s\tremaining: 591ms\n",
      "180:\tlearn: 51.5491152\ttest: 69.5229019\tbest: 69.4986027 (174)\ttotal: 5.34s\tremaining: 561ms\n",
      "181:\tlearn: 51.4679620\ttest: 69.4561554\tbest: 69.4561554 (181)\ttotal: 5.37s\tremaining: 531ms\n",
      "182:\tlearn: 51.4330738\ttest: 69.4835197\tbest: 69.4561554 (181)\ttotal: 5.39s\tremaining: 501ms\n"
     ]
    },
    {
     "name": "stdout",
     "output_type": "stream",
     "text": [
      "183:\tlearn: 51.3841026\ttest: 69.4960793\tbest: 69.4561554 (181)\ttotal: 5.43s\tremaining: 472ms\n",
      "184:\tlearn: 51.2482615\ttest: 69.3749462\tbest: 69.3749462 (184)\ttotal: 5.46s\tremaining: 443ms\n",
      "185:\tlearn: 51.2028802\ttest: 69.3812652\tbest: 69.3749462 (184)\ttotal: 5.48s\tremaining: 413ms\n",
      "186:\tlearn: 51.1143186\ttest: 69.3825222\tbest: 69.3749462 (184)\ttotal: 5.51s\tremaining: 383ms\n",
      "187:\tlearn: 51.1013553\ttest: 69.3858967\tbest: 69.3749462 (184)\ttotal: 5.55s\tremaining: 354ms\n",
      "188:\tlearn: 50.8907991\ttest: 69.2965493\tbest: 69.2965493 (188)\ttotal: 5.58s\tremaining: 325ms\n",
      "189:\tlearn: 50.8273331\ttest: 69.3356792\tbest: 69.2965493 (188)\ttotal: 5.62s\tremaining: 296ms\n",
      "190:\tlearn: 50.6874990\ttest: 69.3604147\tbest: 69.2965493 (188)\ttotal: 5.66s\tremaining: 267ms\n",
      "191:\tlearn: 50.6750554\ttest: 69.3607664\tbest: 69.2965493 (188)\ttotal: 5.7s\tremaining: 237ms\n",
      "192:\tlearn: 50.5167262\ttest: 69.3364633\tbest: 69.2965493 (188)\ttotal: 5.74s\tremaining: 208ms\n",
      "193:\tlearn: 50.3682409\ttest: 69.2654219\tbest: 69.2654219 (193)\ttotal: 5.8s\tremaining: 179ms\n",
      "194:\tlearn: 50.3456375\ttest: 69.2766296\tbest: 69.2654219 (193)\ttotal: 5.84s\tremaining: 150ms\n",
      "195:\tlearn: 50.3254756\ttest: 69.2950114\tbest: 69.2654219 (193)\ttotal: 5.87s\tremaining: 120ms\n",
      "196:\tlearn: 50.1960008\ttest: 69.2844339\tbest: 69.2654219 (193)\ttotal: 5.89s\tremaining: 89.8ms\n",
      "197:\tlearn: 50.0814290\ttest: 69.3128963\tbest: 69.2654219 (193)\ttotal: 5.92s\tremaining: 59.8ms\n",
      "198:\tlearn: 50.0695296\ttest: 69.3297686\tbest: 69.2654219 (193)\ttotal: 5.94s\tremaining: 29.9ms\n",
      "199:\tlearn: 49.9729108\ttest: 69.3049873\tbest: 69.2654219 (193)\ttotal: 5.97s\tremaining: 0us\n",
      "\n",
      "bestTest = 69.26542188\n",
      "bestIteration = 193\n",
      "\n",
      "Shrink model to first 194 iterations.\n"
     ]
    },
    {
     "data": {
      "text/plain": [
       "<catboost.core.CatBoostRegressor at 0x139d1c88>"
      ]
     },
     "execution_count": 206,
     "metadata": {},
     "output_type": "execute_result"
    }
   ],
   "source": [
    "cr.fit(x_train, y_train,eval_set=(x_test, y_test),cat_features=categorical_features_list)"
   ]
  },
  {
   "cell_type": "code",
   "execution_count": 207,
   "metadata": {},
   "outputs": [],
   "source": [
    "# Lets do predictions on out test data\n",
    "pred=cr.predict(x_test)"
   ]
  },
  {
   "cell_type": "code",
   "execution_count": 210,
   "metadata": {},
   "outputs": [],
   "source": [
    "C_pred=pd.DataFrame(pred)#For Stack model"
   ]
  },
  {
   "cell_type": "code",
   "execution_count": 208,
   "metadata": {},
   "outputs": [],
   "source": [
    "#Error calculation\n",
    "RMSE = np.sqrt(mean_squared_error(y_test, pred))\n",
    "MAE = mean_absolute_error(y_test, pred)\n",
    "r_squre= r2_score(y_test, pred)"
   ]
  },
  {
   "cell_type": "code",
   "execution_count": 209,
   "metadata": {
    "scrolled": true
   },
   "outputs": [
    {
     "name": "stdout",
     "output_type": "stream",
     "text": [
      "RMSE : 69.2654218772129\n",
      "MAE: 49.97743880744147\n",
      "r_square: 0.52716236257831\n"
     ]
    }
   ],
   "source": [
    "#Results \n",
    "print('RMSE :',RMSE) \n",
    "print('MAE:', MAE)\n",
    "print(\"r_square:\",r_squre)"
   ]
  },
  {
   "cell_type": "code",
   "execution_count": 125,
   "metadata": {
    "scrolled": false
   },
   "outputs": [
    {
     "name": "stdout",
     "output_type": "stream",
     "text": [
      "Fitting 3 folds for each of 8 candidates, totalling 24 fits\n"
     ]
    },
    {
     "name": "stderr",
     "output_type": "stream",
     "text": [
      "[Parallel(n_jobs=-1)]: Using backend LokyBackend with 4 concurrent workers.\n",
      "[Parallel(n_jobs=-1)]: Done  24 out of  24 | elapsed:   17.6s finished\n"
     ]
    },
    {
     "name": "stdout",
     "output_type": "stream",
     "text": [
      "Learning rate set to 0.128652\n",
      "0:\tlearn: 99.7963306\ttotal: 2.36ms\tremaining: 471ms\n",
      "1:\tlearn: 96.7947794\ttotal: 4.16ms\tremaining: 412ms\n",
      "2:\tlearn: 94.7062564\ttotal: 6.07ms\tremaining: 399ms\n",
      "3:\tlearn: 92.4832250\ttotal: 8.27ms\tremaining: 405ms\n",
      "4:\tlearn: 90.8472457\ttotal: 9.55ms\tremaining: 373ms\n",
      "5:\tlearn: 88.8485585\ttotal: 11.4ms\tremaining: 368ms\n",
      "6:\tlearn: 87.4469672\ttotal: 13.1ms\tremaining: 361ms\n",
      "7:\tlearn: 86.1899461\ttotal: 14.7ms\tremaining: 354ms\n",
      "8:\tlearn: 85.2997381\ttotal: 16.4ms\tremaining: 348ms\n",
      "9:\tlearn: 84.3757012\ttotal: 18.2ms\tremaining: 346ms\n",
      "10:\tlearn: 83.4266810\ttotal: 19.8ms\tremaining: 340ms\n",
      "11:\tlearn: 82.5181897\ttotal: 21.4ms\tremaining: 336ms\n",
      "12:\tlearn: 81.5820570\ttotal: 23.1ms\tremaining: 332ms\n",
      "13:\tlearn: 81.1061263\ttotal: 24.7ms\tremaining: 328ms\n",
      "14:\tlearn: 80.3783741\ttotal: 26.3ms\tremaining: 324ms\n",
      "15:\tlearn: 80.0119237\ttotal: 28ms\tremaining: 322ms\n",
      "16:\tlearn: 79.4678165\ttotal: 29.7ms\tremaining: 319ms\n",
      "17:\tlearn: 78.8233464\ttotal: 31.3ms\tremaining: 316ms\n",
      "18:\tlearn: 78.5208420\ttotal: 32.9ms\tremaining: 313ms\n",
      "19:\tlearn: 78.0623961\ttotal: 34.5ms\tremaining: 310ms\n",
      "20:\tlearn: 77.3491402\ttotal: 36.1ms\tremaining: 308ms\n",
      "21:\tlearn: 76.7084861\ttotal: 37.7ms\tremaining: 305ms\n",
      "22:\tlearn: 75.9457548\ttotal: 39.3ms\tremaining: 302ms\n",
      "23:\tlearn: 75.6196788\ttotal: 40.9ms\tremaining: 300ms\n",
      "24:\tlearn: 75.1755642\ttotal: 42.5ms\tremaining: 297ms\n",
      "25:\tlearn: 74.5483236\ttotal: 44.2ms\tremaining: 296ms\n",
      "26:\tlearn: 73.9244961\ttotal: 45.8ms\tremaining: 294ms\n",
      "27:\tlearn: 73.2994217\ttotal: 47.5ms\tremaining: 292ms\n",
      "28:\tlearn: 72.7822297\ttotal: 49.1ms\tremaining: 289ms\n",
      "29:\tlearn: 72.2581179\ttotal: 50.8ms\tremaining: 288ms\n",
      "30:\tlearn: 71.7838697\ttotal: 52.4ms\tremaining: 286ms\n",
      "31:\tlearn: 71.1361669\ttotal: 54.1ms\tremaining: 284ms\n",
      "32:\tlearn: 70.8426800\ttotal: 55.7ms\tremaining: 282ms\n",
      "33:\tlearn: 70.1772366\ttotal: 57.3ms\tremaining: 280ms\n",
      "34:\tlearn: 69.9286312\ttotal: 58.3ms\tremaining: 275ms\n",
      "35:\tlearn: 69.4830107\ttotal: 59.9ms\tremaining: 273ms\n",
      "36:\tlearn: 69.2232826\ttotal: 61.5ms\tremaining: 271ms\n",
      "37:\tlearn: 68.8610590\ttotal: 63.1ms\tremaining: 269ms\n",
      "38:\tlearn: 68.3069946\ttotal: 64.9ms\tremaining: 268ms\n",
      "39:\tlearn: 68.1436509\ttotal: 66.6ms\tremaining: 266ms\n",
      "40:\tlearn: 67.9138448\ttotal: 68.2ms\tremaining: 265ms\n",
      "41:\tlearn: 67.4862204\ttotal: 69.8ms\tremaining: 263ms\n",
      "42:\tlearn: 67.2560637\ttotal: 71.5ms\tremaining: 261ms\n",
      "43:\tlearn: 66.9672097\ttotal: 73ms\tremaining: 259ms\n",
      "44:\tlearn: 66.7271450\ttotal: 74.6ms\tremaining: 257ms\n",
      "45:\tlearn: 66.2170229\ttotal: 76.3ms\tremaining: 255ms\n",
      "46:\tlearn: 65.7916330\ttotal: 77.9ms\tremaining: 254ms\n",
      "47:\tlearn: 65.4720950\ttotal: 79.5ms\tremaining: 252ms\n",
      "48:\tlearn: 65.1001711\ttotal: 81.2ms\tremaining: 250ms\n",
      "49:\tlearn: 64.8411083\ttotal: 82.8ms\tremaining: 249ms\n",
      "50:\tlearn: 64.4732369\ttotal: 84.5ms\tremaining: 247ms\n",
      "51:\tlearn: 64.2232555\ttotal: 86.2ms\tremaining: 245ms\n",
      "52:\tlearn: 63.9744820\ttotal: 87.8ms\tremaining: 243ms\n",
      "53:\tlearn: 63.6792082\ttotal: 89.5ms\tremaining: 242ms\n",
      "54:\tlearn: 63.4049166\ttotal: 91.4ms\tremaining: 241ms\n",
      "55:\tlearn: 63.1416263\ttotal: 93.3ms\tremaining: 240ms\n",
      "56:\tlearn: 62.9067211\ttotal: 95ms\tremaining: 238ms\n",
      "57:\tlearn: 62.7087164\ttotal: 96.7ms\tremaining: 237ms\n",
      "58:\tlearn: 61.8805355\ttotal: 98.3ms\tremaining: 235ms\n",
      "59:\tlearn: 61.5145726\ttotal: 99.9ms\tremaining: 233ms\n",
      "60:\tlearn: 61.3688778\ttotal: 102ms\tremaining: 231ms\n",
      "61:\tlearn: 61.0988777\ttotal: 104ms\tremaining: 231ms\n",
      "62:\tlearn: 60.7436315\ttotal: 106ms\tremaining: 230ms\n",
      "63:\tlearn: 60.4345330\ttotal: 108ms\tremaining: 229ms\n",
      "64:\tlearn: 60.2267150\ttotal: 110ms\tremaining: 228ms\n",
      "65:\tlearn: 59.7584718\ttotal: 111ms\tremaining: 226ms\n",
      "66:\tlearn: 59.2671549\ttotal: 113ms\tremaining: 225ms\n",
      "67:\tlearn: 59.0435565\ttotal: 116ms\tremaining: 225ms\n",
      "68:\tlearn: 58.7347701\ttotal: 118ms\tremaining: 223ms\n",
      "69:\tlearn: 58.4605917\ttotal: 119ms\tremaining: 222ms\n",
      "70:\tlearn: 58.1295814\ttotal: 121ms\tremaining: 220ms\n",
      "71:\tlearn: 57.8977161\ttotal: 123ms\tremaining: 218ms\n",
      "72:\tlearn: 57.6495343\ttotal: 125ms\tremaining: 217ms\n",
      "73:\tlearn: 57.4516332\ttotal: 127ms\tremaining: 216ms\n",
      "74:\tlearn: 57.2231797\ttotal: 129ms\tremaining: 215ms\n",
      "75:\tlearn: 56.8189250\ttotal: 132ms\tremaining: 215ms\n",
      "76:\tlearn: 56.5053564\ttotal: 135ms\tremaining: 215ms\n",
      "77:\tlearn: 56.2802167\ttotal: 138ms\tremaining: 216ms\n",
      "78:\tlearn: 55.9652084\ttotal: 141ms\tremaining: 216ms\n",
      "79:\tlearn: 55.7695190\ttotal: 144ms\tremaining: 217ms\n",
      "80:\tlearn: 55.4808369\ttotal: 147ms\tremaining: 217ms\n",
      "81:\tlearn: 55.1040805\ttotal: 152ms\tremaining: 219ms\n",
      "82:\tlearn: 54.5168020\ttotal: 154ms\tremaining: 217ms\n",
      "83:\tlearn: 54.3071743\ttotal: 157ms\tremaining: 216ms\n",
      "84:\tlearn: 54.0731383\ttotal: 158ms\tremaining: 214ms\n",
      "85:\tlearn: 53.9186456\ttotal: 160ms\tremaining: 212ms\n",
      "86:\tlearn: 53.6739350\ttotal: 162ms\tremaining: 210ms\n",
      "87:\tlearn: 53.4851489\ttotal: 163ms\tremaining: 208ms\n",
      "88:\tlearn: 53.3361299\ttotal: 165ms\tremaining: 206ms\n",
      "89:\tlearn: 53.2117780\ttotal: 167ms\tremaining: 204ms\n",
      "90:\tlearn: 53.0374699\ttotal: 168ms\tremaining: 202ms\n",
      "91:\tlearn: 52.7802686\ttotal: 170ms\tremaining: 200ms\n",
      "92:\tlearn: 52.3658685\ttotal: 172ms\tremaining: 198ms\n",
      "93:\tlearn: 52.0112043\ttotal: 174ms\tremaining: 196ms\n",
      "94:\tlearn: 51.8288240\ttotal: 176ms\tremaining: 195ms\n",
      "95:\tlearn: 51.6178163\ttotal: 178ms\tremaining: 193ms\n",
      "96:\tlearn: 51.4097261\ttotal: 180ms\tremaining: 191ms\n",
      "97:\tlearn: 51.1941116\ttotal: 182ms\tremaining: 189ms\n",
      "98:\tlearn: 51.0200324\ttotal: 184ms\tremaining: 187ms\n",
      "99:\tlearn: 50.7620432\ttotal: 186ms\tremaining: 186ms\n",
      "100:\tlearn: 50.5134343\ttotal: 188ms\tremaining: 184ms\n",
      "101:\tlearn: 50.3353824\ttotal: 189ms\tremaining: 182ms\n",
      "102:\tlearn: 50.1646137\ttotal: 191ms\tremaining: 180ms\n",
      "103:\tlearn: 49.9754650\ttotal: 193ms\tremaining: 178ms\n",
      "104:\tlearn: 49.7582122\ttotal: 195ms\tremaining: 176ms\n",
      "105:\tlearn: 49.4036528\ttotal: 196ms\tremaining: 174ms\n",
      "106:\tlearn: 49.2170193\ttotal: 198ms\tremaining: 172ms\n",
      "107:\tlearn: 49.0078486\ttotal: 201ms\tremaining: 171ms\n",
      "108:\tlearn: 48.7143771\ttotal: 204ms\tremaining: 170ms\n",
      "109:\tlearn: 48.6184364\ttotal: 207ms\tremaining: 169ms\n",
      "110:\tlearn: 48.4815502\ttotal: 209ms\tremaining: 167ms\n",
      "111:\tlearn: 48.2064703\ttotal: 213ms\tremaining: 168ms\n",
      "112:\tlearn: 48.1011975\ttotal: 216ms\tremaining: 166ms\n",
      "113:\tlearn: 47.8953266\ttotal: 218ms\tremaining: 164ms\n",
      "114:\tlearn: 47.6894111\ttotal: 220ms\tremaining: 162ms\n",
      "115:\tlearn: 47.5527224\ttotal: 222ms\tremaining: 160ms\n",
      "116:\tlearn: 47.3006301\ttotal: 223ms\tremaining: 158ms\n",
      "117:\tlearn: 47.1324558\ttotal: 225ms\tremaining: 157ms\n",
      "118:\tlearn: 46.8859385\ttotal: 227ms\tremaining: 155ms\n",
      "119:\tlearn: 46.7757914\ttotal: 229ms\tremaining: 153ms\n",
      "120:\tlearn: 46.6490876\ttotal: 231ms\tremaining: 151ms\n",
      "121:\tlearn: 46.3806731\ttotal: 233ms\tremaining: 149ms\n",
      "122:\tlearn: 46.1181221\ttotal: 235ms\tremaining: 147ms\n",
      "123:\tlearn: 45.9432472\ttotal: 237ms\tremaining: 145ms\n",
      "124:\tlearn: 45.7488527\ttotal: 239ms\tremaining: 143ms\n",
      "125:\tlearn: 45.5683814\ttotal: 241ms\tremaining: 141ms\n",
      "126:\tlearn: 45.3641268\ttotal: 243ms\tremaining: 139ms\n",
      "127:\tlearn: 45.2085984\ttotal: 244ms\tremaining: 137ms\n",
      "128:\tlearn: 45.0497112\ttotal: 246ms\tremaining: 136ms\n",
      "129:\tlearn: 44.8984785\ttotal: 248ms\tremaining: 134ms\n",
      "130:\tlearn: 44.7023907\ttotal: 250ms\tremaining: 132ms\n",
      "131:\tlearn: 44.5686796\ttotal: 252ms\tremaining: 130ms\n",
      "132:\tlearn: 44.4409695\ttotal: 254ms\tremaining: 128ms\n",
      "133:\tlearn: 44.3037776\ttotal: 255ms\tremaining: 126ms\n",
      "134:\tlearn: 44.1659306\ttotal: 257ms\tremaining: 124ms\n",
      "135:\tlearn: 43.9924738\ttotal: 259ms\tremaining: 122ms\n",
      "136:\tlearn: 43.8069271\ttotal: 261ms\tremaining: 120ms\n",
      "137:\tlearn: 43.6530241\ttotal: 263ms\tremaining: 118ms\n",
      "138:\tlearn: 43.5320991\ttotal: 265ms\tremaining: 116ms\n",
      "139:\tlearn: 43.3136579\ttotal: 267ms\tremaining: 114ms\n",
      "140:\tlearn: 43.1383208\ttotal: 268ms\tremaining: 112ms\n",
      "141:\tlearn: 42.9256768\ttotal: 270ms\tremaining: 110ms\n",
      "142:\tlearn: 42.8072243\ttotal: 272ms\tremaining: 108ms\n",
      "143:\tlearn: 42.6272236\ttotal: 274ms\tremaining: 106ms\n",
      "144:\tlearn: 42.4828723\ttotal: 275ms\tremaining: 104ms\n",
      "145:\tlearn: 42.3294555\ttotal: 277ms\tremaining: 102ms\n",
      "146:\tlearn: 42.0599184\ttotal: 278ms\tremaining: 100ms\n",
      "147:\tlearn: 41.9878591\ttotal: 280ms\tremaining: 98.4ms\n",
      "148:\tlearn: 41.8496403\ttotal: 282ms\tremaining: 96.4ms\n",
      "149:\tlearn: 41.7673963\ttotal: 284ms\tremaining: 94.7ms\n",
      "150:\tlearn: 41.5500812\ttotal: 286ms\tremaining: 92.9ms\n",
      "151:\tlearn: 41.4629599\ttotal: 288ms\tremaining: 91ms\n",
      "152:\tlearn: 41.3270538\ttotal: 290ms\tremaining: 89.1ms\n",
      "153:\tlearn: 41.2426647\ttotal: 292ms\tremaining: 87.2ms\n",
      "154:\tlearn: 41.0523747\ttotal: 294ms\tremaining: 85.3ms\n",
      "155:\tlearn: 40.9006919\ttotal: 296ms\tremaining: 83.3ms\n",
      "156:\tlearn: 40.7485927\ttotal: 298ms\tremaining: 81.5ms\n",
      "157:\tlearn: 40.5780522\ttotal: 300ms\tremaining: 79.8ms\n",
      "158:\tlearn: 40.4823693\ttotal: 302ms\tremaining: 78ms\n",
      "159:\tlearn: 40.4124733\ttotal: 304ms\tremaining: 76.1ms\n",
      "160:\tlearn: 40.3537933\ttotal: 306ms\tremaining: 74.2ms\n",
      "161:\tlearn: 40.1901847\ttotal: 308ms\tremaining: 72.3ms\n",
      "162:\tlearn: 40.0686976\ttotal: 310ms\tremaining: 70.5ms\n",
      "163:\tlearn: 39.9022324\ttotal: 313ms\tremaining: 68.6ms\n",
      "164:\tlearn: 39.7768742\ttotal: 314ms\tremaining: 66.7ms\n",
      "165:\tlearn: 39.6418695\ttotal: 316ms\tremaining: 64.8ms\n",
      "166:\tlearn: 39.4414700\ttotal: 318ms\tremaining: 62.8ms\n",
      "167:\tlearn: 39.3237765\ttotal: 320ms\tremaining: 60.9ms\n",
      "168:\tlearn: 39.2544920\ttotal: 322ms\tremaining: 59ms\n",
      "169:\tlearn: 39.1777664\ttotal: 324ms\tremaining: 57.1ms\n",
      "170:\tlearn: 39.0511761\ttotal: 325ms\tremaining: 55.2ms\n",
      "171:\tlearn: 38.9604109\ttotal: 327ms\tremaining: 53.3ms\n",
      "172:\tlearn: 38.8618375\ttotal: 329ms\tremaining: 51.4ms\n",
      "173:\tlearn: 38.7565082\ttotal: 331ms\tremaining: 49.5ms\n",
      "174:\tlearn: 38.6878647\ttotal: 333ms\tremaining: 47.6ms\n",
      "175:\tlearn: 38.6252266\ttotal: 337ms\tremaining: 45.9ms\n",
      "176:\tlearn: 38.5517921\ttotal: 340ms\tremaining: 44.2ms\n",
      "177:\tlearn: 38.4731172\ttotal: 343ms\tremaining: 42.4ms\n",
      "178:\tlearn: 38.3904313\ttotal: 346ms\tremaining: 40.5ms\n",
      "179:\tlearn: 38.3286875\ttotal: 347ms\tremaining: 38.6ms\n",
      "180:\tlearn: 38.1721406\ttotal: 349ms\tremaining: 36.7ms\n",
      "181:\tlearn: 38.1207773\ttotal: 351ms\tremaining: 34.8ms\n",
      "182:\tlearn: 37.9491001\ttotal: 353ms\tremaining: 32.8ms\n",
      "183:\tlearn: 37.8185688\ttotal: 356ms\tremaining: 30.9ms\n",
      "184:\tlearn: 37.7189759\ttotal: 358ms\tremaining: 29ms\n",
      "185:\tlearn: 37.5630250\ttotal: 360ms\tremaining: 27.1ms\n",
      "186:\tlearn: 37.3869520\ttotal: 362ms\tremaining: 25.2ms\n",
      "187:\tlearn: 37.2656430\ttotal: 364ms\tremaining: 23.2ms\n",
      "188:\tlearn: 37.1589750\ttotal: 366ms\tremaining: 21.3ms\n",
      "189:\tlearn: 37.0783383\ttotal: 367ms\tremaining: 19.3ms\n",
      "190:\tlearn: 36.9535288\ttotal: 369ms\tremaining: 17.4ms\n",
      "191:\tlearn: 36.7429539\ttotal: 371ms\tremaining: 15.4ms\n",
      "192:\tlearn: 36.5943865\ttotal: 372ms\tremaining: 13.5ms\n",
      "193:\tlearn: 36.5138435\ttotal: 374ms\tremaining: 11.6ms\n",
      "194:\tlearn: 36.4355237\ttotal: 376ms\tremaining: 9.64ms\n",
      "195:\tlearn: 36.3760724\ttotal: 378ms\tremaining: 7.71ms\n",
      "196:\tlearn: 36.2865816\ttotal: 380ms\tremaining: 5.79ms\n",
      "197:\tlearn: 36.2129214\ttotal: 382ms\tremaining: 3.86ms\n",
      "198:\tlearn: 36.1556564\ttotal: 384ms\tremaining: 1.93ms\n",
      "199:\tlearn: 36.0986923\ttotal: 386ms\tremaining: 0us\n"
     ]
    },
    {
     "data": {
      "text/plain": [
       "GridSearchCV(cv=3, error_score=nan,\n",
       "             estimator=<catboost.core.CatBoostRegressor object at 0x0000000013625BA8>,\n",
       "             iid='deprecated', n_jobs=-1,\n",
       "             param_grid={'iterations': [100, 200, 300, 400],\n",
       "                         'loss_function': ['MAE', 'RMSE']},\n",
       "             pre_dispatch='2*n_jobs', refit=True, return_train_score=False,\n",
       "             scoring=None, verbose=1)"
      ]
     },
     "execution_count": 125,
     "metadata": {},
     "output_type": "execute_result"
    }
   ],
   "source": [
    "#Lets do hyperparameter tunning \n",
    "\n",
    "from sklearn.model_selection import GridSearchCV\n",
    "\n",
    "cat1 = CatBoostRegressor()\n",
    "parameters = {\n",
    "                'iterations': [100,200,300,400],\n",
    "                'loss_function': ['MAE', 'RMSE'],\n",
    "                \n",
    "               \n",
    "}\n",
    "\n",
    "cv = GridSearchCV(cat1, parameters, cv=3, n_jobs = -1,verbose = 1)\n",
    "cv.fit(x_train, y_train)"
   ]
  },
  {
   "cell_type": "code",
   "execution_count": 126,
   "metadata": {
    "scrolled": true
   },
   "outputs": [
    {
     "data": {
      "text/plain": [
       "{'iterations': 200, 'loss_function': 'RMSE'}"
      ]
     },
     "execution_count": 126,
     "metadata": {},
     "output_type": "execute_result"
    }
   ],
   "source": [
    "cv.best_params_"
   ]
  },
  {
   "cell_type": "markdown",
   "metadata": {},
   "source": [
    "# KNN"
   ]
  },
  {
   "cell_type": "code",
   "execution_count": 178,
   "metadata": {},
   "outputs": [],
   "source": [
    "from sklearn.neighbors import KNeighborsRegressor\n",
    "knn=KNeighborsRegressor(algorithm='ball_tree')"
   ]
  },
  {
   "cell_type": "code",
   "execution_count": 179,
   "metadata": {},
   "outputs": [
    {
     "data": {
      "text/plain": [
       "KNeighborsRegressor(algorithm='ball_tree', leaf_size=30, metric='minkowski',\n",
       "                    metric_params=None, n_jobs=None, n_neighbors=5, p=2,\n",
       "                    weights='uniform')"
      ]
     },
     "execution_count": 179,
     "metadata": {},
     "output_type": "execute_result"
    }
   ],
   "source": [
    "knn.fit(x_train,y_train)"
   ]
  },
  {
   "cell_type": "code",
   "execution_count": 180,
   "metadata": {},
   "outputs": [],
   "source": [
    "pred=knn.predict(x_test)"
   ]
  },
  {
   "cell_type": "code",
   "execution_count": 181,
   "metadata": {},
   "outputs": [],
   "source": [
    "#Error calculation\n",
    "RMSE = np.sqrt(mean_squared_error(y_test, pred))\n",
    "MAE = mean_absolute_error(y_test, pred)\n",
    "r_squre= r2_score(y_test, pred)"
   ]
  },
  {
   "cell_type": "code",
   "execution_count": 182,
   "metadata": {},
   "outputs": [
    {
     "name": "stdout",
     "output_type": "stream",
     "text": [
      "RMSE : 84.9186682274465\n",
      "MAE: 58.17153024911032\n",
      "r_square: 0.28930146487758657\n"
     ]
    }
   ],
   "source": [
    "#Results \n",
    "print('RMSE :',RMSE) \n",
    "print('MAE:', MAE)\n",
    "print(\"r_square:\",r_squre)"
   ]
  },
  {
   "cell_type": "code",
   "execution_count": 176,
   "metadata": {},
   "outputs": [
    {
     "name": "stdout",
     "output_type": "stream",
     "text": [
      "Fitting 3 folds for each of 16 candidates, totalling 48 fits\n"
     ]
    },
    {
     "name": "stderr",
     "output_type": "stream",
     "text": [
      "[Parallel(n_jobs=-1)]: Using backend LokyBackend with 4 concurrent workers.\n",
      "[Parallel(n_jobs=-1)]: Done  48 out of  48 | elapsed:    3.7s finished\n"
     ]
    },
    {
     "data": {
      "text/plain": [
       "GridSearchCV(cv=3, error_score=nan,\n",
       "             estimator=KNeighborsRegressor(algorithm='auto', leaf_size=30,\n",
       "                                           metric='minkowski',\n",
       "                                           metric_params=None, n_jobs=None,\n",
       "                                           n_neighbors=5, p=2,\n",
       "                                           weights='uniform'),\n",
       "             iid='deprecated', n_jobs=-1,\n",
       "             param_grid={'algorithm': ['auto', 'ball_tree', 'kd_tree', 'brute'],\n",
       "                         'n_neighbors': [5, 7, 10, 12]},\n",
       "             pre_dispatch='2*n_jobs', refit=True, return_train_score=False,\n",
       "             scoring=None, verbose=1)"
      ]
     },
     "execution_count": 176,
     "metadata": {},
     "output_type": "execute_result"
    }
   ],
   "source": [
    "#Lets do hyperparameter tunning \n",
    "\n",
    "from sklearn.model_selection import GridSearchCV\n",
    "\n",
    "knn1 = KNeighborsRegressor()\n",
    "parameters = {\n",
    "                'n_neighbors': [5,7,10,12],\n",
    "                'algorithm' : ['auto', 'ball_tree', 'kd_tree', 'brute']\n",
    "                \n",
    "               \n",
    "}\n",
    "\n",
    "cv = GridSearchCV(knn1, parameters, cv=3, n_jobs = -1,verbose = 1)\n",
    "cv.fit(x_train, y_train)"
   ]
  },
  {
   "cell_type": "code",
   "execution_count": 177,
   "metadata": {},
   "outputs": [
    {
     "data": {
      "text/plain": [
       "{'algorithm': 'ball_tree', 'n_neighbors': 5}"
      ]
     },
     "execution_count": 177,
     "metadata": {},
     "output_type": "execute_result"
    }
   ],
   "source": [
    "cv.best_params_"
   ]
  },
  {
   "cell_type": "markdown",
   "metadata": {},
   "source": [
    "# Stack Model "
   ]
  },
  {
   "cell_type": "markdown",
   "metadata": {},
   "source": [
    "Lest stack Two models 1. Gradient Boosting 2. CatBoosting \n",
    "And meta estimator- Random Forest \n",
    "\n",
    "This is a special method where we first segment the dataset as training and testing portions.Then we use the training set to train multiple regressors(base learners) and obtain their predictions made on the test set. Then we stack the predicted columns vertically which we consider as features while having the actual values of these samples in the last column as targets.Now we have created a new dataset which we give to another Regressor(meta learner) to identify patterns/relationships between predictions and actual values."
   ]
  },
  {
   "cell_type": "code",
   "execution_count": 254,
   "metadata": {},
   "outputs": [],
   "source": [
    "# Now Lets concat the 2 prediction datafreames and one Actual data frame\n",
    "actual=pd.DataFrame(y_test)"
   ]
  },
  {
   "cell_type": "code",
   "execution_count": 255,
   "metadata": {
    "scrolled": false
   },
   "outputs": [],
   "source": [
    "actual.to_csv(\"True.csv\",index=0,columns=actual.columns)"
   ]
  },
  {
   "cell_type": "code",
   "execution_count": 235,
   "metadata": {},
   "outputs": [],
   "source": [
    "G_pred.columns=[\"Prediction1\"]\n",
    "C_pred.columns=[\"Prediction2\"]"
   ]
  },
  {
   "cell_type": "code",
   "execution_count": 256,
   "metadata": {},
   "outputs": [],
   "source": [
    "sd=pd.read_csv(\"priction_join.csv\")"
   ]
  },
  {
   "cell_type": "code",
   "execution_count": 258,
   "metadata": {
    "scrolled": false
   },
   "outputs": [
    {
     "name": "stdout",
     "output_type": "stream",
     "text": [
      "<class 'pandas.core.frame.DataFrame'>\n",
      "RangeIndex: 281 entries, 0 to 280\n",
      "Data columns (total 3 columns):\n",
      " #   Column             Non-Null Count  Dtype  \n",
      "---  ------             --------------  -----  \n",
      " 0   Prediction1        281 non-null    float64\n",
      " 1   Prediction2        281 non-null    float64\n",
      " 2   CT Signal to LIve  281 non-null    int64  \n",
      "dtypes: float64(2), int64(1)\n",
      "memory usage: 6.7 KB\n"
     ]
    }
   ],
   "source": [
    "sd.info()"
   ]
  },
  {
   "cell_type": "code",
   "execution_count": 295,
   "metadata": {
    "scrolled": true
   },
   "outputs": [],
   "source": [
    "#Lets define X and Y\n",
    "x=sd.drop(\"CT Signal to LIve\",axis=1)\n",
    "y=sd[\"CT Signal to LIve\"]"
   ]
  },
  {
   "cell_type": "code",
   "execution_count": 296,
   "metadata": {},
   "outputs": [],
   "source": [
    "x_train,x_test,y_train,y_test=train_test_split(x,y,test_size=0.3,random_state=100)"
   ]
  },
  {
   "cell_type": "code",
   "execution_count": 297,
   "metadata": {
    "scrolled": false
   },
   "outputs": [],
   "source": [
    "stacker= RandomForestRegressor(n_estimators=100,max_depth=5)"
   ]
  },
  {
   "cell_type": "code",
   "execution_count": 298,
   "metadata": {},
   "outputs": [
    {
     "data": {
      "text/plain": [
       "RandomForestRegressor(bootstrap=True, ccp_alpha=0.0, criterion='mse',\n",
       "                      max_depth=5, max_features='auto', max_leaf_nodes=None,\n",
       "                      max_samples=None, min_impurity_decrease=0.0,\n",
       "                      min_impurity_split=None, min_samples_leaf=1,\n",
       "                      min_samples_split=2, min_weight_fraction_leaf=0.0,\n",
       "                      n_estimators=100, n_jobs=None, oob_score=False,\n",
       "                      random_state=None, verbose=0, warm_start=False)"
      ]
     },
     "execution_count": 298,
     "metadata": {},
     "output_type": "execute_result"
    }
   ],
   "source": [
    "stacker.fit(x_train,y_train)"
   ]
  },
  {
   "cell_type": "code",
   "execution_count": 299,
   "metadata": {
    "scrolled": true
   },
   "outputs": [],
   "source": [
    "stcker_pred=stacker.predict(x_test)"
   ]
  },
  {
   "cell_type": "code",
   "execution_count": 300,
   "metadata": {
    "scrolled": true
   },
   "outputs": [],
   "source": [
    "#Error calculation\n",
    "RMSE = np.sqrt(mean_squared_error(y_test, stcker_pred))\n",
    "MAE = mean_absolute_error(y_test, stcker_pred)\n",
    "r_squre= r2_score(y_test, stcker_pred)"
   ]
  },
  {
   "cell_type": "code",
   "execution_count": 301,
   "metadata": {
    "scrolled": true
   },
   "outputs": [
    {
     "name": "stdout",
     "output_type": "stream",
     "text": [
      "RMSE : 64.91372953121493\n",
      "MAE: 46.04718933426568\n",
      "r_square: 0.5468659936262875\n"
     ]
    }
   ],
   "source": [
    "#Results \n",
    "print('RMSE :',RMSE) \n",
    "print('MAE:', MAE)\n",
    "print(\"r_square:\",r_squre)"
   ]
  },
  {
   "cell_type": "code",
   "execution_count": 271,
   "metadata": {
    "scrolled": true
   },
   "outputs": [
    {
     "name": "stdout",
     "output_type": "stream",
     "text": [
      "Fitting 3 folds for each of 40 candidates, totalling 120 fits\n"
     ]
    },
    {
     "name": "stderr",
     "output_type": "stream",
     "text": [
      "[Parallel(n_jobs=-1)]: Using backend LokyBackend with 4 concurrent workers.\n",
      "[Parallel(n_jobs=-1)]: Done  42 tasks      | elapsed:   20.2s\n",
      "[Parallel(n_jobs=-1)]: Done 120 out of 120 | elapsed:   54.2s finished\n"
     ]
    },
    {
     "data": {
      "text/plain": [
       "GridSearchCV(cv=3, error_score=nan,\n",
       "             estimator=RandomForestRegressor(bootstrap=True, ccp_alpha=0.0,\n",
       "                                             criterion='mse', max_depth=None,\n",
       "                                             max_features='auto',\n",
       "                                             max_leaf_nodes=None,\n",
       "                                             max_samples=None,\n",
       "                                             min_impurity_decrease=0.0,\n",
       "                                             min_impurity_split=None,\n",
       "                                             min_samples_leaf=1,\n",
       "                                             min_samples_split=2,\n",
       "                                             min_weight_fraction_leaf=0.0,\n",
       "                                             n_estimators=100, n_jobs=None,\n",
       "                                             oob_score=False, random_state=None,\n",
       "                                             verbose=0, warm_start=False),\n",
       "             iid='deprecated', n_jobs=-1,\n",
       "             param_grid={'max_depth': [2, 3, 4, 5, 6, 7, 8, None],\n",
       "                         'n_estimators': [100, 200, 300, 400, 500]},\n",
       "             pre_dispatch='2*n_jobs', refit=True, return_train_score=False,\n",
       "             scoring=None, verbose=1)"
      ]
     },
     "execution_count": 271,
     "metadata": {},
     "output_type": "execute_result"
    }
   ],
   "source": [
    "#Lets do hyperparameter tunning \n",
    "\n",
    "from sklearn.model_selection import GridSearchCV\n",
    "\n",
    "rf = RandomForestRegressor()\n",
    "parameters = {\n",
    "    'n_estimators': [100,200,300,400,500],\n",
    "    'max_depth' : [2,3,4,5,6,7,8,None]\n",
    "}\n",
    "\n",
    "cv = GridSearchCV(rf, parameters, cv=3, n_jobs = -1,verbose = 1)\n",
    "cv.fit(x_train, y_train)"
   ]
  },
  {
   "cell_type": "code",
   "execution_count": 272,
   "metadata": {
    "scrolled": true
   },
   "outputs": [
    {
     "data": {
      "text/plain": [
       "{'max_depth': 5, 'n_estimators': 100}"
      ]
     },
     "execution_count": 272,
     "metadata": {},
     "output_type": "execute_result"
    }
   ],
   "source": [
    "cv.best_params_"
   ]
  },
  {
   "cell_type": "code",
   "execution_count": null,
   "metadata": {},
   "outputs": [],
   "source": []
  },
  {
   "cell_type": "code",
   "execution_count": null,
   "metadata": {},
   "outputs": [],
   "source": []
  }
 ],
 "metadata": {
  "kernelspec": {
   "display_name": "Python 3",
   "language": "python",
   "name": "python3"
  },
  "language_info": {
   "codemirror_mode": {
    "name": "ipython",
    "version": 3
   },
   "file_extension": ".py",
   "mimetype": "text/x-python",
   "name": "python",
   "nbconvert_exporter": "python",
   "pygments_lexer": "ipython3",
   "version": "3.7.3"
  }
 },
 "nbformat": 4,
 "nbformat_minor": 4
}
