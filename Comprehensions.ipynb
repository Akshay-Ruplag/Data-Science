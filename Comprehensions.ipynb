{
 "cells": [
  {
   "cell_type": "code",
   "execution_count": 3,
   "metadata": {},
   "outputs": [
    {
     "name": "stdout",
     "output_type": "stream",
     "text": [
      "[1, 4, 9, 16, 25, 36, 49, 64, 81]\n"
     ]
    }
   ],
   "source": [
    "# #Readability\n",
    "# #Unique to python, List comprehension in Artificial inteligence.\n",
    "# List comprehensions perform better here because you don’t need to load the append attribute off of the list and call it as a function\n",
    "#Instead, in a comprehension, a specialized LIST_APPEND bytecode is generated for a fast append onto the result list.\n",
    "squares_list= []\n",
    "\n",
    "for x in range(1,10):\n",
    "    squares_list.append(x**2)\n",
    "print(squares_list)\n"
   ]
  },
  {
   "cell_type": "code",
   "execution_count": 163,
   "metadata": {},
   "outputs": [],
   "source": [
    "import time\n",
    "start = time.time()\n",
    "a=[]\n",
    "for i in range(10000):\n",
    "    if i%2==0:\n",
    "        a.append(i**2)\n",
    "#print(a)\n",
    "end = time.time()\n",
    "t1=end - start"
   ]
  },
  {
   "cell_type": "code",
   "execution_count": 164,
   "metadata": {},
   "outputs": [],
   "source": [
    "import time\n",
    "start = time.time()\n",
    "x=  [i**2 for i in range(10000) if i%2==0]\n",
    "#print(x)\n",
    "end = time.time()\n",
    "t2=end-start"
   ]
  },
  {
   "cell_type": "code",
   "execution_count": 165,
   "metadata": {},
   "outputs": [
    {
     "name": "stdout",
     "output_type": "stream",
     "text": [
      "0.020008087158203125\n",
      "0.013001203536987305\n"
     ]
    },
    {
     "data": {
      "text/plain": [
       "-0.00700688362121582"
      ]
     },
     "execution_count": 165,
     "metadata": {},
     "output_type": "execute_result"
    }
   ],
   "source": [
    "print(t1)\n",
    "print(t2)\n",
    "t2-t1"
   ]
  },
  {
   "cell_type": "code",
   "execution_count": null,
   "metadata": {},
   "outputs": [],
   "source": []
  },
  {
   "cell_type": "code",
   "execution_count": 172,
   "metadata": {},
   "outputs": [
    {
     "name": "stdout",
     "output_type": "stream",
     "text": [
      "[1, 4, 9, 16, 25, 36, 49, 64, 81]\n"
     ]
    }
   ],
   "source": [
    "squares_list = [x**2 for x in range(1,10)]\n",
    "print(squares_list)"
   ]
  },
  {
   "cell_type": "code",
   "execution_count": null,
   "metadata": {},
   "outputs": [],
   "source": []
  },
  {
   "cell_type": "code",
   "execution_count": 169,
   "metadata": {},
   "outputs": [],
   "source": [
    "paragraph = [\"There was a fox.\" , 'It was brown in color.', \"It was seen near that farm sometime back\"]"
   ]
  },
  {
   "cell_type": "code",
   "execution_count": 170,
   "metadata": {},
   "outputs": [],
   "source": [
    "# ['There', 'was', 'a', 'fox.', 'It', 'was', 'brown', 'in', 'color.', 'It', 'was', 'seen', 'near', 'that', 'farm', 'sometime', 'back']"
   ]
  },
  {
   "cell_type": "code",
   "execution_count": 173,
   "metadata": {},
   "outputs": [
    {
     "name": "stdout",
     "output_type": "stream",
     "text": [
      "['There', 'was', 'a', 'fox.', 'It', 'was', 'brown', 'in', 'color.', 'It', 'was', 'seen', 'near', 'that', 'farm', 'sometime', 'back']\n"
     ]
    }
   ],
   "source": [
    "single_word_list =[]\n",
    "\n",
    "for sentence in paragraph:\n",
    "    for word in sentence.split():\n",
    "        single_word_list.append(word)\n",
    "\n",
    "print(single_word_list)"
   ]
  },
  {
   "cell_type": "code",
   "execution_count": 174,
   "metadata": {},
   "outputs": [
    {
     "name": "stdout",
     "output_type": "stream",
     "text": [
      "['There', 'was', 'a', 'fox.', 'It', 'was', 'brown', 'in', 'color.', 'It', 'was', 'seen', 'near', 'that', 'farm', 'sometime', 'back']\n"
     ]
    }
   ],
   "source": [
    "single_word_list  = [word for sentence in paragraph for word in sentence.split()]\n",
    "print(single_word_list)"
   ]
  },
  {
   "cell_type": "code",
   "execution_count": 175,
   "metadata": {},
   "outputs": [
    {
     "name": "stdout",
     "output_type": "stream",
     "text": [
      "['a', 'It', 'in', 'It']\n"
     ]
    }
   ],
   "source": [
    "#list comp with if statement\n",
    "vowels = ['a','e','i','o','u']\n",
    "vowels_from_sentence =[]\n",
    "for sentence in paragraph:\n",
    "    for word in sentence.split():\n",
    "        if word[0].lower() in vowels:\n",
    "            vowels_from_sentence.append(word)\n",
    "\n",
    "print(vowels_from_sentence)\n"
   ]
  },
  {
   "cell_type": "code",
   "execution_count": null,
   "metadata": {
    "collapsed": true
   },
   "outputs": [],
   "source": [
    "#[ for sentence in paragraph]\n",
    "#[ for sentence in paragraph for word in sentence.split()]\n"
   ]
  },
  {
   "cell_type": "code",
   "execution_count": 176,
   "metadata": {},
   "outputs": [
    {
     "name": "stdout",
     "output_type": "stream",
     "text": [
      "['a', 'It', 'in', 'It']\n"
     ]
    }
   ],
   "source": [
    "vowels_comp = [word for sentence in paragraph for word in sentence.split() if word[0].lower() in vowels]\n",
    "print(vowels_comp)"
   ]
  },
  {
   "cell_type": "code",
   "execution_count": 177,
   "metadata": {},
   "outputs": [
    {
     "name": "stdout",
     "output_type": "stream",
     "text": [
      "{0: 0, 1: 1, 2: 4, 3: 9, 4: 16, 5: 25, 6: 36, 7: 49, 8: 64, 9: 81, 10: 100, 11: 121, 12: 144, 13: 169, 14: 196, 15: 225, 16: 256, 17: 289, 18: 324, 19: 361, 20: 400, 21: 441, 22: 484, 23: 529, 24: 576}\n"
     ]
    }
   ],
   "source": [
    "squared_dictionary = {num : num**2 for num in range(0, 25)}\n",
    "print(squared_dictionary)"
   ]
  },
  {
   "cell_type": "code",
   "execution_count": 178,
   "metadata": {},
   "outputs": [],
   "source": [
    "students_data = {1:['Shivam Bansal', 24] , 2:['Udit Bansal',25], 3:['Sonam Gupta', 26], 4:['Saif Ansari',24], 5:['Huzefa Calcuttawala',27]}\n"
   ]
  },
  {
   "cell_type": "code",
   "execution_count": 179,
   "metadata": {},
   "outputs": [
    {
     "name": "stdout",
     "output_type": "stream",
     "text": [
      "{2: 'Udit Bansal', 4: 'Saif Ansari'}\n"
     ]
    }
   ],
   "source": [
    "names_dict ={}\n",
    "\n",
    "#iterate over each key, val pair\n",
    "for roll_num,details in students_data.items():\n",
    "    if roll_num%2==0:\n",
    "        names_dict[roll_num]= details[0]\n",
    "print(names_dict)"
   ]
  },
  {
   "cell_type": "code",
   "execution_count": 180,
   "metadata": {},
   "outputs": [
    {
     "name": "stdout",
     "output_type": "stream",
     "text": [
      "{2: 'Udit Bansal', 4: 'Saif Ansari'}\n"
     ]
    }
   ],
   "source": [
    "names_comp = {roll_num:details[0] for roll_num,details in students_data.items() if roll_num%2==0}\n",
    "print(names_comp)"
   ]
  },
  {
   "cell_type": "code",
   "execution_count": 162,
   "metadata": {},
   "outputs": [
    {
     "name": "stdout",
     "output_type": "stream",
     "text": [
      "1.6891260147094727\n",
      "4.0687031745910645\n"
     ]
    }
   ],
   "source": [
    "import time\n",
    "\n",
    "a = [1, 2, 3, 4, 5]\n",
    "\n",
    "start = time.time()\n",
    "\n",
    "for i in range(0, 500000):\n",
    "    a = [value if value % 2 == 1 else value * 1 for value in a]\n",
    "\n",
    "end = time.time()\n",
    "\n",
    "print(end - start)\n",
    "\n",
    "start = time.time()\n",
    "\n",
    "for i in range(0, 500000):\n",
    "    for j in range(len(a)):\n",
    "        if a[j] % 2 == 1:\n",
    "            a[j] = a[j]\n",
    "        else:\n",
    "            a[j] = a[j] * 1\n",
    "\n",
    "end = time.time()\n",
    "\n",
    "print(end - start)"
   ]
  },
  {
   "cell_type": "code",
   "execution_count": 182,
   "metadata": {},
   "outputs": [
    {
     "data": {
      "text/plain": [
       "[27, 18, 46, 51, 99, 70, 48, 49, 6]"
      ]
     },
     "execution_count": 182,
     "metadata": {},
     "output_type": "execute_result"
    }
   ],
   "source": [
    "#Do-something if <condition>, else do-something else.\n",
    "l = [22, 13, 45, 50, 98, 69, 43, 44, 1]\n",
    "[x+1 if x >= 45 else x+5 for x in l]"
   ]
  },
  {
   "cell_type": "code",
   "execution_count": null,
   "metadata": {},
   "outputs": [],
   "source": []
  }
 ],
 "metadata": {
  "anaconda-cloud": {},
  "kernelspec": {
   "display_name": "Python 3",
   "language": "python",
   "name": "python3"
  },
  "language_info": {
   "codemirror_mode": {
    "name": "ipython",
    "version": 3
   },
   "file_extension": ".py",
   "mimetype": "text/x-python",
   "name": "python",
   "nbconvert_exporter": "python",
   "pygments_lexer": "ipython3",
   "version": "3.6.5"
  }
 },
 "nbformat": 4,
 "nbformat_minor": 1
}
