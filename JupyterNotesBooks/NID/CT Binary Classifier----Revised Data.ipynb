{
 "cells": [
  {
   "cell_type": "code",
   "execution_count": 9,
   "metadata": {},
   "outputs": [],
   "source": [
    "import pandas as pd\n",
    "import numpy as np\n",
    "import matplotlib.pyplot as plt\n",
    "import seaborn as sns\n",
    "%matplotlib inline\n",
    "\n",
    "from sklearn.preprocessing import LabelEncoder\n",
    "\n",
    "import warnings\n",
    "warnings.filterwarnings(action='ignore')"
   ]
  },
  {
   "cell_type": "code",
   "execution_count": 2,
   "metadata": {},
   "outputs": [
    {
     "data": {
      "text/html": [
       "<div>\n",
       "<style scoped>\n",
       "    .dataframe tbody tr th:only-of-type {\n",
       "        vertical-align: middle;\n",
       "    }\n",
       "\n",
       "    .dataframe tbody tr th {\n",
       "        vertical-align: top;\n",
       "    }\n",
       "\n",
       "    .dataframe thead th {\n",
       "        text-align: right;\n",
       "    }\n",
       "</style>\n",
       "<table border=\"1\" class=\"dataframe\">\n",
       "  <thead>\n",
       "    <tr style=\"text-align: right;\">\n",
       "      <th></th>\n",
       "      <th>Region</th>\n",
       "      <th>Metro</th>\n",
       "      <th>SiteType</th>\n",
       "      <th>DeploymentType</th>\n",
       "      <th>NIDPM</th>\n",
       "      <th>DPM</th>\n",
       "      <th>IsMainstream</th>\n",
       "      <th>FacilityCode</th>\n",
       "      <th>ClassType</th>\n",
       "      <th>CT</th>\n",
       "      <th>CT_Status</th>\n",
       "      <th>CT_Indicator</th>\n",
       "      <th>CT_Indicator_3</th>\n",
       "    </tr>\n",
       "  </thead>\n",
       "  <tbody>\n",
       "    <tr>\n",
       "      <th>0</th>\n",
       "      <td>AMEREAST</td>\n",
       "      <td>Des Moines</td>\n",
       "      <td>DC</td>\n",
       "      <td>Expansion</td>\n",
       "      <td>John Simmons</td>\n",
       "      <td>Dhiraj Take (Tata Consultancy Services Ltd)</td>\n",
       "      <td>False</td>\n",
       "      <td>DM4</td>\n",
       "      <td>Class A</td>\n",
       "      <td>226</td>\n",
       "      <td>With-in SLA</td>\n",
       "      <td>Green</td>\n",
       "      <td>Green</td>\n",
       "    </tr>\n",
       "    <tr>\n",
       "      <th>1</th>\n",
       "      <td>AMEREAST</td>\n",
       "      <td>Des Moines</td>\n",
       "      <td>DC</td>\n",
       "      <td>Expansion</td>\n",
       "      <td>John Simmons</td>\n",
       "      <td>Dhiraj Take (Tata Consultancy Services Ltd)</td>\n",
       "      <td>False</td>\n",
       "      <td>DM4</td>\n",
       "      <td>Class A</td>\n",
       "      <td>226</td>\n",
       "      <td>With-in SLA</td>\n",
       "      <td>Green</td>\n",
       "      <td>Green</td>\n",
       "    </tr>\n",
       "    <tr>\n",
       "      <th>2</th>\n",
       "      <td>AMEREAST</td>\n",
       "      <td>Des Moines</td>\n",
       "      <td>DC</td>\n",
       "      <td>Expansion</td>\n",
       "      <td>John Simmons</td>\n",
       "      <td>Dhiraj Take (Tata Consultancy Services Ltd)</td>\n",
       "      <td>False</td>\n",
       "      <td>DM4</td>\n",
       "      <td>Class A</td>\n",
       "      <td>226</td>\n",
       "      <td>With-in SLA</td>\n",
       "      <td>Green</td>\n",
       "      <td>Green</td>\n",
       "    </tr>\n",
       "    <tr>\n",
       "      <th>3</th>\n",
       "      <td>AMEREAST</td>\n",
       "      <td>Campinas</td>\n",
       "      <td>RNG</td>\n",
       "      <td>Aug</td>\n",
       "      <td>Kathy Brown</td>\n",
       "      <td>Madhvi Chand (Tata Consultancy Services)</td>\n",
       "      <td>False</td>\n",
       "      <td>CPQ02</td>\n",
       "      <td>Class C</td>\n",
       "      <td>91</td>\n",
       "      <td>With-in SLA</td>\n",
       "      <td>Green</td>\n",
       "      <td>Green</td>\n",
       "    </tr>\n",
       "    <tr>\n",
       "      <th>4</th>\n",
       "      <td>AMERWEST</td>\n",
       "      <td>Los Angeles</td>\n",
       "      <td>GW</td>\n",
       "      <td>Upgrade</td>\n",
       "      <td>Darren (Norm) Norman</td>\n",
       "      <td>Rajesh Adimoolam (Tata Consultancy Services Ltd)</td>\n",
       "      <td>False</td>\n",
       "      <td>LAX30</td>\n",
       "      <td>Class E</td>\n",
       "      <td>117</td>\n",
       "      <td>With-in SLA</td>\n",
       "      <td>Green</td>\n",
       "      <td>Green</td>\n",
       "    </tr>\n",
       "  </tbody>\n",
       "</table>\n",
       "</div>"
      ],
      "text/plain": [
       "     Region        Metro SiteType DeploymentType                 NIDPM  \\\n",
       "0  AMEREAST   Des Moines       DC      Expansion          John Simmons   \n",
       "1  AMEREAST   Des Moines       DC      Expansion          John Simmons   \n",
       "2  AMEREAST   Des Moines       DC      Expansion          John Simmons   \n",
       "3  AMEREAST     Campinas      RNG            Aug           Kathy Brown   \n",
       "4  AMERWEST  Los Angeles       GW        Upgrade  Darren (Norm) Norman   \n",
       "\n",
       "                                                DPM  IsMainstream  \\\n",
       "0       Dhiraj Take (Tata Consultancy Services Ltd)         False   \n",
       "1       Dhiraj Take (Tata Consultancy Services Ltd)         False   \n",
       "2       Dhiraj Take (Tata Consultancy Services Ltd)         False   \n",
       "3          Madhvi Chand (Tata Consultancy Services)         False   \n",
       "4  Rajesh Adimoolam (Tata Consultancy Services Ltd)         False   \n",
       "\n",
       "  FacilityCode ClassType   CT    CT_Status CT_Indicator CT_Indicator_3  \n",
       "0          DM4   Class A  226  With-in SLA        Green          Green  \n",
       "1          DM4   Class A  226  With-in SLA        Green          Green  \n",
       "2          DM4   Class A  226  With-in SLA        Green          Green  \n",
       "3        CPQ02   Class C   91  With-in SLA        Green          Green  \n",
       "4        LAX30   Class E  117  With-in SLA        Green          Green  "
      ]
     },
     "execution_count": 2,
     "metadata": {},
     "output_type": "execute_result"
    }
   ],
   "source": [
    "df1=pd.read_csv('NID_revised_cleanData.csv')\n",
    "df1.head()"
   ]
  },
  {
   "cell_type": "code",
   "execution_count": 3,
   "metadata": {},
   "outputs": [
    {
     "name": "stdout",
     "output_type": "stream",
     "text": [
      "<class 'pandas.core.frame.DataFrame'>\n",
      "RangeIndex: 1593 entries, 0 to 1592\n",
      "Data columns (total 13 columns):\n",
      " #   Column          Non-Null Count  Dtype \n",
      "---  ------          --------------  ----- \n",
      " 0   Region          1593 non-null   object\n",
      " 1   Metro           1593 non-null   object\n",
      " 2   SiteType        1593 non-null   object\n",
      " 3   DeploymentType  1593 non-null   object\n",
      " 4   NIDPM           1593 non-null   object\n",
      " 5   DPM             1593 non-null   object\n",
      " 6   IsMainstream    1593 non-null   bool  \n",
      " 7   FacilityCode    1593 non-null   object\n",
      " 8   ClassType       1593 non-null   object\n",
      " 9   CT              1593 non-null   int64 \n",
      " 10  CT_Status       1593 non-null   object\n",
      " 11  CT_Indicator    1593 non-null   object\n",
      " 12  CT_Indicator_3  1593 non-null   object\n",
      "dtypes: bool(1), int64(1), object(11)\n",
      "memory usage: 151.0+ KB\n"
     ]
    }
   ],
   "source": [
    "df1.info()"
   ]
  },
  {
   "cell_type": "code",
   "execution_count": 4,
   "metadata": {},
   "outputs": [
    {
     "data": {
      "text/plain": [
       "Out-of SLA     891\n",
       "With-in SLA    702\n",
       "Name: CT_Status, dtype: int64"
      ]
     },
     "execution_count": 4,
     "metadata": {},
     "output_type": "execute_result"
    }
   ],
   "source": [
    "df1['CT_Status'].value_counts()"
   ]
  },
  {
   "cell_type": "code",
   "execution_count": 5,
   "metadata": {
    "scrolled": true
   },
   "outputs": [
    {
     "data": {
      "text/plain": [
       "Out-of SLA     55.932203\n",
       "With-in SLA    44.067797\n",
       "Name: CT_Status, dtype: float64"
      ]
     },
     "execution_count": 5,
     "metadata": {},
     "output_type": "execute_result"
    }
   ],
   "source": [
    "df1['CT_Status'].value_counts(normalize=True)*100"
   ]
  },
  {
   "cell_type": "code",
   "execution_count": 6,
   "metadata": {},
   "outputs": [
    {
     "data": {
      "text/plain": [
       "<AxesSubplot:>"
      ]
     },
     "execution_count": 6,
     "metadata": {},
     "output_type": "execute_result"
    },
    {
     "data": {
      "image/png": "[encoded data removed]",
      "text/plain": [
       "<Figure size 432x288 with 1 Axes>"
      ]
     },
     "metadata": {
      "needs_background": "light"
     },
     "output_type": "display_data"
    }
   ],
   "source": [
    "df1['CT_Status'].value_counts(normalize=True).plot.bar()"
   ]
  },
  {
   "cell_type": "code",
   "execution_count": 7,
   "metadata": {},
   "outputs": [],
   "source": [
    "# Lets define predictors and Responce Varibale\n",
    "\n",
    "x=df1.drop(['CT','CT_Indicator','CT_Status','CT_Indicator_3'],axis=1)\n",
    "y=df1['CT_Status']"
   ]
  },
  {
   "cell_type": "code",
   "execution_count": 8,
   "metadata": {
    "scrolled": false
   },
   "outputs": [
    {
     "data": {
      "text/html": [
       "<div>\n",
       "<style scoped>\n",
       "    .dataframe tbody tr th:only-of-type {\n",
       "        vertical-align: middle;\n",
       "    }\n",
       "\n",
       "    .dataframe tbody tr th {\n",
       "        vertical-align: top;\n",
       "    }\n",
       "\n",
       "    .dataframe thead th {\n",
       "        text-align: right;\n",
       "    }\n",
       "</style>\n",
       "<table border=\"1\" class=\"dataframe\">\n",
       "  <thead>\n",
       "    <tr style=\"text-align: right;\">\n",
       "      <th></th>\n",
       "      <th>Region</th>\n",
       "      <th>Metro</th>\n",
       "      <th>SiteType</th>\n",
       "      <th>DeploymentType</th>\n",
       "      <th>NIDPM</th>\n",
       "      <th>DPM</th>\n",
       "      <th>IsMainstream</th>\n",
       "      <th>FacilityCode</th>\n",
       "      <th>ClassType</th>\n",
       "    </tr>\n",
       "  </thead>\n",
       "  <tbody>\n",
       "    <tr>\n",
       "      <th>0</th>\n",
       "      <td>AMEREAST</td>\n",
       "      <td>Des Moines</td>\n",
       "      <td>DC</td>\n",
       "      <td>Expansion</td>\n",
       "      <td>John Simmons</td>\n",
       "      <td>Dhiraj Take (Tata Consultancy Services Ltd)</td>\n",
       "      <td>False</td>\n",
       "      <td>DM4</td>\n",
       "      <td>Class A</td>\n",
       "    </tr>\n",
       "    <tr>\n",
       "      <th>1</th>\n",
       "      <td>AMEREAST</td>\n",
       "      <td>Des Moines</td>\n",
       "      <td>DC</td>\n",
       "      <td>Expansion</td>\n",
       "      <td>John Simmons</td>\n",
       "      <td>Dhiraj Take (Tata Consultancy Services Ltd)</td>\n",
       "      <td>False</td>\n",
       "      <td>DM4</td>\n",
       "      <td>Class A</td>\n",
       "    </tr>\n",
       "    <tr>\n",
       "      <th>2</th>\n",
       "      <td>AMEREAST</td>\n",
       "      <td>Des Moines</td>\n",
       "      <td>DC</td>\n",
       "      <td>Expansion</td>\n",
       "      <td>John Simmons</td>\n",
       "      <td>Dhiraj Take (Tata Consultancy Services Ltd)</td>\n",
       "      <td>False</td>\n",
       "      <td>DM4</td>\n",
       "      <td>Class A</td>\n",
       "    </tr>\n",
       "    <tr>\n",
       "      <th>3</th>\n",
       "      <td>AMEREAST</td>\n",
       "      <td>Campinas</td>\n",
       "      <td>RNG</td>\n",
       "      <td>Aug</td>\n",
       "      <td>Kathy Brown</td>\n",
       "      <td>Madhvi Chand (Tata Consultancy Services)</td>\n",
       "      <td>False</td>\n",
       "      <td>CPQ02</td>\n",
       "      <td>Class C</td>\n",
       "    </tr>\n",
       "    <tr>\n",
       "      <th>4</th>\n",
       "      <td>AMERWEST</td>\n",
       "      <td>Los Angeles</td>\n",
       "      <td>GW</td>\n",
       "      <td>Upgrade</td>\n",
       "      <td>Darren (Norm) Norman</td>\n",
       "      <td>Rajesh Adimoolam (Tata Consultancy Services Ltd)</td>\n",
       "      <td>False</td>\n",
       "      <td>LAX30</td>\n",
       "      <td>Class E</td>\n",
       "    </tr>\n",
       "  </tbody>\n",
       "</table>\n",
       "</div>"
      ],
      "text/plain": [
       "     Region        Metro SiteType DeploymentType                 NIDPM  \\\n",
       "0  AMEREAST   Des Moines       DC      Expansion          John Simmons   \n",
       "1  AMEREAST   Des Moines       DC      Expansion          John Simmons   \n",
       "2  AMEREAST   Des Moines       DC      Expansion          John Simmons   \n",
       "3  AMEREAST     Campinas      RNG            Aug           Kathy Brown   \n",
       "4  AMERWEST  Los Angeles       GW        Upgrade  Darren (Norm) Norman   \n",
       "\n",
       "                                                DPM  IsMainstream  \\\n",
       "0       Dhiraj Take (Tata Consultancy Services Ltd)         False   \n",
       "1       Dhiraj Take (Tata Consultancy Services Ltd)         False   \n",
       "2       Dhiraj Take (Tata Consultancy Services Ltd)         False   \n",
       "3          Madhvi Chand (Tata Consultancy Services)         False   \n",
       "4  Rajesh Adimoolam (Tata Consultancy Services Ltd)         False   \n",
       "\n",
       "  FacilityCode ClassType  \n",
       "0          DM4   Class A  \n",
       "1          DM4   Class A  \n",
       "2          DM4   Class A  \n",
       "3        CPQ02   Class C  \n",
       "4        LAX30   Class E  "
      ]
     },
     "execution_count": 8,
     "metadata": {},
     "output_type": "execute_result"
    }
   ],
   "source": [
    "x.head()"
   ]
  },
  {
   "cell_type": "code",
   "execution_count": 10,
   "metadata": {},
   "outputs": [],
   "source": [
    "le=LabelEncoder()"
   ]
  },
  {
   "cell_type": "code",
   "execution_count": 11,
   "metadata": {},
   "outputs": [],
   "source": [
    "# Will have to convert the categorical varibles into Dummy variables. \n",
    "x_encoded=x.apply(le.fit_transform)"
   ]
  },
  {
   "cell_type": "code",
   "execution_count": 12,
   "metadata": {
    "scrolled": false
   },
   "outputs": [
    {
     "data": {
      "text/html": [
       "<div>\n",
       "<style scoped>\n",
       "    .dataframe tbody tr th:only-of-type {\n",
       "        vertical-align: middle;\n",
       "    }\n",
       "\n",
       "    .dataframe tbody tr th {\n",
       "        vertical-align: top;\n",
       "    }\n",
       "\n",
       "    .dataframe thead th {\n",
       "        text-align: right;\n",
       "    }\n",
       "</style>\n",
       "<table border=\"1\" class=\"dataframe\">\n",
       "  <thead>\n",
       "    <tr style=\"text-align: right;\">\n",
       "      <th></th>\n",
       "      <th>Region</th>\n",
       "      <th>Metro</th>\n",
       "      <th>SiteType</th>\n",
       "      <th>DeploymentType</th>\n",
       "      <th>NIDPM</th>\n",
       "      <th>DPM</th>\n",
       "      <th>IsMainstream</th>\n",
       "      <th>FacilityCode</th>\n",
       "      <th>ClassType</th>\n",
       "    </tr>\n",
       "  </thead>\n",
       "  <tbody>\n",
       "    <tr>\n",
       "      <th>0</th>\n",
       "      <td>0</td>\n",
       "      <td>64</td>\n",
       "      <td>2</td>\n",
       "      <td>5</td>\n",
       "      <td>15</td>\n",
       "      <td>12</td>\n",
       "      <td>0</td>\n",
       "      <td>211</td>\n",
       "      <td>0</td>\n",
       "    </tr>\n",
       "    <tr>\n",
       "      <th>1</th>\n",
       "      <td>0</td>\n",
       "      <td>64</td>\n",
       "      <td>2</td>\n",
       "      <td>5</td>\n",
       "      <td>15</td>\n",
       "      <td>12</td>\n",
       "      <td>0</td>\n",
       "      <td>211</td>\n",
       "      <td>0</td>\n",
       "    </tr>\n",
       "    <tr>\n",
       "      <th>2</th>\n",
       "      <td>0</td>\n",
       "      <td>64</td>\n",
       "      <td>2</td>\n",
       "      <td>5</td>\n",
       "      <td>15</td>\n",
       "      <td>12</td>\n",
       "      <td>0</td>\n",
       "      <td>211</td>\n",
       "      <td>0</td>\n",
       "    </tr>\n",
       "    <tr>\n",
       "      <th>3</th>\n",
       "      <td>0</td>\n",
       "      <td>36</td>\n",
       "      <td>5</td>\n",
       "      <td>1</td>\n",
       "      <td>16</td>\n",
       "      <td>32</td>\n",
       "      <td>0</td>\n",
       "      <td>170</td>\n",
       "      <td>2</td>\n",
       "    </tr>\n",
       "    <tr>\n",
       "      <th>4</th>\n",
       "      <td>1</td>\n",
       "      <td>109</td>\n",
       "      <td>4</td>\n",
       "      <td>17</td>\n",
       "      <td>6</td>\n",
       "      <td>46</td>\n",
       "      <td>0</td>\n",
       "      <td>379</td>\n",
       "      <td>4</td>\n",
       "    </tr>\n",
       "  </tbody>\n",
       "</table>\n",
       "</div>"
      ],
      "text/plain": [
       "   Region  Metro  SiteType  DeploymentType  NIDPM  DPM  IsMainstream  \\\n",
       "0       0     64         2               5     15   12             0   \n",
       "1       0     64         2               5     15   12             0   \n",
       "2       0     64         2               5     15   12             0   \n",
       "3       0     36         5               1     16   32             0   \n",
       "4       1    109         4              17      6   46             0   \n",
       "\n",
       "   FacilityCode  ClassType  \n",
       "0           211          0  \n",
       "1           211          0  \n",
       "2           211          0  \n",
       "3           170          2  \n",
       "4           379          4  "
      ]
     },
     "execution_count": 12,
     "metadata": {},
     "output_type": "execute_result"
    }
   ],
   "source": [
    "x_encoded.head()"
   ]
  },
  {
   "cell_type": "code",
   "execution_count": 14,
   "metadata": {},
   "outputs": [],
   "source": [
    "value={'With-in SLA':1, 'Out-of SLA':0}\n",
    "y.replace(value,inplace=True)"
   ]
  },
  {
   "cell_type": "code",
   "execution_count": 15,
   "metadata": {},
   "outputs": [
    {
     "data": {
      "text/plain": [
       "1568    1\n",
       "242     0\n",
       "110     0\n",
       "378     0\n",
       "668     0\n",
       "990     1\n",
       "311     1\n",
       "83      1\n",
       "1035    1\n",
       "92      0\n",
       "Name: CT_Status, dtype: int64"
      ]
     },
     "execution_count": 15,
     "metadata": {},
     "output_type": "execute_result"
    }
   ],
   "source": [
    "y.sample(10)"
   ]
  },
  {
   "cell_type": "code",
   "execution_count": 16,
   "metadata": {},
   "outputs": [],
   "source": [
    "#Split the data into training and Testing\n",
    "from sklearn.model_selection import train_test_split\n",
    "x_train,x_val,y_train,y_val=train_test_split(x_encoded,y,test_size=0.20,random_state=100,stratify=y)"
   ]
  },
  {
   "cell_type": "code",
   "execution_count": 17,
   "metadata": {},
   "outputs": [],
   "source": [
    "from sklearn.ensemble import RandomForestClassifier, ExtraTreesRegressor\n",
    "from sklearn.model_selection import cross_val_score\n",
    "from sklearn.metrics import accuracy_score"
   ]
  },
  {
   "cell_type": "code",
   "execution_count": 26,
   "metadata": {},
   "outputs": [],
   "source": [
    "rc=RandomForestClassifier()"
   ]
  },
  {
   "cell_type": "code",
   "execution_count": 27,
   "metadata": {},
   "outputs": [],
   "source": [
    "rc_score=cross_val_score(rc,x_train,y_train,cv=5,scoring='accuracy')"
   ]
  },
  {
   "cell_type": "code",
   "execution_count": 28,
   "metadata": {
    "scrolled": false
   },
   "outputs": [
    {
     "name": "stdout",
     "output_type": "stream",
     "text": [
      "[0.77254902 0.80784314 0.81960784 0.77254902 0.74409449]\n",
      "RandomForest Score: 0.78\n"
     ]
    }
   ],
   "source": [
    "print (rc_score)\n",
    "print (\"RandomForest Score:\",np.round(rc_score.mean(),2))"
   ]
  },
  {
   "cell_type": "markdown",
   "metadata": {},
   "source": [
    "## Random Forest Classifier"
   ]
  },
  {
   "cell_type": "code",
   "execution_count": 34,
   "metadata": {},
   "outputs": [],
   "source": [
    "from sklearn.preprocessing import LabelEncoder\n",
    "le=LabelEncoder()\n",
    "x_lencoded= x.apply(le.fit_transform)"
   ]
  },
  {
   "cell_type": "code",
   "execution_count": 35,
   "metadata": {
    "scrolled": true
   },
   "outputs": [
    {
     "data": {
      "text/html": [
       "<div>\n",
       "<style scoped>\n",
       "    .dataframe tbody tr th:only-of-type {\n",
       "        vertical-align: middle;\n",
       "    }\n",
       "\n",
       "    .dataframe tbody tr th {\n",
       "        vertical-align: top;\n",
       "    }\n",
       "\n",
       "    .dataframe thead th {\n",
       "        text-align: right;\n",
       "    }\n",
       "</style>\n",
       "<table border=\"1\" class=\"dataframe\">\n",
       "  <thead>\n",
       "    <tr style=\"text-align: right;\">\n",
       "      <th></th>\n",
       "      <th>Region</th>\n",
       "      <th>Metro</th>\n",
       "      <th>SiteType</th>\n",
       "      <th>DeploymentType</th>\n",
       "      <th>NIDPM</th>\n",
       "      <th>DPM</th>\n",
       "      <th>IsMainstream</th>\n",
       "      <th>FacilityCode</th>\n",
       "      <th>ClassType</th>\n",
       "    </tr>\n",
       "  </thead>\n",
       "  <tbody>\n",
       "    <tr>\n",
       "      <th>0</th>\n",
       "      <td>0</td>\n",
       "      <td>64</td>\n",
       "      <td>2</td>\n",
       "      <td>5</td>\n",
       "      <td>15</td>\n",
       "      <td>12</td>\n",
       "      <td>0</td>\n",
       "      <td>211</td>\n",
       "      <td>0</td>\n",
       "    </tr>\n",
       "    <tr>\n",
       "      <th>1</th>\n",
       "      <td>0</td>\n",
       "      <td>64</td>\n",
       "      <td>2</td>\n",
       "      <td>5</td>\n",
       "      <td>15</td>\n",
       "      <td>12</td>\n",
       "      <td>0</td>\n",
       "      <td>211</td>\n",
       "      <td>0</td>\n",
       "    </tr>\n",
       "    <tr>\n",
       "      <th>2</th>\n",
       "      <td>0</td>\n",
       "      <td>64</td>\n",
       "      <td>2</td>\n",
       "      <td>5</td>\n",
       "      <td>15</td>\n",
       "      <td>12</td>\n",
       "      <td>0</td>\n",
       "      <td>211</td>\n",
       "      <td>0</td>\n",
       "    </tr>\n",
       "    <tr>\n",
       "      <th>3</th>\n",
       "      <td>0</td>\n",
       "      <td>36</td>\n",
       "      <td>5</td>\n",
       "      <td>1</td>\n",
       "      <td>16</td>\n",
       "      <td>32</td>\n",
       "      <td>0</td>\n",
       "      <td>170</td>\n",
       "      <td>2</td>\n",
       "    </tr>\n",
       "    <tr>\n",
       "      <th>4</th>\n",
       "      <td>1</td>\n",
       "      <td>109</td>\n",
       "      <td>4</td>\n",
       "      <td>17</td>\n",
       "      <td>6</td>\n",
       "      <td>46</td>\n",
       "      <td>0</td>\n",
       "      <td>379</td>\n",
       "      <td>4</td>\n",
       "    </tr>\n",
       "  </tbody>\n",
       "</table>\n",
       "</div>"
      ],
      "text/plain": [
       "   Region  Metro  SiteType  DeploymentType  NIDPM  DPM  IsMainstream  \\\n",
       "0       0     64         2               5     15   12             0   \n",
       "1       0     64         2               5     15   12             0   \n",
       "2       0     64         2               5     15   12             0   \n",
       "3       0     36         5               1     16   32             0   \n",
       "4       1    109         4              17      6   46             0   \n",
       "\n",
       "   FacilityCode  ClassType  \n",
       "0           211          0  \n",
       "1           211          0  \n",
       "2           211          0  \n",
       "3           170          2  \n",
       "4           379          4  "
      ]
     },
     "execution_count": 35,
     "metadata": {},
     "output_type": "execute_result"
    }
   ],
   "source": [
    "x_lencoded.head()"
   ]
  },
  {
   "cell_type": "code",
   "execution_count": 36,
   "metadata": {},
   "outputs": [],
   "source": [
    "#Split the data into training and Testing\n",
    "from sklearn.model_selection import train_test_split\n",
    "x_train1,x_val1,y_train1,y_val1=train_test_split(x_lencoded,y,test_size=0.25,random_state=100)"
   ]
  },
  {
   "cell_type": "code",
   "execution_count": 29,
   "metadata": {},
   "outputs": [],
   "source": [
    "from sklearn.model_selection import GridSearchCV"
   ]
  },
  {
   "cell_type": "code",
   "execution_count": 30,
   "metadata": {},
   "outputs": [],
   "source": [
    "def print_results(results):\n",
    "    print('BEST PARAMS: {}\\n'.format(results.best_params_))\n",
    "\n",
    "    means = results.cv_results_['mean_test_score']\n",
    "    stds = results.cv_results_['std_test_score']\n",
    "    for mean, std, params in zip(means, stds, results.cv_results_['params']):\n",
    "        print('{} (+/-{}) for {}'.format(round(mean, 3), round(std * 2, 3), params))"
   ]
  },
  {
   "cell_type": "code",
   "execution_count": 31,
   "metadata": {},
   "outputs": [
    {
     "name": "stdout",
     "output_type": "stream",
     "text": [
      "Fitting 3 folds for each of 55 candidates, totalling 165 fits\n"
     ]
    },
    {
     "name": "stderr",
     "output_type": "stream",
     "text": [
      "[Parallel(n_jobs=-1)]: Using backend LokyBackend with 4 concurrent workers.\n",
      "[Parallel(n_jobs=-1)]: Done  42 tasks      | elapsed:    8.8s\n"
     ]
    },
    {
     "name": "stdout",
     "output_type": "stream",
     "text": [
      "BEST PARAMS: {'max_depth': 25, 'n_estimators': 50}\n",
      "\n",
      "0.754 (+/-0.013) for {'max_depth': 5, 'n_estimators': 10}\n",
      "0.765 (+/-0.044) for {'max_depth': 5, 'n_estimators': 50}\n",
      "0.767 (+/-0.037) for {'max_depth': 5, 'n_estimators': 100}\n",
      "0.76 (+/-0.035) for {'max_depth': 5, 'n_estimators': 200}\n",
      "0.764 (+/-0.052) for {'max_depth': 5, 'n_estimators': 300}\n",
      "0.772 (+/-0.028) for {'max_depth': 7, 'n_estimators': 10}\n",
      "0.765 (+/-0.029) for {'max_depth': 7, 'n_estimators': 50}\n",
      "0.766 (+/-0.042) for {'max_depth': 7, 'n_estimators': 100}\n",
      "0.774 (+/-0.047) for {'max_depth': 7, 'n_estimators': 200}\n",
      "0.765 (+/-0.047) for {'max_depth': 7, 'n_estimators': 300}\n",
      "0.755 (+/-0.06) for {'max_depth': 10, 'n_estimators': 10}\n",
      "0.773 (+/-0.048) for {'max_depth': 10, 'n_estimators': 50}\n",
      "0.768 (+/-0.054) for {'max_depth': 10, 'n_estimators': 100}\n",
      "0.777 (+/-0.04) for {'max_depth': 10, 'n_estimators': 200}\n",
      "0.774 (+/-0.054) for {'max_depth': 10, 'n_estimators': 300}\n",
      "0.752 (+/-0.054) for {'max_depth': 12, 'n_estimators': 10}\n",
      "0.772 (+/-0.029) for {'max_depth': 12, 'n_estimators': 50}\n",
      "0.78 (+/-0.042) for {'max_depth': 12, 'n_estimators': 100}\n",
      "0.77 (+/-0.045) for {'max_depth': 12, 'n_estimators': 200}\n",
      "0.772 (+/-0.058) for {'max_depth': 12, 'n_estimators': 300}\n",
      "0.754 (+/-0.049) for {'max_depth': 15, 'n_estimators': 10}\n",
      "0.776 (+/-0.044) for {'max_depth': 15, 'n_estimators': 50}\n",
      "0.767 (+/-0.047) for {'max_depth': 15, 'n_estimators': 100}\n",
      "0.78 (+/-0.046) for {'max_depth': 15, 'n_estimators': 200}\n",
      "0.779 (+/-0.04) for {'max_depth': 15, 'n_estimators': 300}\n",
      "0.76 (+/-0.027) for {'max_depth': 20, 'n_estimators': 10}\n",
      "0.773 (+/-0.047) for {'max_depth': 20, 'n_estimators': 50}\n",
      "0.779 (+/-0.047) for {'max_depth': 20, 'n_estimators': 100}\n",
      "0.769 (+/-0.05) for {'max_depth': 20, 'n_estimators': 200}\n",
      "0.779 (+/-0.056) for {'max_depth': 20, 'n_estimators': 300}\n",
      "0.758 (+/-0.035) for {'max_depth': 25, 'n_estimators': 10}\n",
      "0.783 (+/-0.047) for {'max_depth': 25, 'n_estimators': 50}\n",
      "0.776 (+/-0.052) for {'max_depth': 25, 'n_estimators': 100}\n",
      "0.776 (+/-0.033) for {'max_depth': 25, 'n_estimators': 200}\n",
      "0.771 (+/-0.056) for {'max_depth': 25, 'n_estimators': 300}\n",
      "0.764 (+/-0.051) for {'max_depth': 30, 'n_estimators': 10}\n",
      "0.772 (+/-0.039) for {'max_depth': 30, 'n_estimators': 50}\n",
      "0.772 (+/-0.062) for {'max_depth': 30, 'n_estimators': 100}\n",
      "0.779 (+/-0.034) for {'max_depth': 30, 'n_estimators': 200}\n",
      "0.772 (+/-0.047) for {'max_depth': 30, 'n_estimators': 300}\n",
      "0.739 (+/-0.039) for {'max_depth': 35, 'n_estimators': 10}\n",
      "0.775 (+/-0.04) for {'max_depth': 35, 'n_estimators': 50}\n",
      "0.773 (+/-0.041) for {'max_depth': 35, 'n_estimators': 100}\n",
      "0.779 (+/-0.047) for {'max_depth': 35, 'n_estimators': 200}\n",
      "0.772 (+/-0.052) for {'max_depth': 35, 'n_estimators': 300}\n",
      "0.755 (+/-0.004) for {'max_depth': 40, 'n_estimators': 10}\n",
      "0.778 (+/-0.033) for {'max_depth': 40, 'n_estimators': 50}\n",
      "0.765 (+/-0.05) for {'max_depth': 40, 'n_estimators': 100}\n",
      "0.779 (+/-0.055) for {'max_depth': 40, 'n_estimators': 200}\n",
      "0.772 (+/-0.041) for {'max_depth': 40, 'n_estimators': 300}\n",
      "0.766 (+/-0.02) for {'max_depth': 37, 'n_estimators': 10}\n",
      "0.772 (+/-0.046) for {'max_depth': 37, 'n_estimators': 50}\n",
      "0.778 (+/-0.042) for {'max_depth': 37, 'n_estimators': 100}\n",
      "0.778 (+/-0.042) for {'max_depth': 37, 'n_estimators': 200}\n",
      "0.777 (+/-0.056) for {'max_depth': 37, 'n_estimators': 300}\n"
     ]
    },
    {
     "name": "stderr",
     "output_type": "stream",
     "text": [
      "[Parallel(n_jobs=-1)]: Done 165 out of 165 | elapsed:   26.8s finished\n"
     ]
    }
   ],
   "source": [
    "RF1 = RandomForestClassifier()\n",
    "parameters = {\n",
    "    'n_estimators': [10,50,100,200,300],\n",
    "    'max_depth': [5,7,10,12,15,20,25,30,35,40,37]\n",
    "}\n",
    "\n",
    "cv = GridSearchCV(RF1, parameters, cv=3,n_jobs = -1,verbose = 1)\n",
    "cv.fit(x_train, y_train)\n",
    "print_results(cv)"
   ]
  },
  {
   "cell_type": "code",
   "execution_count": 32,
   "metadata": {},
   "outputs": [],
   "source": [
    "rf=RandomForestClassifier(max_depth=25, n_estimators=50,class_weight='balanced')"
   ]
  },
  {
   "cell_type": "code",
   "execution_count": 33,
   "metadata": {
    "scrolled": true
   },
   "outputs": [
    {
     "data": {
      "text/plain": [
       "RandomForestClassifier(class_weight='balanced', max_depth=25, n_estimators=50)"
      ]
     },
     "execution_count": 33,
     "metadata": {},
     "output_type": "execute_result"
    }
   ],
   "source": [
    "rf.fit(x_train,y_train)"
   ]
  },
  {
   "cell_type": "code",
   "execution_count": 34,
   "metadata": {},
   "outputs": [],
   "source": [
    "prediction=rf.predict(x_val)"
   ]
  },
  {
   "cell_type": "code",
   "execution_count": 35,
   "metadata": {},
   "outputs": [],
   "source": [
    "from sklearn.metrics import classification_report,confusion_matrix"
   ]
  },
  {
   "cell_type": "code",
   "execution_count": 37,
   "metadata": {
    "scrolled": true
   },
   "outputs": [
    {
     "name": "stdout",
     "output_type": "stream",
     "text": [
      "              precision    recall  f1-score   support\n",
      "\n",
      "  Out-of SLA       0.81      0.85      0.83       178\n",
      " With-in SLA       0.80      0.74      0.77       141\n",
      "\n",
      "    accuracy                           0.80       319\n",
      "   macro avg       0.80      0.80      0.80       319\n",
      "weighted avg       0.80      0.80      0.80       319\n",
      "\n"
     ]
    }
   ],
   "source": [
    "print(classification_report(y_val,prediction))"
   ]
  },
  {
   "cell_type": "code",
   "execution_count": 38,
   "metadata": {
    "scrolled": true
   },
   "outputs": [
    {
     "name": "stdout",
     "output_type": "stream",
     "text": [
      "[[151  27]\n",
      " [ 36 105]]\n"
     ]
    }
   ],
   "source": [
    "print(confusion_matrix(y_val,prediction))"
   ]
  },
  {
   "cell_type": "code",
   "execution_count": 39,
   "metadata": {},
   "outputs": [],
   "source": [
    "importances=rf.feature_importances_"
   ]
  },
  {
   "cell_type": "code",
   "execution_count": 40,
   "metadata": {},
   "outputs": [
    {
     "name": "stdout",
     "output_type": "stream",
     "text": [
      "('Region', 0.06914668201847868)\n",
      "('Metro', 0.12472783820654353)\n",
      "('SiteType', 0.09808858707989782)\n",
      "('DeploymentType', 0.14978149106858937)\n",
      "('NIDPM', 0.1241862949745535)\n",
      "('DPM', 0.15710070209684013)\n",
      "('IsMainstream', 0.008687121808343029)\n",
      "('FacilityCode', 0.15712011033389764)\n",
      "('ClassType', 0.1111611724128563)\n"
     ]
    }
   ],
   "source": [
    "for feature in zip (x.columns, importances):\n",
    "    print (feature)"
   ]
  },
  {
   "cell_type": "code",
   "execution_count": 41,
   "metadata": {},
   "outputs": [
    {
     "data": {
      "image/png": "[encoded data removed]",
      "text/plain": [
       "<Figure size 720x360 with 1 Axes>"
      ]
     },
     "metadata": {
      "needs_background": "light"
     },
     "output_type": "display_data"
    }
   ],
   "source": [
    "# Sort feature importances in descending order\n",
    "indices = np.argsort(importances)[::-1]\n",
    "\n",
    "# Rearrange feature names so they match the sorted feature importances\n",
    "names = [x.columns[i] for i in indices]\n",
    "\n",
    "# Create plot\n",
    "plt.figure(figsize=(10,5))\n",
    "\n",
    "# Create plot title\n",
    "plt.title(\"Random_Forest_Binary_Classifier--Feature Importance\")\n",
    "\n",
    "# Add bars\n",
    "plt.bar(range(x.shape[1]), importances[indices])\n",
    "\n",
    "# Add feature names as x-axis labels\n",
    "plt.xticks(range(x.shape[1]), names, rotation=90)\n",
    "\n",
    "# Show plot\n",
    "plt.show()"
   ]
  }
 ],
 "metadata": {
  "kernelspec": {
   "display_name": "Python 3",
   "language": "python",
   "name": "python3"
  },
  "language_info": {
   "codemirror_mode": {
    "name": "ipython",
    "version": 3
   },
   "file_extension": ".py",
   "mimetype": "text/x-python",
   "name": "python",
   "nbconvert_exporter": "python",
   "pygments_lexer": "ipython3",
   "version": "3.8.5"
  }
 },
 "nbformat": 4,
 "nbformat_minor": 4
}
