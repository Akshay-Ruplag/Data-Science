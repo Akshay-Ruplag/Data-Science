{
 "cells": [
  {
   "cell_type": "code",
   "execution_count": 2,
   "metadata": {},
   "outputs": [],
   "source": [
    "#Lets first import all the nessessary libraries \n",
    "\n",
    "import pandas as pd\n",
    "import numpy as np\n",
    "import matplotlib.pyplot as plt\n",
    "import seaborn as sns\n",
    "sns.set()\n",
    "\n",
    "import warnings\n",
    "warnings.filterwarnings(action=\"ignore\",category=FutureWarning)\n",
    "warnings.filterwarnings(action=\"ignore\",category=DeprecationWarning)\n",
    "\n",
    "pd.pandas.set_option(\"display.max_rows\",None)\n",
    "pd.pandas.set_option(\"display.max_columns\",None)"
   ]
  },
  {
   "cell_type": "code",
   "execution_count": 3,
   "metadata": {},
   "outputs": [],
   "source": [
    "#Lets read the data in\n",
    "df1=pd.read_csv (\"LT_processed_data.csv\")"
   ]
  },
  {
   "cell_type": "code",
   "execution_count": 4,
   "metadata": {},
   "outputs": [
    {
     "data": {
      "text/html": [
       "<div>\n",
       "<style scoped>\n",
       "    .dataframe tbody tr th:only-of-type {\n",
       "        vertical-align: middle;\n",
       "    }\n",
       "\n",
       "    .dataframe tbody tr th {\n",
       "        vertical-align: top;\n",
       "    }\n",
       "\n",
       "    .dataframe thead th {\n",
       "        text-align: right;\n",
       "    }\n",
       "</style>\n",
       "<table border=\"1\" class=\"dataframe\">\n",
       "  <thead>\n",
       "    <tr style=\"text-align: right;\">\n",
       "      <th></th>\n",
       "      <th>NewDCFlag</th>\n",
       "      <th>NewRegionFlag</th>\n",
       "      <th>ColoReady At PlanReservationStart Flag</th>\n",
       "      <th>DeploymentSeverity</th>\n",
       "      <th>EngineeringGroup</th>\n",
       "      <th>PlanResourceTypeName</th>\n",
       "      <th>IsAddRack</th>\n",
       "      <th>IsFirstFootprint</th>\n",
       "      <th>IsMainstream</th>\n",
       "      <th>IsNPI</th>\n",
       "      <th>PlanGEO</th>\n",
       "      <th>PlanIntentName</th>\n",
       "      <th>NumberOfRacks</th>\n",
       "      <th>NumberOfServers</th>\n",
       "      <th>PlanOrderPriorityName</th>\n",
       "      <th>PlanPropertyGroupName</th>\n",
       "      <th>ProjectCategory</th>\n",
       "      <th>Region</th>\n",
       "      <th>RegionGroup</th>\n",
       "      <th>RegionType</th>\n",
       "      <th>SKU Avaliable Flag</th>\n",
       "      <th>SKUCategoryName</th>\n",
       "      <th>CT Signal to LIve</th>\n",
       "      <th>CT Signal to Dock</th>\n",
       "    </tr>\n",
       "  </thead>\n",
       "  <tbody>\n",
       "    <tr>\n",
       "      <th>0</th>\n",
       "      <td>True</td>\n",
       "      <td>False</td>\n",
       "      <td>missing</td>\n",
       "      <td>missing</td>\n",
       "      <td>Azure</td>\n",
       "      <td>Compute</td>\n",
       "      <td>missing</td>\n",
       "      <td>False</td>\n",
       "      <td>Not Mainstream</td>\n",
       "      <td>False</td>\n",
       "      <td>Asia Pacific</td>\n",
       "      <td>Growth</td>\n",
       "      <td>20</td>\n",
       "      <td>800.0</td>\n",
       "      <td>99-ZZ No Priority</td>\n",
       "      <td>Azure Compute APAC</td>\n",
       "      <td>PRD</td>\n",
       "      <td>Southeast Asia</td>\n",
       "      <td>Not Restricted</td>\n",
       "      <td>Hero</td>\n",
       "      <td>0</td>\n",
       "      <td>PreRack</td>\n",
       "      <td>124.0</td>\n",
       "      <td>31.0</td>\n",
       "    </tr>\n",
       "    <tr>\n",
       "      <th>1</th>\n",
       "      <td>False</td>\n",
       "      <td>False</td>\n",
       "      <td>missing</td>\n",
       "      <td>missing</td>\n",
       "      <td>Azure</td>\n",
       "      <td>Storage</td>\n",
       "      <td>missing</td>\n",
       "      <td>False</td>\n",
       "      <td>Not Mainstream</td>\n",
       "      <td>False</td>\n",
       "      <td>Asia Pacific</td>\n",
       "      <td>Growth</td>\n",
       "      <td>20</td>\n",
       "      <td>280.0</td>\n",
       "      <td>99-ZZ No Priority</td>\n",
       "      <td>Azure Storage APAC</td>\n",
       "      <td>PRD</td>\n",
       "      <td>Southeast Asia</td>\n",
       "      <td>Not Restricted</td>\n",
       "      <td>Hero</td>\n",
       "      <td>0</td>\n",
       "      <td>PreRack</td>\n",
       "      <td>126.0</td>\n",
       "      <td>42.0</td>\n",
       "    </tr>\n",
       "    <tr>\n",
       "      <th>2</th>\n",
       "      <td>True</td>\n",
       "      <td>False</td>\n",
       "      <td>missing</td>\n",
       "      <td>missing</td>\n",
       "      <td>Azure</td>\n",
       "      <td>Compute</td>\n",
       "      <td>missing</td>\n",
       "      <td>False</td>\n",
       "      <td>Not Mainstream</td>\n",
       "      <td>False</td>\n",
       "      <td>Europe</td>\n",
       "      <td>Growth</td>\n",
       "      <td>20</td>\n",
       "      <td>800.0</td>\n",
       "      <td>99-ZZ No Priority</td>\n",
       "      <td>Azure Compute EMEA</td>\n",
       "      <td>PRD</td>\n",
       "      <td>West Europe</td>\n",
       "      <td>Not Restricted</td>\n",
       "      <td>Hero</td>\n",
       "      <td>0</td>\n",
       "      <td>PreRack</td>\n",
       "      <td>198.0</td>\n",
       "      <td>31.0</td>\n",
       "    </tr>\n",
       "    <tr>\n",
       "      <th>3</th>\n",
       "      <td>False</td>\n",
       "      <td>False</td>\n",
       "      <td>missing</td>\n",
       "      <td>missing</td>\n",
       "      <td>Azure</td>\n",
       "      <td>XIO Compute</td>\n",
       "      <td>missing</td>\n",
       "      <td>False</td>\n",
       "      <td>Not Mainstream</td>\n",
       "      <td>False</td>\n",
       "      <td>United States</td>\n",
       "      <td>Growth</td>\n",
       "      <td>20</td>\n",
       "      <td>880.0</td>\n",
       "      <td>99-ZZ No Priority</td>\n",
       "      <td>Azure Compute US</td>\n",
       "      <td>PRD</td>\n",
       "      <td>West US</td>\n",
       "      <td>Not Restricted</td>\n",
       "      <td>Hub</td>\n",
       "      <td>0</td>\n",
       "      <td>PreRack</td>\n",
       "      <td>207.0</td>\n",
       "      <td>49.0</td>\n",
       "    </tr>\n",
       "    <tr>\n",
       "      <th>4</th>\n",
       "      <td>False</td>\n",
       "      <td>False</td>\n",
       "      <td>missing</td>\n",
       "      <td>missing</td>\n",
       "      <td>Azure</td>\n",
       "      <td>Xtransport</td>\n",
       "      <td>missing</td>\n",
       "      <td>False</td>\n",
       "      <td>Not Mainstream</td>\n",
       "      <td>False</td>\n",
       "      <td>CHINA</td>\n",
       "      <td>Growth</td>\n",
       "      <td>1</td>\n",
       "      <td>14.0</td>\n",
       "      <td>99-ZZ No Priority</td>\n",
       "      <td>Rare_var</td>\n",
       "      <td>PRD</td>\n",
       "      <td>Rare_var</td>\n",
       "      <td>Restricted</td>\n",
       "      <td>Satellite</td>\n",
       "      <td>0</td>\n",
       "      <td>PreRack</td>\n",
       "      <td>737.0</td>\n",
       "      <td>49.0</td>\n",
       "    </tr>\n",
       "  </tbody>\n",
       "</table>\n",
       "</div>"
      ],
      "text/plain": [
       "   NewDCFlag  NewRegionFlag ColoReady At PlanReservationStart Flag  \\\n",
       "0       True          False                                missing   \n",
       "1      False          False                                missing   \n",
       "2       True          False                                missing   \n",
       "3      False          False                                missing   \n",
       "4      False          False                                missing   \n",
       "\n",
       "  DeploymentSeverity EngineeringGroup PlanResourceTypeName IsAddRack  \\\n",
       "0            missing            Azure              Compute   missing   \n",
       "1            missing            Azure              Storage   missing   \n",
       "2            missing            Azure              Compute   missing   \n",
       "3            missing            Azure          XIO Compute   missing   \n",
       "4            missing            Azure           Xtransport   missing   \n",
       "\n",
       "   IsFirstFootprint    IsMainstream  IsNPI        PlanGEO PlanIntentName  \\\n",
       "0             False  Not Mainstream  False   Asia Pacific         Growth   \n",
       "1             False  Not Mainstream  False   Asia Pacific         Growth   \n",
       "2             False  Not Mainstream  False         Europe         Growth   \n",
       "3             False  Not Mainstream  False  United States         Growth   \n",
       "4             False  Not Mainstream  False          CHINA         Growth   \n",
       "\n",
       "   NumberOfRacks  NumberOfServers PlanOrderPriorityName PlanPropertyGroupName  \\\n",
       "0             20            800.0     99-ZZ No Priority    Azure Compute APAC   \n",
       "1             20            280.0     99-ZZ No Priority    Azure Storage APAC   \n",
       "2             20            800.0     99-ZZ No Priority    Azure Compute EMEA   \n",
       "3             20            880.0     99-ZZ No Priority      Azure Compute US   \n",
       "4              1             14.0     99-ZZ No Priority              Rare_var   \n",
       "\n",
       "  ProjectCategory          Region     RegionGroup RegionType  \\\n",
       "0             PRD  Southeast Asia  Not Restricted       Hero   \n",
       "1             PRD  Southeast Asia  Not Restricted       Hero   \n",
       "2             PRD     West Europe  Not Restricted       Hero   \n",
       "3             PRD         West US  Not Restricted        Hub   \n",
       "4             PRD        Rare_var      Restricted  Satellite   \n",
       "\n",
       "   SKU Avaliable Flag SKUCategoryName  CT Signal to LIve  CT Signal to Dock  \n",
       "0                   0         PreRack              124.0               31.0  \n",
       "1                   0         PreRack              126.0               42.0  \n",
       "2                   0         PreRack              198.0               31.0  \n",
       "3                   0         PreRack              207.0               49.0  \n",
       "4                   0         PreRack              737.0               49.0  "
      ]
     },
     "execution_count": 4,
     "metadata": {},
     "output_type": "execute_result"
    }
   ],
   "source": [
    "df1.head()"
   ]
  },
  {
   "cell_type": "code",
   "execution_count": 5,
   "metadata": {},
   "outputs": [],
   "source": [
    "#As per the observations in EDA, we are going to drop-IsMainstream,ProjectCategory,NewRegionFlag, since it contains a single catogory\n",
    "df1.drop([\"NewRegionFlag\",\"IsMainstream\",\"ProjectCategory\"],axis=1,inplace=True)"
   ]
  },
  {
   "cell_type": "code",
   "execution_count": 6,
   "metadata": {},
   "outputs": [],
   "source": [
    "#Since we already dealt with EDA and Feature Engineering, we will just check the summary\n",
    "#Fuction to see the summary of the data\n",
    "def summary_table(df):\n",
    "    print(f\"Dataset Shape: {df.shape}\")\n",
    "    #print(\"Total Columns in the Dataset:\", df1.columns.nunique())\n",
    "    summary = pd.DataFrame(df.dtypes,columns=['dtypes'])\n",
    "    summary = summary.reset_index()\n",
    "    summary['Name'] = summary['index']\n",
    "    summary = summary[['Name','dtypes']]\n",
    "    summary['Missing Values'] = df.isnull().sum().values\n",
    "    summary['Uniques Values'] = df.nunique().values\n",
    "  \n",
    "    return summary"
   ]
  },
  {
   "cell_type": "code",
   "execution_count": 7,
   "metadata": {},
   "outputs": [
    {
     "name": "stdout",
     "output_type": "stream",
     "text": [
      "Dataset Shape: (1124, 21)\n"
     ]
    },
    {
     "data": {
      "text/html": [
       "<div>\n",
       "<style scoped>\n",
       "    .dataframe tbody tr th:only-of-type {\n",
       "        vertical-align: middle;\n",
       "    }\n",
       "\n",
       "    .dataframe tbody tr th {\n",
       "        vertical-align: top;\n",
       "    }\n",
       "\n",
       "    .dataframe thead th {\n",
       "        text-align: right;\n",
       "    }\n",
       "</style>\n",
       "<table border=\"1\" class=\"dataframe\">\n",
       "  <thead>\n",
       "    <tr style=\"text-align: right;\">\n",
       "      <th></th>\n",
       "      <th>Name</th>\n",
       "      <th>dtypes</th>\n",
       "      <th>Missing Values</th>\n",
       "      <th>Uniques Values</th>\n",
       "    </tr>\n",
       "  </thead>\n",
       "  <tbody>\n",
       "    <tr>\n",
       "      <th>0</th>\n",
       "      <td>NewDCFlag</td>\n",
       "      <td>bool</td>\n",
       "      <td>0</td>\n",
       "      <td>2</td>\n",
       "    </tr>\n",
       "    <tr>\n",
       "      <th>1</th>\n",
       "      <td>ColoReady At PlanReservationStart Flag</td>\n",
       "      <td>object</td>\n",
       "      <td>0</td>\n",
       "      <td>3</td>\n",
       "    </tr>\n",
       "    <tr>\n",
       "      <th>2</th>\n",
       "      <td>DeploymentSeverity</td>\n",
       "      <td>object</td>\n",
       "      <td>0</td>\n",
       "      <td>4</td>\n",
       "    </tr>\n",
       "    <tr>\n",
       "      <th>3</th>\n",
       "      <td>EngineeringGroup</td>\n",
       "      <td>object</td>\n",
       "      <td>0</td>\n",
       "      <td>6</td>\n",
       "    </tr>\n",
       "    <tr>\n",
       "      <th>4</th>\n",
       "      <td>PlanResourceTypeName</td>\n",
       "      <td>object</td>\n",
       "      <td>0</td>\n",
       "      <td>31</td>\n",
       "    </tr>\n",
       "    <tr>\n",
       "      <th>5</th>\n",
       "      <td>IsAddRack</td>\n",
       "      <td>object</td>\n",
       "      <td>0</td>\n",
       "      <td>3</td>\n",
       "    </tr>\n",
       "    <tr>\n",
       "      <th>6</th>\n",
       "      <td>IsFirstFootprint</td>\n",
       "      <td>bool</td>\n",
       "      <td>0</td>\n",
       "      <td>2</td>\n",
       "    </tr>\n",
       "    <tr>\n",
       "      <th>7</th>\n",
       "      <td>IsNPI</td>\n",
       "      <td>bool</td>\n",
       "      <td>0</td>\n",
       "      <td>2</td>\n",
       "    </tr>\n",
       "    <tr>\n",
       "      <th>8</th>\n",
       "      <td>PlanGEO</td>\n",
       "      <td>object</td>\n",
       "      <td>0</td>\n",
       "      <td>14</td>\n",
       "    </tr>\n",
       "    <tr>\n",
       "      <th>9</th>\n",
       "      <td>PlanIntentName</td>\n",
       "      <td>object</td>\n",
       "      <td>0</td>\n",
       "      <td>7</td>\n",
       "    </tr>\n",
       "    <tr>\n",
       "      <th>10</th>\n",
       "      <td>NumberOfRacks</td>\n",
       "      <td>int64</td>\n",
       "      <td>0</td>\n",
       "      <td>26</td>\n",
       "    </tr>\n",
       "    <tr>\n",
       "      <th>11</th>\n",
       "      <td>NumberOfServers</td>\n",
       "      <td>float64</td>\n",
       "      <td>0</td>\n",
       "      <td>123</td>\n",
       "    </tr>\n",
       "    <tr>\n",
       "      <th>12</th>\n",
       "      <td>PlanOrderPriorityName</td>\n",
       "      <td>object</td>\n",
       "      <td>0</td>\n",
       "      <td>4</td>\n",
       "    </tr>\n",
       "    <tr>\n",
       "      <th>13</th>\n",
       "      <td>PlanPropertyGroupName</td>\n",
       "      <td>object</td>\n",
       "      <td>0</td>\n",
       "      <td>19</td>\n",
       "    </tr>\n",
       "    <tr>\n",
       "      <th>14</th>\n",
       "      <td>Region</td>\n",
       "      <td>object</td>\n",
       "      <td>0</td>\n",
       "      <td>21</td>\n",
       "    </tr>\n",
       "    <tr>\n",
       "      <th>15</th>\n",
       "      <td>RegionGroup</td>\n",
       "      <td>object</td>\n",
       "      <td>0</td>\n",
       "      <td>3</td>\n",
       "    </tr>\n",
       "    <tr>\n",
       "      <th>16</th>\n",
       "      <td>RegionType</td>\n",
       "      <td>object</td>\n",
       "      <td>0</td>\n",
       "      <td>3</td>\n",
       "    </tr>\n",
       "    <tr>\n",
       "      <th>17</th>\n",
       "      <td>SKU Avaliable Flag</td>\n",
       "      <td>int64</td>\n",
       "      <td>0</td>\n",
       "      <td>2</td>\n",
       "    </tr>\n",
       "    <tr>\n",
       "      <th>18</th>\n",
       "      <td>SKUCategoryName</td>\n",
       "      <td>object</td>\n",
       "      <td>0</td>\n",
       "      <td>3</td>\n",
       "    </tr>\n",
       "    <tr>\n",
       "      <th>19</th>\n",
       "      <td>CT Signal to LIve</td>\n",
       "      <td>float64</td>\n",
       "      <td>0</td>\n",
       "      <td>314</td>\n",
       "    </tr>\n",
       "    <tr>\n",
       "      <th>20</th>\n",
       "      <td>CT Signal to Dock</td>\n",
       "      <td>float64</td>\n",
       "      <td>0</td>\n",
       "      <td>184</td>\n",
       "    </tr>\n",
       "  </tbody>\n",
       "</table>\n",
       "</div>"
      ],
      "text/plain": [
       "                                      Name   dtypes  Missing Values  \\\n",
       "0                                NewDCFlag     bool               0   \n",
       "1   ColoReady At PlanReservationStart Flag   object               0   \n",
       "2                       DeploymentSeverity   object               0   \n",
       "3                         EngineeringGroup   object               0   \n",
       "4                     PlanResourceTypeName   object               0   \n",
       "5                                IsAddRack   object               0   \n",
       "6                         IsFirstFootprint     bool               0   \n",
       "7                                    IsNPI     bool               0   \n",
       "8                                  PlanGEO   object               0   \n",
       "9                           PlanIntentName   object               0   \n",
       "10                           NumberOfRacks    int64               0   \n",
       "11                         NumberOfServers  float64               0   \n",
       "12                   PlanOrderPriorityName   object               0   \n",
       "13                   PlanPropertyGroupName   object               0   \n",
       "14                                  Region   object               0   \n",
       "15                             RegionGroup   object               0   \n",
       "16                              RegionType   object               0   \n",
       "17                      SKU Avaliable Flag    int64               0   \n",
       "18                         SKUCategoryName   object               0   \n",
       "19                       CT Signal to LIve  float64               0   \n",
       "20                       CT Signal to Dock  float64               0   \n",
       "\n",
       "    Uniques Values  \n",
       "0                2  \n",
       "1                3  \n",
       "2                4  \n",
       "3                6  \n",
       "4               31  \n",
       "5                3  \n",
       "6                2  \n",
       "7                2  \n",
       "8               14  \n",
       "9                7  \n",
       "10              26  \n",
       "11             123  \n",
       "12               4  \n",
       "13              19  \n",
       "14              21  \n",
       "15               3  \n",
       "16               3  \n",
       "17               2  \n",
       "18               3  \n",
       "19             314  \n",
       "20             184  "
      ]
     },
     "execution_count": 7,
     "metadata": {},
     "output_type": "execute_result"
    }
   ],
   "source": [
    "summary_table(df1)"
   ]
  },
  {
   "cell_type": "code",
   "execution_count": 8,
   "metadata": {},
   "outputs": [],
   "source": [
    "#Lets fix the datatypes of each feature (Convert Bool type as Object type)\n",
    "bool_features_list= [feature for feature in df1.columns if df1[feature].dtype ==\"bool\"]\n",
    "bool_features_list\n",
    "\n",
    "df1[bool_features_list] = df1[bool_features_list].astype('object')"
   ]
  },
  {
   "cell_type": "code",
   "execution_count": 9,
   "metadata": {
    "scrolled": true
   },
   "outputs": [
    {
     "data": {
      "text/plain": [
       "['NewDCFlag',\n",
       " 'ColoReady At PlanReservationStart Flag',\n",
       " 'DeploymentSeverity',\n",
       " 'EngineeringGroup',\n",
       " 'PlanResourceTypeName',\n",
       " 'IsAddRack',\n",
       " 'IsFirstFootprint',\n",
       " 'IsNPI',\n",
       " 'PlanGEO',\n",
       " 'PlanIntentName',\n",
       " 'PlanOrderPriorityName',\n",
       " 'PlanPropertyGroupName',\n",
       " 'Region',\n",
       " 'RegionGroup',\n",
       " 'RegionType',\n",
       " 'SKUCategoryName',\n",
       " 'SKU Avaliable Flag']"
      ]
     },
     "execution_count": 9,
     "metadata": {},
     "output_type": "execute_result"
    }
   ],
   "source": [
    "categorical_features_list= [feature for feature in df1.columns if df1[feature].dtype ==\"object\"]\n",
    "aditional= ['SKU Avaliable Flag']\n",
    "categorical_features_list=categorical_features_list+ aditional\n",
    "categorical_features_list"
   ]
  },
  {
   "cell_type": "code",
   "execution_count": 10,
   "metadata": {},
   "outputs": [],
   "source": [
    "#Expect DeploymentSeverity feature, all other are nominal. Only DeploymentSeverity is Ordinal \n",
    "#So lets use Lable encoder for DeploymentSeverity\n",
    "\n",
    "d = {'missing':5,'high':2, 'medium':3,'low':4 }\n",
    "df1[\"DeploymentSeverity\"] = df1[\"DeploymentSeverity\"].replace(d)"
   ]
  },
  {
   "cell_type": "code",
   "execution_count": 11,
   "metadata": {},
   "outputs": [],
   "source": [
    "df2=df1.copy()"
   ]
  },
  {
   "cell_type": "code",
   "execution_count": 12,
   "metadata": {},
   "outputs": [
    {
     "data": {
      "text/html": [
       "<div>\n",
       "<style scoped>\n",
       "    .dataframe tbody tr th:only-of-type {\n",
       "        vertical-align: middle;\n",
       "    }\n",
       "\n",
       "    .dataframe tbody tr th {\n",
       "        vertical-align: top;\n",
       "    }\n",
       "\n",
       "    .dataframe thead th {\n",
       "        text-align: right;\n",
       "    }\n",
       "</style>\n",
       "<table border=\"1\" class=\"dataframe\">\n",
       "  <thead>\n",
       "    <tr style=\"text-align: right;\">\n",
       "      <th></th>\n",
       "      <th>NewDCFlag</th>\n",
       "      <th>ColoReady At PlanReservationStart Flag</th>\n",
       "      <th>DeploymentSeverity</th>\n",
       "      <th>EngineeringGroup</th>\n",
       "      <th>PlanResourceTypeName</th>\n",
       "      <th>IsAddRack</th>\n",
       "      <th>IsFirstFootprint</th>\n",
       "      <th>IsNPI</th>\n",
       "      <th>PlanGEO</th>\n",
       "      <th>PlanIntentName</th>\n",
       "      <th>NumberOfRacks</th>\n",
       "      <th>NumberOfServers</th>\n",
       "      <th>PlanOrderPriorityName</th>\n",
       "      <th>PlanPropertyGroupName</th>\n",
       "      <th>Region</th>\n",
       "      <th>RegionGroup</th>\n",
       "      <th>RegionType</th>\n",
       "      <th>SKU Avaliable Flag</th>\n",
       "      <th>SKUCategoryName</th>\n",
       "      <th>CT Signal to LIve</th>\n",
       "      <th>CT Signal to Dock</th>\n",
       "    </tr>\n",
       "  </thead>\n",
       "  <tbody>\n",
       "    <tr>\n",
       "      <th>0</th>\n",
       "      <td>True</td>\n",
       "      <td>missing</td>\n",
       "      <td>5</td>\n",
       "      <td>Azure</td>\n",
       "      <td>Compute</td>\n",
       "      <td>missing</td>\n",
       "      <td>False</td>\n",
       "      <td>False</td>\n",
       "      <td>Asia Pacific</td>\n",
       "      <td>Growth</td>\n",
       "      <td>20</td>\n",
       "      <td>800.0</td>\n",
       "      <td>99-ZZ No Priority</td>\n",
       "      <td>Azure Compute APAC</td>\n",
       "      <td>Southeast Asia</td>\n",
       "      <td>Not Restricted</td>\n",
       "      <td>Hero</td>\n",
       "      <td>0</td>\n",
       "      <td>PreRack</td>\n",
       "      <td>124.0</td>\n",
       "      <td>31.0</td>\n",
       "    </tr>\n",
       "    <tr>\n",
       "      <th>1</th>\n",
       "      <td>False</td>\n",
       "      <td>missing</td>\n",
       "      <td>5</td>\n",
       "      <td>Azure</td>\n",
       "      <td>Storage</td>\n",
       "      <td>missing</td>\n",
       "      <td>False</td>\n",
       "      <td>False</td>\n",
       "      <td>Asia Pacific</td>\n",
       "      <td>Growth</td>\n",
       "      <td>20</td>\n",
       "      <td>280.0</td>\n",
       "      <td>99-ZZ No Priority</td>\n",
       "      <td>Azure Storage APAC</td>\n",
       "      <td>Southeast Asia</td>\n",
       "      <td>Not Restricted</td>\n",
       "      <td>Hero</td>\n",
       "      <td>0</td>\n",
       "      <td>PreRack</td>\n",
       "      <td>126.0</td>\n",
       "      <td>42.0</td>\n",
       "    </tr>\n",
       "    <tr>\n",
       "      <th>2</th>\n",
       "      <td>True</td>\n",
       "      <td>missing</td>\n",
       "      <td>5</td>\n",
       "      <td>Azure</td>\n",
       "      <td>Compute</td>\n",
       "      <td>missing</td>\n",
       "      <td>False</td>\n",
       "      <td>False</td>\n",
       "      <td>Europe</td>\n",
       "      <td>Growth</td>\n",
       "      <td>20</td>\n",
       "      <td>800.0</td>\n",
       "      <td>99-ZZ No Priority</td>\n",
       "      <td>Azure Compute EMEA</td>\n",
       "      <td>West Europe</td>\n",
       "      <td>Not Restricted</td>\n",
       "      <td>Hero</td>\n",
       "      <td>0</td>\n",
       "      <td>PreRack</td>\n",
       "      <td>198.0</td>\n",
       "      <td>31.0</td>\n",
       "    </tr>\n",
       "    <tr>\n",
       "      <th>3</th>\n",
       "      <td>False</td>\n",
       "      <td>missing</td>\n",
       "      <td>5</td>\n",
       "      <td>Azure</td>\n",
       "      <td>XIO Compute</td>\n",
       "      <td>missing</td>\n",
       "      <td>False</td>\n",
       "      <td>False</td>\n",
       "      <td>United States</td>\n",
       "      <td>Growth</td>\n",
       "      <td>20</td>\n",
       "      <td>880.0</td>\n",
       "      <td>99-ZZ No Priority</td>\n",
       "      <td>Azure Compute US</td>\n",
       "      <td>West US</td>\n",
       "      <td>Not Restricted</td>\n",
       "      <td>Hub</td>\n",
       "      <td>0</td>\n",
       "      <td>PreRack</td>\n",
       "      <td>207.0</td>\n",
       "      <td>49.0</td>\n",
       "    </tr>\n",
       "    <tr>\n",
       "      <th>4</th>\n",
       "      <td>False</td>\n",
       "      <td>missing</td>\n",
       "      <td>5</td>\n",
       "      <td>Azure</td>\n",
       "      <td>Xtransport</td>\n",
       "      <td>missing</td>\n",
       "      <td>False</td>\n",
       "      <td>False</td>\n",
       "      <td>CHINA</td>\n",
       "      <td>Growth</td>\n",
       "      <td>1</td>\n",
       "      <td>14.0</td>\n",
       "      <td>99-ZZ No Priority</td>\n",
       "      <td>Rare_var</td>\n",
       "      <td>Rare_var</td>\n",
       "      <td>Restricted</td>\n",
       "      <td>Satellite</td>\n",
       "      <td>0</td>\n",
       "      <td>PreRack</td>\n",
       "      <td>737.0</td>\n",
       "      <td>49.0</td>\n",
       "    </tr>\n",
       "  </tbody>\n",
       "</table>\n",
       "</div>"
      ],
      "text/plain": [
       "  NewDCFlag ColoReady At PlanReservationStart Flag  DeploymentSeverity  \\\n",
       "0      True                                missing                   5   \n",
       "1     False                                missing                   5   \n",
       "2      True                                missing                   5   \n",
       "3     False                                missing                   5   \n",
       "4     False                                missing                   5   \n",
       "\n",
       "  EngineeringGroup PlanResourceTypeName IsAddRack IsFirstFootprint  IsNPI  \\\n",
       "0            Azure              Compute   missing            False  False   \n",
       "1            Azure              Storage   missing            False  False   \n",
       "2            Azure              Compute   missing            False  False   \n",
       "3            Azure          XIO Compute   missing            False  False   \n",
       "4            Azure           Xtransport   missing            False  False   \n",
       "\n",
       "         PlanGEO PlanIntentName  NumberOfRacks  NumberOfServers  \\\n",
       "0   Asia Pacific         Growth             20            800.0   \n",
       "1   Asia Pacific         Growth             20            280.0   \n",
       "2         Europe         Growth             20            800.0   \n",
       "3  United States         Growth             20            880.0   \n",
       "4          CHINA         Growth              1             14.0   \n",
       "\n",
       "  PlanOrderPriorityName PlanPropertyGroupName          Region     RegionGroup  \\\n",
       "0     99-ZZ No Priority    Azure Compute APAC  Southeast Asia  Not Restricted   \n",
       "1     99-ZZ No Priority    Azure Storage APAC  Southeast Asia  Not Restricted   \n",
       "2     99-ZZ No Priority    Azure Compute EMEA     West Europe  Not Restricted   \n",
       "3     99-ZZ No Priority      Azure Compute US         West US  Not Restricted   \n",
       "4     99-ZZ No Priority              Rare_var        Rare_var      Restricted   \n",
       "\n",
       "  RegionType  SKU Avaliable Flag SKUCategoryName  CT Signal to LIve  \\\n",
       "0       Hero                   0         PreRack              124.0   \n",
       "1       Hero                   0         PreRack              126.0   \n",
       "2       Hero                   0         PreRack              198.0   \n",
       "3        Hub                   0         PreRack              207.0   \n",
       "4  Satellite                   0         PreRack              737.0   \n",
       "\n",
       "   CT Signal to Dock  \n",
       "0               31.0  \n",
       "1               42.0  \n",
       "2               31.0  \n",
       "3               49.0  \n",
       "4               49.0  "
      ]
     },
     "execution_count": 12,
     "metadata": {},
     "output_type": "execute_result"
    }
   ],
   "source": [
    "df2.head()"
   ]
  },
  {
   "cell_type": "code",
   "execution_count": 13,
   "metadata": {},
   "outputs": [],
   "source": [
    "#Lest label encode the catogorical variables\n",
    "from sklearn.preprocessing import LabelEncoder\n",
    "le=LabelEncoder()\n",
    "df2[categorical_features_list]=df2[categorical_features_list].apply(le.fit_transform)"
   ]
  },
  {
   "cell_type": "code",
   "execution_count": 14,
   "metadata": {},
   "outputs": [
    {
     "data": {
      "text/html": [
       "<div>\n",
       "<style scoped>\n",
       "    .dataframe tbody tr th:only-of-type {\n",
       "        vertical-align: middle;\n",
       "    }\n",
       "\n",
       "    .dataframe tbody tr th {\n",
       "        vertical-align: top;\n",
       "    }\n",
       "\n",
       "    .dataframe thead th {\n",
       "        text-align: right;\n",
       "    }\n",
       "</style>\n",
       "<table border=\"1\" class=\"dataframe\">\n",
       "  <thead>\n",
       "    <tr style=\"text-align: right;\">\n",
       "      <th></th>\n",
       "      <th>NewDCFlag</th>\n",
       "      <th>ColoReady At PlanReservationStart Flag</th>\n",
       "      <th>DeploymentSeverity</th>\n",
       "      <th>EngineeringGroup</th>\n",
       "      <th>PlanResourceTypeName</th>\n",
       "      <th>IsAddRack</th>\n",
       "      <th>IsFirstFootprint</th>\n",
       "      <th>IsNPI</th>\n",
       "      <th>PlanGEO</th>\n",
       "      <th>PlanIntentName</th>\n",
       "      <th>NumberOfRacks</th>\n",
       "      <th>NumberOfServers</th>\n",
       "      <th>PlanOrderPriorityName</th>\n",
       "      <th>PlanPropertyGroupName</th>\n",
       "      <th>Region</th>\n",
       "      <th>RegionGroup</th>\n",
       "      <th>RegionType</th>\n",
       "      <th>SKU Avaliable Flag</th>\n",
       "      <th>SKUCategoryName</th>\n",
       "      <th>CT Signal to LIve</th>\n",
       "      <th>CT Signal to Dock</th>\n",
       "    </tr>\n",
       "  </thead>\n",
       "  <tbody>\n",
       "    <tr>\n",
       "      <th>0</th>\n",
       "      <td>1</td>\n",
       "      <td>2</td>\n",
       "      <td>3</td>\n",
       "      <td>0</td>\n",
       "      <td>7</td>\n",
       "      <td>2</td>\n",
       "      <td>0</td>\n",
       "      <td>0</td>\n",
       "      <td>1</td>\n",
       "      <td>1</td>\n",
       "      <td>20</td>\n",
       "      <td>800.0</td>\n",
       "      <td>2</td>\n",
       "      <td>2</td>\n",
       "      <td>13</td>\n",
       "      <td>0</td>\n",
       "      <td>0</td>\n",
       "      <td>0</td>\n",
       "      <td>0</td>\n",
       "      <td>124.0</td>\n",
       "      <td>31.0</td>\n",
       "    </tr>\n",
       "    <tr>\n",
       "      <th>1</th>\n",
       "      <td>0</td>\n",
       "      <td>2</td>\n",
       "      <td>3</td>\n",
       "      <td>0</td>\n",
       "      <td>24</td>\n",
       "      <td>2</td>\n",
       "      <td>0</td>\n",
       "      <td>0</td>\n",
       "      <td>1</td>\n",
       "      <td>1</td>\n",
       "      <td>20</td>\n",
       "      <td>280.0</td>\n",
       "      <td>2</td>\n",
       "      <td>8</td>\n",
       "      <td>13</td>\n",
       "      <td>0</td>\n",
       "      <td>0</td>\n",
       "      <td>0</td>\n",
       "      <td>0</td>\n",
       "      <td>126.0</td>\n",
       "      <td>42.0</td>\n",
       "    </tr>\n",
       "    <tr>\n",
       "      <th>2</th>\n",
       "      <td>1</td>\n",
       "      <td>2</td>\n",
       "      <td>3</td>\n",
       "      <td>0</td>\n",
       "      <td>7</td>\n",
       "      <td>2</td>\n",
       "      <td>0</td>\n",
       "      <td>0</td>\n",
       "      <td>5</td>\n",
       "      <td>1</td>\n",
       "      <td>20</td>\n",
       "      <td>800.0</td>\n",
       "      <td>2</td>\n",
       "      <td>3</td>\n",
       "      <td>18</td>\n",
       "      <td>0</td>\n",
       "      <td>0</td>\n",
       "      <td>0</td>\n",
       "      <td>0</td>\n",
       "      <td>198.0</td>\n",
       "      <td>31.0</td>\n",
       "    </tr>\n",
       "    <tr>\n",
       "      <th>3</th>\n",
       "      <td>0</td>\n",
       "      <td>2</td>\n",
       "      <td>3</td>\n",
       "      <td>0</td>\n",
       "      <td>26</td>\n",
       "      <td>2</td>\n",
       "      <td>0</td>\n",
       "      <td>0</td>\n",
       "      <td>13</td>\n",
       "      <td>1</td>\n",
       "      <td>20</td>\n",
       "      <td>880.0</td>\n",
       "      <td>2</td>\n",
       "      <td>4</td>\n",
       "      <td>19</td>\n",
       "      <td>0</td>\n",
       "      <td>1</td>\n",
       "      <td>0</td>\n",
       "      <td>0</td>\n",
       "      <td>207.0</td>\n",
       "      <td>49.0</td>\n",
       "    </tr>\n",
       "    <tr>\n",
       "      <th>4</th>\n",
       "      <td>0</td>\n",
       "      <td>2</td>\n",
       "      <td>3</td>\n",
       "      <td>0</td>\n",
       "      <td>30</td>\n",
       "      <td>2</td>\n",
       "      <td>0</td>\n",
       "      <td>0</td>\n",
       "      <td>3</td>\n",
       "      <td>1</td>\n",
       "      <td>1</td>\n",
       "      <td>14.0</td>\n",
       "      <td>2</td>\n",
       "      <td>14</td>\n",
       "      <td>11</td>\n",
       "      <td>2</td>\n",
       "      <td>2</td>\n",
       "      <td>0</td>\n",
       "      <td>0</td>\n",
       "      <td>737.0</td>\n",
       "      <td>49.0</td>\n",
       "    </tr>\n",
       "  </tbody>\n",
       "</table>\n",
       "</div>"
      ],
      "text/plain": [
       "   NewDCFlag  ColoReady At PlanReservationStart Flag  DeploymentSeverity  \\\n",
       "0          1                                       2                   3   \n",
       "1          0                                       2                   3   \n",
       "2          1                                       2                   3   \n",
       "3          0                                       2                   3   \n",
       "4          0                                       2                   3   \n",
       "\n",
       "   EngineeringGroup  PlanResourceTypeName  IsAddRack  IsFirstFootprint  IsNPI  \\\n",
       "0                 0                     7          2                 0      0   \n",
       "1                 0                    24          2                 0      0   \n",
       "2                 0                     7          2                 0      0   \n",
       "3                 0                    26          2                 0      0   \n",
       "4                 0                    30          2                 0      0   \n",
       "\n",
       "   PlanGEO  PlanIntentName  NumberOfRacks  NumberOfServers  \\\n",
       "0        1               1             20            800.0   \n",
       "1        1               1             20            280.0   \n",
       "2        5               1             20            800.0   \n",
       "3       13               1             20            880.0   \n",
       "4        3               1              1             14.0   \n",
       "\n",
       "   PlanOrderPriorityName  PlanPropertyGroupName  Region  RegionGroup  \\\n",
       "0                      2                      2      13            0   \n",
       "1                      2                      8      13            0   \n",
       "2                      2                      3      18            0   \n",
       "3                      2                      4      19            0   \n",
       "4                      2                     14      11            2   \n",
       "\n",
       "   RegionType  SKU Avaliable Flag  SKUCategoryName  CT Signal to LIve  \\\n",
       "0           0                   0                0              124.0   \n",
       "1           0                   0                0              126.0   \n",
       "2           0                   0                0              198.0   \n",
       "3           1                   0                0              207.0   \n",
       "4           2                   0                0              737.0   \n",
       "\n",
       "   CT Signal to Dock  \n",
       "0               31.0  \n",
       "1               42.0  \n",
       "2               31.0  \n",
       "3               49.0  \n",
       "4               49.0  "
      ]
     },
     "execution_count": 14,
     "metadata": {},
     "output_type": "execute_result"
    }
   ],
   "source": [
    "df2.head()"
   ]
  },
  {
   "cell_type": "code",
   "execution_count": 15,
   "metadata": {},
   "outputs": [],
   "source": [
    "#lets define our predictors and outcome (Target)\n",
    "x=df2.drop([\"CT Signal to LIve\"],axis=1)\n",
    "y=df2[\"CT Signal to LIve\"]"
   ]
  },
  {
   "cell_type": "code",
   "execution_count": 16,
   "metadata": {},
   "outputs": [
    {
     "data": {
      "text/plain": [
       "ExtraTreesRegressor(bootstrap=False, ccp_alpha=0.0, criterion='mse',\n",
       "                    max_depth=None, max_features='auto', max_leaf_nodes=None,\n",
       "                    max_samples=None, min_impurity_decrease=0.0,\n",
       "                    min_impurity_split=None, min_samples_leaf=1,\n",
       "                    min_samples_split=2, min_weight_fraction_leaf=0.0,\n",
       "                    n_estimators=100, n_jobs=None, oob_score=False,\n",
       "                    random_state=None, verbose=0, warm_start=False)"
      ]
     },
     "execution_count": 16,
     "metadata": {},
     "output_type": "execute_result"
    }
   ],
   "source": [
    "# Important feature using ExtraTreesRegressor\n",
    "from sklearn.ensemble import ExtraTreesRegressor\n",
    "selection = ExtraTreesRegressor()\n",
    "selection.fit(x, y)"
   ]
  },
  {
   "cell_type": "code",
   "execution_count": 17,
   "metadata": {},
   "outputs": [
    {
     "data": {
      "image/png": "[encoded data removed]",
      "text/plain": [
       "<Figure size 864x576 with 1 Axes>"
      ]
     },
     "metadata": {},
     "output_type": "display_data"
    }
   ],
   "source": [
    "#plot graph of feature importances for better visualization\n",
    "plt.figure(figsize = (12,8))\n",
    "feat_importances = pd.Series(selection.feature_importances_, index=x.columns)\n",
    "feat_importances.nlargest(20).plot(kind='barh')\n",
    "plt.show()"
   ]
  },
  {
   "cell_type": "code",
   "execution_count": 18,
   "metadata": {},
   "outputs": [],
   "source": [
    "#Lets split our data into training and testing sets. random_state is the seed used by the random number generator. It can be any integer.\n",
    "from sklearn.model_selection import train_test_split\n",
    "x_train,x_test,y_train,y_test=train_test_split(x,y,test_size=0.25,random_state=100)"
   ]
  },
  {
   "cell_type": "code",
   "execution_count": 19,
   "metadata": {},
   "outputs": [],
   "source": [
    "#lest import RFR\n",
    "from sklearn.ensemble import RandomForestRegressor\n",
    "RFR=RandomForestRegressor() #lets keep all the parmeters to default as of now"
   ]
  },
  {
   "cell_type": "code",
   "execution_count": 20,
   "metadata": {},
   "outputs": [
    {
     "data": {
      "text/plain": [
       "RandomForestRegressor(bootstrap=True, ccp_alpha=0.0, criterion='mse',\n",
       "                      max_depth=None, max_features='auto', max_leaf_nodes=None,\n",
       "                      max_samples=None, min_impurity_decrease=0.0,\n",
       "                      min_impurity_split=None, min_samples_leaf=1,\n",
       "                      min_samples_split=2, min_weight_fraction_leaf=0.0,\n",
       "                      n_estimators=100, n_jobs=None, oob_score=False,\n",
       "                      random_state=None, verbose=0, warm_start=False)"
      ]
     },
     "execution_count": 20,
     "metadata": {},
     "output_type": "execute_result"
    }
   ],
   "source": [
    "RFR.fit(x_train,y_train)"
   ]
  },
  {
   "cell_type": "code",
   "execution_count": 21,
   "metadata": {},
   "outputs": [],
   "source": [
    "#Predictions \n",
    "pred=RFR.predict(x_test)"
   ]
  },
  {
   "cell_type": "code",
   "execution_count": 22,
   "metadata": {},
   "outputs": [],
   "source": [
    "# Lets evaluate our results (compairing y_test with the pred)\n",
    "from sklearn.metrics import mean_absolute_error,mean_squared_error, r2_score"
   ]
  },
  {
   "cell_type": "code",
   "execution_count": 23,
   "metadata": {},
   "outputs": [],
   "source": [
    "#Error calculation\n",
    "RMSE = np.sqrt(mean_squared_error(y_test, pred))\n",
    "MAE = mean_absolute_error(y_test, pred)\n",
    "r_squre= r2_score(y_test, pred)"
   ]
  },
  {
   "cell_type": "code",
   "execution_count": 24,
   "metadata": {},
   "outputs": [
    {
     "name": "stdout",
     "output_type": "stream",
     "text": [
      "RMSE : 66.00561668045768\n",
      "MAE: 40.64815887137773\n",
      "r_square: 0.570620943740268\n"
     ]
    }
   ],
   "source": [
    "print('RMSE :',RMSE) \n",
    "print('MAE:', MAE)\n",
    "print(\"r_square:\",r_squre) "
   ]
  },
  {
   "cell_type": "code",
   "execution_count": 25,
   "metadata": {},
   "outputs": [
    {
     "name": "stdout",
     "output_type": "stream",
     "text": [
      "('NewDCFlag', 0.009738966264680602)\n",
      "('ColoReady At PlanReservationStart Flag', 0.01649903011299643)\n",
      "('DeploymentSeverity', 0.018066714938261688)\n",
      "('EngineeringGroup', 0.007315707602024355)\n",
      "('PlanResourceTypeName', 0.16772833547717667)\n",
      "('IsAddRack', 0.020570927118542977)\n",
      "('IsFirstFootprint', 0.011718030621549495)\n",
      "('IsNPI', 0.015091297472397257)\n",
      "('PlanGEO', 0.038621387378085896)\n",
      "('PlanIntentName', 0.02609665360174875)\n",
      "('NumberOfRacks', 0.02989086969119977)\n",
      "('NumberOfServers', 0.11591611266166418)\n",
      "('PlanOrderPriorityName', 0.0699264145661918)\n",
      "('PlanPropertyGroupName', 0.03825939933931898)\n",
      "('Region', 0.0594064589378085)\n",
      "('RegionGroup', 0.0138984530580656)\n",
      "('RegionType', 0.01698131567100448)\n",
      "('SKU Avaliable Flag', 0.008925227261572504)\n",
      "('SKUCategoryName', 0.07632047103949618)\n",
      "('CT Signal to Dock', 0.23902822718621392)\n"
     ]
    }
   ],
   "source": [
    "#Lets Check the Feaure Importance \n",
    "importances=RFR.feature_importances_\n",
    "\n",
    "for feature in zip (x.columns, importances):\n",
    "    print (feature)"
   ]
  },
  {
   "cell_type": "code",
   "execution_count": 26,
   "metadata": {},
   "outputs": [
    {
     "data": {
      "image/png": "[encoded data removed]",
      "text/plain": [
       "<Figure size 864x432 with 1 Axes>"
      ]
     },
     "metadata": {},
     "output_type": "display_data"
    }
   ],
   "source": [
    "# Sort feature importances in descending order\n",
    "indices = np.argsort(importances)[::-1]\n",
    "\n",
    "# Rearrange feature names so they match the sorted feature importances\n",
    "names = [x.columns[i] for i in indices]\n",
    "\n",
    "# Create plot\n",
    "plt.figure(figsize=(12,6))\n",
    "\n",
    "# Create plot title\n",
    "plt.title(\"Feature Importance\")\n",
    "\n",
    "# Add bars\n",
    "plt.bar(range(x.shape[1]), importances[indices])\n",
    "\n",
    "# Add feature names as x-axis labels\n",
    "plt.xticks(range(x.shape[1]), names, rotation=90)\n",
    "\n",
    "# Show plot\n",
    "plt.show()"
   ]
  },
  {
   "cell_type": "code",
   "execution_count": 27,
   "metadata": {
    "scrolled": false
   },
   "outputs": [
    {
     "name": "stdout",
     "output_type": "stream",
     "text": [
      "Fitting 3 folds for each of 40 candidates, totalling 120 fits\n"
     ]
    },
    {
     "name": "stderr",
     "output_type": "stream",
     "text": [
      "[Parallel(n_jobs=-1)]: Using backend LokyBackend with 4 concurrent workers.\n",
      "[Parallel(n_jobs=-1)]: Done  42 tasks      | elapsed:   21.8s\n",
      "[Parallel(n_jobs=-1)]: Done 120 out of 120 | elapsed:  1.2min finished\n"
     ]
    },
    {
     "data": {
      "text/plain": [
       "GridSearchCV(cv=3, error_score=nan,\n",
       "             estimator=RandomForestRegressor(bootstrap=True, ccp_alpha=0.0,\n",
       "                                             criterion='mse', max_depth=None,\n",
       "                                             max_features='auto',\n",
       "                                             max_leaf_nodes=None,\n",
       "                                             max_samples=None,\n",
       "                                             min_impurity_decrease=0.0,\n",
       "                                             min_impurity_split=None,\n",
       "                                             min_samples_leaf=1,\n",
       "                                             min_samples_split=2,\n",
       "                                             min_weight_fraction_leaf=0.0,\n",
       "                                             n_estimators=100, n_jobs=None,\n",
       "                                             oob_score=False, random_state=None,\n",
       "                                             verbose=0, warm_start=False),\n",
       "             iid='deprecated', n_jobs=-1,\n",
       "             param_grid={'max_depth': [2, 3, 4, 5, 6, 7, 8, None],\n",
       "                         'n_estimators': [100, 200, 300, 400, 500]},\n",
       "             pre_dispatch='2*n_jobs', refit=True, return_train_score=False,\n",
       "             scoring=None, verbose=1)"
      ]
     },
     "execution_count": 27,
     "metadata": {},
     "output_type": "execute_result"
    }
   ],
   "source": [
    "#Lets do hyperparameter tunning \n",
    "\n",
    "from sklearn.model_selection import GridSearchCV\n",
    "\n",
    "rfr = RandomForestRegressor()\n",
    "parameters = {\n",
    "    'n_estimators': [100,200,300,400,500],\n",
    "    'max_depth' : [2,3,4,5,6,7,8,None]\n",
    "}\n",
    "\n",
    "cv = GridSearchCV(rfr, parameters, cv=3, n_jobs = -1,verbose = 1)\n",
    "cv.fit(x_train, y_train)"
   ]
  },
  {
   "cell_type": "code",
   "execution_count": 28,
   "metadata": {},
   "outputs": [
    {
     "data": {
      "text/plain": [
       "{'max_depth': None, 'n_estimators': 300}"
      ]
     },
     "execution_count": 28,
     "metadata": {},
     "output_type": "execute_result"
    }
   ],
   "source": [
    "cv.best_params_"
   ]
  },
  {
   "cell_type": "code",
   "execution_count": 29,
   "metadata": {},
   "outputs": [],
   "source": [
    "#GridSearch Predictions\n",
    "pred=cv.predict(x_test)"
   ]
  },
  {
   "cell_type": "code",
   "execution_count": 30,
   "metadata": {},
   "outputs": [],
   "source": [
    "#Error calculation\n",
    "RMSE = np.sqrt(mean_squared_error(y_test, pred))\n",
    "MAE = mean_absolute_error(y_test, pred)\n",
    "r_squre= r2_score(y_test, pred)"
   ]
  },
  {
   "cell_type": "code",
   "execution_count": 31,
   "metadata": {},
   "outputs": [
    {
     "name": "stdout",
     "output_type": "stream",
     "text": [
      "RMSE : 64.4404827137744\n",
      "MAE: 39.69024939275829\n",
      "r_square: 0.5907425054623077\n"
     ]
    }
   ],
   "source": [
    "print('RMSE :',RMSE) \n",
    "print('MAE:', MAE)\n",
    "print(\"r_square:\",r_squre) "
   ]
  },
  {
   "cell_type": "markdown",
   "metadata": {},
   "source": [
    "# Gradient Boosting"
   ]
  },
  {
   "cell_type": "code",
   "execution_count": 102,
   "metadata": {},
   "outputs": [],
   "source": [
    "# Initialize and fit regressor\n",
    "from sklearn.ensemble import GradientBoostingRegressor\n",
    "gbr=GradientBoostingRegressor()"
   ]
  },
  {
   "cell_type": "code",
   "execution_count": 92,
   "metadata": {},
   "outputs": [
    {
     "data": {
      "text/plain": [
       "GradientBoostingRegressor(alpha=0.9, ccp_alpha=0.0, criterion='mse', init=None,\n",
       "                          learning_rate=0.1, loss='lad', max_depth=3,\n",
       "                          max_features=None, max_leaf_nodes=None,\n",
       "                          min_impurity_decrease=0.0, min_impurity_split=None,\n",
       "                          min_samples_leaf=1, min_samples_split=2,\n",
       "                          min_weight_fraction_leaf=0.0, n_estimators=300,\n",
       "                          n_iter_no_change=None, presort='deprecated',\n",
       "                          random_state=None, subsample=1.0, tol=0.0001,\n",
       "                          validation_fraction=0.1, verbose=0, warm_start=False)"
      ]
     },
     "execution_count": 92,
     "metadata": {},
     "output_type": "execute_result"
    }
   ],
   "source": [
    "gbr.fit(x_train,y_train)"
   ]
  },
  {
   "cell_type": "code",
   "execution_count": 93,
   "metadata": {},
   "outputs": [],
   "source": [
    "#Predictions\n",
    "pred=gbr.predict(x_test)"
   ]
  },
  {
   "cell_type": "code",
   "execution_count": 94,
   "metadata": {},
   "outputs": [],
   "source": [
    "G_pred_all_feature=pd.DataFrame(pred)#For stack model"
   ]
  },
  {
   "cell_type": "code",
   "execution_count": 95,
   "metadata": {},
   "outputs": [],
   "source": [
    "#Error calculation\n",
    "RMSE = np.sqrt(mean_squared_error(y_test, pred))\n",
    "MAE = mean_absolute_error(y_test, pred)\n",
    "r_squre= r2_score(y_test, pred)"
   ]
  },
  {
   "cell_type": "code",
   "execution_count": 96,
   "metadata": {},
   "outputs": [
    {
     "name": "stdout",
     "output_type": "stream",
     "text": [
      "RMSE : 78.54250023804913\n",
      "MAE: 43.11673861468859\n",
      "r_square: 0.3920210888521449\n"
     ]
    }
   ],
   "source": [
    "print('RMSE :',RMSE) \n",
    "print('MAE:', MAE)\n",
    "print(\"r_square:\",r_squre)"
   ]
  },
  {
   "cell_type": "code",
   "execution_count": 38,
   "metadata": {},
   "outputs": [
    {
     "name": "stdout",
     "output_type": "stream",
     "text": [
      "Fitting 3 folds for each of 144 candidates, totalling 432 fits\n"
     ]
    },
    {
     "name": "stderr",
     "output_type": "stream",
     "text": [
      "[Parallel(n_jobs=-1)]: Using backend LokyBackend with 4 concurrent workers.\n",
      "[Parallel(n_jobs=-1)]: Done  42 tasks      | elapsed:    6.8s\n",
      "[Parallel(n_jobs=-1)]: Done 192 tasks      | elapsed:  2.5min\n",
      "[Parallel(n_jobs=-1)]: Done 432 out of 432 | elapsed:  8.7min finished\n"
     ]
    },
    {
     "data": {
      "text/plain": [
       "GridSearchCV(cv=3, error_score=nan,\n",
       "             estimator=GradientBoostingRegressor(alpha=0.9, ccp_alpha=0.0,\n",
       "                                                 criterion='friedman_mse',\n",
       "                                                 init=None, learning_rate=0.1,\n",
       "                                                 loss='ls', max_depth=3,\n",
       "                                                 max_features=None,\n",
       "                                                 max_leaf_nodes=None,\n",
       "                                                 min_impurity_decrease=0.0,\n",
       "                                                 min_impurity_split=None,\n",
       "                                                 min_samples_leaf=1,\n",
       "                                                 min_samples_split=2,\n",
       "                                                 min_weight_fraction_leaf=0.0,\n",
       "                                                 n_estimators=100,\n",
       "                                                 n_iter_n...\n",
       "                                                 presort='deprecated',\n",
       "                                                 random_state=None,\n",
       "                                                 subsample=1.0, tol=0.0001,\n",
       "                                                 validation_fraction=0.1,\n",
       "                                                 verbose=0, warm_start=False),\n",
       "             iid='deprecated', n_jobs=-1,\n",
       "             param_grid={'criterion': ['mse', 'friedman_mse'],\n",
       "                         'loss': ['ls', 'lad', 'huber'],\n",
       "                         'max_depth': [2, 3, 4, 5, 6, 7, 8, None],\n",
       "                         'n_estimators': [100, 200, 300]},\n",
       "             pre_dispatch='2*n_jobs', refit=True, return_train_score=False,\n",
       "             scoring=None, verbose=1)"
      ]
     },
     "execution_count": 38,
     "metadata": {},
     "output_type": "execute_result"
    }
   ],
   "source": [
    "#Lets do hyperparameter tunning \n",
    "\n",
    "from sklearn.model_selection import GridSearchCV\n",
    "\n",
    "rfr = GradientBoostingRegressor()\n",
    "parameters = {\n",
    "                'n_estimators': [100,200,300],\n",
    "                'criterion' : ['mse','friedman_mse'],\n",
    "                'max_depth' : [2,3,4,5,6,7,8,None],\n",
    "                'loss' : ['ls', 'lad', 'huber']\n",
    "}\n",
    "\n",
    "cv = GridSearchCV(rfr, parameters, cv=3, n_jobs = -1,verbose = 1)\n",
    "cv.fit(x_train, y_train)"
   ]
  },
  {
   "cell_type": "code",
   "execution_count": 39,
   "metadata": {
    "scrolled": true
   },
   "outputs": [
    {
     "data": {
      "text/plain": [
       "{'criterion': 'mse', 'loss': 'lad', 'max_depth': None, 'n_estimators': 300}"
      ]
     },
     "execution_count": 39,
     "metadata": {},
     "output_type": "execute_result"
    }
   ],
   "source": [
    "cv.best_params_"
   ]
  },
  {
   "cell_type": "code",
   "execution_count": 40,
   "metadata": {},
   "outputs": [],
   "source": [
    "#GridSearch Predictions \n",
    "pred=cv.predict(x_test)"
   ]
  },
  {
   "cell_type": "code",
   "execution_count": 41,
   "metadata": {
    "scrolled": false
   },
   "outputs": [
    {
     "name": "stdout",
     "output_type": "stream",
     "text": [
      "RMSE : 67.85432966248753\n",
      "MAE: 43.497751065591196\n",
      "r_square: 0.5462316508747609\n"
     ]
    }
   ],
   "source": [
    "#Results \n",
    "print('RMSE :',RMSE) \n",
    "print('MAE:', MAE)\n",
    "print(\"r_square:\",r_squre)"
   ]
  },
  {
   "cell_type": "markdown",
   "metadata": {},
   "source": [
    "# AdaBoost"
   ]
  },
  {
   "cell_type": "code",
   "execution_count": 103,
   "metadata": {},
   "outputs": [],
   "source": [
    "from sklearn.ensemble import AdaBoostRegressor\n",
    "abr= AdaBoostRegressor()"
   ]
  },
  {
   "cell_type": "code",
   "execution_count": 98,
   "metadata": {
    "scrolled": true
   },
   "outputs": [
    {
     "data": {
      "text/plain": [
       "AdaBoostRegressor(base_estimator=None, learning_rate=1.0, loss='exponential',\n",
       "                  n_estimators=200, random_state=None)"
      ]
     },
     "execution_count": 98,
     "metadata": {},
     "output_type": "execute_result"
    }
   ],
   "source": [
    "abr.fit(x_train,y_train)"
   ]
  },
  {
   "cell_type": "code",
   "execution_count": 99,
   "metadata": {},
   "outputs": [],
   "source": [
    "#Predictions\n",
    "pred=abr.predict(x_test)"
   ]
  },
  {
   "cell_type": "code",
   "execution_count": 100,
   "metadata": {},
   "outputs": [],
   "source": [
    "#Error calculation\n",
    "RMSE = np.sqrt(mean_squared_error(y_test, pred))\n",
    "MAE = mean_absolute_error(y_test, pred)\n",
    "r_squre= r2_score(y_test, pred)"
   ]
  },
  {
   "cell_type": "code",
   "execution_count": 101,
   "metadata": {
    "scrolled": true
   },
   "outputs": [
    {
     "name": "stdout",
     "output_type": "stream",
     "text": [
      "RMSE : 98.83031438083923\n",
      "MAE: 84.23875551936379\n",
      "r_square: 0.037369927400113356\n"
     ]
    }
   ],
   "source": [
    "#Results\n",
    "print('RMSE :',RMSE) \n",
    "print('MAE:', MAE)\n",
    "print(\"r_square:\",r_squre)"
   ]
  },
  {
   "cell_type": "code",
   "execution_count": 47,
   "metadata": {
    "scrolled": true
   },
   "outputs": [
    {
     "name": "stdout",
     "output_type": "stream",
     "text": [
      "Fitting 3 folds for each of 18 candidates, totalling 54 fits\n"
     ]
    },
    {
     "name": "stderr",
     "output_type": "stream",
     "text": [
      "[Parallel(n_jobs=-1)]: Using backend LokyBackend with 4 concurrent workers.\n",
      "[Parallel(n_jobs=-1)]: Done  42 tasks      | elapsed:   10.4s\n",
      "[Parallel(n_jobs=-1)]: Done  54 out of  54 | elapsed:   14.6s finished\n"
     ]
    },
    {
     "data": {
      "text/plain": [
       "GridSearchCV(cv=3, error_score=nan,\n",
       "             estimator=AdaBoostRegressor(base_estimator=None, learning_rate=1.0,\n",
       "                                         loss='linear', n_estimators=50,\n",
       "                                         random_state=None),\n",
       "             iid='deprecated', n_jobs=-1,\n",
       "             param_grid={'learning_rate': [0.1, 1],\n",
       "                         'loss': ['linear', 'square', 'exponential'],\n",
       "                         'n_estimators': [100, 200, 300]},\n",
       "             pre_dispatch='2*n_jobs', refit=True, return_train_score=False,\n",
       "             scoring=None, verbose=1)"
      ]
     },
     "execution_count": 47,
     "metadata": {},
     "output_type": "execute_result"
    }
   ],
   "source": [
    "#Lets do hyperparameter tunning \n",
    "\n",
    "from sklearn.model_selection import GridSearchCV\n",
    "\n",
    "adb1 = AdaBoostRegressor()\n",
    "parameters = {\n",
    "                'n_estimators': [100,200,300],\n",
    "                'learning_rate' : [0.1,1],\n",
    "                'loss' : ['linear', 'square', 'exponential']\n",
    "               \n",
    "}\n",
    "\n",
    "cv = GridSearchCV(adb1, parameters, cv=3, n_jobs = -1,verbose = 1)\n",
    "cv.fit(x_train, y_train)"
   ]
  },
  {
   "cell_type": "code",
   "execution_count": 48,
   "metadata": {},
   "outputs": [
    {
     "data": {
      "text/plain": [
       "{'learning_rate': 0.1, 'loss': 'exponential', 'n_estimators': 200}"
      ]
     },
     "execution_count": 48,
     "metadata": {},
     "output_type": "execute_result"
    }
   ],
   "source": [
    "cv.best_params_"
   ]
  },
  {
   "cell_type": "markdown",
   "metadata": {},
   "source": [
    "# Neural Neats-MLP"
   ]
  },
  {
   "cell_type": "code",
   "execution_count": 49,
   "metadata": {},
   "outputs": [],
   "source": [
    "from sklearn.neural_network import MLPRegressor\n",
    "mlp=MLPRegressor()"
   ]
  },
  {
   "cell_type": "code",
   "execution_count": 50,
   "metadata": {},
   "outputs": [
    {
     "name": "stderr",
     "output_type": "stream",
     "text": [
      "C:\\Users\\Shrutee\\Anaconda3\\lib\\site-packages\\sklearn\\neural_network\\_multilayer_perceptron.py:571: ConvergenceWarning: Stochastic Optimizer: Maximum iterations (200) reached and the optimization hasn't converged yet.\n",
      "  % self.max_iter, ConvergenceWarning)\n"
     ]
    },
    {
     "data": {
      "text/plain": [
       "MLPRegressor(activation='relu', alpha=0.0001, batch_size='auto', beta_1=0.9,\n",
       "             beta_2=0.999, early_stopping=False, epsilon=1e-08,\n",
       "             hidden_layer_sizes=(100,), learning_rate='constant',\n",
       "             learning_rate_init=0.001, max_fun=15000, max_iter=200,\n",
       "             momentum=0.9, n_iter_no_change=10, nesterovs_momentum=True,\n",
       "             power_t=0.5, random_state=None, shuffle=True, solver='adam',\n",
       "             tol=0.0001, validation_fraction=0.1, verbose=False,\n",
       "             warm_start=False)"
      ]
     },
     "execution_count": 50,
     "metadata": {},
     "output_type": "execute_result"
    }
   ],
   "source": [
    "mlp.fit(x_train,y_train)"
   ]
  },
  {
   "cell_type": "code",
   "execution_count": 51,
   "metadata": {},
   "outputs": [],
   "source": [
    "#Predictions\n",
    "pred=mlp.predict(x_test)"
   ]
  },
  {
   "cell_type": "code",
   "execution_count": 52,
   "metadata": {},
   "outputs": [],
   "source": [
    "#Error calculation\n",
    "RMSE = np.sqrt(mean_squared_error(y_test, pred))\n",
    "MAE = mean_absolute_error(y_test, pred)\n",
    "r_squre= r2_score(y_test, pred)"
   ]
  },
  {
   "cell_type": "code",
   "execution_count": 53,
   "metadata": {
    "scrolled": true
   },
   "outputs": [
    {
     "name": "stdout",
     "output_type": "stream",
     "text": [
      "RMSE : 85.8586123369998\n",
      "MAE: 58.45986466843363\n",
      "r_square: 0.27348129307836855\n"
     ]
    }
   ],
   "source": [
    "#Results\n",
    "print('RMSE :',RMSE) \n",
    "print('MAE:', MAE)\n",
    "print(\"r_square:\",r_squre)"
   ]
  },
  {
   "cell_type": "code",
   "execution_count": 54,
   "metadata": {
    "scrolled": false
   },
   "outputs": [
    {
     "name": "stdout",
     "output_type": "stream",
     "text": [
      "Fitting 3 folds for each of 27 candidates, totalling 81 fits\n"
     ]
    },
    {
     "name": "stderr",
     "output_type": "stream",
     "text": [
      "[Parallel(n_jobs=-1)]: Using backend LokyBackend with 4 concurrent workers.\n",
      "[Parallel(n_jobs=-1)]: Done  42 tasks      | elapsed:   14.3s\n",
      "[Parallel(n_jobs=-1)]: Done  81 out of  81 | elapsed:   28.4s finished\n",
      "C:\\Users\\Shrutee\\Anaconda3\\lib\\site-packages\\sklearn\\neural_network\\_multilayer_perceptron.py:571: ConvergenceWarning: Stochastic Optimizer: Maximum iterations (200) reached and the optimization hasn't converged yet.\n",
      "  % self.max_iter, ConvergenceWarning)\n"
     ]
    },
    {
     "data": {
      "text/plain": [
       "GridSearchCV(cv=3, error_score=nan,\n",
       "             estimator=MLPRegressor(activation='relu', alpha=0.0001,\n",
       "                                    batch_size='auto', beta_1=0.9, beta_2=0.999,\n",
       "                                    early_stopping=False, epsilon=1e-08,\n",
       "                                    hidden_layer_sizes=(100,),\n",
       "                                    learning_rate='constant',\n",
       "                                    learning_rate_init=0.001, max_fun=15000,\n",
       "                                    max_iter=200, momentum=0.9,\n",
       "                                    n_iter_no_change=10,\n",
       "                                    nesterovs_momentum=True, power_t=0.5,\n",
       "                                    random_state=...uffle=True,\n",
       "                                    solver='adam', tol=0.0001,\n",
       "                                    validation_fraction=0.1, verbose=False,\n",
       "                                    warm_start=False),\n",
       "             iid='deprecated', n_jobs=-1,\n",
       "             param_grid={'activation': ['relu', 'tanh', 'logistic'],\n",
       "                         'hidden_layer_sizes': [(10,), (50,), (100,)],\n",
       "                         'learning_rate': ['constant', 'invscaling',\n",
       "                                           'adaptive']},\n",
       "             pre_dispatch='2*n_jobs', refit=True, return_train_score=False,\n",
       "             scoring=None, verbose=1)"
      ]
     },
     "execution_count": 54,
     "metadata": {},
     "output_type": "execute_result"
    }
   ],
   "source": [
    "#Lets do hyperparameter tunning \n",
    "\n",
    "from sklearn.model_selection import GridSearchCV\n",
    "\n",
    "mlp1 = MLPRegressor()\n",
    "parameters = {\n",
    "                'hidden_layer_sizes': [(10,), (50,), (100,)],\n",
    "                'activation': ['relu', 'tanh', 'logistic'],\n",
    "                'learning_rate': ['constant', 'invscaling', 'adaptive']\n",
    "               \n",
    "}\n",
    "\n",
    "cv = GridSearchCV(mlp1, parameters, cv=3, n_jobs = -1,verbose = 1)\n",
    "cv.fit(x_train, y_train)"
   ]
  },
  {
   "cell_type": "code",
   "execution_count": 55,
   "metadata": {},
   "outputs": [
    {
     "data": {
      "text/plain": [
       "{'activation': 'relu',\n",
       " 'hidden_layer_sizes': (100,),\n",
       " 'learning_rate': 'invscaling'}"
      ]
     },
     "execution_count": 55,
     "metadata": {},
     "output_type": "execute_result"
    }
   ],
   "source": [
    "cv.best_params_"
   ]
  },
  {
   "cell_type": "markdown",
   "metadata": {},
   "source": [
    "# Catboost "
   ]
  },
  {
   "cell_type": "code",
   "execution_count": 56,
   "metadata": {},
   "outputs": [],
   "source": [
    "#lets define our predictors and outcome (Target)\n",
    "#x1=df1.drop([\"CT Signal to LIve\",\"CT Signal to Dock\"],axis=1)\n",
    "#y1=df1[\"CT Signal to LIve\"]"
   ]
  },
  {
   "cell_type": "code",
   "execution_count": 57,
   "metadata": {},
   "outputs": [],
   "source": [
    "#Lets split our data into training and testing sets. random_state is the seed used by the random number generator. It can be any integer.\n",
    "#from sklearn.model_selection import train_test_split\n",
    "#x_train,x_test,y_train,y_test=train_test_split(x1,y1,test_size=0.25,random_state=100)"
   ]
  },
  {
   "cell_type": "code",
   "execution_count": 58,
   "metadata": {},
   "outputs": [],
   "source": [
    "from catboost import CatBoostRegressor\n",
    "cr=CatBoostRegressor(iterations=200, loss_function='RMSE',\n",
    "                              random_state = 2021, \n",
    "                              eval_metric=\"RMSE\")"
   ]
  },
  {
   "cell_type": "code",
   "execution_count": 59,
   "metadata": {
    "scrolled": false
   },
   "outputs": [
    {
     "name": "stdout",
     "output_type": "stream",
     "text": [
      "Learning rate set to 0.121598\n",
      "0:\tlearn: 99.8410134\ttest: 97.3575897\tbest: 97.3575897 (0)\ttotal: 476ms\tremaining: 1m 34s\n",
      "1:\tlearn: 96.8258304\ttest: 94.8018270\tbest: 94.8018270 (1)\ttotal: 481ms\tremaining: 47.6s\n",
      "2:\tlearn: 94.1591276\ttest: 92.4645876\tbest: 92.4645876 (2)\ttotal: 485ms\tremaining: 31.9s\n",
      "3:\tlearn: 91.9742048\ttest: 90.6781748\tbest: 90.6781748 (3)\ttotal: 489ms\tremaining: 24s\n",
      "4:\tlearn: 90.1300350\ttest: 89.0741077\tbest: 89.0741077 (4)\ttotal: 494ms\tremaining: 19.3s\n",
      "5:\tlearn: 88.2400012\ttest: 87.3663500\tbest: 87.3663500 (5)\ttotal: 498ms\tremaining: 16.1s\n",
      "6:\tlearn: 86.5566120\ttest: 86.2464665\tbest: 86.2464665 (6)\ttotal: 501ms\tremaining: 13.8s\n",
      "7:\tlearn: 85.0945353\ttest: 85.1332653\tbest: 85.1332653 (7)\ttotal: 504ms\tremaining: 12.1s\n",
      "8:\tlearn: 83.5268276\ttest: 84.1325647\tbest: 84.1325647 (8)\ttotal: 506ms\tremaining: 10.7s\n",
      "9:\tlearn: 82.6746387\ttest: 83.6139193\tbest: 83.6139193 (9)\ttotal: 509ms\tremaining: 9.67s\n",
      "10:\tlearn: 81.5409683\ttest: 82.9363071\tbest: 82.9363071 (10)\ttotal: 511ms\tremaining: 8.79s\n",
      "11:\tlearn: 80.7376451\ttest: 82.4241804\tbest: 82.4241804 (11)\ttotal: 514ms\tremaining: 8.05s\n",
      "12:\tlearn: 79.9592852\ttest: 82.0104870\tbest: 82.0104870 (12)\ttotal: 516ms\tremaining: 7.43s\n",
      "13:\tlearn: 79.3873937\ttest: 81.4897167\tbest: 81.4897167 (13)\ttotal: 519ms\tremaining: 6.89s\n",
      "14:\tlearn: 78.7091690\ttest: 81.0041426\tbest: 81.0041426 (14)\ttotal: 521ms\tremaining: 6.43s\n",
      "15:\tlearn: 78.0356536\ttest: 80.5189146\tbest: 80.5189146 (15)\ttotal: 523ms\tremaining: 6.02s\n",
      "16:\tlearn: 77.2823424\ttest: 79.5574056\tbest: 79.5574056 (16)\ttotal: 525ms\tremaining: 5.66s\n",
      "17:\tlearn: 76.4192526\ttest: 79.0525103\tbest: 79.0525103 (17)\ttotal: 528ms\tremaining: 5.34s\n",
      "18:\tlearn: 75.8954909\ttest: 78.5383672\tbest: 78.5383672 (18)\ttotal: 531ms\tremaining: 5.06s\n",
      "19:\tlearn: 75.1778906\ttest: 78.3127573\tbest: 78.3127573 (19)\ttotal: 534ms\tremaining: 4.8s\n",
      "20:\tlearn: 74.7776857\ttest: 78.2060548\tbest: 78.2060548 (20)\ttotal: 536ms\tremaining: 4.57s\n",
      "21:\tlearn: 74.3319425\ttest: 77.9107115\tbest: 77.9107115 (21)\ttotal: 539ms\tremaining: 4.36s\n",
      "22:\tlearn: 73.6250375\ttest: 77.7242452\tbest: 77.7242452 (22)\ttotal: 542ms\tremaining: 4.17s\n",
      "23:\tlearn: 73.0274056\ttest: 77.6561894\tbest: 77.6561894 (23)\ttotal: 545ms\tremaining: 3.99s\n",
      "24:\tlearn: 72.3178087\ttest: 77.1553468\tbest: 77.1553468 (24)\ttotal: 548ms\tremaining: 3.83s\n",
      "25:\tlearn: 71.8190131\ttest: 77.0129222\tbest: 77.0129222 (25)\ttotal: 551ms\tremaining: 3.68s\n",
      "26:\tlearn: 71.5332716\ttest: 76.7898569\tbest: 76.7898569 (26)\ttotal: 554ms\tremaining: 3.55s\n",
      "27:\tlearn: 70.9264768\ttest: 76.0289343\tbest: 76.0289343 (27)\ttotal: 556ms\tremaining: 3.42s\n",
      "28:\tlearn: 70.4684238\ttest: 75.8648867\tbest: 75.8648867 (28)\ttotal: 559ms\tremaining: 3.29s\n",
      "29:\tlearn: 70.1856065\ttest: 75.7779619\tbest: 75.7779619 (29)\ttotal: 561ms\tremaining: 3.18s\n",
      "30:\tlearn: 69.7538360\ttest: 75.3259233\tbest: 75.3259233 (30)\ttotal: 563ms\tremaining: 3.07s\n",
      "31:\tlearn: 69.3817599\ttest: 75.0784499\tbest: 75.0784499 (31)\ttotal: 566ms\tremaining: 2.97s\n",
      "32:\tlearn: 68.8243385\ttest: 74.7997006\tbest: 74.7997006 (32)\ttotal: 569ms\tremaining: 2.88s\n",
      "33:\tlearn: 68.5154863\ttest: 74.5910310\tbest: 74.5910310 (33)\ttotal: 571ms\tremaining: 2.79s\n",
      "34:\tlearn: 68.0427393\ttest: 74.3252653\tbest: 74.3252653 (34)\ttotal: 573ms\tremaining: 2.7s\n",
      "35:\tlearn: 67.7901686\ttest: 74.0745422\tbest: 74.0745422 (35)\ttotal: 576ms\tremaining: 2.62s\n",
      "36:\tlearn: 67.6619535\ttest: 74.0275224\tbest: 74.0275224 (36)\ttotal: 579ms\tremaining: 2.55s\n",
      "37:\tlearn: 67.0911784\ttest: 73.5471359\tbest: 73.5471359 (37)\ttotal: 581ms\tremaining: 2.48s\n",
      "38:\tlearn: 66.5862749\ttest: 73.3550933\tbest: 73.3550933 (38)\ttotal: 584ms\tremaining: 2.41s\n",
      "39:\tlearn: 66.1324608\ttest: 73.1253324\tbest: 73.1253324 (39)\ttotal: 587ms\tremaining: 2.35s\n",
      "40:\tlearn: 65.6800451\ttest: 72.9953874\tbest: 72.9953874 (40)\ttotal: 590ms\tremaining: 2.29s\n",
      "41:\tlearn: 65.1834506\ttest: 72.8119277\tbest: 72.8119277 (41)\ttotal: 592ms\tremaining: 2.23s\n",
      "42:\tlearn: 64.9015955\ttest: 72.7775251\tbest: 72.7775251 (42)\ttotal: 594ms\tremaining: 2.17s\n",
      "43:\tlearn: 64.6410165\ttest: 72.6088690\tbest: 72.6088690 (43)\ttotal: 597ms\tremaining: 2.12s\n",
      "44:\tlearn: 64.3731307\ttest: 72.6300864\tbest: 72.6088690 (43)\ttotal: 599ms\tremaining: 2.06s\n",
      "45:\tlearn: 64.1564816\ttest: 72.4773933\tbest: 72.4773933 (45)\ttotal: 602ms\tremaining: 2.02s\n",
      "46:\tlearn: 63.8451227\ttest: 72.4733487\tbest: 72.4733487 (46)\ttotal: 605ms\tremaining: 1.97s\n",
      "47:\tlearn: 63.4643036\ttest: 72.3379207\tbest: 72.3379207 (47)\ttotal: 607ms\tremaining: 1.92s\n",
      "48:\tlearn: 63.1754035\ttest: 72.1886340\tbest: 72.1886340 (48)\ttotal: 610ms\tremaining: 1.88s\n",
      "49:\tlearn: 62.9908490\ttest: 72.0566434\tbest: 72.0566434 (49)\ttotal: 613ms\tremaining: 1.84s\n",
      "50:\tlearn: 62.1268896\ttest: 71.0682159\tbest: 71.0682159 (50)\ttotal: 615ms\tremaining: 1.8s\n",
      "51:\tlearn: 61.3227702\ttest: 70.4558991\tbest: 70.4558991 (51)\ttotal: 618ms\tremaining: 1.76s\n",
      "52:\tlearn: 60.7749249\ttest: 69.9254016\tbest: 69.9254016 (52)\ttotal: 620ms\tremaining: 1.72s\n",
      "53:\tlearn: 60.2701106\ttest: 69.3569601\tbest: 69.3569601 (53)\ttotal: 623ms\tremaining: 1.68s\n",
      "54:\tlearn: 59.9697429\ttest: 69.2810207\tbest: 69.2810207 (54)\ttotal: 625ms\tremaining: 1.65s\n",
      "55:\tlearn: 59.7811910\ttest: 69.2224186\tbest: 69.2224186 (55)\ttotal: 628ms\tremaining: 1.61s\n",
      "56:\tlearn: 59.5456904\ttest: 69.0702464\tbest: 69.0702464 (56)\ttotal: 631ms\tremaining: 1.58s\n",
      "57:\tlearn: 59.3233921\ttest: 68.9503045\tbest: 68.9503045 (57)\ttotal: 635ms\tremaining: 1.55s\n",
      "58:\tlearn: 59.1578973\ttest: 68.8224547\tbest: 68.8224547 (58)\ttotal: 638ms\tremaining: 1.52s\n",
      "59:\tlearn: 58.8715527\ttest: 68.8072117\tbest: 68.8072117 (59)\ttotal: 641ms\tremaining: 1.5s\n",
      "60:\tlearn: 58.3284813\ttest: 68.5346446\tbest: 68.5346446 (60)\ttotal: 644ms\tremaining: 1.47s\n",
      "61:\tlearn: 57.9937401\ttest: 68.4299419\tbest: 68.4299419 (61)\ttotal: 647ms\tremaining: 1.44s\n",
      "62:\tlearn: 57.8511602\ttest: 68.3104689\tbest: 68.3104689 (62)\ttotal: 650ms\tremaining: 1.41s\n",
      "63:\tlearn: 57.5909912\ttest: 68.2571897\tbest: 68.2571897 (63)\ttotal: 653ms\tremaining: 1.39s\n",
      "64:\tlearn: 57.2693815\ttest: 68.2423571\tbest: 68.2423571 (64)\ttotal: 656ms\tremaining: 1.36s\n",
      "65:\tlearn: 57.0373839\ttest: 68.1779758\tbest: 68.1779758 (65)\ttotal: 660ms\tremaining: 1.34s\n",
      "66:\tlearn: 56.8371663\ttest: 68.1001735\tbest: 68.1001735 (66)\ttotal: 663ms\tremaining: 1.31s\n",
      "67:\tlearn: 56.6644269\ttest: 68.1400867\tbest: 68.1001735 (66)\ttotal: 665ms\tremaining: 1.29s\n",
      "68:\tlearn: 56.4945431\ttest: 68.1753589\tbest: 68.1001735 (66)\ttotal: 668ms\tremaining: 1.27s\n",
      "69:\tlearn: 56.1226476\ttest: 67.8273621\tbest: 67.8273621 (69)\ttotal: 671ms\tremaining: 1.25s\n",
      "70:\tlearn: 55.9874172\ttest: 67.8186890\tbest: 67.8186890 (70)\ttotal: 674ms\tremaining: 1.22s\n",
      "71:\tlearn: 55.8001273\ttest: 67.7502183\tbest: 67.7502183 (71)\ttotal: 677ms\tremaining: 1.2s\n",
      "72:\tlearn: 55.6559157\ttest: 67.7372130\tbest: 67.7372130 (72)\ttotal: 679ms\tremaining: 1.18s\n",
      "73:\tlearn: 55.5101189\ttest: 67.7432906\tbest: 67.7372130 (72)\ttotal: 682ms\tremaining: 1.16s\n",
      "74:\tlearn: 55.0551927\ttest: 67.1212541\tbest: 67.1212541 (74)\ttotal: 685ms\tremaining: 1.14s\n",
      "75:\tlearn: 54.7383439\ttest: 66.8486206\tbest: 66.8486206 (75)\ttotal: 687ms\tremaining: 1.12s\n",
      "76:\tlearn: 54.4744387\ttest: 66.7816035\tbest: 66.7816035 (76)\ttotal: 690ms\tremaining: 1.1s\n",
      "77:\tlearn: 54.4210414\ttest: 66.7230460\tbest: 66.7230460 (77)\ttotal: 692ms\tremaining: 1.08s\n",
      "78:\tlearn: 54.2124227\ttest: 66.6621826\tbest: 66.6621826 (78)\ttotal: 695ms\tremaining: 1.06s\n",
      "79:\tlearn: 54.1282891\ttest: 66.6324694\tbest: 66.6324694 (79)\ttotal: 700ms\tremaining: 1.05s\n",
      "80:\tlearn: 53.9121324\ttest: 66.5123513\tbest: 66.5123513 (80)\ttotal: 704ms\tremaining: 1.03s\n",
      "81:\tlearn: 53.7043010\ttest: 66.2709439\tbest: 66.2709439 (81)\ttotal: 708ms\tremaining: 1.02s\n",
      "82:\tlearn: 53.6121232\ttest: 66.2073884\tbest: 66.2073884 (82)\ttotal: 712ms\tremaining: 1s\n",
      "83:\tlearn: 53.4476110\ttest: 66.3244605\tbest: 66.2073884 (82)\ttotal: 715ms\tremaining: 988ms\n",
      "84:\tlearn: 53.3539797\ttest: 66.2912485\tbest: 66.2073884 (82)\ttotal: 718ms\tremaining: 971ms\n",
      "85:\tlearn: 53.1146285\ttest: 66.1363990\tbest: 66.1363990 (85)\ttotal: 720ms\tremaining: 955ms\n",
      "86:\tlearn: 52.5998623\ttest: 65.6851388\tbest: 65.6851388 (86)\ttotal: 723ms\tremaining: 939ms\n",
      "87:\tlearn: 52.3178231\ttest: 65.5541387\tbest: 65.5541387 (87)\ttotal: 729ms\tremaining: 927ms\n",
      "88:\tlearn: 51.9577502\ttest: 65.2829393\tbest: 65.2829393 (88)\ttotal: 732ms\tremaining: 912ms\n",
      "89:\tlearn: 51.7957842\ttest: 65.1653400\tbest: 65.1653400 (89)\ttotal: 734ms\tremaining: 898ms\n",
      "90:\tlearn: 51.7379790\ttest: 65.1508464\tbest: 65.1508464 (90)\ttotal: 737ms\tremaining: 882ms\n",
      "91:\tlearn: 51.2842333\ttest: 64.5747678\tbest: 64.5747678 (91)\ttotal: 739ms\tremaining: 868ms\n",
      "92:\tlearn: 51.0469076\ttest: 64.5184369\tbest: 64.5184369 (92)\ttotal: 742ms\tremaining: 853ms\n",
      "93:\tlearn: 51.0057313\ttest: 64.5096779\tbest: 64.5096779 (93)\ttotal: 744ms\tremaining: 839ms\n",
      "94:\tlearn: 50.7451765\ttest: 64.3030625\tbest: 64.3030625 (94)\ttotal: 747ms\tremaining: 825ms\n",
      "95:\tlearn: 50.3527808\ttest: 63.9751497\tbest: 63.9751497 (95)\ttotal: 749ms\tremaining: 812ms\n",
      "96:\tlearn: 50.1104910\ttest: 64.0455488\tbest: 63.9751497 (95)\ttotal: 751ms\tremaining: 798ms\n",
      "97:\tlearn: 49.7815069\ttest: 63.9689392\tbest: 63.9689392 (97)\ttotal: 754ms\tremaining: 785ms\n",
      "98:\tlearn: 49.5349527\ttest: 63.8630556\tbest: 63.8630556 (98)\ttotal: 756ms\tremaining: 772ms\n",
      "99:\tlearn: 49.2043371\ttest: 63.7124860\tbest: 63.7124860 (99)\ttotal: 759ms\tremaining: 759ms\n",
      "100:\tlearn: 48.9200878\ttest: 63.7110166\tbest: 63.7110166 (100)\ttotal: 761ms\tremaining: 746ms\n",
      "101:\tlearn: 48.6497619\ttest: 63.7666771\tbest: 63.7110166 (100)\ttotal: 764ms\tremaining: 734ms\n",
      "102:\tlearn: 48.4431641\ttest: 63.8287329\tbest: 63.7110166 (100)\ttotal: 766ms\tremaining: 722ms\n",
      "103:\tlearn: 48.2818855\ttest: 63.7255763\tbest: 63.7110166 (100)\ttotal: 769ms\tremaining: 710ms\n",
      "104:\tlearn: 47.8568164\ttest: 63.4925849\tbest: 63.4925849 (104)\ttotal: 771ms\tremaining: 698ms\n",
      "105:\tlearn: 47.5831574\ttest: 63.3566601\tbest: 63.3566601 (105)\ttotal: 774ms\tremaining: 686ms\n",
      "106:\tlearn: 47.5375211\ttest: 63.3520372\tbest: 63.3520372 (106)\ttotal: 776ms\tremaining: 675ms\n",
      "107:\tlearn: 47.3216102\ttest: 63.3575187\tbest: 63.3520372 (106)\ttotal: 779ms\tremaining: 663ms\n"
     ]
    },
    {
     "name": "stdout",
     "output_type": "stream",
     "text": [
      "108:\tlearn: 47.1637595\ttest: 63.3292096\tbest: 63.3292096 (108)\ttotal: 783ms\tremaining: 653ms\n",
      "109:\tlearn: 46.9690067\ttest: 63.3216461\tbest: 63.3216461 (109)\ttotal: 786ms\tremaining: 643ms\n",
      "110:\tlearn: 46.6761391\ttest: 63.2299529\tbest: 63.2299529 (110)\ttotal: 789ms\tremaining: 633ms\n",
      "111:\tlearn: 46.6110466\ttest: 63.2729128\tbest: 63.2299529 (110)\ttotal: 792ms\tremaining: 623ms\n",
      "112:\tlearn: 46.5209317\ttest: 63.2423505\tbest: 63.2299529 (110)\ttotal: 795ms\tremaining: 612ms\n",
      "113:\tlearn: 46.2500355\ttest: 63.1375917\tbest: 63.1375917 (113)\ttotal: 798ms\tremaining: 602ms\n",
      "114:\tlearn: 46.1343234\ttest: 63.1036645\tbest: 63.1036645 (114)\ttotal: 801ms\tremaining: 592ms\n",
      "115:\tlearn: 45.9616263\ttest: 63.1088711\tbest: 63.1036645 (114)\ttotal: 805ms\tremaining: 583ms\n",
      "116:\tlearn: 45.7950266\ttest: 63.1179479\tbest: 63.1036645 (114)\ttotal: 808ms\tremaining: 573ms\n",
      "117:\tlearn: 45.6317528\ttest: 63.0910916\tbest: 63.0910916 (117)\ttotal: 811ms\tremaining: 564ms\n",
      "118:\tlearn: 45.5049688\ttest: 63.0331558\tbest: 63.0331558 (118)\ttotal: 814ms\tremaining: 554ms\n",
      "119:\tlearn: 45.2447833\ttest: 63.0374256\tbest: 63.0331558 (118)\ttotal: 817ms\tremaining: 545ms\n",
      "120:\tlearn: 45.0430166\ttest: 62.8364206\tbest: 62.8364206 (120)\ttotal: 820ms\tremaining: 535ms\n",
      "121:\tlearn: 44.7268106\ttest: 62.8080134\tbest: 62.8080134 (121)\ttotal: 823ms\tremaining: 526ms\n",
      "122:\tlearn: 44.5930637\ttest: 62.7965300\tbest: 62.7965300 (122)\ttotal: 825ms\tremaining: 517ms\n",
      "123:\tlearn: 44.5043607\ttest: 62.7234289\tbest: 62.7234289 (123)\ttotal: 828ms\tremaining: 508ms\n",
      "124:\tlearn: 44.4695101\ttest: 62.7227455\tbest: 62.7227455 (124)\ttotal: 831ms\tremaining: 499ms\n",
      "125:\tlearn: 44.3766559\ttest: 62.7096826\tbest: 62.7096826 (125)\ttotal: 833ms\tremaining: 489ms\n",
      "126:\tlearn: 44.1856549\ttest: 62.6830056\tbest: 62.6830056 (126)\ttotal: 836ms\tremaining: 480ms\n",
      "127:\tlearn: 44.0305237\ttest: 62.6483759\tbest: 62.6483759 (127)\ttotal: 839ms\tremaining: 472ms\n",
      "128:\tlearn: 43.9161454\ttest: 62.5601082\tbest: 62.5601082 (128)\ttotal: 842ms\tremaining: 463ms\n",
      "129:\tlearn: 43.6781156\ttest: 62.4683942\tbest: 62.4683942 (129)\ttotal: 845ms\tremaining: 455ms\n",
      "130:\tlearn: 43.5009260\ttest: 62.4805933\tbest: 62.4683942 (129)\ttotal: 847ms\tremaining: 446ms\n",
      "131:\tlearn: 43.2264779\ttest: 62.5752541\tbest: 62.4683942 (129)\ttotal: 850ms\tremaining: 438ms\n",
      "132:\tlearn: 43.2085108\ttest: 62.5669191\tbest: 62.4683942 (129)\ttotal: 852ms\tremaining: 429ms\n",
      "133:\tlearn: 43.0893247\ttest: 62.5846399\tbest: 62.4683942 (129)\ttotal: 855ms\tremaining: 421ms\n",
      "134:\tlearn: 42.9298329\ttest: 62.5100595\tbest: 62.4683942 (129)\ttotal: 858ms\tremaining: 413ms\n",
      "135:\tlearn: 42.8429323\ttest: 62.5555902\tbest: 62.4683942 (129)\ttotal: 861ms\tremaining: 405ms\n",
      "136:\tlearn: 42.8015813\ttest: 62.5617086\tbest: 62.4683942 (129)\ttotal: 863ms\tremaining: 397ms\n",
      "137:\tlearn: 42.7847413\ttest: 62.5556748\tbest: 62.4683942 (129)\ttotal: 866ms\tremaining: 389ms\n",
      "138:\tlearn: 42.6764000\ttest: 62.5092031\tbest: 62.4683942 (129)\ttotal: 869ms\tremaining: 381ms\n",
      "139:\tlearn: 42.5793081\ttest: 62.5881309\tbest: 62.4683942 (129)\ttotal: 871ms\tremaining: 373ms\n",
      "140:\tlearn: 42.3007002\ttest: 62.4637743\tbest: 62.4637743 (140)\ttotal: 875ms\tremaining: 366ms\n",
      "141:\tlearn: 42.1137913\ttest: 62.4018896\tbest: 62.4018896 (141)\ttotal: 878ms\tremaining: 359ms\n",
      "142:\tlearn: 42.0848277\ttest: 62.3962336\tbest: 62.3962336 (142)\ttotal: 882ms\tremaining: 351ms\n",
      "143:\tlearn: 41.8206037\ttest: 62.2747564\tbest: 62.2747564 (143)\ttotal: 888ms\tremaining: 345ms\n",
      "144:\tlearn: 41.7596766\ttest: 62.2666104\tbest: 62.2666104 (144)\ttotal: 892ms\tremaining: 338ms\n",
      "145:\tlearn: 41.7377410\ttest: 62.2633999\tbest: 62.2633999 (145)\ttotal: 895ms\tremaining: 331ms\n",
      "146:\tlearn: 41.5929082\ttest: 62.2921927\tbest: 62.2633999 (145)\ttotal: 898ms\tremaining: 324ms\n",
      "147:\tlearn: 41.4067043\ttest: 62.1858736\tbest: 62.1858736 (147)\ttotal: 902ms\tremaining: 317ms\n",
      "148:\tlearn: 41.1508408\ttest: 62.1913782\tbest: 62.1858736 (147)\ttotal: 905ms\tremaining: 310ms\n",
      "149:\tlearn: 40.9879299\ttest: 62.1273151\tbest: 62.1273151 (149)\ttotal: 908ms\tremaining: 303ms\n",
      "150:\tlearn: 40.8907116\ttest: 62.0654915\tbest: 62.0654915 (150)\ttotal: 911ms\tremaining: 296ms\n",
      "151:\tlearn: 40.7731108\ttest: 62.0675230\tbest: 62.0654915 (150)\ttotal: 913ms\tremaining: 288ms\n",
      "152:\tlearn: 40.5887464\ttest: 61.9958240\tbest: 61.9958240 (152)\ttotal: 918ms\tremaining: 282ms\n",
      "153:\tlearn: 40.3909473\ttest: 61.9202261\tbest: 61.9202261 (153)\ttotal: 922ms\tremaining: 275ms\n",
      "154:\tlearn: 40.2268873\ttest: 61.9330884\tbest: 61.9202261 (153)\ttotal: 924ms\tremaining: 268ms\n",
      "155:\tlearn: 40.0770534\ttest: 61.9160762\tbest: 61.9160762 (155)\ttotal: 926ms\tremaining: 261ms\n",
      "156:\tlearn: 39.8273909\ttest: 61.7824152\tbest: 61.7824152 (156)\ttotal: 929ms\tremaining: 254ms\n",
      "157:\tlearn: 39.7157178\ttest: 61.7928360\tbest: 61.7824152 (156)\ttotal: 933ms\tremaining: 248ms\n",
      "158:\tlearn: 39.5136630\ttest: 61.8009397\tbest: 61.7824152 (156)\ttotal: 937ms\tremaining: 242ms\n",
      "159:\tlearn: 39.2884179\ttest: 61.7601295\tbest: 61.7601295 (159)\ttotal: 941ms\tremaining: 235ms\n",
      "160:\tlearn: 39.1226967\ttest: 61.7148586\tbest: 61.7148586 (160)\ttotal: 944ms\tremaining: 229ms\n",
      "161:\tlearn: 38.9654555\ttest: 61.6303283\tbest: 61.6303283 (161)\ttotal: 950ms\tremaining: 223ms\n",
      "162:\tlearn: 38.8547825\ttest: 61.5540043\tbest: 61.5540043 (162)\ttotal: 953ms\tremaining: 216ms\n",
      "163:\tlearn: 38.7899065\ttest: 61.5209717\tbest: 61.5209717 (163)\ttotal: 955ms\tremaining: 210ms\n",
      "164:\tlearn: 38.7052933\ttest: 61.4447715\tbest: 61.4447715 (164)\ttotal: 958ms\tremaining: 203ms\n",
      "165:\tlearn: 38.6337887\ttest: 61.3794282\tbest: 61.3794282 (165)\ttotal: 960ms\tremaining: 197ms\n",
      "166:\tlearn: 38.5979565\ttest: 61.3793606\tbest: 61.3793606 (166)\ttotal: 963ms\tremaining: 190ms\n",
      "167:\tlearn: 38.4179623\ttest: 61.3509484\tbest: 61.3509484 (167)\ttotal: 966ms\tremaining: 184ms\n",
      "168:\tlearn: 38.2638853\ttest: 61.3021020\tbest: 61.3021020 (168)\ttotal: 970ms\tremaining: 178ms\n",
      "169:\tlearn: 38.0416851\ttest: 61.1190869\tbest: 61.1190869 (169)\ttotal: 973ms\tremaining: 172ms\n",
      "170:\tlearn: 38.0058938\ttest: 61.1144763\tbest: 61.1144763 (170)\ttotal: 976ms\tremaining: 165ms\n",
      "171:\tlearn: 37.8530072\ttest: 61.0486865\tbest: 61.0486865 (171)\ttotal: 978ms\tremaining: 159ms\n",
      "172:\tlearn: 37.8340516\ttest: 61.0434661\tbest: 61.0434661 (172)\ttotal: 981ms\tremaining: 153ms\n",
      "173:\tlearn: 37.7017739\ttest: 60.9934684\tbest: 60.9934684 (173)\ttotal: 983ms\tremaining: 147ms\n",
      "174:\tlearn: 37.5444934\ttest: 60.9730059\tbest: 60.9730059 (174)\ttotal: 986ms\tremaining: 141ms\n",
      "175:\tlearn: 37.4891472\ttest: 60.9649850\tbest: 60.9649850 (175)\ttotal: 988ms\tremaining: 135ms\n",
      "176:\tlearn: 37.4211426\ttest: 61.0385409\tbest: 60.9649850 (175)\ttotal: 990ms\tremaining: 129ms\n",
      "177:\tlearn: 37.2878600\ttest: 61.0574908\tbest: 60.9649850 (175)\ttotal: 993ms\tremaining: 123ms\n",
      "178:\tlearn: 37.1413094\ttest: 61.0315760\tbest: 60.9649850 (175)\ttotal: 995ms\tremaining: 117ms\n",
      "179:\tlearn: 36.9614876\ttest: 60.9907842\tbest: 60.9649850 (175)\ttotal: 998ms\tremaining: 111ms\n",
      "180:\tlearn: 36.8263512\ttest: 61.0176754\tbest: 60.9649850 (175)\ttotal: 1s\tremaining: 105ms\n",
      "181:\tlearn: 36.7821813\ttest: 61.0164173\tbest: 60.9649850 (175)\ttotal: 1.01s\tremaining: 99.5ms\n",
      "182:\tlearn: 36.6506623\ttest: 61.0160351\tbest: 60.9649850 (175)\ttotal: 1.01s\tremaining: 93.8ms\n",
      "183:\tlearn: 36.5615694\ttest: 61.0313737\tbest: 60.9649850 (175)\ttotal: 1.01s\tremaining: 88ms\n",
      "184:\tlearn: 36.3569980\ttest: 61.0301743\tbest: 60.9649850 (175)\ttotal: 1.01s\tremaining: 82.4ms\n",
      "185:\tlearn: 36.1227813\ttest: 61.0431538\tbest: 60.9649850 (175)\ttotal: 1.02s\tremaining: 76.6ms\n",
      "186:\tlearn: 35.9540508\ttest: 61.0614850\tbest: 60.9649850 (175)\ttotal: 1.02s\tremaining: 71ms\n",
      "187:\tlearn: 35.8446771\ttest: 61.0547932\tbest: 60.9649850 (175)\ttotal: 1.02s\tremaining: 65.3ms\n",
      "188:\tlearn: 35.7737064\ttest: 61.0132756\tbest: 60.9649850 (175)\ttotal: 1.02s\tremaining: 59.7ms\n",
      "189:\tlearn: 35.5468403\ttest: 61.0423998\tbest: 60.9649850 (175)\ttotal: 1.03s\tremaining: 54.1ms\n",
      "190:\tlearn: 35.4746967\ttest: 61.0202751\tbest: 60.9649850 (175)\ttotal: 1.03s\tremaining: 48.5ms\n",
      "191:\tlearn: 35.3416004\ttest: 61.0669456\tbest: 60.9649850 (175)\ttotal: 1.03s\tremaining: 43ms\n",
      "192:\tlearn: 35.2422198\ttest: 61.0644791\tbest: 60.9649850 (175)\ttotal: 1.03s\tremaining: 37.5ms\n",
      "193:\tlearn: 35.2045547\ttest: 61.0452109\tbest: 60.9649850 (175)\ttotal: 1.04s\tremaining: 32.1ms\n",
      "194:\tlearn: 35.0860650\ttest: 60.9813468\tbest: 60.9649850 (175)\ttotal: 1.04s\tremaining: 26.6ms\n",
      "195:\tlearn: 34.9796604\ttest: 61.0133522\tbest: 60.9649850 (175)\ttotal: 1.04s\tremaining: 21.2ms\n",
      "196:\tlearn: 34.8140003\ttest: 61.0081425\tbest: 60.9649850 (175)\ttotal: 1.04s\tremaining: 15.9ms\n",
      "197:\tlearn: 34.6779402\ttest: 61.0249691\tbest: 60.9649850 (175)\ttotal: 1.05s\tremaining: 10.6ms\n",
      "198:\tlearn: 34.5374624\ttest: 60.9748239\tbest: 60.9649850 (175)\ttotal: 1.05s\tremaining: 5.27ms\n",
      "199:\tlearn: 34.4265367\ttest: 60.9273952\tbest: 60.9273952 (199)\ttotal: 1.05s\tremaining: 0us\n",
      "\n",
      "bestTest = 60.92739518\n",
      "bestIteration = 199\n",
      "\n"
     ]
    },
    {
     "data": {
      "text/plain": [
       "<catboost.core.CatBoostRegressor at 0xc7512e8>"
      ]
     },
     "execution_count": 59,
     "metadata": {},
     "output_type": "execute_result"
    }
   ],
   "source": [
    "cr.fit(x_train, y_train,eval_set=(x_test, y_test))"
   ]
  },
  {
   "cell_type": "code",
   "execution_count": 60,
   "metadata": {},
   "outputs": [],
   "source": [
    "# Lets do predictions on out test data\n",
    "pred=cr.predict(x_test)"
   ]
  },
  {
   "cell_type": "code",
   "execution_count": 61,
   "metadata": {},
   "outputs": [],
   "source": [
    "C_pred_all_feature=pd.DataFrame(pred)#For Stack model"
   ]
  },
  {
   "cell_type": "code",
   "execution_count": 62,
   "metadata": {},
   "outputs": [],
   "source": [
    "#Error calculation\n",
    "RMSE = np.sqrt(mean_squared_error(y_test, pred))\n",
    "MAE = mean_absolute_error(y_test, pred)\n",
    "r_squre= r2_score(y_test, pred)"
   ]
  },
  {
   "cell_type": "code",
   "execution_count": 63,
   "metadata": {
    "scrolled": true
   },
   "outputs": [
    {
     "name": "stdout",
     "output_type": "stream",
     "text": [
      "RMSE : 60.927395184566386\n",
      "MAE: 38.97208851157851\n",
      "r_square: 0.6341489602391472\n"
     ]
    }
   ],
   "source": [
    "#Results \n",
    "print('RMSE :',RMSE) \n",
    "print('MAE:', MAE)\n",
    "print(\"r_square:\",r_squre)"
   ]
  },
  {
   "cell_type": "code",
   "execution_count": 64,
   "metadata": {
    "scrolled": false
   },
   "outputs": [
    {
     "name": "stdout",
     "output_type": "stream",
     "text": [
      "Fitting 3 folds for each of 8 candidates, totalling 24 fits\n"
     ]
    },
    {
     "name": "stderr",
     "output_type": "stream",
     "text": [
      "[Parallel(n_jobs=-1)]: Using backend LokyBackend with 4 concurrent workers.\n",
      "[Parallel(n_jobs=-1)]: Done  24 out of  24 | elapsed:   13.9s finished\n"
     ]
    },
    {
     "name": "stdout",
     "output_type": "stream",
     "text": [
      "Learning rate set to 0.094534\n",
      "0:\tlearn: 101.4283133\ttotal: 3.89ms\tremaining: 1.16s\n",
      "1:\tlearn: 99.5301059\ttotal: 7.81ms\tremaining: 1.16s\n",
      "2:\tlearn: 96.8352859\ttotal: 10.7ms\tremaining: 1.06s\n",
      "3:\tlearn: 95.1391335\ttotal: 13.6ms\tremaining: 1s\n",
      "4:\tlearn: 93.1997020\ttotal: 16.3ms\tremaining: 962ms\n",
      "5:\tlearn: 91.9490683\ttotal: 19.3ms\tremaining: 946ms\n",
      "6:\tlearn: 90.7847926\ttotal: 22.1ms\tremaining: 926ms\n",
      "7:\tlearn: 89.5585577\ttotal: 24.4ms\tremaining: 889ms\n",
      "8:\tlearn: 88.4353513\ttotal: 27.3ms\tremaining: 884ms\n",
      "9:\tlearn: 87.0731058\ttotal: 30.2ms\tremaining: 876ms\n",
      "10:\tlearn: 85.8498982\ttotal: 32.9ms\tremaining: 865ms\n",
      "11:\tlearn: 84.6222592\ttotal: 35.8ms\tremaining: 859ms\n",
      "12:\tlearn: 83.5333143\ttotal: 38.6ms\tremaining: 853ms\n",
      "13:\tlearn: 82.6014764\ttotal: 41.5ms\tremaining: 848ms\n",
      "14:\tlearn: 81.8701756\ttotal: 45.1ms\tremaining: 857ms\n",
      "15:\tlearn: 81.1574694\ttotal: 47.6ms\tremaining: 844ms\n",
      "16:\tlearn: 80.2710392\ttotal: 50.4ms\tremaining: 839ms\n",
      "17:\tlearn: 79.9198891\ttotal: 53.4ms\tremaining: 836ms\n",
      "18:\tlearn: 79.4654841\ttotal: 56.2ms\tremaining: 832ms\n",
      "19:\tlearn: 78.7265820\ttotal: 59.3ms\tremaining: 830ms\n",
      "20:\tlearn: 77.9684342\ttotal: 62.3ms\tremaining: 827ms\n",
      "21:\tlearn: 77.4696039\ttotal: 65.1ms\tremaining: 823ms\n",
      "22:\tlearn: 76.7281597\ttotal: 68.1ms\tremaining: 820ms\n",
      "23:\tlearn: 76.0902750\ttotal: 71.3ms\tremaining: 820ms\n",
      "24:\tlearn: 75.7832098\ttotal: 73.8ms\tremaining: 812ms\n",
      "25:\tlearn: 75.1900239\ttotal: 76.4ms\tremaining: 805ms\n",
      "26:\tlearn: 74.7083272\ttotal: 78.9ms\tremaining: 798ms\n",
      "27:\tlearn: 74.1130183\ttotal: 82ms\tremaining: 796ms\n",
      "28:\tlearn: 73.7183272\ttotal: 84.6ms\tremaining: 790ms\n",
      "29:\tlearn: 73.2295919\ttotal: 87.1ms\tremaining: 784ms\n",
      "30:\tlearn: 72.7996449\ttotal: 90ms\tremaining: 781ms\n",
      "31:\tlearn: 72.3598798\ttotal: 93ms\tremaining: 779ms\n",
      "32:\tlearn: 71.8790862\ttotal: 96.9ms\tremaining: 784ms\n",
      "33:\tlearn: 71.5519607\ttotal: 99.5ms\tremaining: 779ms\n",
      "34:\tlearn: 71.1468805\ttotal: 102ms\tremaining: 773ms\n",
      "35:\tlearn: 70.9465367\ttotal: 105ms\tremaining: 771ms\n",
      "36:\tlearn: 70.5511969\ttotal: 108ms\tremaining: 767ms\n",
      "37:\tlearn: 70.2054771\ttotal: 112ms\tremaining: 774ms\n",
      "38:\tlearn: 69.7818564\ttotal: 116ms\tremaining: 774ms\n",
      "39:\tlearn: 69.4420726\ttotal: 119ms\tremaining: 777ms\n",
      "40:\tlearn: 69.1464374\ttotal: 123ms\tremaining: 778ms\n",
      "41:\tlearn: 68.7933377\ttotal: 127ms\tremaining: 779ms\n",
      "42:\tlearn: 68.7493127\ttotal: 129ms\tremaining: 772ms\n",
      "43:\tlearn: 68.3576056\ttotal: 132ms\tremaining: 770ms\n",
      "44:\tlearn: 67.9592590\ttotal: 135ms\tremaining: 765ms\n",
      "45:\tlearn: 67.6537490\ttotal: 137ms\tremaining: 759ms\n",
      "46:\tlearn: 67.5536511\ttotal: 140ms\tremaining: 753ms\n",
      "47:\tlearn: 67.4039875\ttotal: 141ms\tremaining: 741ms\n",
      "48:\tlearn: 66.9561518\ttotal: 143ms\tremaining: 735ms\n",
      "49:\tlearn: 66.7620750\ttotal: 146ms\tremaining: 730ms\n",
      "50:\tlearn: 66.6605733\ttotal: 148ms\tremaining: 725ms\n",
      "51:\tlearn: 66.4784555\ttotal: 153ms\tremaining: 729ms\n",
      "52:\tlearn: 66.3181055\ttotal: 159ms\tremaining: 742ms\n",
      "53:\tlearn: 66.0481066\ttotal: 163ms\tremaining: 741ms\n",
      "54:\tlearn: 65.8117380\ttotal: 166ms\tremaining: 739ms\n",
      "55:\tlearn: 65.6599593\ttotal: 169ms\tremaining: 737ms\n",
      "56:\tlearn: 65.4223961\ttotal: 172ms\tremaining: 734ms\n",
      "57:\tlearn: 65.1863977\ttotal: 175ms\tremaining: 732ms\n",
      "58:\tlearn: 64.9008259\ttotal: 178ms\tremaining: 726ms\n",
      "59:\tlearn: 64.6845313\ttotal: 180ms\tremaining: 720ms\n",
      "60:\tlearn: 64.4936414\ttotal: 182ms\tremaining: 715ms\n",
      "61:\tlearn: 64.2599171\ttotal: 185ms\tremaining: 710ms\n",
      "62:\tlearn: 64.0464092\ttotal: 187ms\tremaining: 704ms\n",
      "63:\tlearn: 63.5559231\ttotal: 190ms\tremaining: 700ms\n",
      "64:\tlearn: 63.3256513\ttotal: 192ms\tremaining: 695ms\n",
      "65:\tlearn: 62.7194562\ttotal: 194ms\tremaining: 690ms\n",
      "66:\tlearn: 62.6577862\ttotal: 197ms\tremaining: 685ms\n",
      "67:\tlearn: 62.3524226\ttotal: 199ms\tremaining: 680ms\n",
      "68:\tlearn: 62.1207839\ttotal: 202ms\tremaining: 675ms\n",
      "69:\tlearn: 61.9244351\ttotal: 204ms\tremaining: 671ms\n",
      "70:\tlearn: 61.7689910\ttotal: 208ms\tremaining: 672ms\n",
      "71:\tlearn: 61.5181270\ttotal: 211ms\tremaining: 669ms\n",
      "72:\tlearn: 61.0504720\ttotal: 214ms\tremaining: 665ms\n",
      "73:\tlearn: 60.8996746\ttotal: 216ms\tremaining: 660ms\n",
      "74:\tlearn: 60.5915248\ttotal: 218ms\tremaining: 655ms\n",
      "75:\tlearn: 60.4397889\ttotal: 221ms\tremaining: 650ms\n",
      "76:\tlearn: 60.2474424\ttotal: 223ms\tremaining: 645ms\n",
      "77:\tlearn: 59.9590491\ttotal: 225ms\tremaining: 640ms\n",
      "78:\tlearn: 59.7283888\ttotal: 227ms\tremaining: 636ms\n",
      "79:\tlearn: 59.3907553\ttotal: 229ms\tremaining: 631ms\n",
      "80:\tlearn: 59.2155794\ttotal: 232ms\tremaining: 626ms\n",
      "81:\tlearn: 59.0504440\ttotal: 234ms\tremaining: 621ms\n",
      "82:\tlearn: 58.5049735\ttotal: 236ms\tremaining: 617ms\n",
      "83:\tlearn: 58.2138440\ttotal: 238ms\tremaining: 612ms\n",
      "84:\tlearn: 57.9741691\ttotal: 240ms\tremaining: 607ms\n",
      "85:\tlearn: 57.6992076\ttotal: 242ms\tremaining: 603ms\n",
      "86:\tlearn: 57.4898994\ttotal: 244ms\tremaining: 598ms\n",
      "87:\tlearn: 57.3247435\ttotal: 246ms\tremaining: 594ms\n",
      "88:\tlearn: 57.1138879\ttotal: 249ms\tremaining: 589ms\n",
      "89:\tlearn: 56.8335984\ttotal: 251ms\tremaining: 585ms\n",
      "90:\tlearn: 56.7904475\ttotal: 253ms\tremaining: 582ms\n",
      "91:\tlearn: 56.4455938\ttotal: 257ms\tremaining: 582ms\n",
      "92:\tlearn: 56.1501728\ttotal: 260ms\tremaining: 578ms\n",
      "93:\tlearn: 55.9143129\ttotal: 262ms\tremaining: 574ms\n",
      "94:\tlearn: 55.8152812\ttotal: 264ms\tremaining: 569ms\n",
      "95:\tlearn: 55.7376166\ttotal: 266ms\tremaining: 565ms\n",
      "96:\tlearn: 55.5735614\ttotal: 268ms\tremaining: 561ms\n",
      "97:\tlearn: 55.4884652\ttotal: 270ms\tremaining: 557ms\n",
      "98:\tlearn: 55.1606898\ttotal: 272ms\tremaining: 553ms\n",
      "99:\tlearn: 54.9411809\ttotal: 275ms\tremaining: 549ms\n",
      "100:\tlearn: 54.9015261\ttotal: 277ms\tremaining: 545ms\n",
      "101:\tlearn: 54.8661992\ttotal: 279ms\tremaining: 542ms\n",
      "102:\tlearn: 54.8323323\ttotal: 281ms\tremaining: 538ms\n",
      "103:\tlearn: 54.7552808\ttotal: 283ms\tremaining: 533ms\n",
      "104:\tlearn: 54.6832038\ttotal: 285ms\tremaining: 530ms\n",
      "105:\tlearn: 54.4972281\ttotal: 287ms\tremaining: 526ms\n",
      "106:\tlearn: 54.2254919\ttotal: 289ms\tremaining: 522ms\n",
      "107:\tlearn: 54.1175010\ttotal: 292ms\tremaining: 518ms\n",
      "108:\tlearn: 53.9334242\ttotal: 294ms\tremaining: 514ms\n",
      "109:\tlearn: 53.8028120\ttotal: 296ms\tremaining: 511ms\n",
      "110:\tlearn: 53.5592075\ttotal: 298ms\tremaining: 507ms\n",
      "111:\tlearn: 53.4610006\ttotal: 301ms\tremaining: 505ms\n",
      "112:\tlearn: 53.1673752\ttotal: 303ms\tremaining: 502ms\n",
      "113:\tlearn: 52.8982126\ttotal: 306ms\tremaining: 499ms\n",
      "114:\tlearn: 52.6296438\ttotal: 308ms\tremaining: 496ms\n",
      "115:\tlearn: 52.4222519\ttotal: 311ms\tremaining: 493ms\n",
      "116:\tlearn: 52.1115657\ttotal: 313ms\tremaining: 490ms\n",
      "117:\tlearn: 51.8560392\ttotal: 316ms\tremaining: 487ms\n",
      "118:\tlearn: 51.6955400\ttotal: 319ms\tremaining: 485ms\n",
      "119:\tlearn: 51.6562446\ttotal: 322ms\tremaining: 483ms\n",
      "120:\tlearn: 51.5184342\ttotal: 324ms\tremaining: 480ms\n",
      "121:\tlearn: 51.2477122\ttotal: 327ms\tremaining: 477ms\n",
      "122:\tlearn: 51.1228703\ttotal: 330ms\tremaining: 475ms\n",
      "123:\tlearn: 51.0985145\ttotal: 332ms\tremaining: 471ms\n",
      "124:\tlearn: 51.0589953\ttotal: 335ms\tremaining: 468ms\n",
      "125:\tlearn: 50.9242239\ttotal: 338ms\tremaining: 466ms\n",
      "126:\tlearn: 50.6445782\ttotal: 340ms\tremaining: 464ms\n",
      "127:\tlearn: 50.4127898\ttotal: 343ms\tremaining: 461ms\n",
      "128:\tlearn: 50.2698782\ttotal: 346ms\tremaining: 459ms\n",
      "129:\tlearn: 50.2219582\ttotal: 349ms\tremaining: 457ms\n",
      "130:\tlearn: 50.0120177\ttotal: 353ms\tremaining: 455ms\n",
      "131:\tlearn: 49.7752684\ttotal: 356ms\tremaining: 453ms\n",
      "132:\tlearn: 49.6993419\ttotal: 361ms\tremaining: 453ms\n",
      "133:\tlearn: 49.6607133\ttotal: 367ms\tremaining: 454ms\n",
      "134:\tlearn: 49.6256083\ttotal: 370ms\tremaining: 452ms\n",
      "135:\tlearn: 49.5985950\ttotal: 373ms\tremaining: 450ms\n",
      "136:\tlearn: 49.4213601\ttotal: 376ms\tremaining: 447ms\n",
      "137:\tlearn: 49.2408907\ttotal: 379ms\tremaining: 445ms\n",
      "138:\tlearn: 49.0001237\ttotal: 381ms\tremaining: 442ms\n",
      "139:\tlearn: 48.8025453\ttotal: 384ms\tremaining: 439ms\n",
      "140:\tlearn: 48.7057391\ttotal: 387ms\tremaining: 436ms\n",
      "141:\tlearn: 48.5250883\ttotal: 389ms\tremaining: 433ms\n",
      "142:\tlearn: 48.3534802\ttotal: 392ms\tremaining: 430ms\n",
      "143:\tlearn: 48.2264540\ttotal: 395ms\tremaining: 427ms\n",
      "144:\tlearn: 48.1968775\ttotal: 397ms\tremaining: 425ms\n",
      "145:\tlearn: 47.9226907\ttotal: 400ms\tremaining: 422ms\n",
      "146:\tlearn: 47.5779703\ttotal: 402ms\tremaining: 419ms\n",
      "147:\tlearn: 47.3402636\ttotal: 405ms\tremaining: 416ms\n",
      "148:\tlearn: 47.2020620\ttotal: 408ms\tremaining: 413ms\n",
      "149:\tlearn: 46.9442282\ttotal: 411ms\tremaining: 411ms\n",
      "150:\tlearn: 46.8346809\ttotal: 416ms\tremaining: 410ms\n",
      "151:\tlearn: 46.6141421\ttotal: 420ms\tremaining: 409ms\n",
      "152:\tlearn: 46.4255534\ttotal: 423ms\tremaining: 406ms\n",
      "153:\tlearn: 46.3919607\ttotal: 426ms\tremaining: 404ms\n",
      "154:\tlearn: 46.2967353\ttotal: 429ms\tremaining: 401ms\n",
      "155:\tlearn: 46.2703690\ttotal: 432ms\tremaining: 399ms\n",
      "156:\tlearn: 46.1351215\ttotal: 436ms\tremaining: 397ms\n",
      "157:\tlearn: 45.9014738\ttotal: 438ms\tremaining: 394ms\n",
      "158:\tlearn: 45.8767884\ttotal: 440ms\tremaining: 390ms\n",
      "159:\tlearn: 45.6571491\ttotal: 442ms\tremaining: 387ms\n",
      "160:\tlearn: 45.6356801\ttotal: 444ms\tremaining: 384ms\n",
      "161:\tlearn: 45.6124667\ttotal: 447ms\tremaining: 381ms\n",
      "162:\tlearn: 45.4910295\ttotal: 449ms\tremaining: 378ms\n"
     ]
    },
    {
     "name": "stdout",
     "output_type": "stream",
     "text": [
      "163:\tlearn: 45.3264555\ttotal: 452ms\tremaining: 375ms\n",
      "164:\tlearn: 45.1362805\ttotal: 455ms\tremaining: 372ms\n",
      "165:\tlearn: 45.0331846\ttotal: 457ms\tremaining: 369ms\n",
      "166:\tlearn: 44.8821767\ttotal: 460ms\tremaining: 366ms\n",
      "167:\tlearn: 44.8043709\ttotal: 462ms\tremaining: 363ms\n",
      "168:\tlearn: 44.7315123\ttotal: 464ms\tremaining: 360ms\n",
      "169:\tlearn: 44.5816172\ttotal: 467ms\tremaining: 357ms\n",
      "170:\tlearn: 44.4322103\ttotal: 469ms\tremaining: 354ms\n",
      "171:\tlearn: 44.3427645\ttotal: 472ms\tremaining: 351ms\n",
      "172:\tlearn: 44.2061086\ttotal: 474ms\tremaining: 348ms\n",
      "173:\tlearn: 44.1980627\ttotal: 477ms\tremaining: 345ms\n",
      "174:\tlearn: 43.9944123\ttotal: 479ms\tremaining: 342ms\n",
      "175:\tlearn: 43.9809788\ttotal: 482ms\tremaining: 340ms\n",
      "176:\tlearn: 43.8557495\ttotal: 484ms\tremaining: 337ms\n",
      "177:\tlearn: 43.6706659\ttotal: 487ms\tremaining: 334ms\n",
      "178:\tlearn: 43.4908503\ttotal: 489ms\tremaining: 331ms\n",
      "179:\tlearn: 43.3370200\ttotal: 492ms\tremaining: 328ms\n",
      "180:\tlearn: 43.2455642\ttotal: 494ms\tremaining: 325ms\n",
      "181:\tlearn: 43.2260134\ttotal: 497ms\tremaining: 322ms\n",
      "182:\tlearn: 43.0762094\ttotal: 499ms\tremaining: 319ms\n",
      "183:\tlearn: 42.9093076\ttotal: 502ms\tremaining: 316ms\n",
      "184:\tlearn: 42.7940509\ttotal: 504ms\tremaining: 314ms\n",
      "185:\tlearn: 42.6015319\ttotal: 508ms\tremaining: 311ms\n",
      "186:\tlearn: 42.4660058\ttotal: 511ms\tremaining: 309ms\n",
      "187:\tlearn: 42.4013314\ttotal: 513ms\tremaining: 306ms\n",
      "188:\tlearn: 42.3368494\ttotal: 516ms\tremaining: 303ms\n",
      "189:\tlearn: 42.2683424\ttotal: 518ms\tremaining: 300ms\n",
      "190:\tlearn: 42.1253605\ttotal: 520ms\tremaining: 297ms\n",
      "191:\tlearn: 42.0703711\ttotal: 522ms\tremaining: 294ms\n",
      "192:\tlearn: 41.8807385\ttotal: 525ms\tremaining: 291ms\n",
      "193:\tlearn: 41.8688563\ttotal: 527ms\tremaining: 288ms\n",
      "194:\tlearn: 41.8107312\ttotal: 529ms\tremaining: 285ms\n",
      "195:\tlearn: 41.7926637\ttotal: 531ms\tremaining: 282ms\n",
      "196:\tlearn: 41.7600972\ttotal: 533ms\tremaining: 279ms\n",
      "197:\tlearn: 41.6722476\ttotal: 535ms\tremaining: 276ms\n",
      "198:\tlearn: 41.6041806\ttotal: 538ms\tremaining: 273ms\n",
      "199:\tlearn: 41.5562517\ttotal: 540ms\tremaining: 270ms\n",
      "200:\tlearn: 41.3959840\ttotal: 542ms\tremaining: 267ms\n",
      "201:\tlearn: 41.2517909\ttotal: 544ms\tremaining: 264ms\n",
      "202:\tlearn: 41.0693758\ttotal: 546ms\tremaining: 261ms\n",
      "203:\tlearn: 40.9235903\ttotal: 548ms\tremaining: 258ms\n",
      "204:\tlearn: 40.8010502\ttotal: 551ms\tremaining: 255ms\n",
      "205:\tlearn: 40.7286356\ttotal: 553ms\tremaining: 252ms\n",
      "206:\tlearn: 40.5826924\ttotal: 555ms\tremaining: 249ms\n",
      "207:\tlearn: 40.4602285\ttotal: 557ms\tremaining: 246ms\n",
      "208:\tlearn: 40.2657080\ttotal: 559ms\tremaining: 243ms\n",
      "209:\tlearn: 40.1113520\ttotal: 561ms\tremaining: 241ms\n",
      "210:\tlearn: 39.9890076\ttotal: 563ms\tremaining: 238ms\n",
      "211:\tlearn: 39.8828248\ttotal: 565ms\tremaining: 235ms\n",
      "212:\tlearn: 39.7526362\ttotal: 568ms\tremaining: 232ms\n",
      "213:\tlearn: 39.6635648\ttotal: 570ms\tremaining: 229ms\n",
      "214:\tlearn: 39.5726371\ttotal: 572ms\tremaining: 226ms\n",
      "215:\tlearn: 39.4282309\ttotal: 574ms\tremaining: 223ms\n",
      "216:\tlearn: 39.2883819\ttotal: 576ms\tremaining: 220ms\n",
      "217:\tlearn: 39.1329890\ttotal: 578ms\tremaining: 218ms\n",
      "218:\tlearn: 39.0812510\ttotal: 580ms\tremaining: 215ms\n",
      "219:\tlearn: 38.9948677\ttotal: 583ms\tremaining: 212ms\n",
      "220:\tlearn: 38.9186684\ttotal: 585ms\tremaining: 209ms\n",
      "221:\tlearn: 38.7913410\ttotal: 587ms\tremaining: 206ms\n",
      "222:\tlearn: 38.7115418\ttotal: 589ms\tremaining: 203ms\n",
      "223:\tlearn: 38.5378602\ttotal: 591ms\tremaining: 201ms\n",
      "224:\tlearn: 38.4299656\ttotal: 593ms\tremaining: 198ms\n",
      "225:\tlearn: 38.2369520\ttotal: 595ms\tremaining: 195ms\n",
      "226:\tlearn: 38.1470215\ttotal: 597ms\tremaining: 192ms\n",
      "227:\tlearn: 38.1376276\ttotal: 599ms\tremaining: 189ms\n",
      "228:\tlearn: 37.9590006\ttotal: 601ms\tremaining: 186ms\n",
      "229:\tlearn: 37.8868256\ttotal: 604ms\tremaining: 184ms\n",
      "230:\tlearn: 37.7288945\ttotal: 607ms\tremaining: 181ms\n",
      "231:\tlearn: 37.6328352\ttotal: 610ms\tremaining: 179ms\n",
      "232:\tlearn: 37.6116741\ttotal: 612ms\tremaining: 176ms\n",
      "233:\tlearn: 37.5113600\ttotal: 615ms\tremaining: 173ms\n",
      "234:\tlearn: 37.4140687\ttotal: 617ms\tremaining: 171ms\n",
      "235:\tlearn: 37.2874183\ttotal: 620ms\tremaining: 168ms\n",
      "236:\tlearn: 37.1777331\ttotal: 622ms\tremaining: 165ms\n",
      "237:\tlearn: 37.0818965\ttotal: 625ms\tremaining: 163ms\n",
      "238:\tlearn: 37.0113919\ttotal: 628ms\tremaining: 160ms\n",
      "239:\tlearn: 36.9141950\ttotal: 630ms\tremaining: 158ms\n",
      "240:\tlearn: 36.8244178\ttotal: 633ms\tremaining: 155ms\n",
      "241:\tlearn: 36.7502414\ttotal: 635ms\tremaining: 152ms\n",
      "242:\tlearn: 36.6674752\ttotal: 637ms\tremaining: 150ms\n",
      "243:\tlearn: 36.5773360\ttotal: 640ms\tremaining: 147ms\n",
      "244:\tlearn: 36.4519020\ttotal: 642ms\tremaining: 144ms\n",
      "245:\tlearn: 36.4352476\ttotal: 645ms\tremaining: 141ms\n",
      "246:\tlearn: 36.3575110\ttotal: 647ms\tremaining: 139ms\n",
      "247:\tlearn: 36.3317083\ttotal: 649ms\tremaining: 136ms\n",
      "248:\tlearn: 36.2073566\ttotal: 652ms\tremaining: 133ms\n",
      "249:\tlearn: 36.1416458\ttotal: 655ms\tremaining: 131ms\n",
      "250:\tlearn: 36.1313192\ttotal: 657ms\tremaining: 128ms\n",
      "251:\tlearn: 36.0976709\ttotal: 661ms\tremaining: 126ms\n",
      "252:\tlearn: 36.0232645\ttotal: 664ms\tremaining: 123ms\n",
      "253:\tlearn: 35.9083774\ttotal: 667ms\tremaining: 121ms\n",
      "254:\tlearn: 35.8660297\ttotal: 669ms\tremaining: 118ms\n",
      "255:\tlearn: 35.7885724\ttotal: 671ms\tremaining: 115ms\n",
      "256:\tlearn: 35.5919460\ttotal: 674ms\tremaining: 113ms\n",
      "257:\tlearn: 35.5308560\ttotal: 676ms\tremaining: 110ms\n",
      "258:\tlearn: 35.4630078\ttotal: 678ms\tremaining: 107ms\n",
      "259:\tlearn: 35.3003416\ttotal: 680ms\tremaining: 105ms\n",
      "260:\tlearn: 35.2972439\ttotal: 683ms\tremaining: 102ms\n",
      "261:\tlearn: 35.1823030\ttotal: 685ms\tremaining: 99.3ms\n",
      "262:\tlearn: 35.1222054\ttotal: 687ms\tremaining: 96.6ms\n",
      "263:\tlearn: 35.0486602\ttotal: 689ms\tremaining: 93.9ms\n",
      "264:\tlearn: 34.9435806\ttotal: 691ms\tremaining: 91.3ms\n",
      "265:\tlearn: 34.8897136\ttotal: 693ms\tremaining: 88.6ms\n",
      "266:\tlearn: 34.8262114\ttotal: 695ms\tremaining: 85.9ms\n",
      "267:\tlearn: 34.6848048\ttotal: 697ms\tremaining: 83.3ms\n",
      "268:\tlearn: 34.5778810\ttotal: 700ms\tremaining: 80.6ms\n",
      "269:\tlearn: 34.4470004\ttotal: 702ms\tremaining: 78ms\n",
      "270:\tlearn: 34.3471409\ttotal: 704ms\tremaining: 75.3ms\n",
      "271:\tlearn: 34.2650512\ttotal: 706ms\tremaining: 72.7ms\n",
      "272:\tlearn: 34.1694134\ttotal: 708ms\tremaining: 70ms\n",
      "273:\tlearn: 34.0633479\ttotal: 710ms\tremaining: 67.4ms\n",
      "274:\tlearn: 34.0481534\ttotal: 712ms\tremaining: 64.7ms\n",
      "275:\tlearn: 33.9289197\ttotal: 714ms\tremaining: 62.1ms\n",
      "276:\tlearn: 33.8020375\ttotal: 716ms\tremaining: 59.5ms\n",
      "277:\tlearn: 33.7742939\ttotal: 718ms\tremaining: 56.9ms\n",
      "278:\tlearn: 33.6754559\ttotal: 720ms\tremaining: 54.2ms\n",
      "279:\tlearn: 33.5805792\ttotal: 723ms\tremaining: 51.6ms\n",
      "280:\tlearn: 33.4673656\ttotal: 725ms\tremaining: 49ms\n",
      "281:\tlearn: 33.3733660\ttotal: 727ms\tremaining: 46.4ms\n",
      "282:\tlearn: 33.2647638\ttotal: 729ms\tremaining: 43.8ms\n",
      "283:\tlearn: 33.2227771\ttotal: 731ms\tremaining: 41.2ms\n",
      "284:\tlearn: 33.1953806\ttotal: 733ms\tremaining: 38.6ms\n",
      "285:\tlearn: 33.0589773\ttotal: 735ms\tremaining: 36ms\n",
      "286:\tlearn: 33.0031237\ttotal: 737ms\tremaining: 33.4ms\n",
      "287:\tlearn: 32.9342507\ttotal: 739ms\tremaining: 30.8ms\n",
      "288:\tlearn: 32.8010060\ttotal: 741ms\tremaining: 28.2ms\n",
      "289:\tlearn: 32.7518071\ttotal: 743ms\tremaining: 25.6ms\n",
      "290:\tlearn: 32.6765034\ttotal: 746ms\tremaining: 23.1ms\n",
      "291:\tlearn: 32.6562102\ttotal: 748ms\tremaining: 20.5ms\n",
      "292:\tlearn: 32.6070760\ttotal: 750ms\tremaining: 17.9ms\n",
      "293:\tlearn: 32.5680512\ttotal: 752ms\tremaining: 15.3ms\n",
      "294:\tlearn: 32.4436887\ttotal: 754ms\tremaining: 12.8ms\n",
      "295:\tlearn: 32.4170633\ttotal: 757ms\tremaining: 10.2ms\n",
      "296:\tlearn: 32.3577240\ttotal: 759ms\tremaining: 7.67ms\n",
      "297:\tlearn: 32.2563246\ttotal: 762ms\tremaining: 5.11ms\n",
      "298:\tlearn: 32.1996758\ttotal: 764ms\tremaining: 2.56ms\n",
      "299:\tlearn: 32.1912748\ttotal: 767ms\tremaining: 0us\n"
     ]
    },
    {
     "data": {
      "text/plain": [
       "GridSearchCV(cv=3, error_score=nan,\n",
       "             estimator=<catboost.core.CatBoostRegressor object at 0x000000000C719080>,\n",
       "             iid='deprecated', n_jobs=-1,\n",
       "             param_grid={'iterations': [100, 200, 300, 400],\n",
       "                         'loss_function': ['MAE', 'RMSE']},\n",
       "             pre_dispatch='2*n_jobs', refit=True, return_train_score=False,\n",
       "             scoring=None, verbose=1)"
      ]
     },
     "execution_count": 64,
     "metadata": {},
     "output_type": "execute_result"
    }
   ],
   "source": [
    "#Lets do hyperparameter tunning \n",
    "\n",
    "from sklearn.model_selection import GridSearchCV\n",
    "\n",
    "cat1 = CatBoostRegressor()\n",
    "parameters = {\n",
    "                'iterations': [100,200,300,400],\n",
    "                'loss_function': ['MAE', 'RMSE'],\n",
    "                \n",
    "               \n",
    "}\n",
    "\n",
    "cv = GridSearchCV(cat1, parameters, cv=3, n_jobs = -1,verbose = 1)\n",
    "cv.fit(x_train, y_train)"
   ]
  },
  {
   "cell_type": "code",
   "execution_count": 65,
   "metadata": {
    "scrolled": true
   },
   "outputs": [
    {
     "data": {
      "text/plain": [
       "{'iterations': 300, 'loss_function': 'RMSE'}"
      ]
     },
     "execution_count": 65,
     "metadata": {},
     "output_type": "execute_result"
    }
   ],
   "source": [
    "cv.best_params_"
   ]
  },
  {
   "cell_type": "markdown",
   "metadata": {},
   "source": [
    "# KNN"
   ]
  },
  {
   "cell_type": "code",
   "execution_count": 66,
   "metadata": {},
   "outputs": [],
   "source": [
    "from sklearn.neighbors import KNeighborsRegressor\n",
    "knn=KNeighborsRegressor()"
   ]
  },
  {
   "cell_type": "code",
   "execution_count": 67,
   "metadata": {},
   "outputs": [
    {
     "data": {
      "text/plain": [
       "KNeighborsRegressor(algorithm='auto', leaf_size=30, metric='minkowski',\n",
       "                    metric_params=None, n_jobs=None, n_neighbors=5, p=2,\n",
       "                    weights='uniform')"
      ]
     },
     "execution_count": 67,
     "metadata": {},
     "output_type": "execute_result"
    }
   ],
   "source": [
    "knn.fit(x_train,y_train)"
   ]
  },
  {
   "cell_type": "code",
   "execution_count": 68,
   "metadata": {},
   "outputs": [],
   "source": [
    "pred=knn.predict(x_test)"
   ]
  },
  {
   "cell_type": "code",
   "execution_count": 69,
   "metadata": {},
   "outputs": [],
   "source": [
    "#Error calculation\n",
    "RMSE = np.sqrt(mean_squared_error(y_test, pred))\n",
    "MAE = mean_absolute_error(y_test, pred)\n",
    "r_squre= r2_score(y_test, pred)"
   ]
  },
  {
   "cell_type": "code",
   "execution_count": 70,
   "metadata": {},
   "outputs": [
    {
     "name": "stdout",
     "output_type": "stream",
     "text": [
      "RMSE : 79.98602369017429\n",
      "MAE: 52.641992882562285\n",
      "r_square: 0.369467776687173\n"
     ]
    }
   ],
   "source": [
    "#Results \n",
    "print('RMSE :',RMSE) \n",
    "print('MAE:', MAE)\n",
    "print(\"r_square:\",r_squre)"
   ]
  },
  {
   "cell_type": "code",
   "execution_count": 71,
   "metadata": {},
   "outputs": [
    {
     "name": "stdout",
     "output_type": "stream",
     "text": [
      "Fitting 3 folds for each of 16 candidates, totalling 48 fits\n"
     ]
    },
    {
     "name": "stderr",
     "output_type": "stream",
     "text": [
      "[Parallel(n_jobs=-1)]: Using backend LokyBackend with 4 concurrent workers.\n",
      "[Parallel(n_jobs=-1)]: Done  41 out of  48 | elapsed:    0.4s remaining:    0.0s\n",
      "[Parallel(n_jobs=-1)]: Done  48 out of  48 | elapsed:    0.4s finished\n"
     ]
    },
    {
     "data": {
      "text/plain": [
       "GridSearchCV(cv=3, error_score=nan,\n",
       "             estimator=KNeighborsRegressor(algorithm='auto', leaf_size=30,\n",
       "                                           metric='minkowski',\n",
       "                                           metric_params=None, n_jobs=None,\n",
       "                                           n_neighbors=5, p=2,\n",
       "                                           weights='uniform'),\n",
       "             iid='deprecated', n_jobs=-1,\n",
       "             param_grid={'algorithm': ['auto', 'ball_tree', 'kd_tree', 'brute'],\n",
       "                         'n_neighbors': [5, 7, 10, 12]},\n",
       "             pre_dispatch='2*n_jobs', refit=True, return_train_score=False,\n",
       "             scoring=None, verbose=1)"
      ]
     },
     "execution_count": 71,
     "metadata": {},
     "output_type": "execute_result"
    }
   ],
   "source": [
    "#Lets do hyperparameter tunning \n",
    "\n",
    "from sklearn.model_selection import GridSearchCV\n",
    "\n",
    "knn1 = KNeighborsRegressor()\n",
    "parameters = {\n",
    "                'n_neighbors': [5,7,10,12],\n",
    "                'algorithm' : ['auto', 'ball_tree', 'kd_tree', 'brute']\n",
    "                \n",
    "               \n",
    "}\n",
    "\n",
    "cv = GridSearchCV(knn1, parameters, cv=3, n_jobs = -1,verbose = 1)\n",
    "cv.fit(x_train, y_train)"
   ]
  },
  {
   "cell_type": "code",
   "execution_count": 72,
   "metadata": {},
   "outputs": [
    {
     "data": {
      "text/plain": [
       "{'algorithm': 'ball_tree', 'n_neighbors': 12}"
      ]
     },
     "execution_count": 72,
     "metadata": {},
     "output_type": "execute_result"
    }
   ],
   "source": [
    "cv.best_params_"
   ]
  },
  {
   "cell_type": "markdown",
   "metadata": {},
   "source": [
    "# Stack Model "
   ]
  },
  {
   "cell_type": "markdown",
   "metadata": {},
   "source": [
    "Lest stack Two models 1. Gradient Boosting 2. CatBoosting \n",
    "And meta estimator- Random Forest \n",
    "\n",
    "This is a special method where we first segment the dataset as training and testing portions.Then we use the training set to train multiple regressors(base learners) and obtain their predictions made on the test set. Then we stack the predicted columns vertically which we consider as features while having the actual values of these samples in the last column as targets.Now we have created a new dataset which we give to another Regressor(meta learner) to identify patterns/relationships between predictions and actual values."
   ]
  },
  {
   "cell_type": "code",
   "execution_count": 73,
   "metadata": {},
   "outputs": [],
   "source": [
    "# Now Lets concat the 2 prediction datafreames and one Actual data frame\n",
    "#actual=pd.DataFrame(y_test)"
   ]
  },
  {
   "cell_type": "code",
   "execution_count": 74,
   "metadata": {
    "scrolled": false
   },
   "outputs": [],
   "source": [
    "#actual.to_csv(\"True.csv\",index=0,columns=actual.columns)"
   ]
  },
  {
   "cell_type": "code",
   "execution_count": 75,
   "metadata": {},
   "outputs": [],
   "source": [
    "#G_pred_a.columns=[\"Prediction1\"]\n",
    "#C_pred.columns=[\"Prediction2\"]"
   ]
  },
  {
   "cell_type": "code",
   "execution_count": 76,
   "metadata": {},
   "outputs": [],
   "source": [
    "#sd=pd.read_csv(\"priction_join.csv\")"
   ]
  },
  {
   "cell_type": "code",
   "execution_count": 77,
   "metadata": {
    "scrolled": false
   },
   "outputs": [],
   "source": [
    "#sd.info()"
   ]
  },
  {
   "cell_type": "code",
   "execution_count": 78,
   "metadata": {
    "scrolled": true
   },
   "outputs": [],
   "source": [
    "#Lets define X and Y\n",
    "#x=sd.drop(\"CT Signal to LIve\",axis=1)\n",
    "#y=sd[\"CT Signal to LIve\"]"
   ]
  },
  {
   "cell_type": "code",
   "execution_count": 79,
   "metadata": {},
   "outputs": [],
   "source": [
    "#x_train,x_test,y_train,y_test=train_test_split(x,y,test_size=0.3,random_state=100)"
   ]
  },
  {
   "cell_type": "code",
   "execution_count": 80,
   "metadata": {
    "scrolled": false
   },
   "outputs": [],
   "source": [
    "#stacker= RandomForestRegressor(n_estimators=100,max_depth=5)"
   ]
  },
  {
   "cell_type": "code",
   "execution_count": 81,
   "metadata": {},
   "outputs": [],
   "source": [
    "#stacker.fit(x_train,y_train)"
   ]
  },
  {
   "cell_type": "code",
   "execution_count": 82,
   "metadata": {
    "scrolled": true
   },
   "outputs": [],
   "source": [
    "#stcker_pred=stacker.predict(x_test)"
   ]
  },
  {
   "cell_type": "markdown",
   "metadata": {
    "scrolled": true
   },
   "source": [
    "#Error calculation\n",
    "RMSE = np.sqrt(mean_squared_error(y_test, stcker_pred))\n",
    "MAE = mean_absolute_error(y_test, stcker_pred)\n",
    "r_squre= r2_score(y_test, stcker_pred)"
   ]
  },
  {
   "cell_type": "markdown",
   "metadata": {
    "scrolled": true
   },
   "source": [
    "#Results \n",
    "print('RMSE :',RMSE) \n",
    "print('MAE:', MAE)\n",
    "print(\"r_square:\",r_squre)"
   ]
  },
  {
   "cell_type": "markdown",
   "metadata": {
    "scrolled": true
   },
   "source": [
    "#Lets do hyperparameter tunning \n",
    "\n",
    "from sklearn.model_selection import GridSearchCV\n",
    "\n",
    "rf = RandomForestRegressor()\n",
    "parameters = {\n",
    "    'n_estimators': [100,200,300,400,500],\n",
    "    'max_depth' : [2,3,4,5,6,7,8,None]\n",
    "}\n",
    "\n",
    "cv = GridSearchCV(rf, parameters, cv=3, n_jobs = -1,verbose = 1)\n",
    "cv.fit(x_train, y_train)"
   ]
  },
  {
   "cell_type": "markdown",
   "metadata": {
    "scrolled": true
   },
   "source": [
    "cv.best_params_"
   ]
  },
  {
   "cell_type": "code",
   "execution_count": null,
   "metadata": {},
   "outputs": [],
   "source": []
  },
  {
   "cell_type": "code",
   "execution_count": null,
   "metadata": {},
   "outputs": [],
   "source": []
  }
 ],
 "metadata": {
  "kernelspec": {
   "display_name": "Python 3",
   "language": "python",
   "name": "python3"
  },
  "language_info": {
   "codemirror_mode": {
    "name": "ipython",
    "version": 3
   },
   "file_extension": ".py",
   "mimetype": "text/x-python",
   "name": "python",
   "nbconvert_exporter": "python",
   "pygments_lexer": "ipython3",
   "version": "3.7.3"
  }
 },
 "nbformat": 4,
 "nbformat_minor": 4
}
