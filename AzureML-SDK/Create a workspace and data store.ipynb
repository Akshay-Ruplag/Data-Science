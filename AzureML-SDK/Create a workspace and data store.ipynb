{
 "cells": [
  {
   "cell_type": "code",
   "execution_count": 1,
   "metadata": {
    "scrolled": true
   },
   "outputs": [
    {
     "name": "stderr",
     "output_type": "stream",
     "text": [
      "Failure while loading azureml_run_type_providers. Failed to load entrypoint automl = azureml.train.automl.run:AutoMLRun._from_run_dto with exception (cryptography 3.1.1 (c:\\users\\v-akrupl\\anaconda3\\lib\\site-packages), Requirement.parse('cryptography<4.0.0,>=3.3.1; extra == \"crypto\"'), {'PyJWT'}).\n"
     ]
    }
   ],
   "source": [
    "#!pip install azureml-sdk[notebooks]\n",
    "from azureml.core import Workspace"
   ]
  },
  {
   "cell_type": "code",
   "execution_count": 5,
   "metadata": {
    "scrolled": true
   },
   "outputs": [
    {
     "name": "stdout",
     "output_type": "stream",
     "text": [
      "Performing interactive authentication. Please follow the instructions on the terminal.\n"
     ]
    },
    {
     "name": "stderr",
     "output_type": "stream",
     "text": [
      "Note, we have launched a browser for you to login. For old experience with device code, use \"az login --use-device-code\"\n"
     ]
    },
    {
     "name": "stdout",
     "output_type": "stream",
     "text": [
      "You have logged in. Now let us find all the subscriptions to which you have access...\n",
      "Interactive authentication successfully completed.\n"
     ]
    },
    {
     "name": "stderr",
     "output_type": "stream",
     "text": [
      "UserWarning: The resource group doesn't exist or was not provided. AzureML SDK is creating a resource group=AzureML-SDK-RG1 in location=centralindia using subscription=61c74121-8c33-45a0-8c9d-0335cc850e80.\n"
     ]
    },
    {
     "name": "stdout",
     "output_type": "stream",
     "text": [
      "Deploying AppInsights with name azuremlsinsights012e2e04.\n",
      "Deployed AppInsights with name azuremlsinsights012e2e04. Took 4.25 seconds.\n",
      "Deploying StorageAccount with name azuremlsstorage720b02ad9.\n",
      "Deploying KeyVault with name azuremlskeyvault9de89b6e.\n",
      "Deployed KeyVault with name azuremlskeyvault9de89b6e. Took 22.83 seconds.\n",
      "Deployed StorageAccount with name azuremlsstorage720b02ad9. Took 25.0 seconds.\n",
      "Deploying Workspace with name AzureML-SDK-ws01.\n",
      "Deployed Workspace with name AzureML-SDK-ws01. Took 85.52 seconds.\n"
     ]
    }
   ],
   "source": [
    "#create a workspace\n",
    "ws=Workspace.create(name='AzureML-SDK-ws01',subscription_id='61c74121-8c33-45a0-8c9d-0335cc850e80',\n",
    "                   resource_group='AzureML-SDK-RG1',\n",
    "                   create_resource_group=True,\n",
    "                   location='centralindia')"
   ]
  },
  {
   "cell_type": "code",
   "execution_count": 6,
   "metadata": {},
   "outputs": [],
   "source": [
    "ws.write_config()"
   ]
  },
  {
   "cell_type": "code",
   "execution_count": 7,
   "metadata": {},
   "outputs": [],
   "source": [
    "from azureml.core import Datastore"
   ]
  },
  {
   "cell_type": "code",
   "execution_count": 8,
   "metadata": {},
   "outputs": [],
   "source": [
    "#Create a datastore\n",
    "az_store=Datastore.register_azure_blob_container(workspace=ws,\n",
    "                                                datastore_name='azure_sdk_bob01',\n",
    "                                                container_name='azure-con01',\n",
    "                                                account_name='azuremlsa02',\n",
    "                                                account_key='uiBBK1Rc0m34Cry3G7TFeJUs15ZBAiJqHob34z+loN1if2X2Q4KbaS/eTHrycUFJtWuC3F2zIQxLt+Qy0VoTHw==')"
   ]
  }
 ],
 "metadata": {
  "kernelspec": {
   "display_name": "Python 3",
   "language": "python",
   "name": "python3"
  },
  "language_info": {
   "codemirror_mode": {
    "name": "ipython",
    "version": 3
   },
   "file_extension": ".py",
   "mimetype": "text/x-python",
   "name": "python",
   "nbconvert_exporter": "python",
   "pygments_lexer": "ipython3",
   "version": "3.8.5"
  }
 },
 "nbformat": 4,
 "nbformat_minor": 4
}
