{
 "cells": [
  {
   "cell_type": "code",
   "execution_count": 1,
   "metadata": {},
   "outputs": [
    {
     "name": "stdout",
     "output_type": "stream",
     "text": [
      "Requirement already satisfied: numpy in c:\\program files (x86)\\anaconda\\lib\\site-packages (1.14.5)\n",
      "pip 10.0.1 from C:\\Program Files (x86)\\Anaconda\\lib\\site-packages\\pip (python 3.6)\n",
      "\n"
     ]
    }
   ],
   "source": [
    "!pip install numpy\n",
    "!pip --version\n",
    "import numpy"
   ]
  },
  {
   "cell_type": "code",
   "execution_count": null,
   "metadata": {},
   "outputs": [],
   "source": [
    "#https://packaging.python.org/tutorials/installing-packages/\n",
    "python --version\n",
    "pip --version\n",
    "\n",
    "#If pip isn’t already installed, then first try to bootstrap it from the standard library:\n",
    "pthon -m ensurepip --default-pip\n",
    "\n",
    "# Upgrade pip\n",
    "python -m pip install --upgrade pip setuptools wheel\n",
    "\n",
    "# To install python package\n",
    "pip install 'SomeProject'\n",
    "ex. pip install \"numpy\"\n",
    "pip install \"msgpack\"\n",
    "# To install specific version\n",
    "pip install 'SomeProject==1.4'\n",
    "\n",
    "# To upgrade the existing packages\n",
    "pip install --upgrade SomeProject\n",
    "ex. pip install --upgrade numpy\n",
    "\n",
    "# for Uninstalling packages\n",
    "pip uninstall SomePackage"
   ]
  }
 ],
 "metadata": {
  "kernelspec": {
   "display_name": "Python 3",
   "language": "python",
   "name": "python3"
  },
  "language_info": {
   "codemirror_mode": {
    "name": "ipython",
    "version": 3
   },
   "file_extension": ".py",
   "mimetype": "text/x-python",
   "name": "python",
   "nbconvert_exporter": "python",
   "pygments_lexer": "ipython3",
   "version": "3.6.5"
  }
 },
 "nbformat": 4,
 "nbformat_minor": 2
}
