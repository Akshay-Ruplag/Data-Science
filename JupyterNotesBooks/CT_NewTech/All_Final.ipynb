{
 "cells": [
  {
   "cell_type": "markdown",
   "metadata": {},
   "source": [
    "# Libraries and Data Import"
   ]
  },
  {
   "cell_type": "code",
   "execution_count": 2,
   "metadata": {},
   "outputs": [],
   "source": [
    "import pandas as pd\n",
    "import numpy as np\n",
    "import seaborn as sns \n",
    "import matplotlib.pyplot as plt\n",
    "%matplotlib inline\n",
    "sns.set()\n",
    "\n",
    "#Avoid warnings \n",
    "import warnings\n",
    "warnings.filterwarnings(action=\"ignore\",category=FutureWarning)\n",
    "warnings.filterwarnings(action=\"ignore\",category=DeprecationWarning)\n",
    "\n",
    "#To see all the rows and columns\n",
    "pd.pandas.set_option(\"display.max_rows\",None)\n",
    "pd.pandas.set_option(\"display.max_columns\",None)\n",
    "\n",
    "#Models\n",
    "from sklearn.ensemble import RandomForestRegressor\n",
    "from sklearn.ensemble import GradientBoostingRegressor\n",
    "from sklearn.neural_network import MLPRegressor\n",
    "from sklearn.ensemble import AdaBoostRegressor\n",
    "from sklearn.neighbors import KNeighborsRegressor\n",
    "from catboost import CatBoostRegressor"
   ]
  },
  {
   "cell_type": "code",
   "execution_count": 3,
   "metadata": {},
   "outputs": [],
   "source": [
    "df1=pd.read_csv(\"LT_processed_data.csv\")"
   ]
  },
  {
   "cell_type": "code",
   "execution_count": 4,
   "metadata": {
    "scrolled": true
   },
   "outputs": [
    {
     "data": {
      "text/html": [
       "<div>\n",
       "<style scoped>\n",
       "    .dataframe tbody tr th:only-of-type {\n",
       "        vertical-align: middle;\n",
       "    }\n",
       "\n",
       "    .dataframe tbody tr th {\n",
       "        vertical-align: top;\n",
       "    }\n",
       "\n",
       "    .dataframe thead th {\n",
       "        text-align: right;\n",
       "    }\n",
       "</style>\n",
       "<table border=\"1\" class=\"dataframe\">\n",
       "  <thead>\n",
       "    <tr style=\"text-align: right;\">\n",
       "      <th></th>\n",
       "      <th>NewDCFlag</th>\n",
       "      <th>NewRegionFlag</th>\n",
       "      <th>ColoReady At PlanReservationStart Flag</th>\n",
       "      <th>DeploymentSeverity</th>\n",
       "      <th>EngineeringGroup</th>\n",
       "      <th>PlanResourceTypeName</th>\n",
       "      <th>IsAddRack</th>\n",
       "      <th>IsFirstFootprint</th>\n",
       "      <th>IsMainstream</th>\n",
       "      <th>IsNPI</th>\n",
       "      <th>PlanGEO</th>\n",
       "      <th>PlanIntentName</th>\n",
       "      <th>NumberOfRacks</th>\n",
       "      <th>NumberOfServers</th>\n",
       "      <th>PlanOrderPriorityName</th>\n",
       "      <th>PlanPropertyGroupName</th>\n",
       "      <th>ProjectCategory</th>\n",
       "      <th>Region</th>\n",
       "      <th>RegionGroup</th>\n",
       "      <th>RegionType</th>\n",
       "      <th>SKU Avaliable Flag</th>\n",
       "      <th>SKUCategoryName</th>\n",
       "      <th>CT Signal to LIve</th>\n",
       "      <th>CT Signal to Dock</th>\n",
       "    </tr>\n",
       "  </thead>\n",
       "  <tbody>\n",
       "    <tr>\n",
       "      <th>0</th>\n",
       "      <td>True</td>\n",
       "      <td>False</td>\n",
       "      <td>missing</td>\n",
       "      <td>missing</td>\n",
       "      <td>Azure</td>\n",
       "      <td>Compute</td>\n",
       "      <td>missing</td>\n",
       "      <td>False</td>\n",
       "      <td>Not Mainstream</td>\n",
       "      <td>False</td>\n",
       "      <td>Asia Pacific</td>\n",
       "      <td>Growth</td>\n",
       "      <td>20</td>\n",
       "      <td>800.0</td>\n",
       "      <td>99-ZZ No Priority</td>\n",
       "      <td>Azure Compute APAC</td>\n",
       "      <td>PRD</td>\n",
       "      <td>Southeast Asia</td>\n",
       "      <td>Not Restricted</td>\n",
       "      <td>Hero</td>\n",
       "      <td>0</td>\n",
       "      <td>PreRack</td>\n",
       "      <td>124.0</td>\n",
       "      <td>31.0</td>\n",
       "    </tr>\n",
       "    <tr>\n",
       "      <th>1</th>\n",
       "      <td>False</td>\n",
       "      <td>False</td>\n",
       "      <td>missing</td>\n",
       "      <td>missing</td>\n",
       "      <td>Azure</td>\n",
       "      <td>Storage</td>\n",
       "      <td>missing</td>\n",
       "      <td>False</td>\n",
       "      <td>Not Mainstream</td>\n",
       "      <td>False</td>\n",
       "      <td>Asia Pacific</td>\n",
       "      <td>Growth</td>\n",
       "      <td>20</td>\n",
       "      <td>280.0</td>\n",
       "      <td>99-ZZ No Priority</td>\n",
       "      <td>Azure Storage APAC</td>\n",
       "      <td>PRD</td>\n",
       "      <td>Southeast Asia</td>\n",
       "      <td>Not Restricted</td>\n",
       "      <td>Hero</td>\n",
       "      <td>0</td>\n",
       "      <td>PreRack</td>\n",
       "      <td>126.0</td>\n",
       "      <td>42.0</td>\n",
       "    </tr>\n",
       "    <tr>\n",
       "      <th>2</th>\n",
       "      <td>True</td>\n",
       "      <td>False</td>\n",
       "      <td>missing</td>\n",
       "      <td>missing</td>\n",
       "      <td>Azure</td>\n",
       "      <td>Compute</td>\n",
       "      <td>missing</td>\n",
       "      <td>False</td>\n",
       "      <td>Not Mainstream</td>\n",
       "      <td>False</td>\n",
       "      <td>Europe</td>\n",
       "      <td>Growth</td>\n",
       "      <td>20</td>\n",
       "      <td>800.0</td>\n",
       "      <td>99-ZZ No Priority</td>\n",
       "      <td>Azure Compute EMEA</td>\n",
       "      <td>PRD</td>\n",
       "      <td>West Europe</td>\n",
       "      <td>Not Restricted</td>\n",
       "      <td>Hero</td>\n",
       "      <td>0</td>\n",
       "      <td>PreRack</td>\n",
       "      <td>198.0</td>\n",
       "      <td>31.0</td>\n",
       "    </tr>\n",
       "    <tr>\n",
       "      <th>3</th>\n",
       "      <td>False</td>\n",
       "      <td>False</td>\n",
       "      <td>missing</td>\n",
       "      <td>missing</td>\n",
       "      <td>Azure</td>\n",
       "      <td>XIO Compute</td>\n",
       "      <td>missing</td>\n",
       "      <td>False</td>\n",
       "      <td>Not Mainstream</td>\n",
       "      <td>False</td>\n",
       "      <td>United States</td>\n",
       "      <td>Growth</td>\n",
       "      <td>20</td>\n",
       "      <td>880.0</td>\n",
       "      <td>99-ZZ No Priority</td>\n",
       "      <td>Azure Compute US</td>\n",
       "      <td>PRD</td>\n",
       "      <td>West US</td>\n",
       "      <td>Not Restricted</td>\n",
       "      <td>Hub</td>\n",
       "      <td>0</td>\n",
       "      <td>PreRack</td>\n",
       "      <td>207.0</td>\n",
       "      <td>49.0</td>\n",
       "    </tr>\n",
       "    <tr>\n",
       "      <th>4</th>\n",
       "      <td>False</td>\n",
       "      <td>False</td>\n",
       "      <td>missing</td>\n",
       "      <td>missing</td>\n",
       "      <td>Azure</td>\n",
       "      <td>Xtransport</td>\n",
       "      <td>missing</td>\n",
       "      <td>False</td>\n",
       "      <td>Not Mainstream</td>\n",
       "      <td>False</td>\n",
       "      <td>CHINA</td>\n",
       "      <td>Growth</td>\n",
       "      <td>1</td>\n",
       "      <td>14.0</td>\n",
       "      <td>99-ZZ No Priority</td>\n",
       "      <td>Rare_var</td>\n",
       "      <td>PRD</td>\n",
       "      <td>Rare_var</td>\n",
       "      <td>Restricted</td>\n",
       "      <td>Satellite</td>\n",
       "      <td>0</td>\n",
       "      <td>PreRack</td>\n",
       "      <td>737.0</td>\n",
       "      <td>49.0</td>\n",
       "    </tr>\n",
       "  </tbody>\n",
       "</table>\n",
       "</div>"
      ],
      "text/plain": [
       "   NewDCFlag  NewRegionFlag ColoReady At PlanReservationStart Flag  \\\n",
       "0       True          False                                missing   \n",
       "1      False          False                                missing   \n",
       "2       True          False                                missing   \n",
       "3      False          False                                missing   \n",
       "4      False          False                                missing   \n",
       "\n",
       "  DeploymentSeverity EngineeringGroup PlanResourceTypeName IsAddRack  \\\n",
       "0            missing            Azure              Compute   missing   \n",
       "1            missing            Azure              Storage   missing   \n",
       "2            missing            Azure              Compute   missing   \n",
       "3            missing            Azure          XIO Compute   missing   \n",
       "4            missing            Azure           Xtransport   missing   \n",
       "\n",
       "   IsFirstFootprint    IsMainstream  IsNPI        PlanGEO PlanIntentName  \\\n",
       "0             False  Not Mainstream  False   Asia Pacific         Growth   \n",
       "1             False  Not Mainstream  False   Asia Pacific         Growth   \n",
       "2             False  Not Mainstream  False         Europe         Growth   \n",
       "3             False  Not Mainstream  False  United States         Growth   \n",
       "4             False  Not Mainstream  False          CHINA         Growth   \n",
       "\n",
       "   NumberOfRacks  NumberOfServers PlanOrderPriorityName PlanPropertyGroupName  \\\n",
       "0             20            800.0     99-ZZ No Priority    Azure Compute APAC   \n",
       "1             20            280.0     99-ZZ No Priority    Azure Storage APAC   \n",
       "2             20            800.0     99-ZZ No Priority    Azure Compute EMEA   \n",
       "3             20            880.0     99-ZZ No Priority      Azure Compute US   \n",
       "4              1             14.0     99-ZZ No Priority              Rare_var   \n",
       "\n",
       "  ProjectCategory          Region     RegionGroup RegionType  \\\n",
       "0             PRD  Southeast Asia  Not Restricted       Hero   \n",
       "1             PRD  Southeast Asia  Not Restricted       Hero   \n",
       "2             PRD     West Europe  Not Restricted       Hero   \n",
       "3             PRD         West US  Not Restricted        Hub   \n",
       "4             PRD        Rare_var      Restricted  Satellite   \n",
       "\n",
       "   SKU Avaliable Flag SKUCategoryName  CT Signal to LIve  CT Signal to Dock  \n",
       "0                   0         PreRack              124.0               31.0  \n",
       "1                   0         PreRack              126.0               42.0  \n",
       "2                   0         PreRack              198.0               31.0  \n",
       "3                   0         PreRack              207.0               49.0  \n",
       "4                   0         PreRack              737.0               49.0  "
      ]
     },
     "execution_count": 4,
     "metadata": {},
     "output_type": "execute_result"
    }
   ],
   "source": [
    "#We have already taken care of NA values, Rare catogories and EDA. \n",
    "df1.head()"
   ]
  },
  {
   "cell_type": "code",
   "execution_count": 5,
   "metadata": {},
   "outputs": [],
   "source": [
    "#As per the observations in EDA, we are going to drop-IsMainstream,ProjectCategory,NewRegionFlag, since it contains a single catogory\n",
    "df1.drop([\"NewRegionFlag\",\"IsMainstream\",\"ProjectCategory\"],axis=1,inplace=True)"
   ]
  },
  {
   "cell_type": "code",
   "execution_count": 11,
   "metadata": {},
   "outputs": [],
   "source": [
    "#Expect DeploymentSeverity feature, all other are nominal. Only DeploymentSeverity is Ordinal \n",
    "#So lets use Lable encoder for DeploymentSeverity\n",
    "\n",
    "d = {'missing':5,'high':2, 'medium':3,'low':4 }\n",
    "df1[\"DeploymentSeverity\"] = df1[\"DeploymentSeverity\"].replace(d)"
   ]
  },
  {
   "cell_type": "code",
   "execution_count": 12,
   "metadata": {
    "scrolled": false
   },
   "outputs": [
    {
     "name": "stdout",
     "output_type": "stream",
     "text": [
      "<class 'pandas.core.frame.DataFrame'>\n",
      "RangeIndex: 1124 entries, 0 to 1123\n",
      "Data columns (total 21 columns):\n",
      " #   Column                                  Non-Null Count  Dtype  \n",
      "---  ------                                  --------------  -----  \n",
      " 0   NewDCFlag                               1124 non-null   object \n",
      " 1   ColoReady At PlanReservationStart Flag  1124 non-null   object \n",
      " 2   DeploymentSeverity                      1124 non-null   int64  \n",
      " 3   EngineeringGroup                        1124 non-null   object \n",
      " 4   PlanResourceTypeName                    1124 non-null   object \n",
      " 5   IsAddRack                               1124 non-null   object \n",
      " 6   IsFirstFootprint                        1124 non-null   object \n",
      " 7   IsNPI                                   1124 non-null   object \n",
      " 8   PlanGEO                                 1124 non-null   object \n",
      " 9   PlanIntentName                          1124 non-null   object \n",
      " 10  NumberOfRacks                           1124 non-null   int64  \n",
      " 11  NumberOfServers                         1124 non-null   float64\n",
      " 12  PlanOrderPriorityName                   1124 non-null   object \n",
      " 13  PlanPropertyGroupName                   1124 non-null   object \n",
      " 14  Region                                  1124 non-null   object \n",
      " 15  RegionGroup                             1124 non-null   object \n",
      " 16  RegionType                              1124 non-null   object \n",
      " 17  SKU Avaliable Flag                      1124 non-null   object \n",
      " 18  SKUCategoryName                         1124 non-null   object \n",
      " 19  CT Signal to LIve                       1124 non-null   float64\n",
      " 20  CT Signal to Dock                       1124 non-null   float64\n",
      "dtypes: float64(3), int64(2), object(16)\n",
      "memory usage: 184.5+ KB\n"
     ]
    }
   ],
   "source": [
    "#Lest check the info\n",
    "df1.info()"
   ]
  },
  {
   "cell_type": "code",
   "execution_count": 13,
   "metadata": {},
   "outputs": [],
   "source": [
    "#Lest reset DataTypes of few Features(Convert Bool type as Object type)\n",
    "bool_features_list= [feature for feature in df1.columns if df1[feature].dtype ==\"bool\"]\n",
    "add=[\"SKU Avaliable Flag\",\"DeploymentSeverity\"]\n",
    "bool_features_list=bool_features_list+add\n",
    "\n",
    "df1[bool_features_list] = df1[bool_features_list].astype('object')"
   ]
  },
  {
   "cell_type": "code",
   "execution_count": 14,
   "metadata": {},
   "outputs": [
    {
     "name": "stdout",
     "output_type": "stream",
     "text": [
      "<class 'pandas.core.frame.DataFrame'>\n",
      "RangeIndex: 1124 entries, 0 to 1123\n",
      "Data columns (total 21 columns):\n",
      " #   Column                                  Non-Null Count  Dtype  \n",
      "---  ------                                  --------------  -----  \n",
      " 0   NewDCFlag                               1124 non-null   object \n",
      " 1   ColoReady At PlanReservationStart Flag  1124 non-null   object \n",
      " 2   DeploymentSeverity                      1124 non-null   object \n",
      " 3   EngineeringGroup                        1124 non-null   object \n",
      " 4   PlanResourceTypeName                    1124 non-null   object \n",
      " 5   IsAddRack                               1124 non-null   object \n",
      " 6   IsFirstFootprint                        1124 non-null   object \n",
      " 7   IsNPI                                   1124 non-null   object \n",
      " 8   PlanGEO                                 1124 non-null   object \n",
      " 9   PlanIntentName                          1124 non-null   object \n",
      " 10  NumberOfRacks                           1124 non-null   int64  \n",
      " 11  NumberOfServers                         1124 non-null   float64\n",
      " 12  PlanOrderPriorityName                   1124 non-null   object \n",
      " 13  PlanPropertyGroupName                   1124 non-null   object \n",
      " 14  Region                                  1124 non-null   object \n",
      " 15  RegionGroup                             1124 non-null   object \n",
      " 16  RegionType                              1124 non-null   object \n",
      " 17  SKU Avaliable Flag                      1124 non-null   object \n",
      " 18  SKUCategoryName                         1124 non-null   object \n",
      " 19  CT Signal to LIve                       1124 non-null   float64\n",
      " 20  CT Signal to Dock                       1124 non-null   float64\n",
      "dtypes: float64(3), int64(1), object(17)\n",
      "memory usage: 184.5+ KB\n"
     ]
    }
   ],
   "source": [
    "df1.info()"
   ]
  },
  {
   "cell_type": "code",
   "execution_count": 16,
   "metadata": {
    "scrolled": false
   },
   "outputs": [
    {
     "data": {
      "text/html": [
       "<div>\n",
       "<style scoped>\n",
       "    .dataframe tbody tr th:only-of-type {\n",
       "        vertical-align: middle;\n",
       "    }\n",
       "\n",
       "    .dataframe tbody tr th {\n",
       "        vertical-align: top;\n",
       "    }\n",
       "\n",
       "    .dataframe thead th {\n",
       "        text-align: right;\n",
       "    }\n",
       "</style>\n",
       "<table border=\"1\" class=\"dataframe\">\n",
       "  <thead>\n",
       "    <tr style=\"text-align: right;\">\n",
       "      <th></th>\n",
       "      <th>NumberOfRacks</th>\n",
       "      <th>NumberOfServers</th>\n",
       "      <th>CT Signal to LIve</th>\n",
       "      <th>CT Signal to Dock</th>\n",
       "    </tr>\n",
       "  </thead>\n",
       "  <tbody>\n",
       "    <tr>\n",
       "      <th>count</th>\n",
       "      <td>1124.000000</td>\n",
       "      <td>1124.000000</td>\n",
       "      <td>1124.000000</td>\n",
       "      <td>1124.000000</td>\n",
       "    </tr>\n",
       "    <tr>\n",
       "      <th>mean</th>\n",
       "      <td>11.868327</td>\n",
       "      <td>275.290036</td>\n",
       "      <td>182.361210</td>\n",
       "      <td>75.794484</td>\n",
       "    </tr>\n",
       "    <tr>\n",
       "      <th>std</th>\n",
       "      <td>8.126258</td>\n",
       "      <td>264.988461</td>\n",
       "      <td>102.797588</td>\n",
       "      <td>42.618329</td>\n",
       "    </tr>\n",
       "    <tr>\n",
       "      <th>min</th>\n",
       "      <td>1.000000</td>\n",
       "      <td>2.000000</td>\n",
       "      <td>15.000000</td>\n",
       "      <td>0.000000</td>\n",
       "    </tr>\n",
       "    <tr>\n",
       "      <th>25%</th>\n",
       "      <td>2.000000</td>\n",
       "      <td>40.000000</td>\n",
       "      <td>113.000000</td>\n",
       "      <td>49.000000</td>\n",
       "    </tr>\n",
       "    <tr>\n",
       "      <th>50%</th>\n",
       "      <td>10.000000</td>\n",
       "      <td>200.000000</td>\n",
       "      <td>155.000000</td>\n",
       "      <td>66.000000</td>\n",
       "    </tr>\n",
       "    <tr>\n",
       "      <th>75%</th>\n",
       "      <td>20.000000</td>\n",
       "      <td>450.000000</td>\n",
       "      <td>230.250000</td>\n",
       "      <td>99.000000</td>\n",
       "    </tr>\n",
       "    <tr>\n",
       "      <th>max</th>\n",
       "      <td>60.000000</td>\n",
       "      <td>2112.000000</td>\n",
       "      <td>895.000000</td>\n",
       "      <td>262.000000</td>\n",
       "    </tr>\n",
       "  </tbody>\n",
       "</table>\n",
       "</div>"
      ],
      "text/plain": [
       "       NumberOfRacks  NumberOfServers  CT Signal to LIve  CT Signal to Dock\n",
       "count    1124.000000      1124.000000        1124.000000        1124.000000\n",
       "mean       11.868327       275.290036         182.361210          75.794484\n",
       "std         8.126258       264.988461         102.797588          42.618329\n",
       "min         1.000000         2.000000          15.000000           0.000000\n",
       "25%         2.000000        40.000000         113.000000          49.000000\n",
       "50%        10.000000       200.000000         155.000000          66.000000\n",
       "75%        20.000000       450.000000         230.250000          99.000000\n",
       "max        60.000000      2112.000000         895.000000         262.000000"
      ]
     },
     "execution_count": 16,
     "metadata": {},
     "output_type": "execute_result"
    }
   ],
   "source": [
    "df1.describe()"
   ]
  },
  {
   "cell_type": "code",
   "execution_count": 17,
   "metadata": {},
   "outputs": [
    {
     "data": {
      "text/html": [
       "<div>\n",
       "<style scoped>\n",
       "    .dataframe tbody tr th:only-of-type {\n",
       "        vertical-align: middle;\n",
       "    }\n",
       "\n",
       "    .dataframe tbody tr th {\n",
       "        vertical-align: top;\n",
       "    }\n",
       "\n",
       "    .dataframe thead th {\n",
       "        text-align: right;\n",
       "    }\n",
       "</style>\n",
       "<table border=\"1\" class=\"dataframe\">\n",
       "  <thead>\n",
       "    <tr style=\"text-align: right;\">\n",
       "      <th></th>\n",
       "      <th>NewDCFlag</th>\n",
       "      <th>ColoReady At PlanReservationStart Flag</th>\n",
       "      <th>DeploymentSeverity</th>\n",
       "      <th>EngineeringGroup</th>\n",
       "      <th>PlanResourceTypeName</th>\n",
       "      <th>IsAddRack</th>\n",
       "      <th>IsFirstFootprint</th>\n",
       "      <th>IsNPI</th>\n",
       "      <th>PlanGEO</th>\n",
       "      <th>PlanIntentName</th>\n",
       "      <th>NumberOfRacks</th>\n",
       "      <th>NumberOfServers</th>\n",
       "      <th>PlanOrderPriorityName</th>\n",
       "      <th>PlanPropertyGroupName</th>\n",
       "      <th>Region</th>\n",
       "      <th>RegionGroup</th>\n",
       "      <th>RegionType</th>\n",
       "      <th>SKU Avaliable Flag</th>\n",
       "      <th>SKUCategoryName</th>\n",
       "      <th>CT Signal to LIve</th>\n",
       "      <th>CT Signal to Dock</th>\n",
       "    </tr>\n",
       "  </thead>\n",
       "  <tbody>\n",
       "    <tr>\n",
       "      <th>0</th>\n",
       "      <td>True</td>\n",
       "      <td>missing</td>\n",
       "      <td>5</td>\n",
       "      <td>Azure</td>\n",
       "      <td>Compute</td>\n",
       "      <td>missing</td>\n",
       "      <td>False</td>\n",
       "      <td>False</td>\n",
       "      <td>Asia Pacific</td>\n",
       "      <td>Growth</td>\n",
       "      <td>20</td>\n",
       "      <td>800.0</td>\n",
       "      <td>99-ZZ No Priority</td>\n",
       "      <td>Azure Compute APAC</td>\n",
       "      <td>Southeast Asia</td>\n",
       "      <td>Not Restricted</td>\n",
       "      <td>Hero</td>\n",
       "      <td>0</td>\n",
       "      <td>PreRack</td>\n",
       "      <td>124.0</td>\n",
       "      <td>31.0</td>\n",
       "    </tr>\n",
       "    <tr>\n",
       "      <th>1</th>\n",
       "      <td>False</td>\n",
       "      <td>missing</td>\n",
       "      <td>5</td>\n",
       "      <td>Azure</td>\n",
       "      <td>Storage</td>\n",
       "      <td>missing</td>\n",
       "      <td>False</td>\n",
       "      <td>False</td>\n",
       "      <td>Asia Pacific</td>\n",
       "      <td>Growth</td>\n",
       "      <td>20</td>\n",
       "      <td>280.0</td>\n",
       "      <td>99-ZZ No Priority</td>\n",
       "      <td>Azure Storage APAC</td>\n",
       "      <td>Southeast Asia</td>\n",
       "      <td>Not Restricted</td>\n",
       "      <td>Hero</td>\n",
       "      <td>0</td>\n",
       "      <td>PreRack</td>\n",
       "      <td>126.0</td>\n",
       "      <td>42.0</td>\n",
       "    </tr>\n",
       "    <tr>\n",
       "      <th>2</th>\n",
       "      <td>True</td>\n",
       "      <td>missing</td>\n",
       "      <td>5</td>\n",
       "      <td>Azure</td>\n",
       "      <td>Compute</td>\n",
       "      <td>missing</td>\n",
       "      <td>False</td>\n",
       "      <td>False</td>\n",
       "      <td>Europe</td>\n",
       "      <td>Growth</td>\n",
       "      <td>20</td>\n",
       "      <td>800.0</td>\n",
       "      <td>99-ZZ No Priority</td>\n",
       "      <td>Azure Compute EMEA</td>\n",
       "      <td>West Europe</td>\n",
       "      <td>Not Restricted</td>\n",
       "      <td>Hero</td>\n",
       "      <td>0</td>\n",
       "      <td>PreRack</td>\n",
       "      <td>198.0</td>\n",
       "      <td>31.0</td>\n",
       "    </tr>\n",
       "    <tr>\n",
       "      <th>3</th>\n",
       "      <td>False</td>\n",
       "      <td>missing</td>\n",
       "      <td>5</td>\n",
       "      <td>Azure</td>\n",
       "      <td>XIO Compute</td>\n",
       "      <td>missing</td>\n",
       "      <td>False</td>\n",
       "      <td>False</td>\n",
       "      <td>United States</td>\n",
       "      <td>Growth</td>\n",
       "      <td>20</td>\n",
       "      <td>880.0</td>\n",
       "      <td>99-ZZ No Priority</td>\n",
       "      <td>Azure Compute US</td>\n",
       "      <td>West US</td>\n",
       "      <td>Not Restricted</td>\n",
       "      <td>Hub</td>\n",
       "      <td>0</td>\n",
       "      <td>PreRack</td>\n",
       "      <td>207.0</td>\n",
       "      <td>49.0</td>\n",
       "    </tr>\n",
       "    <tr>\n",
       "      <th>4</th>\n",
       "      <td>False</td>\n",
       "      <td>missing</td>\n",
       "      <td>5</td>\n",
       "      <td>Azure</td>\n",
       "      <td>Xtransport</td>\n",
       "      <td>missing</td>\n",
       "      <td>False</td>\n",
       "      <td>False</td>\n",
       "      <td>CHINA</td>\n",
       "      <td>Growth</td>\n",
       "      <td>1</td>\n",
       "      <td>14.0</td>\n",
       "      <td>99-ZZ No Priority</td>\n",
       "      <td>Rare_var</td>\n",
       "      <td>Rare_var</td>\n",
       "      <td>Restricted</td>\n",
       "      <td>Satellite</td>\n",
       "      <td>0</td>\n",
       "      <td>PreRack</td>\n",
       "      <td>737.0</td>\n",
       "      <td>49.0</td>\n",
       "    </tr>\n",
       "  </tbody>\n",
       "</table>\n",
       "</div>"
      ],
      "text/plain": [
       "  NewDCFlag ColoReady At PlanReservationStart Flag DeploymentSeverity  \\\n",
       "0      True                                missing                  5   \n",
       "1     False                                missing                  5   \n",
       "2      True                                missing                  5   \n",
       "3     False                                missing                  5   \n",
       "4     False                                missing                  5   \n",
       "\n",
       "  EngineeringGroup PlanResourceTypeName IsAddRack IsFirstFootprint  IsNPI  \\\n",
       "0            Azure              Compute   missing            False  False   \n",
       "1            Azure              Storage   missing            False  False   \n",
       "2            Azure              Compute   missing            False  False   \n",
       "3            Azure          XIO Compute   missing            False  False   \n",
       "4            Azure           Xtransport   missing            False  False   \n",
       "\n",
       "         PlanGEO PlanIntentName  NumberOfRacks  NumberOfServers  \\\n",
       "0   Asia Pacific         Growth             20            800.0   \n",
       "1   Asia Pacific         Growth             20            280.0   \n",
       "2         Europe         Growth             20            800.0   \n",
       "3  United States         Growth             20            880.0   \n",
       "4          CHINA         Growth              1             14.0   \n",
       "\n",
       "  PlanOrderPriorityName PlanPropertyGroupName          Region     RegionGroup  \\\n",
       "0     99-ZZ No Priority    Azure Compute APAC  Southeast Asia  Not Restricted   \n",
       "1     99-ZZ No Priority    Azure Storage APAC  Southeast Asia  Not Restricted   \n",
       "2     99-ZZ No Priority    Azure Compute EMEA     West Europe  Not Restricted   \n",
       "3     99-ZZ No Priority      Azure Compute US         West US  Not Restricted   \n",
       "4     99-ZZ No Priority              Rare_var        Rare_var      Restricted   \n",
       "\n",
       "  RegionType SKU Avaliable Flag SKUCategoryName  CT Signal to LIve  \\\n",
       "0       Hero                  0         PreRack              124.0   \n",
       "1       Hero                  0         PreRack              126.0   \n",
       "2       Hero                  0         PreRack              198.0   \n",
       "3        Hub                  0         PreRack              207.0   \n",
       "4  Satellite                  0         PreRack              737.0   \n",
       "\n",
       "   CT Signal to Dock  \n",
       "0               31.0  \n",
       "1               42.0  \n",
       "2               31.0  \n",
       "3               49.0  \n",
       "4               49.0  "
      ]
     },
     "execution_count": 17,
     "metadata": {},
     "output_type": "execute_result"
    }
   ],
   "source": [
    "df1.head() #PlanGEO and Region"
   ]
  },
  {
   "cell_type": "code",
   "execution_count": 27,
   "metadata": {},
   "outputs": [
    {
     "data": {
      "text/plain": [
       "(1124, 21)"
      ]
     },
     "execution_count": 27,
     "metadata": {},
     "output_type": "execute_result"
    }
   ],
   "source": [
    "#Lest encode rest of the catogorical features \n",
    "from sklearn.preprocessing import LabelEncoder\n",
    "le=LabelEncoder()\n",
    "cols=['EngineeringGroup', 'PlanResourceTypeName', 'RegionType', 'RegionGroup','Region','PlanPropertyGroupName',\n",
    "      'PlanOrderPriorityName','IsFirstFootprint','IsAddRack','ColoReady At PlanReservationStart Flag',\n",
    "       'RegionGroup', 'NewDCFlag','PlanIntentName', 'IsNPI','SKUCategoryName','PlanGEO']\n",
    "       \n",
    "df2=df1.copy()\n",
    "df2[cols] = df1[cols].apply(le.fit_transform)\n",
    "\n",
    "df2.shape"
   ]
  },
  {
   "cell_type": "code",
   "execution_count": 28,
   "metadata": {
    "scrolled": true
   },
   "outputs": [
    {
     "data": {
      "text/html": [
       "<div>\n",
       "<style scoped>\n",
       "    .dataframe tbody tr th:only-of-type {\n",
       "        vertical-align: middle;\n",
       "    }\n",
       "\n",
       "    .dataframe tbody tr th {\n",
       "        vertical-align: top;\n",
       "    }\n",
       "\n",
       "    .dataframe thead th {\n",
       "        text-align: right;\n",
       "    }\n",
       "</style>\n",
       "<table border=\"1\" class=\"dataframe\">\n",
       "  <thead>\n",
       "    <tr style=\"text-align: right;\">\n",
       "      <th></th>\n",
       "      <th>NewDCFlag</th>\n",
       "      <th>ColoReady At PlanReservationStart Flag</th>\n",
       "      <th>DeploymentSeverity</th>\n",
       "      <th>EngineeringGroup</th>\n",
       "      <th>PlanResourceTypeName</th>\n",
       "      <th>IsAddRack</th>\n",
       "      <th>IsFirstFootprint</th>\n",
       "      <th>IsNPI</th>\n",
       "      <th>PlanGEO</th>\n",
       "      <th>PlanIntentName</th>\n",
       "      <th>NumberOfRacks</th>\n",
       "      <th>NumberOfServers</th>\n",
       "      <th>PlanOrderPriorityName</th>\n",
       "      <th>PlanPropertyGroupName</th>\n",
       "      <th>Region</th>\n",
       "      <th>RegionGroup</th>\n",
       "      <th>RegionType</th>\n",
       "      <th>SKU Avaliable Flag</th>\n",
       "      <th>SKUCategoryName</th>\n",
       "      <th>CT Signal to LIve</th>\n",
       "      <th>CT Signal to Dock</th>\n",
       "    </tr>\n",
       "  </thead>\n",
       "  <tbody>\n",
       "    <tr>\n",
       "      <th>0</th>\n",
       "      <td>1</td>\n",
       "      <td>2</td>\n",
       "      <td>5</td>\n",
       "      <td>0</td>\n",
       "      <td>7</td>\n",
       "      <td>2</td>\n",
       "      <td>0</td>\n",
       "      <td>0</td>\n",
       "      <td>1</td>\n",
       "      <td>1</td>\n",
       "      <td>20</td>\n",
       "      <td>800.0</td>\n",
       "      <td>2</td>\n",
       "      <td>2</td>\n",
       "      <td>13</td>\n",
       "      <td>0</td>\n",
       "      <td>0</td>\n",
       "      <td>0</td>\n",
       "      <td>0</td>\n",
       "      <td>124.0</td>\n",
       "      <td>31.0</td>\n",
       "    </tr>\n",
       "    <tr>\n",
       "      <th>1</th>\n",
       "      <td>0</td>\n",
       "      <td>2</td>\n",
       "      <td>5</td>\n",
       "      <td>0</td>\n",
       "      <td>24</td>\n",
       "      <td>2</td>\n",
       "      <td>0</td>\n",
       "      <td>0</td>\n",
       "      <td>1</td>\n",
       "      <td>1</td>\n",
       "      <td>20</td>\n",
       "      <td>280.0</td>\n",
       "      <td>2</td>\n",
       "      <td>8</td>\n",
       "      <td>13</td>\n",
       "      <td>0</td>\n",
       "      <td>0</td>\n",
       "      <td>0</td>\n",
       "      <td>0</td>\n",
       "      <td>126.0</td>\n",
       "      <td>42.0</td>\n",
       "    </tr>\n",
       "    <tr>\n",
       "      <th>2</th>\n",
       "      <td>1</td>\n",
       "      <td>2</td>\n",
       "      <td>5</td>\n",
       "      <td>0</td>\n",
       "      <td>7</td>\n",
       "      <td>2</td>\n",
       "      <td>0</td>\n",
       "      <td>0</td>\n",
       "      <td>5</td>\n",
       "      <td>1</td>\n",
       "      <td>20</td>\n",
       "      <td>800.0</td>\n",
       "      <td>2</td>\n",
       "      <td>3</td>\n",
       "      <td>18</td>\n",
       "      <td>0</td>\n",
       "      <td>0</td>\n",
       "      <td>0</td>\n",
       "      <td>0</td>\n",
       "      <td>198.0</td>\n",
       "      <td>31.0</td>\n",
       "    </tr>\n",
       "    <tr>\n",
       "      <th>3</th>\n",
       "      <td>0</td>\n",
       "      <td>2</td>\n",
       "      <td>5</td>\n",
       "      <td>0</td>\n",
       "      <td>26</td>\n",
       "      <td>2</td>\n",
       "      <td>0</td>\n",
       "      <td>0</td>\n",
       "      <td>13</td>\n",
       "      <td>1</td>\n",
       "      <td>20</td>\n",
       "      <td>880.0</td>\n",
       "      <td>2</td>\n",
       "      <td>4</td>\n",
       "      <td>19</td>\n",
       "      <td>0</td>\n",
       "      <td>1</td>\n",
       "      <td>0</td>\n",
       "      <td>0</td>\n",
       "      <td>207.0</td>\n",
       "      <td>49.0</td>\n",
       "    </tr>\n",
       "    <tr>\n",
       "      <th>4</th>\n",
       "      <td>0</td>\n",
       "      <td>2</td>\n",
       "      <td>5</td>\n",
       "      <td>0</td>\n",
       "      <td>30</td>\n",
       "      <td>2</td>\n",
       "      <td>0</td>\n",
       "      <td>0</td>\n",
       "      <td>3</td>\n",
       "      <td>1</td>\n",
       "      <td>1</td>\n",
       "      <td>14.0</td>\n",
       "      <td>2</td>\n",
       "      <td>14</td>\n",
       "      <td>11</td>\n",
       "      <td>2</td>\n",
       "      <td>2</td>\n",
       "      <td>0</td>\n",
       "      <td>0</td>\n",
       "      <td>737.0</td>\n",
       "      <td>49.0</td>\n",
       "    </tr>\n",
       "  </tbody>\n",
       "</table>\n",
       "</div>"
      ],
      "text/plain": [
       "   NewDCFlag  ColoReady At PlanReservationStart Flag DeploymentSeverity  \\\n",
       "0          1                                       2                  5   \n",
       "1          0                                       2                  5   \n",
       "2          1                                       2                  5   \n",
       "3          0                                       2                  5   \n",
       "4          0                                       2                  5   \n",
       "\n",
       "   EngineeringGroup  PlanResourceTypeName  IsAddRack  IsFirstFootprint  IsNPI  \\\n",
       "0                 0                     7          2                 0      0   \n",
       "1                 0                    24          2                 0      0   \n",
       "2                 0                     7          2                 0      0   \n",
       "3                 0                    26          2                 0      0   \n",
       "4                 0                    30          2                 0      0   \n",
       "\n",
       "   PlanGEO  PlanIntentName  NumberOfRacks  NumberOfServers  \\\n",
       "0        1               1             20            800.0   \n",
       "1        1               1             20            280.0   \n",
       "2        5               1             20            800.0   \n",
       "3       13               1             20            880.0   \n",
       "4        3               1              1             14.0   \n",
       "\n",
       "   PlanOrderPriorityName  PlanPropertyGroupName  Region  RegionGroup  \\\n",
       "0                      2                      2      13            0   \n",
       "1                      2                      8      13            0   \n",
       "2                      2                      3      18            0   \n",
       "3                      2                      4      19            0   \n",
       "4                      2                     14      11            2   \n",
       "\n",
       "   RegionType SKU Avaliable Flag  SKUCategoryName  CT Signal to LIve  \\\n",
       "0           0                  0                0              124.0   \n",
       "1           0                  0                0              126.0   \n",
       "2           0                  0                0              198.0   \n",
       "3           1                  0                0              207.0   \n",
       "4           2                  0                0              737.0   \n",
       "\n",
       "   CT Signal to Dock  \n",
       "0               31.0  \n",
       "1               42.0  \n",
       "2               31.0  \n",
       "3               49.0  \n",
       "4               49.0  "
      ]
     },
     "execution_count": 28,
     "metadata": {},
     "output_type": "execute_result"
    }
   ],
   "source": [
    "df2.head()"
   ]
  },
  {
   "cell_type": "code",
   "execution_count": 31,
   "metadata": {},
   "outputs": [],
   "source": [
    "# Lets define X (Independent Variables)\n",
    "x = df2.drop([\"CT Signal to LIve\",\"CT Signal to Dock\"], axis=1)\n",
    "\n",
    "# Putting response variable to y\n",
    "y = df2['CT Signal to LIve']\n",
    "\n",
    "#Lets split our data into training and testing sets. random_state is the seed used by the random number generator. It can be any integer.\n",
    "from sklearn.model_selection import train_test_split\n",
    "x_train, x_test, y_train, y_test = train_test_split(x, y, train_size=0.75, random_state=100)"
   ]
  },
  {
   "cell_type": "code",
   "execution_count": 33,
   "metadata": {
    "scrolled": false
   },
   "outputs": [
    {
     "name": "stdout",
     "output_type": "stream",
     "text": [
      "(843, 19)\n",
      "(281, 19)\n"
     ]
    }
   ],
   "source": [
    "print (x_train.shape)\n",
    "print (x_test.shape)"
   ]
  },
  {
   "cell_type": "markdown",
   "metadata": {},
   "source": [
    "# Random Forest"
   ]
  },
  {
   "cell_type": "code",
   "execution_count": 64,
   "metadata": {},
   "outputs": [
    {
     "data": {
      "text/plain": [
       "RandomForestRegressor(bootstrap=True, ccp_alpha=0.0, criterion='mse',\n",
       "                      max_depth=None, max_features='auto', max_leaf_nodes=None,\n",
       "                      max_samples=None, min_impurity_decrease=0.0,\n",
       "                      min_impurity_split=None, min_samples_leaf=1,\n",
       "                      min_samples_split=2, min_weight_fraction_leaf=0.0,\n",
       "                      n_estimators=400, n_jobs=None, oob_score=False,\n",
       "                      random_state=None, verbose=0, warm_start=False)"
      ]
     },
     "execution_count": 64,
     "metadata": {},
     "output_type": "execute_result"
    }
   ],
   "source": [
    "# Initialize and fit regressor\n",
    "rfr = RandomForestRegressor(criterion='mse', n_estimators=400)         \n",
    "rfr.fit(x_train, y_train)"
   ]
  },
  {
   "cell_type": "code",
   "execution_count": 68,
   "metadata": {},
   "outputs": [],
   "source": [
    "#prediction\n",
    "y_train_predict=rfr.predict(x_train)\n",
    "y_test_predict=rfr.predict(x_test)"
   ]
  },
  {
   "cell_type": "code",
   "execution_count": 66,
   "metadata": {},
   "outputs": [],
   "source": [
    "# Lets evaluate our results (compairing y_test with the pred)\n",
    "from sklearn.metrics import mean_absolute_error,mean_squared_error, r2_score"
   ]
  },
  {
   "cell_type": "code",
   "execution_count": 69,
   "metadata": {},
   "outputs": [],
   "source": [
    "#Error calculation\n",
    "train_rmse = np.sqrt(mean_squared_error(y_train, y_train_predict))\n",
    "train_MAE = mean_absolute_error(y_train, y_train_predict)\n",
    "test_rmse = np.sqrt(mean_squared_error(y_test, y_test_predict))\n",
    "test_MAE = mean_absolute_error(y_test, y_test_predict)\n",
    "r2 =r2_score (y_test, y_test_predict)"
   ]
  },
  {
   "cell_type": "code",
   "execution_count": 70,
   "metadata": {},
   "outputs": [
    {
     "name": "stdout",
     "output_type": "stream",
     "text": [
      "rmse_train : 28.324762116387962 MAE_train 18.187935255000532\n",
      "rmse_test : 68.83172410895315 MAE_test 46.62188329076519\n",
      "r_square: 0.5330650659851892\n"
     ]
    }
   ],
   "source": [
    "print('rmse_train :',train_rmse, 'MAE_train', train_MAE)\n",
    "print('rmse_test :',test_rmse, 'MAE_test', test_MAE)\n",
    "print(\"r_square:\",r2) "
   ]
  },
  {
   "cell_type": "code",
   "execution_count": 52,
   "metadata": {},
   "outputs": [
    {
     "name": "stdout",
     "output_type": "stream",
     "text": [
      "Fitting 3 folds for each of 18 candidates, totalling 54 fits\n"
     ]
    },
    {
     "name": "stderr",
     "output_type": "stream",
     "text": [
      "[Parallel(n_jobs=-1)]: Using backend LokyBackend with 4 concurrent workers.\n",
      "[Parallel(n_jobs=-1)]: Done  42 tasks      | elapsed:   33.1s\n",
      "[Parallel(n_jobs=-1)]: Done  54 out of  54 | elapsed:   44.8s finished\n"
     ]
    },
    {
     "data": {
      "text/plain": [
       "GridSearchCV(cv=3, error_score=nan,\n",
       "             estimator=RandomForestRegressor(bootstrap=True, ccp_alpha=0.0,\n",
       "                                             criterion='mse', max_depth=None,\n",
       "                                             max_features='auto',\n",
       "                                             max_leaf_nodes=None,\n",
       "                                             max_samples=None,\n",
       "                                             min_impurity_decrease=0.0,\n",
       "                                             min_impurity_split=None,\n",
       "                                             min_samples_leaf=1,\n",
       "                                             min_samples_split=2,\n",
       "                                             min_weight_fraction_leaf=0.0,\n",
       "                                             n_estimators=400, n_jobs=None,\n",
       "                                             oob_score=False, random_state=None,\n",
       "                                             verbose=0, warm_start=False),\n",
       "             iid='deprecated', n_jobs=-1,\n",
       "             param_grid={'max_depth': [2, 3, 4, 5, 6, 7, 8, 9, 10, 11, 12, 13,\n",
       "                                       14, 15, 16, 17, 18, None]},\n",
       "             pre_dispatch='2*n_jobs', refit=True, return_train_score=False,\n",
       "             scoring=None, verbose=1)"
      ]
     },
     "execution_count": 52,
     "metadata": {},
     "output_type": "execute_result"
    }
   ],
   "source": [
    "#Lets do hyperparameter tunning \n",
    "\n",
    "from sklearn.model_selection import GridSearchCV\n",
    "\n",
    "rfr1 = RandomForestRegressor(400)\n",
    "parameters = {\n",
    "    #'n_estimators': [100,200,300,400,500],\n",
    "    'max_depth' : [2,3,4,5,6,7,8,9,10,11,12,13,14,15,16,17,18,None]\n",
    "}\n",
    "\n",
    "cv = GridSearchCV(rfr1, parameters, cv=3, n_jobs = -1,verbose = 1)\n",
    "cv.fit(x_train, y_train)"
   ]
  },
  {
   "cell_type": "code",
   "execution_count": 53,
   "metadata": {
    "scrolled": false
   },
   "outputs": [
    {
     "data": {
      "text/plain": [
       "{'max_depth': 17}"
      ]
     },
     "execution_count": 53,
     "metadata": {},
     "output_type": "execute_result"
    }
   ],
   "source": [
    "cv.best_params_"
   ]
  },
  {
   "cell_type": "code",
   "execution_count": 72,
   "metadata": {},
   "outputs": [
    {
     "name": "stdout",
     "output_type": "stream",
     "text": [
      "('NewDCFlag', 0.00745456138754069)\n",
      "('ColoReady At PlanReservationStart Flag', 0.02460100157860361)\n",
      "('DeploymentSeverity', 0.029304130886715435)\n",
      "('EngineeringGroup', 0.01060329238394468)\n",
      "('PlanResourceTypeName', 0.21423908417457488)\n",
      "('IsAddRack', 0.023985642399886167)\n",
      "('IsFirstFootprint', 0.013321992419633019)\n",
      "('IsNPI', 0.02122262855209533)\n",
      "('PlanGEO', 0.04660003476175175)\n",
      "('PlanIntentName', 0.03769337872408846)\n",
      "('NumberOfRacks', 0.036227087776281905)\n",
      "('NumberOfServers', 0.1614338700804885)\n",
      "('PlanOrderPriorityName', 0.09023075128065484)\n",
      "('PlanPropertyGroupName', 0.06524180590275712)\n",
      "('Region', 0.07560266310278387)\n",
      "('RegionGroup', 0.02267476442575378)\n",
      "('RegionType', 0.020224155645379667)\n",
      "('SKU Avaliable Flag', 0.014515364278509803)\n",
      "('SKUCategoryName', 0.08482379023855637)\n"
     ]
    }
   ],
   "source": [
    "#Lets Check the Feaure Importance \n",
    "importances=rfr.feature_importances_\n",
    "for feature in zip (x.columns, importances):\n",
    "    print (feature)"
   ]
  },
  {
   "cell_type": "code",
   "execution_count": 73,
   "metadata": {},
   "outputs": [
    {
     "data": {
      "image/png": "[encoded data removed]",
      "text/plain": [
       "<Figure size 864x432 with 1 Axes>"
      ]
     },
     "metadata": {},
     "output_type": "display_data"
    }
   ],
   "source": [
    "# Sort feature importances in descending order\n",
    "indices = np.argsort(importances)[::-1]\n",
    "# Rearrange feature names so they match the sorted feature importances\n",
    "names = [x.columns[i] for i in indices]\n",
    "# Create plot\n",
    "plt.figure(figsize=(12,6))\n",
    "# Create plot title\n",
    "plt.title(\"Feature Importance\")\n",
    "# Add bars\n",
    "plt.bar(range(x.shape[1]), importances[indices])\n",
    "# Add feature names as x-axis labels\n",
    "plt.xticks(range(x.shape[1]), names, rotation=90)\n",
    "# Show plot\n",
    "plt.show()"
   ]
  },
  {
   "cell_type": "code",
   "execution_count": 75,
   "metadata": {},
   "outputs": [
    {
     "data": {
      "text/plain": [
       "<matplotlib.axes._subplots.AxesSubplot at 0x18711630>"
      ]
     },
     "execution_count": 75,
     "metadata": {},
     "output_type": "execute_result"
    },
    {
     "data": {
      "image/png": "[encoded data removed]",
      "text/plain": [
       "<Figure size 432x288 with 1 Axes>"
      ]
     },
     "metadata": {},
     "output_type": "display_data"
    }
   ],
   "source": [
    "sns.distplot(y_test-y_test_predict)"
   ]
  },
  {
   "cell_type": "code",
   "execution_count": null,
   "metadata": {},
   "outputs": [],
   "source": []
  },
  {
   "cell_type": "markdown",
   "metadata": {},
   "source": [
    "# Gradient Boosting"
   ]
  },
  {
   "cell_type": "code",
   "execution_count": 87,
   "metadata": {},
   "outputs": [
    {
     "data": {
      "text/plain": [
       "GradientBoostingRegressor(alpha=0.9, ccp_alpha=0.0, criterion='friedman_mse',\n",
       "                          init=None, learning_rate=0.1, loss='ls', max_depth=3,\n",
       "                          max_features=None, max_leaf_nodes=None,\n",
       "                          min_impurity_decrease=0.0, min_impurity_split=None,\n",
       "                          min_samples_leaf=1, min_samples_split=2,\n",
       "                          min_weight_fraction_leaf=0.0, n_estimators=200,\n",
       "                          n_iter_no_change=None, presort='deprecated',\n",
       "                          random_state=None, subsample=1.0, tol=0.0001,\n",
       "                          validation_fraction=0.1, verbose=0, warm_start=False)"
      ]
     },
     "execution_count": 87,
     "metadata": {},
     "output_type": "execute_result"
    }
   ],
   "source": [
    "# Initialize and fit regressor\n",
    "gbr=GradientBoostingRegressor(n_estimators=200)         \n",
    "gbr.fit(x_train,y_train)"
   ]
  },
  {
   "cell_type": "code",
   "execution_count": 88,
   "metadata": {},
   "outputs": [],
   "source": [
    "#prediction\n",
    "y_train_predict=gbr.predict(x_train)\n",
    "y_test_predict=gbr.predict(x_test)"
   ]
  },
  {
   "cell_type": "code",
   "execution_count": 81,
   "metadata": {},
   "outputs": [],
   "source": [
    "#Error calculation\n",
    "train_rmse = np.sqrt(mean_squared_error(y_train, y_train_predict))\n",
    "train_MAE = mean_absolute_error(y_train, y_train_predict)\n",
    "test_rmse = np.sqrt(mean_squared_error(y_test, y_test_predict))\n",
    "test_MAE = mean_absolute_error(y_test, y_test_predict)\n",
    "r2 =r2_score (y_test, y_test_predict)"
   ]
  },
  {
   "cell_type": "code",
   "execution_count": 89,
   "metadata": {},
   "outputs": [
    {
     "name": "stdout",
     "output_type": "stream",
     "text": [
      "rmse_train : 59.6791658480911 MAE_train 40.86274050704877\n",
      "rmse_test : 72.45546188932897 MAE_test 50.558297410247626\n",
      "r_square: 0.48260606934199324\n"
     ]
    }
   ],
   "source": [
    "print('rmse_train :',train_rmse, 'MAE_train', train_MAE)\n",
    "print('rmse_test :',test_rmse, 'MAE_test', test_MAE)\n",
    "print(\"r_square:\",r2)"
   ]
  },
  {
   "cell_type": "code",
   "execution_count": 85,
   "metadata": {},
   "outputs": [
    {
     "name": "stdout",
     "output_type": "stream",
     "text": [
      "Fitting 3 folds for each of 30 candidates, totalling 90 fits\n"
     ]
    },
    {
     "name": "stderr",
     "output_type": "stream",
     "text": [
      "[Parallel(n_jobs=-1)]: Using backend LokyBackend with 4 concurrent workers.\n",
      "[Parallel(n_jobs=-1)]: Done  42 tasks      | elapsed:   16.9s\n",
      "[Parallel(n_jobs=-1)]: Done  90 out of  90 | elapsed:   38.8s finished\n"
     ]
    },
    {
     "data": {
      "text/plain": [
       "GridSearchCV(cv=3, error_score=nan,\n",
       "             estimator=GradientBoostingRegressor(alpha=0.9, ccp_alpha=0.0,\n",
       "                                                 criterion='friedman_mse',\n",
       "                                                 init=None, learning_rate=0.1,\n",
       "                                                 loss='ls', max_depth=3,\n",
       "                                                 max_features=None,\n",
       "                                                 max_leaf_nodes=None,\n",
       "                                                 min_impurity_decrease=0.0,\n",
       "                                                 min_impurity_split=None,\n",
       "                                                 min_samples_leaf=1,\n",
       "                                                 min_samples_split=2,\n",
       "                                                 min_weight_fraction_leaf=0.0,\n",
       "                                                 n_estimators=100,\n",
       "                                                 n_iter_no_change=None,\n",
       "                                                 presort='deprecated',\n",
       "                                                 random_state=None,\n",
       "                                                 subsample=1.0, tol=0.0001,\n",
       "                                                 validation_fraction=0.1,\n",
       "                                                 verbose=0, warm_start=False),\n",
       "             iid='deprecated', n_jobs=-1,\n",
       "             param_grid={'criterion': ['mse', 'friedman_mse'],\n",
       "                         'loss': ['ls', 'lad', 'huber'],\n",
       "                         'n_estimators': [100, 200, 300, 400, 500]},\n",
       "             pre_dispatch='2*n_jobs', refit=True, return_train_score=False,\n",
       "             scoring=None, verbose=1)"
      ]
     },
     "execution_count": 85,
     "metadata": {},
     "output_type": "execute_result"
    }
   ],
   "source": [
    "#Lets do hyperparameter tunning \n",
    "\n",
    "from sklearn.model_selection import GridSearchCV\n",
    "\n",
    "gbr1 = GradientBoostingRegressor()\n",
    "parameters = {\n",
    "                'n_estimators': [100,200,300,400,500],\n",
    "                'criterion' : ['mse','friedman_mse'],\n",
    "                #'max_depth' : [2,3,4,5,6,7,8,None],\n",
    "                'loss' : ['ls', 'lad', 'huber']\n",
    "}\n",
    "\n",
    "cv = GridSearchCV(gbr1, parameters, cv=3, n_jobs = -1,verbose = 1)\n",
    "cv.fit(x_train, y_train)"
   ]
  },
  {
   "cell_type": "code",
   "execution_count": 86,
   "metadata": {},
   "outputs": [
    {
     "data": {
      "text/plain": [
       "{'criterion': 'friedman_mse', 'loss': 'ls', 'n_estimators': 200}"
      ]
     },
     "execution_count": 86,
     "metadata": {},
     "output_type": "execute_result"
    }
   ],
   "source": [
    "cv.best_params_"
   ]
  },
  {
   "cell_type": "code",
   "execution_count": null,
   "metadata": {},
   "outputs": [],
   "source": []
  },
  {
   "cell_type": "code",
   "execution_count": null,
   "metadata": {},
   "outputs": [],
   "source": []
  },
  {
   "cell_type": "code",
   "execution_count": null,
   "metadata": {},
   "outputs": [],
   "source": []
  }
 ],
 "metadata": {
  "kernelspec": {
   "display_name": "Python 3",
   "language": "python",
   "name": "python3"
  },
  "language_info": {
   "codemirror_mode": {
    "name": "ipython",
    "version": 3
   },
   "file_extension": ".py",
   "mimetype": "text/x-python",
   "name": "python",
   "nbconvert_exporter": "python",
   "pygments_lexer": "ipython3",
   "version": "3.8.5"
  }
 },
 "nbformat": 4,
 "nbformat_minor": 4
}
