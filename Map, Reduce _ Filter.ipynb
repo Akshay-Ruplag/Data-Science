{
 "cells": [
  {
   "cell_type": "code",
   "execution_count": 9,
   "metadata": {},
   "outputs": [
    {
     "ename": "TypeError",
     "evalue": "unsupported operand type(s) for ** or pow(): 'list' and 'int'",
     "output_type": "error",
     "traceback": [
      "\u001b[1;31m---------------------------------------------------------------------------\u001b[0m",
      "\u001b[1;31mTypeError\u001b[0m                                 Traceback (most recent call last)",
      "\u001b[1;32m<ipython-input-9-1f41c4b43dbf>\u001b[0m in \u001b[0;36m<module>\u001b[1;34m()\u001b[0m\n\u001b[0;32m      1\u001b[0m \u001b[0mfirst_list\u001b[0m \u001b[1;33m=\u001b[0m \u001b[1;33m[\u001b[0m\u001b[1;36m2\u001b[0m\u001b[1;33m,\u001b[0m \u001b[1;36m4\u001b[0m\u001b[1;33m,\u001b[0m \u001b[1;36m5\u001b[0m\u001b[1;33m]\u001b[0m\u001b[1;33m\u001b[0m\u001b[0m\n\u001b[1;32m----> 2\u001b[1;33m \u001b[0mprint\u001b[0m\u001b[1;33m(\u001b[0m\u001b[0mfirst_list\u001b[0m\u001b[1;33m**\u001b[0m\u001b[1;36m2\u001b[0m\u001b[1;33m)\u001b[0m\u001b[1;33m\u001b[0m\u001b[0m\n\u001b[0m",
      "\u001b[1;31mTypeError\u001b[0m: unsupported operand type(s) for ** or pow(): 'list' and 'int'"
     ]
    }
   ],
   "source": [
    "first_list = [2, 4, 5]\n",
    "print(first_list**2)\n"
   ]
  },
  {
   "cell_type": "code",
   "execution_count": 12,
   "metadata": {},
   "outputs": [
    {
     "name": "stdout",
     "output_type": "stream",
     "text": [
      "[4, 16, 25]\n"
     ]
    }
   ],
   "source": [
    "first_list = [2, 4, 5]\n",
    "def pow(x):\n",
    "    x=x**2\n",
    "    return(x)\n",
    "print(list(map(pow,first_list)))"
   ]
  },
  {
   "cell_type": "code",
   "execution_count": 15,
   "metadata": {},
   "outputs": [
    {
     "name": "stdout",
     "output_type": "stream",
     "text": [
      "<map object at 0x000000E51B4EDF28>\n",
      "[4, 16, 25]\n"
     ]
    }
   ],
   "source": [
    "first_list = [2, 4, 5]\n",
    "print(map(lambda x: x**2, first_list))\n",
    "print(list(map(lambda x: x**2, first_list)))"
   ]
  },
  {
   "cell_type": "code",
   "execution_count": null,
   "metadata": {
    "collapsed": true
   },
   "outputs": [],
   "source": [
    "first_list = [2, 4, 5]"
   ]
  },
  {
   "cell_type": "code",
   "execution_count": 16,
   "metadata": {},
   "outputs": [
    {
     "name": "stdout",
     "output_type": "stream",
     "text": [
      "[1, 2, 3]\n"
     ]
    }
   ],
   "source": [
    "\n",
    "elements = [0, 1, 2]\n",
    "def incr(x):\n",
    "    return x+1\n",
    "print(list(map(incr, elements)))"
   ]
  },
  {
   "cell_type": "code",
   "execution_count": 25,
   "metadata": {},
   "outputs": [
    {
     "name": "stdout",
     "output_type": "stream",
     "text": [
      "3\n"
     ]
    }
   ],
   "source": [
    "names = [\"San Jose\", \"San Francisco\", \"Santa Fe\", \"Houston\"]\n",
    "count = sum(map(lambda s: s.startswith(\"San\"), names))\n",
    "print(count)"
   ]
  },
  {
   "cell_type": "code",
   "execution_count": null,
   "metadata": {},
   "outputs": [],
   "source": [
    "def squareit(n):\n",
    "    return n**2\n",
    "print(list(map(squareit, first_list)))\n"
   ]
  },
  {
   "cell_type": "code",
   "execution_count": 20,
   "metadata": {},
   "outputs": [
    {
     "name": "stdout",
     "output_type": "stream",
     "text": [
      "[3, 5, 9, 7]\n"
     ]
    }
   ],
   "source": [
    "sums_list = [3,5,9,7]\n",
    "sums_list2 = (4,5,6,7)\n",
    "print(list(map(lambda x,y : x+y, sums_list,sums_list2)))\n"
   ]
  },
  {
   "cell_type": "code",
   "execution_count": 28,
   "metadata": {},
   "outputs": [
    {
     "name": "stdout",
     "output_type": "stream",
     "text": [
      "['Nikola Tesla', 'James Watt', 'Albert Einstein']\n"
     ]
    }
   ],
   "source": [
    "list_of_names = ['nikola', 'james', 'albert']\n",
    "list_of_names2 = ['tesla','watt','einstein']\n",
    "proper = lambda x, y: x[0].upper()+x[1:] +' '+ y[0].upper()+y[1:]\n",
    "print(list(map(proper, list_of_names,list_of_names2)))\n"
   ]
  },
  {
   "cell_type": "markdown",
   "metadata": {},
   "source": [
    "Filter is a similar operation but requires the function to check for a condition and then only return those elements \n",
    "from the collection that satisfy the condition. \n",
    "Reduce is an operation that breaks down the entire process into pairwise operations and \n",
    "uses the result from each operation with the successive element"
   ]
  },
  {
   "cell_type": "code",
   "execution_count": 30,
   "metadata": {},
   "outputs": [
    {
     "name": "stdout",
     "output_type": "stream",
     "text": [
      "[3, 6, 9]\n"
     ]
    }
   ],
   "source": [
    "#Filter\n",
    "divby3 = lambda x:  x % 3 == 0\n",
    "my_list = [3,4,5,6,7,8,9]\n",
    "div = filter(divby3, my_list)\n",
    "print(list(div))\n",
    "\n"
   ]
  },
  {
   "cell_type": "code",
   "execution_count": 31,
   "metadata": {},
   "outputs": [
    {
     "name": "stdout",
     "output_type": "stream",
     "text": [
      "6\n"
     ]
    }
   ],
   "source": [
    "#Reduce\n",
    "from functools import reduce\n",
    "q  = reduce(lambda x, y: x+y, range(1,4))\n",
    "print(q)\n"
   ]
  },
  {
   "cell_type": "code",
   "execution_count": null,
   "metadata": {},
   "outputs": [],
   "source": [
    "list_of_nums = [22,45,32,20,87,94,30]\n",
    "print(reduce(lambda x,y: x if x>y else y,list_of_nums))\n"
   ]
  },
  {
   "cell_type": "code",
   "execution_count": 29,
   "metadata": {},
   "outputs": [
    {
     "name": "stdout",
     "output_type": "stream",
     "text": [
      "['Jack', 'Jill', 'Steve']\n"
     ]
    }
   ],
   "source": [
    "names = ('Jack', 'Jill', 'Steve', '')\n",
    "print(list(filter(None, names)))"
   ]
  },
  {
   "cell_type": "code",
   "execution_count": null,
   "metadata": {},
   "outputs": [],
   "source": []
  }
 ],
 "metadata": {
  "anaconda-cloud": {},
  "kernelspec": {
   "display_name": "Python 3",
   "language": "python",
   "name": "python3"
  },
  "language_info": {
   "codemirror_mode": {
    "name": "ipython",
    "version": 3
   },
   "file_extension": ".py",
   "mimetype": "text/x-python",
   "name": "python",
   "nbconvert_exporter": "python",
   "pygments_lexer": "ipython3",
   "version": "3.6.5"
  }
 },
 "nbformat": 4,
 "nbformat_minor": 1
}
